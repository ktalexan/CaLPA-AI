{
 "cells": [
  {
   "cell_type": "markdown",
   "id": "eab3bc86",
   "metadata": {},
   "source": [
    "# CaLPA Scratch Folder"
   ]
  },
  {
   "cell_type": "markdown",
   "id": "57e5ba04",
   "metadata": {},
   "source": [
    "This is a scratch notebook used to test the code and functionality of the AI California Legislative Policy Analysis (CALPA) system. It is not intended for production use and may contain incomplete or experimental code. The purpose of this notebook is to facilitate the development and testing of the CALPA system, including its data processing, analysis, and visualization components. The notebook may include code snippets, comments, and notes related to the development process. Please refer to the official documentation and user guides for the CALPA system for more information on its usage and features."
   ]
  },
  {
   "cell_type": "code",
   "execution_count": null,
   "id": "f176218c",
   "metadata": {},
   "outputs": [],
   "source": [
    "#%reset"
   ]
  },
  {
   "cell_type": "code",
   "execution_count": 47,
   "id": "60be14a1",
   "metadata": {},
   "outputs": [
    {
     "data": {
      "text/markdown": [
       "</center></div><div style = 'background-color:indigo'><center><h1 style='font-size: 50px; font-weight: bold; color:goldenrod; border-top: 3px solid goldenrod; padding-top: 10px'>AI Legislative Policy Analysis (CaLPA-AI)</h1><div style='font-size: 35px; font-weight: bold; color: goldenrod'> Part 1 - Preliminary Operations</div><div style='font-size: 30px; font-weight: bold; color: goldenrod; border-bottom: 3px solid goldenrod; padding-bottom: 20px'>v.1.1 (MIT License), Dr. Kostas Alexandridis, GISP, April 2025</div></center></div>"
      ],
      "text/plain": [
       "<IPython.core.display.Markdown object>"
      ]
     },
     "metadata": {},
     "output_type": "display_data"
    }
   ],
   "source": [
    "import notebookHeadings\n",
    "from notebookHeadings import mdt\n",
    "mdt(level = 0, prjPart = 1, prjComponent = \"AI\", prjVersion = \"1.1\")"
   ]
  },
  {
   "cell_type": "markdown",
   "id": "fbc38c58",
   "metadata": {},
   "source": [
    "</center></div><div style = 'background-color:indigo'><center><h1 style='font-size: 50px; font-weight: bold; color:goldenrod; border-top: 3px solid goldenrod; padding-top: 10px'>AI Legislative Policy Analysis (CaLPA-AI)</h1><div style='font-size: 35px; font-weight: bold; color: goldenrod'> Part 1 - Preliminary Operations</div><div style='font-size: 30px; font-weight: bold; color: goldenrod; border-bottom: 3px solid goldenrod; padding-bottom: 20px'>v.1.1 (MIT License), Dr. Kostas Alexandridis, GISP, April 2025</div></center></div>"
   ]
  },
  {
   "cell_type": "code",
   "execution_count": 11,
   "id": "f9c2690c",
   "metadata": {},
   "outputs": [
    {
     "data": {
      "text/markdown": [
       "</center></div><div style = 'background-color:indigo'><center><h1 style='font-size: 50px; font-weight: bold; color:goldenrod; border-top: 3px solid goldenrod; padding-top: 10px'>AI Legislative Policy Analysis (CaLPA-AI)</h1><div style='font-size: 35px; font-weight: bold; color: goldenrod'> Part 1 - Preliminary Operations</div><div style='font-size: 30px; font-weight: bold; color: goldenrod; border-bottom: 3px solid goldenrod; padding-bottom: 20px'>v.1.1 (MIT License), Dr. Kostas Alexandridis, GISP, April 2025</div></center></div>"
      ],
      "text/plain": [
       "<IPython.core.display.Markdown object>"
      ]
     },
     "metadata": {},
     "output_type": "display_data"
    }
   ],
   "source": [
    "mdTitles(level = 0, prjPart = 1, prjComponent = \"AI\", prjVersion = \"1.1\")"
   ]
  },
  {
   "cell_type": "code",
   "execution_count": 14,
   "id": "cee6e782",
   "metadata": {},
   "outputs": [
    {
     "data": {
      "text/markdown": [
       "<h1 style='font-weight:bold; color:orangered; border-bottom: 2px solid orangered'>This is Heading 1</h1>"
      ],
      "text/plain": [
       "<IPython.core.display.Markdown object>"
      ]
     },
     "metadata": {},
     "output_type": "display_data"
    }
   ],
   "source": [
    "mdTitles(1, \"This is Heading 1\")"
   ]
  },
  {
   "cell_type": "code",
   "execution_count": 16,
   "id": "eea7bda4",
   "metadata": {},
   "outputs": [
    {
     "data": {
      "text/markdown": [
       "<h2 style='font-weight:bold; color:dodgerblue; border-bottom: 1px solid dodgerblue; padding-left: 25px'>This is Heading 2</h2>"
      ],
      "text/plain": [
       "<IPython.core.display.Markdown object>"
      ]
     },
     "metadata": {},
     "output_type": "display_data"
    },
    {
     "data": {
      "text/markdown": [
       "<h3 style='font-weight:bold; color:lime; padding-left: 50px'>This is Heading 3</h3>"
      ],
      "text/plain": [
       "<IPython.core.display.Markdown object>"
      ]
     },
     "metadata": {},
     "output_type": "display_data"
    },
    {
     "data": {
      "text/markdown": [
       "<h4 style='font-weight:bold; color:yellow; padding-left: 75px'>This is Heading 4</h4>"
      ],
      "text/plain": [
       "<IPython.core.display.Markdown object>"
      ]
     },
     "metadata": {},
     "output_type": "display_data"
    }
   ],
   "source": [
    "mdTitles(2, \"This is Heading 2\")\n",
    "mdTitles(3, \"This is Heading 3\")\n",
    "mdTitles(4, \"This is Heading 4\")"
   ]
  },
  {
   "cell_type": "code",
   "execution_count": 45,
   "id": "22f59b97",
   "metadata": {},
   "outputs": [
    {
     "ename": "NameError",
     "evalue": "name 'mdt' is not defined",
     "output_type": "error",
     "traceback": [
      "\u001b[1;31m---------------------------------------------------------------------------\u001b[0m",
      "\u001b[1;31mNameError\u001b[0m                                 Traceback (most recent call last)",
      "Cell \u001b[1;32mIn[45], line 1\u001b[0m\n\u001b[1;32m----> 1\u001b[0m \u001b[43mmdt\u001b[49m(\u001b[38;5;241m5\u001b[39m)\n",
      "\u001b[1;31mNameError\u001b[0m: name 'mdt' is not defined"
     ]
    }
   ],
   "source": [
    "mdt(5)"
   ]
  },
  {
   "cell_type": "code",
   "execution_count": null,
   "id": "85ee4773",
   "metadata": {},
   "outputs": [],
   "source": []
  },
  {
   "cell_type": "markdown",
   "id": "d36f40d4",
   "metadata": {},
   "source": [
    "## Initialization"
   ]
  },
  {
   "cell_type": "code",
   "execution_count": null,
   "id": "54fee68e",
   "metadata": {},
   "outputs": [],
   "source": [
    "# Import required libraries\n",
    "import os\n",
    "import time\n",
    "from datetime import date\n",
    "from datetime import datetime\n",
    "import json\n",
    "import mimetypes\n",
    "import glob\n",
    "import base64\n",
    "import zipfile\n",
    "import io\n",
    "import dotenv\n",
    "import requests\n",
    "import pandas as pd\n",
    "import feedparser\n",
    "import webbrowser\n",
    "from mrkdwn_analysis import MarkdownAnalyzer\n",
    "\n",
    "# Import the calpa library\n",
    "from calpa import calpa"
   ]
  },
  {
   "cell_type": "code",
   "execution_count": null,
   "id": "8640c010",
   "metadata": {},
   "outputs": [],
   "source": [
    "# Create project metadata for the AI project\n",
    "prjMetadata = calpa.projectMetadata(1, mdTitle=True)"
   ]
  },
  {
   "cell_type": "code",
   "execution_count": null,
   "id": "4b3d7fc8",
   "metadata": {},
   "outputs": [],
   "source": [
    "# Load environment variables from .env file\n",
    "dotenv.load_dotenv(os.path.join(os.getcwd(), '.env'))\n",
    "\n",
    "# Create project metadata for the AI project\n",
    "prjMetadata = calpa.projectMetadata(1)\n",
    "\n",
    "# Create the project directories dictionary\n",
    "prjDirs = calpa.projectDirectories(os.getcwd())\n",
    "\n",
    "# Instantiate the LegiScan and Calpa classes\n",
    "legiscan = calpa.LegiScan()\n"
   ]
  },
  {
   "cell_type": "code",
   "execution_count": null,
   "id": "cb03295c",
   "metadata": {},
   "outputs": [],
   "source": [
    "# Codebook lookup variables\n",
    "codebookLookupVars = [var for var in dir(calpa.codebook) if var.startswith('lookup')]\n",
    "codebookDictVars = [var for var in dir(calpa.codebook) if var.startswith('dict')]\n",
    "print(f\"Codebook Lookup Variables:\\n{codebookLookupVars}\\n\")\n",
    "print(f\"Codebook Dictionary Variables:\\n{codebookDictVars}\\n\")"
   ]
  },
  {
   "cell_type": "code",
   "execution_count": null,
   "id": "e8d02a07",
   "metadata": {},
   "outputs": [],
   "source": [
    "# Obtain the stored sessions list from JSON dictionary on disk (data/lookup directory)\n",
    "sessionListStored = legiscan.getStoredData(dataType = \"session\")\n",
    "\n",
    "# Obtain the stored session People list from JSON dictionary on disk (data/lookup directory)\n",
    "sessionPeopleStored = legiscan.getStoredData(dataType = \"people\")\n",
    "\n",
    "# Obtain the stored dataset list from JSON dictionary on disk (data/lookup directory)\n",
    "datasetListStored = legiscan.getStoredData(dataType = \"dataset\")\n",
    "\n",
    "# Get the stored raw master list from JSON dictionary on disk (data/lookup directory)\n",
    "masterListRawStored = legiscan.getStoredData(dataType = \"master\", raw = True)\n",
    "# Get the stored master list from JSON dictionary on disk (data/lookup directory)\n",
    "masterListStored = legiscan.getStoredData(dataType = \"master\", raw = False)\n",
    "\n",
    "# Get the AI monitoring list from disk (data/lookup directory)\n",
    "aiBillListStored = legiscan.getStoredData(dataType = \"bills\", project = \"AI\")\n",
    "\n",
    "# Get the AI full list of bills from dism (data/legis/json directory)\n",
    "aiBills = legiscan.getStoredData(dataType = \"data\", project = \"AI\")\n",
    "\n",
    "# Get the AI bill summries list from disk (data/lookup directory)\n",
    "aiBillsSummariesStored = legiscan.getStoredData(dataType = \"summaries\", project = \"AI\")"
   ]
  },
  {
   "cell_type": "markdown",
   "id": "03c2279f",
   "metadata": {},
   "source": [
    "## End of Initialization"
   ]
  },
  {
   "cell_type": "code",
   "execution_count": null,
   "id": "6d0291e3",
   "metadata": {},
   "outputs": [],
   "source": [
    "# open test[\"main\"] in a web browser\n",
    "webbrowser.open(test[\"status\"])"
   ]
  },
  {
   "cell_type": "code",
   "execution_count": null,
   "id": "457d1436",
   "metadata": {},
   "outputs": [],
   "source": [
    "webbrowser.open(aiBills[\"2013-2014\"][\"AB1465\"][\"url\"], new=2, autoraise=True)"
   ]
  },
  {
   "cell_type": "code",
   "execution_count": null,
   "id": "3a0b68ef",
   "metadata": {},
   "outputs": [],
   "source": [
    "webbrowser.open(aiBills[\"2013-2014\"][\"AB1465\"][\"state_link\"], new=2, autoraise=True)"
   ]
  },
  {
   "cell_type": "code",
   "execution_count": null,
   "id": "cb65ce76",
   "metadata": {},
   "outputs": [],
   "source": [
    "\n",
    "analyzer = MarkdownAnalyzer(samplePath)\n",
    "\n",
    "headers = analyzer.identify_headers()\n",
    "paragraphs = analyzer.identify_paragraphs()\n",
    "blockquotes = analyzer.identify_blockquotes()\n",
    "links = analyzer.identify_links()\n",
    "codeBlocks = analyzer.identify_code_blocks()"
   ]
  },
  {
   "cell_type": "code",
   "execution_count": null,
   "id": "1879efa1",
   "metadata": {},
   "outputs": [],
   "source": [
    "analysis = analyzer.analyse()\n",
    "\n",
    "print(analysis)"
   ]
  },
  {
   "cell_type": "code",
   "execution_count": null,
   "id": "1333511a",
   "metadata": {},
   "outputs": [],
   "source": [
    "headers"
   ]
  },
  {
   "cell_type": "code",
   "execution_count": null,
   "id": "4667d7a4",
   "metadata": {},
   "outputs": [],
   "source": [
    "paragraphs"
   ]
  },
  {
   "cell_type": "code",
   "execution_count": null,
   "id": "dbd793cd",
   "metadata": {},
   "outputs": [],
   "source": [
    "links"
   ]
  },
  {
   "cell_type": "code",
   "execution_count": null,
   "id": "e5157eb1",
   "metadata": {},
   "outputs": [],
   "source": [
    "import io\n",
    "import pypandoc\n",
    "import panflute\n",
    "\n",
    "def action(elem, doc):\n",
    "    if isinstance(elem, panflute.Image):\n",
    "        doc.images.append(elem)\n",
    "    elif isinstance(elem, panflute.Link):\n",
    "        doc.links.append(elem)\n",
    "\n",
    "if __name__ == '__main__':\n",
    "    data = pypandoc.convert_file('example.md', 'json')\n",
    "    doc = panflute.load(io.StringIO(data))\n",
    "    doc.images = []\n",
    "    doc.links = []\n",
    "    doc = panflute.run_filter(action, prepare=prepare, doc=doc)\n",
    "\n",
    "    print(\"\\nList of image URLs:\")\n",
    "    for image in doc.images:\n",
    "        print(image.url)"
   ]
  },
  {
   "cell_type": "code",
   "execution_count": null,
   "id": "5b1e3d03",
   "metadata": {},
   "outputs": [],
   "source": [
    "legiscan.aiSearchQuery(sessionId = 993)"
   ]
  },
  {
   "cell_type": "code",
   "execution_count": null,
   "id": "355526db",
   "metadata": {},
   "outputs": [],
   "source": [
    "print(\"Test string 1\")\n",
    "print(\"Test string 2\")"
   ]
  },
  {
   "cell_type": "code",
   "execution_count": null,
   "id": "82e96e51",
   "metadata": {},
   "outputs": [],
   "source": [
    "print(\"Test string 1\", end=\"| \")\n",
    "print(\"Test string 2\", end=\"; \", flush=True)"
   ]
  },
  {
   "cell_type": "code",
   "execution_count": null,
   "id": "0c8da23f",
   "metadata": {},
   "outputs": [],
   "source": [
    "colors = [\"red\", \"green\", \"blue\"]\n",
    "for c in colors:\n",
    "    print(c, end=\", \")"
   ]
  },
  {
   "cell_type": "code",
   "execution_count": 49,
   "id": "0c8bc433",
   "metadata": {},
   "outputs": [],
   "source": [
    "def head(label, type = \"general\", t=0):\n",
    "\n",
    "    # Convert each word except the first word to title case, and join them with nothing in between\n",
    "    words = label.split()\n",
    "    regionLabel = words[0].lower()+\"\".join(word.title() for word in words[1:])\n",
    "    \n",
    "    match(type):\n",
    "        case \"general\":\n",
    "            label = label\n",
    "        case \"function\":\n",
    "            label = f\"Function: {label}\"\n",
    "            regionLabel = f\"Function: {regionLabel}\"\n",
    "        case \"class\":\n",
    "            label = f\"Class: {label}\"\n",
    "            regionLabel = f\"Class: {regionLabel}\"\n",
    "        case \"method\":\n",
    "            label = f\"Method: {label}\"\n",
    "            regionLabel = f\"Method: {regionLabel}\"\n",
    "    print(t*\"   \")\n",
    "    print(t*\"   \",f\"# region {regionLabel}\")\n",
    "    print(t*\"   \",\"#\", f\" {label} \".center(80, \"~\"))\n",
    "    print(t*\"   \",\"#\", 80 * \"~\")\n",
    "    print(t*\"   \",f\"# endregion {regionLabel}\")\n",
    "    print(t*\"   \")\n",
    "    del words, label, regionLabel"
   ]
  },
  {
   "cell_type": "code",
   "execution_count": 50,
   "id": "e1d258bb",
   "metadata": {},
   "outputs": [
    {
     "name": "stdout",
     "output_type": "stream",
     "text": [
      "      \n",
      "       # region part1:DefineVariablesAndInputData\n",
      "       # ~~~~~~~~~~~~~~~~~~~ Part 1: Define Variables and Input Data ~~~~~~~~~~~~~~~~~~~~\n",
      "       # ~~~~~~~~~~~~~~~~~~~~~~~~~~~~~~~~~~~~~~~~~~~~~~~~~~~~~~~~~~~~~~~~~~~~~~~~~~~~~~~~\n",
      "       # endregion part1:DefineVariablesAndInputData\n",
      "      \n"
     ]
    }
   ],
   "source": [
    "head(\"Part 1: Define Variables and Input Data\", type = \"general\", t=2)"
   ]
  },
  {
   "cell_type": "code",
   "execution_count": null,
   "id": "c7009567",
   "metadata": {},
   "outputs": [],
   "source": [
    "print(\"#\", \" Part 3: Create the Main Markdown Content Section of the File \".center(80, \"~\"))"
   ]
  },
  {
   "cell_type": "code",
   "execution_count": 52,
   "id": "c6878c1d",
   "metadata": {},
   "outputs": [
    {
     "name": "stdout",
     "output_type": "stream",
     "text": [
      "# ~~~~~~~~~~~~~~~ Add Markdown Notes ~~~~~~~~~~~~~~~\n"
     ]
    }
   ],
   "source": [
    "print(\"#\", \" Add Markdown Notes \".center(50, \"~\"))\n"
   ]
  },
  {
   "cell_type": "code",
   "execution_count": 23,
   "id": "1ff9988f",
   "metadata": {},
   "outputs": [
    {
     "data": {
      "text/html": [
       "<a href='notebookHeadings.py' target='_blank'>notebookHeadings.py</a><br>"
      ],
      "text/plain": [
       "c:\\Users\\ktalexan\\OneDrive\\Documents\\GitHub\\CaLPA\\notebookHeadings.py"
      ]
     },
     "metadata": {},
     "output_type": "display_data"
    },
    {
     "data": {
      "text/plain": [
       "None"
      ]
     },
     "metadata": {},
     "output_type": "display_data"
    }
   ],
   "source": [
    "local_file = display(FileLink(\"notebookHeadings.py\"))\n",
    "display(local_file)"
   ]
  },
  {
   "cell_type": "code",
   "execution_count": null,
   "id": "65404bb8",
   "metadata": {},
   "outputs": [],
   "source": [
    "from IPython.display import FileLink, FileLinks, display, JSON, Markdown, HTML, Javascript, Image\n",
    "from IPython.display import HTML\n",
    "# See more: https://ipython.readthedocs.io/en/stable/api/generated/IPython.display.html"
   ]
  },
  {
   "cell_type": "code",
   "execution_count": 33,
   "id": "d54e3aa3",
   "metadata": {},
   "outputs": [
    {
     "data": {
      "application/json": {
       "2009-2010": {
        "dataset_hash": "d05bde5b1870d32a476e041cfba69b11",
        "name": "2009-2010 Session",
        "prefile": 0,
        "prior": 1,
        "session_hash": "d05bde5b1870d32a476e041cfba69b11",
        "session_id": 30,
        "session_name": "2009-2010 Session",
        "session_tag": "Regular Session",
        "session_title": "2009-2010 Regular Session",
        "sine_die": 1,
        "special": 0,
        "state_abbr": "CA",
        "state_id": 5,
        "year_end": 2010,
        "year_start": 2009
       },
       "2011-2012": {
        "dataset_hash": "5bacff6896092044f6a90a76e6a60520",
        "name": "2011-2012 Session",
        "prefile": 0,
        "prior": 1,
        "session_hash": "5bacff6896092044f6a90a76e6a60520",
        "session_id": 82,
        "session_name": "2011-2012 Session",
        "session_tag": "Regular Session",
        "session_title": "2011-2012 Regular Session",
        "sine_die": 1,
        "special": 0,
        "state_abbr": "CA",
        "state_id": 5,
        "year_end": 2012,
        "year_start": 2011
       },
       "2013-2014": {
        "dataset_hash": "40e8bf4bc80dff530607313abdcbe545",
        "name": "2013-2014 Regular Session",
        "prefile": 0,
        "prior": 1,
        "session_hash": "40e8bf4bc80dff530607313abdcbe545",
        "session_id": 993,
        "session_name": "2013-2014 Session",
        "session_tag": "Regular Session",
        "session_title": "2013-2014 Regular Session",
        "sine_die": 1,
        "special": 0,
        "state_abbr": "CA",
        "state_id": 5,
        "year_end": 2014,
        "year_start": 2013
       },
       "2015-2016": {
        "dataset_hash": "4baea2bdb2cfc3dfd98aa6e40cf90a11",
        "name": "2015-2016 Regular Session",
        "prefile": 0,
        "prior": 1,
        "session_hash": "4baea2bdb2cfc3dfd98aa6e40cf90a11",
        "session_id": 1120,
        "session_name": "2015-2016 Session",
        "session_tag": "Regular Session",
        "session_title": "2015-2016 Regular Session",
        "sine_die": 1,
        "special": 0,
        "state_abbr": "CA",
        "state_id": 5,
        "year_end": 2016,
        "year_start": 2015
       },
       "2017-2018": {
        "dataset_hash": "8001c96d73676e7a1e23027ab9ba5372",
        "name": "2017-2018 Regular Session",
        "prefile": 0,
        "prior": 1,
        "session_hash": "8001c96d73676e7a1e23027ab9ba5372",
        "session_id": 1400,
        "session_name": "2017-2018 Session",
        "session_tag": "Regular Session",
        "session_title": "2017-2018 Regular Session",
        "sine_die": 1,
        "special": 0,
        "state_abbr": "CA",
        "state_id": 5,
        "year_end": 2018,
        "year_start": 2017
       },
       "2019-2020": {
        "dataset_hash": "b42df4087677a62e0fbe86f4e0b11b47",
        "name": "2019-2020 Regular Session",
        "prefile": 0,
        "prior": 1,
        "session_hash": "b42df4087677a62e0fbe86f4e0b11b47",
        "session_id": 1624,
        "session_name": "2019-2020 Session",
        "session_tag": "Regular Session",
        "session_title": "2019-2020 Regular Session",
        "sine_die": 1,
        "special": 0,
        "state_abbr": "CA",
        "state_id": 5,
        "year_end": 2020,
        "year_start": 2019
       },
       "2021-2022": {
        "dataset_hash": "48ae3222e08e6cd730ef7c818d467561",
        "name": "2021-2022 Regular Session",
        "prefile": 0,
        "prior": 1,
        "session_hash": "48ae3222e08e6cd730ef7c818d467561",
        "session_id": 1791,
        "session_name": "2021-2022 Session",
        "session_tag": "Regular Session",
        "session_title": "2021-2022 Regular Session",
        "sine_die": 1,
        "special": 0,
        "state_abbr": "CA",
        "state_id": 5,
        "year_end": 2022,
        "year_start": 2021
       },
       "2023-2024": {
        "dataset_hash": "94f3be96ad8811bd7fe60c3eb2e25e38",
        "name": "2023-2024 Regular Session",
        "prefile": 0,
        "prior": 1,
        "session_hash": "94f3be96ad8811bd7fe60c3eb2e25e38",
        "session_id": 2016,
        "session_name": "2023-2024 Session",
        "session_tag": "Regular Session",
        "session_title": "2023-2024 Regular Session",
        "sine_die": 1,
        "special": 0,
        "state_abbr": "CA",
        "state_id": 5,
        "year_end": 2024,
        "year_start": 2023
       },
       "2025-2026": {
        "dataset_hash": "8a792f27e6cb531e0562f2165c1d22dd",
        "name": "2025-2026 Regular Session",
        "prefile": 0,
        "prior": 0,
        "session_hash": "8a792f27e6cb531e0562f2165c1d22dd",
        "session_id": 2172,
        "session_name": "2025-2026 Regular Session",
        "session_tag": "Regular Session",
        "session_title": "2025-2026 Regular Session",
        "sine_die": 0,
        "special": 0,
        "state_abbr": "CA",
        "state_id": 5,
        "year_end": 2026,
        "year_start": 2025
       }
      },
      "text/plain": [
       "<IPython.core.display.JSON object>"
      ]
     },
     "execution_count": 33,
     "metadata": {
      "application/json": {
       "expanded": true,
       "root": "root"
      }
     },
     "output_type": "execute_result"
    }
   ],
   "source": [
    "JSON(os.path.join(os.getcwd(), \"data\", \"lookup\", \"sessionListStored.json\"), expanded=True)"
   ]
  },
  {
   "cell_type": "code",
   "execution_count": 40,
   "id": "46faffc5",
   "metadata": {},
   "outputs": [
    {
     "data": {
      "text/markdown": [
       "# :balance_scale: CaLPA: California Legislative Policy Analysis\n",
       "\n",
       ":label: AI and Labor Initiatives Comprehensive legislative policy analysis of California Legislature (Senate and Assembly)\n",
       "\n",
       "**:bust_in_silhouette: Kostas Alexandridis, PhD, GISP** | *:label: v.1.0, April 2025*\n",
       "\n",
       "![Static Badge](https://img.shields.io/badge/Policy%20Analysis-GitHub?style=plastic&logo=github&logoSize=auto&label=GitHub&labelColor=navy) ![GitHub License](https://img.shields.io/github/license/ktalexan/PolicyAnalysis?style=plastic&labelColor=black) ![Shield Badge: Language-R](https://img.shields.io/static/v1?style=plastic&label=language&message=R&logo=R&color=blue&logoColor=blue&labelColor=black)\n",
       "\n",
       "----\n",
       "\n",
       "## Description\n",
       "\n",
       "This project provides a comprehensive analysis of legislative bills in the California Legislature (Assembly and Senate), over a number of legislative sessions. Specifically, it analyzes legislative bill information that contains \"artificial intelligence\" as a keyword on any of the legislative bill contents. The data are collected over the following periods (sessions):\n",
       "\n",
       "| Legislative Session | AI Bills | LC Bills\n",
       "|:------:|:-------------:|:-------------:|\n",
       "| :watch:2009-2010 | 0 | 0 |\n",
       "| :watch:2011-2012 | 0 | 0 |\n",
       "| :watch:2013-2014 | 3 | 0 |\n",
       "| :watch:2015-2016 | 0 | 0 |\n",
       "| :watch:2017-2018 | 5 | 0 |\n",
       "| :watch:2019-2020 | 16 | 0 |\n",
       "| :watch:2021-2022 | 15 | 0 |\n",
       "| :watch:2023-2024 | 81 | 0 |\n",
       "| :watch:2025-2026 | 39 | 57 |\n",
       "| *Total*: | *159* | *57* |\n",
       "\n",
       ":sparkle: This\n",
       "\n",
       ":information_source: Additional information\n",
       "\n",
       "## Features\n",
       "\n",
       "- **Data Processing**: Scripts for cleaning and transforming raw data.\n",
       "- **Analysis**: Tools for statistical and qualitative analysis.\n",
       "- **Visualization**: Generate charts and graphs to support findings.\n",
       "\n",
       "## Getting Started\n",
       "\n",
       "1. Clone the repository:\n",
       "\n",
       "    ```bash\n",
       "    git clone https://github.com/your-username/PolicyAnalysis.git\n",
       "    ```\n",
       "\n",
       "2. Install dependencies:\n",
       "\n",
       "    ```bash\n",
       "    pip install -r requirements.txt\n",
       "    ```\n",
       "\n",
       "3. Run the scripts as needed:\n",
       "\n",
       "    ```bash\n",
       "    python script_name.py\n",
       "    ```\n",
       "\n",
       "## Folder Structure\n",
       "\n",
       "### 1. Script Folders\n",
       "\n",
       "The following folders contain the scripts used for the California Policy Analysis project:\n",
       "\n",
       "- **[:file_folder: Python Module: CaLPA](./calpa/)**: This folder contains the `calpa` Python module, which is used for data processing, analysis, and visualization in support of complex project tasks. The module is designed to be reusable and modular, allowing for easy integration into other projects.\n",
       "- **[:file_folder: Python Module: LegiScan](./legiscan/)**: This folder contains the `legiscan` Python module, which is used for data processing, analysis, and visualization in support of complex project tasks. The module is designed to be reusable and modular, allowing for easy integration into other projects.\n",
       "- **[:file_folder: PythonMarkdown Bill Files](./markdown/)**: This folder contains the markdown files used for documentation and custom bill visualization of each bill, for importation to the Obsidian Knowledge Base. The markdown files are typically located in the `markdown` directory.\n",
       "- **[:file_folder: RIS Files](./ris/)**: This folder contains the RIS files used for bibliography management and citation generation. The RIS files are typically located in the `ris` directory. These files are used to generate bibliographic references in the RIS format, which can be imported into reference management software (Zotero).\n",
       "\n",
       "### 2. Data Folders\n",
       "\n",
       "The following folders contain the data used for the California Policy Analysis project:\n",
       "\n",
       "- **[:file_folder: Data](./data/)**: This folder contains the main data files used for the analysis. The data files are typically located in the `data` directory.\n",
       "- **[:file_folder: Graphics](./graphics/)**: This folder contains the graphics files used for the analysis. The graphics files are typically located in the `graphics` directory.\n",
       "- **[:file_folder: Metadata](./metadata/)**: This folder contains the metadata files used for the analysis. The metadata files are typically located in the `metadata` directory.\n",
       "\n",
       "### 3. Admin and Analysis Folders\n",
       "\n",
       "The following folders contain the administrative and analysis files used for the California Policy Analysis project:\n",
       "\n",
       "- **[:file_folder: Admin](./admin/)**: This folder contains the administrative files used for the analysis. The administrative files are typically located in the `admin` directory.\n",
       "- **[:file_folder: Analysis](./analysis/)**: This folder contains the analysis files used for the analysis. The analysis files are typically located in the `analysis` directory.\n",
       "\n",
       "## Contributing\n",
       "\n",
       "Contributions are welcome! Please fork the repository and submit a pull request.\n",
       "\n",
       "## License\n",
       "\n",
       "This project is licensed under the [MIT License](LICENSE).\n",
       "\n",
       "## Contact\n",
       "\n",
       "For questions or feedback, please contact [Dr. Kostas Alexandridis](mailto:ktalexan@outlook.com).\n",
       "\n",
       "## Next Level Navigation\n",
       "\n",
       "----\n",
       "<div align=\"center\">\n",
       "\n",
       "<< :card_index_dividers: [**Admin**](./admin/)&ensp; | &ensp; :card_index_dividers: [**Analysis**](./analysis/)&ensp; | &ensp; :card_index_dividers: [**Calpa**](./calpa/)&ensp; | &ensp; :card_index_dividers: [**Data**](./data/)&ensp; | &ensp; :card_index_dividers: [**Graphics**](./graphics/)&ensp; | &ensp; :card_index_dividers: [**Markdown**](./markdown/)&ensp; | &ensp; :card_index_dividers: [**RIS**](./ris/) >>\n",
       "\n",
       "</div>\n"
      ],
      "text/plain": [
       "<IPython.core.display.Markdown object>"
      ]
     },
     "execution_count": 40,
     "metadata": {},
     "output_type": "execute_result"
    }
   ],
   "source": [
    "Markdown(filename = \"README.md\")"
   ]
  },
  {
   "cell_type": "markdown",
   "id": "0573e979",
   "metadata": {},
   "source": []
  }
 ],
 "metadata": {
  "kernelspec": {
   "display_name": "drkPy",
   "language": "python",
   "name": "python3"
  },
  "language_info": {
   "codemirror_mode": {
    "name": "ipython",
    "version": 3
   },
   "file_extension": ".py",
   "mimetype": "text/x-python",
   "name": "python",
   "nbconvert_exporter": "python",
   "pygments_lexer": "ipython3",
   "version": "3.11.11"
  }
 },
 "nbformat": 4,
 "nbformat_minor": 5
}
