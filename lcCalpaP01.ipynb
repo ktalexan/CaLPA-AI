{
 "cells": [
  {
   "cell_type": "markdown",
   "id": "3c47859d",
   "metadata": {},
   "source": [
    "</center></div>\n",
    "<div style = \"background-color:indigo\"><center>\n",
    "<h1 style=\"font-size: 50px; font-weight: bold; color:goldenrod; border-top: 3px solid goldenrod; padding-top: 10px\">OCEA California Legislative Policy Analysis (CALPA-LC)</h1>\n",
    "<div style=\"font-size: 35px; font-weight: bold; color: goldenrod\"> Part 1 - Preliminary Data Processing</div>\n",
    "<div style=\"font-size: 30px; font-weight: bold; color: goldenrod; border-bottom: 3px solid goldenrod; padding-bottom: 20px\">v.1.1 April 2025</div>\n",
    "</center></div>"
   ]
  },
  {
   "cell_type": "markdown",
   "id": "e64f18e6",
   "metadata": {},
   "source": [
    "This is the main notebook for the AI California Legislative Policy Analysis (CALPA) project. The goal of this project is to analyze California legislative bills using natural language processing (NLP) techniques. This notebook will cover the preliminary data processing steps, including data loading, cleaning, and preparation for analysis.\n",
    "The project is divided into several parts, each focusing on a specific aspect of the analysis. The first part will cover the data loading and cleaning process, while subsequent parts will focus on feature extraction, model training, and evaluation."
   ]
  },
  {
   "cell_type": "markdown",
   "id": "c53ee650",
   "metadata": {},
   "source": [
    "<h1 style=\"font-weight:bold; color:orangered; border-bottom: 2px solid orangered\">1. Preliminaries</h1>"
   ]
  },
  {
   "cell_type": "markdown",
   "id": "19f3d942",
   "metadata": {},
   "source": [
    "<h2 style=\"font-weight:bold; color:dodgerblue; border-bottom: 1px solid dodgerblue; padding-left: 25px\">1.1 Referencing Libraries and Initialization</h2>"
   ]
  },
  {
   "cell_type": "markdown",
   "id": "8208c249",
   "metadata": {},
   "source": [
    "If needed to reset the kernel, please run the following cell:"
   ]
  },
  {
   "cell_type": "code",
   "execution_count": null,
   "id": "bc5f5ee8",
   "metadata": {},
   "outputs": [],
   "source": [
    "#%reset"
   ]
  },
  {
   "cell_type": "markdown",
   "id": "8cc81da9",
   "metadata": {},
   "source": [
    "Instantiating python libraries for the project"
   ]
  },
  {
   "cell_type": "code",
   "execution_count": 1,
   "id": "a2f0c47a",
   "metadata": {},
   "outputs": [],
   "source": [
    "# Import required libraries\n",
    "import os\n",
    "from dotenv import load_dotenv\n",
    "import time\n",
    "from datetime import date\n",
    "from datetime import datetime\n",
    "import json\n",
    "import mimetypes\n",
    "import glob\n",
    "import base64\n",
    "import zipfile\n",
    "import io\n",
    "import requests\n",
    "import pandas as pd"
   ]
  },
  {
   "cell_type": "markdown",
   "id": "09d997f5",
   "metadata": {},
   "source": [
    "Load the local python modules containing classes and functions for the project from the local directory.\n",
    "- `calpa`: This module contains the main classes and functions for the project, including the `LegiScan` class for the LegScan API."
   ]
  },
  {
   "cell_type": "code",
   "execution_count": 2,
   "id": "ae70f788",
   "metadata": {},
   "outputs": [],
   "source": [
    "# Load the calpa module located in the scripts/python/calpa directory\n",
    "from calpa import calpa"
   ]
  },
  {
   "cell_type": "markdown",
   "id": "9dc4e7bc",
   "metadata": {},
   "source": [
    "<h2 style=\"font-weight:bold; color:dodgerblue; border-bottom: 1px solid dodgerblue; padding-left: 25px\">1.2. Project and Workspace Variables</h2>"
   ]
  },
  {
   "cell_type": "markdown",
   "id": "7615fcb8",
   "metadata": {},
   "source": [
    "<h3 style=\"font-weight:bold; color:lime; padding-left: 50px\">Load Environment Variables</h3>"
   ]
  },
  {
   "cell_type": "markdown",
   "id": "33393245",
   "metadata": {},
   "source": [
    "Define and maintain project, workspace and metadata. Below we load the environment variables from the `.env` file. The environment variables are used to configure the project and workspace settings. The `dotenv` library is used to load the environment variables from the `.env` file into the Python environment. The environment also contains the LegiScan API key, which is used to access the LegiScan API. The API key is stored in the `LEGISCAN_API_KEY` environment variable. The `dotenv` library is used to load the environment variables from the `.env` file into the Python environment."
   ]
  },
  {
   "cell_type": "code",
   "execution_count": 3,
   "id": "d59292b7",
   "metadata": {},
   "outputs": [
    {
     "data": {
      "text/plain": [
       "True"
      ]
     },
     "execution_count": 3,
     "metadata": {},
     "output_type": "execute_result"
    }
   ],
   "source": [
    "# Load environment variables from .env file\n",
    "load_dotenv()"
   ]
  },
  {
   "cell_type": "markdown",
   "id": "b8886ff1",
   "metadata": {},
   "source": [
    "<h3 style=\"font-weight:bold; color:lime; padding-left: 50px\">Main Class Instantiation</h3>"
   ]
  },
  {
   "cell_type": "markdown",
   "id": "1ee03ec6",
   "metadata": {},
   "source": [
    "Instantiate the main class for the project:\n",
    "- `legiscan`: This class is used to access the LegiScan API and retrieve legislative data."
   ]
  },
  {
   "cell_type": "code",
   "execution_count": 4,
   "id": "091cabc8",
   "metadata": {},
   "outputs": [],
   "source": [
    "# Instantiate the LegiScan class\n",
    "legiscan = calpa.LegiScan()"
   ]
  },
  {
   "cell_type": "markdown",
   "id": "de3d0889",
   "metadata": {},
   "source": [
    "Create project metadata for the project"
   ]
  },
  {
   "cell_type": "code",
   "execution_count": 5,
   "id": "0103f779",
   "metadata": {},
   "outputs": [
    {
     "name": "stdout",
     "output_type": "stream",
     "text": [
      "~~~~~~~~~~~~~~~~~~~~~~~~~~~~~~~~~~~~~~~~~~~~~~~~~~~~~~~~~~~~~~~~~~~~~~~~~~~~~~~~~~~~~\n",
      " OCEA Legislative Policy Analysis (CaLPA-LC)\n",
      " California Legislative Policy Analysis for OCEA Legislative Committee Related Bills\n",
      " Part 1 - Preliminary Operations\n",
      " Version 1.1 (MIT License), Dr. Kostas Alexandridis, GISP\n",
      " GitHub Repository: https://github.com/ktalexan/CaLPA\n",
      " Last Updated: Apr 29, 2025\n",
      "~~~~~~~~~~~~~~~~~~~~~~~~~~~~~~~~~~~~~~~~~~~~~~~~~~~~~~~~~~~~~~~~~~~~~~~~~~~~~~~~~~~~~\n",
      "\n",
      "Dates: 2024-12-02 through 2025-04-29\n",
      "Periods: 2025-2026\n"
     ]
    }
   ],
   "source": [
    "# Create project metadata for the AI project\n",
    "prjMetadata = calpa.projectMetadata(prjPart=1, prjComponent=\"LC\", prjVersion=\"1.1\")"
   ]
  },
  {
   "cell_type": "markdown",
   "id": "2c0d5ebb",
   "metadata": {},
   "source": [
    "Create the project directories dictionary"
   ]
  },
  {
   "cell_type": "code",
   "execution_count": 6,
   "id": "83659ca7",
   "metadata": {},
   "outputs": [
    {
     "name": "stdout",
     "output_type": "stream",
     "text": [
      "Directory Global Settings:\n",
      "\n",
      "General:\n",
      "- Project (pathPrj): c:\\Users\\ktale\\OneDrive\\Documents\\GitHub\\CaLPA\n",
      "- Admin (pathAdmin): c:\\Users\\ktale\\OneDrive\\Documents\\GitHub\\CaLPA\\admin\n",
      "- Metadata (pathMetadata): c:\\Users\\ktale\\OneDrive\\Documents\\GitHub\\CaLPA\\metadata\n",
      "- Analysis (pathAnalysis): c:\\Users\\ktale\\OneDrive\\Documents\\GitHub\\CaLPA\\analysis\n",
      "- Obsidian Vault (pathObsidian): C:\\Users\\ktale\\Knowledge Management\\Policy and Governance\\Legislation\n",
      "Scripts:\n",
      "- Python Calpa Module (pathScriptsCalpa): c:\\Users\\ktale\\OneDrive\\Documents\\GitHub\\CaLPA\\calpa\n",
      "- Markdown Scripts (pathScriptsMd): c:\\Users\\ktale\\OneDrive\\Documents\\GitHub\\CaLPA\\markdown\n",
      "- RIS Scripts (pathScriptsRis): c:\\Users\\ktale\\OneDrive\\Documents\\GitHub\\CaLPA\\ris\n",
      "Data:\n",
      "- Main Data (pathData): c:\\Users\\ktale\\OneDrive\\Documents\\GitHub\\CaLPA\\data\n",
      "- Documents (pathDataDocs): c:\\Users\\ktale\\OneDrive\\Documents\\GitHub\\CaLPA\\data\\docs\n",
      "- LegiScan (pathDataLegis): c:\\Users\\ktale\\OneDrive\\Documents\\GitHub\\CaLPA\\data\\legis\n",
      "- LookUp (pathDataLookup): c:\\Users\\ktale\\OneDrive\\Documents\\GitHub\\CaLPA\\data\\lookup\n",
      "- Markdown (pathDataMd): c:\\Users\\ktale\\OneDrive\\Documents\\GitHub\\CaLPA\\data\\md\n",
      "- RIS (pathDataBbl): c:\\Users\\ktale\\OneDrive\\Documents\\GitHub\\CaLPA\\data\\bbl\n",
      "Graphics:\n",
      "- Main Graphics (pathGraphics): c:\\Users\\ktale\\OneDrive\\Documents\\GitHub\\CaLPA\\graphics\n",
      "- Figures (pathGraphicsFigs): c:\\Users\\ktale\\OneDrive\\Documents\\GitHub\\CaLPA\\graphics\\figs\n",
      "- Presentations (pathGraphicsVisual): c:\\Users\\ktale\\OneDrive\\Documents\\GitHub\\CaLPA\\graphics\\visual\n"
     ]
    }
   ],
   "source": [
    "# Create the project directories dictionary\n",
    "prjDirs = calpa.projectDirectories(os.getcwd())"
   ]
  },
  {
   "cell_type": "markdown",
   "id": "203a885e",
   "metadata": {},
   "source": [
    "<h3 style=\"font-weight:bold; color:lime; padding-left: 50px\">Lookup Data and Variables</h3>"
   ]
  },
  {
   "cell_type": "markdown",
   "id": "8d0e8c5e",
   "metadata": {},
   "source": [
    "If needed, you can access the project lookup and dictionary variables. They are embedded in the `codebook` module of the `calpa` package. The codebook module contains the following variables:\n",
    "1. **LegiScan API Call Dictionaries**: These are codebook dictionaries that map the definitions of the LegiScan API fields for a number of API calls. The dictionaries available are (alphabetically ordered):\n",
    "   - `dictGetAmendment`: Contains all the fields returned by the LegiScan API for the `getAmendment` call.\n",
    "   - `dictGetBill`: Contains all the fields returned by the LegiScan API for the `getBill` call.\n",
    "   - `dictGetBillText`: Contains all the fields returned by the LegiScan API for the `getBillText` call.\n",
    "   - `dictGetPerson`: Contains all the fields returned by the LegiScan API for the `getPerson` call.\n",
    "   - `dictGetRollCall`: Contains all the fields returned by the LegiScan API for the `getRollCall` call.\n",
    "   - `dictGetSessionList`: Contains all the fields returned by the LegiScan API for the `getSessionList` call.\n",
    "   - `dictGetSupplement`: Contains all the fields returned by the LegiScan API for the `getSupplement` call.\n",
    "2. **Lookup Variables**: These are lists containing the names or definitions of codes used inside the LegiScan API calls (usually IDs or codes). The lookup variables available are (alphabetically ordered):\n",
    "   - `lookupBillCode`: Bill code definitions used in the LegiScan API.\n",
    "   - `lookupBillTextType`: IDs and definitions of the bill types used in the LegiScan API.\n",
    "   - `lookupBillType`: IDs and definitions of the bill types used in the LegiScan API.\n",
    "   - `lookupBodyType`: Definitions of body types used in the LegiScan API.\n",
    "   - `lookupEventType`: Definitions of event types used in the LegiScan API.\n",
    "   - `lookupMimeType`: Definitions of mime types used in the LegiScan API.\n",
    "   - `lookupPartyType`: Definitions of party types used in the LegiScan API.\n",
    "   - `lookupProgressType`: Definitions of progress types used in the LegiScan API.\n",
    "   - `lookupReasonType`: Definitions of reason types used in the LegiScan API.\n",
    "   - `lookupRoleType`: Definitions of role types used in the LegiScan API.\n",
    "   - `lookupSastType`: Definitions of SAST types used in the LegiScan API.\n",
    "   - `lookupSponsorType`: Definitions of sponsor types used in the LegiScan API.\n",
    "   - `lookupStateType`: Definitions of state types used in the LegiScan API (California only).\n",
    "   - `lookupStatusType`: Definitions of status types used in the LegiScan API.\n",
    "   - `lookupSupplementType`: Definitions of supplement types used in the LegiScan API.\n",
    "   - `lookupVoteType`: Definitions of vote types used in the LegiScan API.\n",
    "\n",
    "If you need to access the codebook variables, you can do so by running the following cell. The codebook variables are stored in the `codebook` module of the `calpa` package. Calling the variables (assuming that the `calpa` package is imported) will return the variables as a dictionary. You can access the variables by using the dictionary keys. For example, to access the `lookupBillCode` variable, you can use the following code:\n",
    "\n",
    ">```python\n",
    "># Load the calpa module located in the scripts/python/calpa directory\n",
    ">from calpa import calpa\n",
    ">\n",
    "># Getting the lookup variables from the codebook module directly\n",
    ">calpa.codebook.lookupBillCode\n",
    ">\n",
    "># Assigning the lookup variables to a stored in the session\n",
    ">lookupBillCode = calpa.codebook.lookupBillCode\n",
    ">```\n"
   ]
  },
  {
   "cell_type": "code",
   "execution_count": 7,
   "id": "761c50e9",
   "metadata": {},
   "outputs": [
    {
     "name": "stdout",
     "output_type": "stream",
     "text": [
      "Codebook Lookup Variables:\n",
      "['lookupBillCode', 'lookupBillTextType', 'lookupBillType', 'lookupBodyType', 'lookupEventType', 'lookupMimeType', 'lookupPartyType', 'lookupProgressType', 'lookupReasonType', 'lookupRoleType', 'lookupSastType', 'lookupSponsorType', 'lookupStateType', 'lookupStatusType', 'lookupSupplementType', 'lookupVoteType']\n",
      "\n",
      "Codebook Dictionary Variables:\n",
      "['dictGetAmendment', 'dictGetBill', 'dictGetBillText', 'dictGetPerson', 'dictGetRollCall', 'dictGetSessionList', 'dictGetSupplement']\n",
      "\n"
     ]
    }
   ],
   "source": [
    "# Codebook lookup variables\n",
    "codebookLookupVars = [var for var in dir(calpa.codebook) if var.startswith('lookup')]\n",
    "codebookDictVars = [var for var in dir(calpa.codebook) if var.startswith('dict')]\n",
    "print(f\"Codebook Lookup Variables:\\n{codebookLookupVars}\\n\")\n",
    "print(f\"Codebook Dictionary Variables:\\n{codebookDictVars}\\n\")"
   ]
  },
  {
   "cell_type": "markdown",
   "id": "3327fad8",
   "metadata": {},
   "source": [
    "<h1 style=\"font-weight:bold; color:orangered; border-bottom: 2px solid orangered\">2. Baseline LegiScan Data</h1>"
   ]
  },
  {
   "cell_type": "markdown",
   "id": "b9e23591",
   "metadata": {},
   "source": [
    "<h2 style=\"font-weight:bold; color:dodgerblue; border-bottom: 1px solid dodgerblue; padding-left: 25px\">2.1. Session List</h2>"
   ]
  },
  {
   "cell_type": "markdown",
   "id": "f1cdb9f2",
   "metadata": {},
   "source": [
    "Using the LegiScan API, we will retrieve the list of sessions for California. This will be used to get the session ID for the current session and the previous session. The session ID is needed to retrieve the bills for each session."
   ]
  },
  {
   "cell_type": "code",
   "execution_count": 8,
   "id": "6a452061",
   "metadata": {},
   "outputs": [],
   "source": [
    "# Get the list of sessions from LegiScan\n",
    "sessionList = legiscan.getSessionList()"
   ]
  },
  {
   "cell_type": "markdown",
   "id": "46714b86",
   "metadata": {},
   "source": [
    "Convert the session list to a pandas dataframe"
   ]
  },
  {
   "cell_type": "code",
   "execution_count": 9,
   "id": "29b395fb",
   "metadata": {},
   "outputs": [
    {
     "data": {
      "application/vnd.microsoft.datawrangler.viewer.v0+json": {
       "columns": [
        {
         "name": "index",
         "rawType": "object",
         "type": "string"
        },
        {
         "name": "2009-2010",
         "rawType": "object",
         "type": "unknown"
        },
        {
         "name": "2011-2012",
         "rawType": "object",
         "type": "unknown"
        },
        {
         "name": "2013-2014",
         "rawType": "object",
         "type": "unknown"
        },
        {
         "name": "2015-2016",
         "rawType": "object",
         "type": "unknown"
        },
        {
         "name": "2017-2018",
         "rawType": "object",
         "type": "unknown"
        },
        {
         "name": "2019-2020",
         "rawType": "object",
         "type": "unknown"
        },
        {
         "name": "2021-2022",
         "rawType": "object",
         "type": "unknown"
        },
        {
         "name": "2023-2024",
         "rawType": "object",
         "type": "unknown"
        },
        {
         "name": "2025-2026",
         "rawType": "object",
         "type": "unknown"
        }
       ],
       "conversionMethod": "pd.DataFrame",
       "ref": "81533195-b173-4700-ae6b-22b8eae39a42",
       "rows": [
        [
         "session_id",
         "30",
         "82",
         "993",
         "1120",
         "1400",
         "1624",
         "1791",
         "2016",
         "2172"
        ],
        [
         "state_id",
         "5",
         "5",
         "5",
         "5",
         "5",
         "5",
         "5",
         "5",
         "5"
        ],
        [
         "state_abbr",
         "CA",
         "CA",
         "CA",
         "CA",
         "CA",
         "CA",
         "CA",
         "CA",
         "CA"
        ],
        [
         "year_start",
         "2009",
         "2011",
         "2013",
         "2015",
         "2017",
         "2019",
         "2021",
         "2023",
         "2025"
        ],
        [
         "year_end",
         "2010",
         "2012",
         "2014",
         "2016",
         "2018",
         "2020",
         "2022",
         "2024",
         "2026"
        ]
       ],
       "shape": {
        "columns": 9,
        "rows": 5
       }
      },
      "text/html": [
       "<div>\n",
       "<style scoped>\n",
       "    .dataframe tbody tr th:only-of-type {\n",
       "        vertical-align: middle;\n",
       "    }\n",
       "\n",
       "    .dataframe tbody tr th {\n",
       "        vertical-align: top;\n",
       "    }\n",
       "\n",
       "    .dataframe thead th {\n",
       "        text-align: right;\n",
       "    }\n",
       "</style>\n",
       "<table border=\"1\" class=\"dataframe\">\n",
       "  <thead>\n",
       "    <tr style=\"text-align: right;\">\n",
       "      <th></th>\n",
       "      <th>2009-2010</th>\n",
       "      <th>2011-2012</th>\n",
       "      <th>2013-2014</th>\n",
       "      <th>2015-2016</th>\n",
       "      <th>2017-2018</th>\n",
       "      <th>2019-2020</th>\n",
       "      <th>2021-2022</th>\n",
       "      <th>2023-2024</th>\n",
       "      <th>2025-2026</th>\n",
       "    </tr>\n",
       "  </thead>\n",
       "  <tbody>\n",
       "    <tr>\n",
       "      <th>session_id</th>\n",
       "      <td>30</td>\n",
       "      <td>82</td>\n",
       "      <td>993</td>\n",
       "      <td>1120</td>\n",
       "      <td>1400</td>\n",
       "      <td>1624</td>\n",
       "      <td>1791</td>\n",
       "      <td>2016</td>\n",
       "      <td>2172</td>\n",
       "    </tr>\n",
       "    <tr>\n",
       "      <th>state_id</th>\n",
       "      <td>5</td>\n",
       "      <td>5</td>\n",
       "      <td>5</td>\n",
       "      <td>5</td>\n",
       "      <td>5</td>\n",
       "      <td>5</td>\n",
       "      <td>5</td>\n",
       "      <td>5</td>\n",
       "      <td>5</td>\n",
       "    </tr>\n",
       "    <tr>\n",
       "      <th>state_abbr</th>\n",
       "      <td>CA</td>\n",
       "      <td>CA</td>\n",
       "      <td>CA</td>\n",
       "      <td>CA</td>\n",
       "      <td>CA</td>\n",
       "      <td>CA</td>\n",
       "      <td>CA</td>\n",
       "      <td>CA</td>\n",
       "      <td>CA</td>\n",
       "    </tr>\n",
       "    <tr>\n",
       "      <th>year_start</th>\n",
       "      <td>2009</td>\n",
       "      <td>2011</td>\n",
       "      <td>2013</td>\n",
       "      <td>2015</td>\n",
       "      <td>2017</td>\n",
       "      <td>2019</td>\n",
       "      <td>2021</td>\n",
       "      <td>2023</td>\n",
       "      <td>2025</td>\n",
       "    </tr>\n",
       "    <tr>\n",
       "      <th>year_end</th>\n",
       "      <td>2010</td>\n",
       "      <td>2012</td>\n",
       "      <td>2014</td>\n",
       "      <td>2016</td>\n",
       "      <td>2018</td>\n",
       "      <td>2020</td>\n",
       "      <td>2022</td>\n",
       "      <td>2024</td>\n",
       "      <td>2026</td>\n",
       "    </tr>\n",
       "  </tbody>\n",
       "</table>\n",
       "</div>"
      ],
      "text/plain": [
       "           2009-2010 2011-2012 2013-2014 2015-2016 2017-2018 2019-2020  \\\n",
       "session_id        30        82       993      1120      1400      1624   \n",
       "state_id           5         5         5         5         5         5   \n",
       "state_abbr        CA        CA        CA        CA        CA        CA   \n",
       "year_start      2009      2011      2013      2015      2017      2019   \n",
       "year_end        2010      2012      2014      2016      2018      2020   \n",
       "\n",
       "           2021-2022 2023-2024 2025-2026  \n",
       "session_id      1791      2016      2172  \n",
       "state_id           5         5         5  \n",
       "state_abbr        CA        CA        CA  \n",
       "year_start      2021      2023      2025  \n",
       "year_end        2022      2024      2026  "
      ]
     },
     "execution_count": 9,
     "metadata": {},
     "output_type": "execute_result"
    }
   ],
   "source": [
    "# Convert the sessionList to a pandas DataFrame\n",
    "sessionDf = pd.DataFrame(sessionList)\n",
    "sessionDf.head()"
   ]
  },
  {
   "cell_type": "markdown",
   "id": "cd1cb8b1",
   "metadata": {},
   "source": [
    "We need to compare the session list we obtained from the Legiscan API with the previous session list (stored in the disk under `data/lookup/sessionList.json`). Here, we open the stored session list into a new dictionary called `sessionListStored`."
   ]
  },
  {
   "cell_type": "code",
   "execution_count": 10,
   "id": "de1789a8",
   "metadata": {},
   "outputs": [],
   "source": [
    "# Obtain the stored sessions list from JSON dictionary on disk (data/lookup directory)\n",
    "sessionListStored = legiscan.getStoredData(dataType = \"session\")"
   ]
  },
  {
   "cell_type": "markdown",
   "id": "a9f37022",
   "metadata": {},
   "source": [
    "Now that we have both the session lists (the one from the legiscan api, `sessionList`, and the stored version, `sessionListStored`), we can compare them. We will check if the session list from the LegiScan API is the same as the session list stored in the disk. If they are not the same, we will first identify which sessions need updating, and will later update the stored session list with the new session list from the LegiScan API. We will also check if there are any new sessions that have been added to the LegiScan API since the last time we retrieved the session list.\n",
    "\n",
    "The function method `matchHash` from the legiscan module class, uses the hash values to compare the two lists. In this case the relevant JSON keys are `sesion_hash` for each `session_id`."
   ]
  },
  {
   "cell_type": "code",
   "execution_count": 11,
   "id": "83c52cbd",
   "metadata": {},
   "outputs": [
    {
     "name": "stdout",
     "output_type": "stream",
     "text": [
      "All sessions match\n"
     ]
    }
   ],
   "source": [
    "# Compare the sessionList and sessionListStored dictionaries for any changes\n",
    "unmatchedSessions = legiscan.matchHash(sessionList, sessionListStored, hashType = \"session\", silent = True)\n",
    "\n",
    "# if the unmatchedSessions is empty, print \"All sessions match\", and delete the unmatchedSessions variable\n",
    "if unmatchedSessions is None:\n",
    "    print(\"All sessions match\")\n",
    "    del unmatchedSessions\n",
    "else:\n",
    "    print(\"Unmatched sessions found\")\n",
    "    # Print the unmatched sessions\n",
    "    print(unmatchedSessions)"
   ]
  },
  {
   "cell_type": "markdown",
   "id": "fafdae3c",
   "metadata": {},
   "source": [
    "Export the LegiScan query records to the `data/legis/json` directory as a JSON file for future reference."
   ]
  },
  {
   "cell_type": "code",
   "execution_count": null,
   "id": "ef0f45d0",
   "metadata": {},
   "outputs": [],
   "source": [
    "# Export the sessionList to a JSON file in the data/legiscan/json directory\n",
    "with open(os.path.join(prjDirs[\"pathDataLegis\"], \"json\", \"sessionList.json\"), \"w\", encoding=\"utf-8\") as f:\n",
    "    json.dump(sessionList, f, ensure_ascii=False, indent=4)\n",
    "del f"
   ]
  },
  {
   "cell_type": "markdown",
   "id": "fea47018",
   "metadata": {},
   "source": [
    "If needed update the stored session list with the new session list from the LegiScan API."
   ]
  },
  {
   "cell_type": "code",
   "execution_count": null,
   "id": "a4cc057d",
   "metadata": {},
   "outputs": [],
   "source": [
    "# Update the stored sessions list with the new sessionList\n",
    "with open(os.path.join(prjDirs[\"pathDataLookup\"], \"sessionListStored.json\"), \"w\", encoding=\"utf-8\") as f:\n",
    "    json.dump(sessionList, f, ensure_ascii=False, indent=4)\n",
    "del f"
   ]
  },
  {
   "cell_type": "markdown",
   "id": "eb5d4470",
   "metadata": {},
   "source": [
    "<h2 style=\"font-weight:bold; color:dodgerblue; border-bottom: 1px solid dodgerblue; padding-left: 25px\">2.2. Session People</h2>"
   ]
  },
  {
   "cell_type": "markdown",
   "id": "470f8fa0",
   "metadata": {},
   "source": [
    "In this step, we will obtain the list of California legislature members (Senate and Assembly) for each of the legislative sessions. This will be used to get the list of members for each session. The session ID is needed to retrieve the members for each session. We will use the LegiScan API to retrieve the list of members for each session.\n",
    "\n",
    "The `legiscan.getSessionPeople` method retrieves the list of members for each session. The session ID is passed as an argument to the method. The method returns a list of members for each session. The list of members is stored in a dictionary called `sessionPeople`. The dictionary contains the session ID as the key and the list of members as the value."
   ]
  },
  {
   "cell_type": "code",
   "execution_count": 12,
   "id": "3865b9c7",
   "metadata": {},
   "outputs": [],
   "source": [
    "# Get the list of session people from LegiScan\n",
    "sessionPeople = {}\n",
    "for key, value in sessionList.items():\n",
    "    sessionId = value[\"session_id\"]\n",
    "    sessionPeople[key] = legiscan.getSessionPeople(sessionId)\n",
    "del key, value, sessionId"
   ]
  },
  {
   "cell_type": "markdown",
   "id": "e98b2cd9",
   "metadata": {},
   "source": [
    "Similarly with the legislative session list, we will compare the session people list we obtained from the LegiScan API with the previous session people list (stored in the disk under `data/lookup/sessionPeople.json`). Here, we open the stored session people list into a new dictionary called `sessionPeopleStored`."
   ]
  },
  {
   "cell_type": "code",
   "execution_count": 13,
   "id": "589fb5a4",
   "metadata": {},
   "outputs": [],
   "source": [
    "# Obtain the stored session People list from JSON dictionary on disk (data/lookup directory)\n",
    "sessionPeopleStored = legiscan.getStoredData(dataType = \"people\")"
   ]
  },
  {
   "cell_type": "markdown",
   "id": "814d8ccb",
   "metadata": {},
   "source": [
    "This time, the task is not that simple, since `sessionPeople` lists are nested for each session. The comparison of the Legislature members needs to be done in a loop for each session. In the following code segment, we perform this task in sequential steps:\n",
    "\n",
    "1. Create a dictionary named `unmatchedPeople` to hold the unmatched session people (will be nested for each session).\n",
    "2. Loop through the `sessionPeople` and `sessionPeopleStored` dictionaries to compare the session people lists for each session.\n",
    "3. For each session, compare the session people lists and store the unmatched session people in the `unmatchedSessionPeople` dictionary, based on the `person_hash` key attribute on both lists. We will use the `matchHash` method from the `legiscan` module to compare the two lists.\n",
    "4. If there are any unmatched session people, we will update the `unmatchedPeople` dictionary with the unmatched session people (for each session).\n",
    "5. Finally, we will check if there are any unmatched session people in the `unmatchedPeople` dictionary. If there are, we will update the `sessionPeopleStored` dictionary with the unmatched session people and save it to the disk. "
   ]
  },
  {
   "cell_type": "code",
   "execution_count": 14,
   "id": "d1b6dc94",
   "metadata": {},
   "outputs": [
    {
     "name": "stdout",
     "output_type": "stream",
     "text": [
      "All people match\n"
     ]
    }
   ],
   "source": [
    "# Compare the sessionPeople and sessionPeopleStored dictionaries for any changes\n",
    "# Create a dictionary to store unmatched people\n",
    "unmatchedPeople = {}\n",
    "# Iterate through each session and compare the people lists\n",
    "for key, value in sessionPeople.items():\n",
    "    unmatchedPeople[key] = {}\n",
    "    unmatched = legiscan.matchHash(sessionPeople[key][\"people\"], sessionPeopleStored[key][\"people\"], hashType = \"person\", silent = True)\n",
    "    # If there are unmatched people, store them in the unmatchedPeople dictionary\n",
    "    unmatchedPeople[key] = unmatched if unmatched is not None else None\n",
    "del key, value, unmatched\n",
    "\n",
    "# if the unmatchedPeople is empty, print \"All people match\", and delete the unmatchedPeople variable\n",
    "if all(not value for value in unmatchedPeople.values()):\n",
    "    print(\"All people match\")\n",
    "    # Delete the unmatchedPeople variable\n",
    "    del unmatchedPeople\n",
    "else:\n",
    "    print(\"Unmatched people found\")\n",
    "    # Print the unmatched sessions\n",
    "    print(unmatchedPeople)"
   ]
  },
  {
   "cell_type": "markdown",
   "id": "3a05c410",
   "metadata": {},
   "source": [
    "Export the LegiScan query data for the session people to the `data/legis/json' directory for future reference."
   ]
  },
  {
   "cell_type": "code",
   "execution_count": null,
   "id": "891071b5",
   "metadata": {},
   "outputs": [],
   "source": [
    "# Export the sessionPeople to a JSON file in the data/legiscan/json directory\n",
    "with open(os.path.join(prjDirs[\"pathDataLegis\"], \"json\", \"sessionPeople.json\"), \"w\", encoding=\"utf-8\") as f:\n",
    "    json.dump(sessionPeople, f, ensure_ascii=False, indent=4)\n",
    "del f"
   ]
  },
  {
   "cell_type": "markdown",
   "id": "ade46b74",
   "metadata": {},
   "source": [
    "If needed update the stored session people list with the new session people list from the LegiScan API."
   ]
  },
  {
   "cell_type": "code",
   "execution_count": null,
   "id": "d1350014",
   "metadata": {},
   "outputs": [],
   "source": [
    "# Update the stored session People list with the new sessionPeople\n",
    "with open(os.path.join(prjDirs[\"pathDataLookup\"], \"sessionPeopleStored.json\"), \"w\", encoding=\"utf-8\") as f:\n",
    "    json.dump(sessionPeople, f, ensure_ascii=False, indent=4)\n",
    "del f"
   ]
  },
  {
   "cell_type": "markdown",
   "id": "afcdcd03",
   "metadata": {},
   "source": [
    "<h2 style=\"font-weight:bold; color:dodgerblue; border-bottom: 1px solid dodgerblue; padding-left: 25px\">2.3. Dataset List</h2>"
   ]
  },
  {
   "cell_type": "markdown",
   "id": "9afdc0fa",
   "metadata": {},
   "source": [
    "In this session we will obtain the list of datasets and their attributes for each of the California Legislative Session from LegiScan. This process is needed to obtain the dataset `access_key` for each session, and consequently to use it in query dataset data in a further step.\n",
    "\n",
    "The `legiscan.getDatasetList` method retrieves the list of datasets for each session. The session ID is passed as an argument to the method. The method returns a list of datasets for each session. The list of datasets is stored in a dictionary called `datasetList`. The dictionary contains the session ID as the key and the list of datasets as the value."
   ]
  },
  {
   "cell_type": "code",
   "execution_count": 15,
   "id": "60379275",
   "metadata": {},
   "outputs": [],
   "source": [
    "# Get the list of datasets from LegiScan for each legislative session\n",
    "datasetList = legiscan.getDatasetList()"
   ]
  },
  {
   "cell_type": "markdown",
   "id": "95891ea2",
   "metadata": {},
   "source": [
    "Obtain the stored dataset list from the disk. The list will be used to compare with the LegiScan API dataset list. The stored dataset list is stored in the `data/lookup/datasetList.json` file. The dataset list contains the list of datasets for each session. The dataset ID is needed to retrieve the datasets for each session. We will use the LegiScan API to retrieve the list of datasets for each session. Here, we open the stored dataset list into a new dictionary called `datasetListStored`."
   ]
  },
  {
   "cell_type": "code",
   "execution_count": 16,
   "id": "c59f42ae",
   "metadata": {},
   "outputs": [],
   "source": [
    "# Obtain the stored dataset list from JSON dictionary on disk (data/lookup directory)\n",
    "datasetListStored = legiscan.getStoredData(dataType = \"dataset\")"
   ]
  },
  {
   "cell_type": "markdown",
   "id": "d69cc3c6",
   "metadata": {},
   "source": [
    "Now that we have both the dataset lists (the one from the legiscan api, `datasetList`, and the stored version, `datasetListStored`), we can compare them. We will check if the dataset list from the LegiScan API is the same as the dataset list stored in the disk. If they are not the same, we will first identify which datasets need updating, and will later update the stored dataset list with the new dataset list from the LegiScan API. We will also check if there are any new datasets that have been added to the LegiScan API since the last time we retrieved the session list.\n",
    "\n",
    "The function method `matchHash` from the legiscan module class, uses the hash values to compare the two lists. In this case the relevant JSON keys are `dataset_hash` for each `session_id`."
   ]
  },
  {
   "cell_type": "code",
   "execution_count": 17,
   "id": "bfc98217",
   "metadata": {},
   "outputs": [
    {
     "name": "stdout",
     "output_type": "stream",
     "text": [
      "All datasets match\n"
     ]
    }
   ],
   "source": [
    "# Compare the datasetList and datasetListStored dictionaries for any changes\n",
    "unmatchedDatasets = legiscan.matchHash(datasetList, datasetListStored, hashType = \"dataset\", silent = True)\n",
    "\n",
    "# if the unmatchedSessions is empty, print \"All sessions match\", and delete the unmatchedSessions variable\n",
    "if unmatchedDatasets is None:\n",
    "    print(\"All datasets match\")\n",
    "    del unmatchedDatasets\n",
    "else:\n",
    "    print(\"Unmatched datasets found\")\n",
    "    # Print the unmatched sessions\n",
    "    print(unmatchedDatasets)"
   ]
  },
  {
   "cell_type": "markdown",
   "id": "7e76c862",
   "metadata": {},
   "source": [
    "Export the LegiScan query records to the `data/legis/json` directory as a JSON file for future reference."
   ]
  },
  {
   "cell_type": "code",
   "execution_count": null,
   "id": "bf32ce01",
   "metadata": {},
   "outputs": [],
   "source": [
    "# export the datasetList to a JSON file in the data/legis/json directory\n",
    "with open(os.path.join(prjDirs[\"pathDataLegis\"], \"json\", \"datasetList.json\"), \"w\", encoding=\"utf-8\") as f:\n",
    "    json.dump(datasetList, f, ensure_ascii=False, indent=4)\n",
    "del f"
   ]
  },
  {
   "cell_type": "markdown",
   "id": "b814be36",
   "metadata": {},
   "source": [
    "Update the stored dataset list with the new dataset list from the LegiScan API."
   ]
  },
  {
   "cell_type": "code",
   "execution_count": null,
   "id": "51443b9d",
   "metadata": {},
   "outputs": [],
   "source": [
    "# Update the stored dataset list with the new datasetList\n",
    "with open(os.path.join(prjDirs[\"pathDataLookup\"], \"datasetListStored.json\"), \"w\", encoding=\"utf-8\") as f:\n",
    "    json.dump(datasetList, f, ensure_ascii=False, indent=4)\n",
    "del f"
   ]
  },
  {
   "cell_type": "markdown",
   "id": "bc085b44",
   "metadata": {},
   "source": [
    "<h2 style=\"font-weight:bold; color:dodgerblue; border-bottom: 1px solid dodgerblue; padding-left: 25px\">2.4. Master List</h2>"
   ]
  },
  {
   "cell_type": "markdown",
   "id": "68f1f61f",
   "metadata": {},
   "source": [
    "This step is to obtain the master list of datasets for each session. The master list contains the list of bills for each legislative session. The master list is used to get the list of bills for each session. The session ID is needed to retrieve the bills for each session. We will use the LegiScan API to retrieve the list of bills for each session.\n",
    "\n",
    "There are two options for this method. The first obtains the master list with bill attributes (when `raw = False`), and the second obtains the raw master list containing only the bill_ID and hash (when `raw = True`)\n",
    "\n",
    "We will use the `legiscan.getMasterList(sessionID, raw)` method and will store the results in a dictionary called `masterList` or `masterListRaw` depending on the option provided in the method invocation."
   ]
  },
  {
   "cell_type": "code",
   "execution_count": 18,
   "id": "9da1467b",
   "metadata": {},
   "outputs": [],
   "source": [
    "# Get the Raw Master List from LegiScan for each legislative session\n",
    "masterListRaw = {}\n",
    "for key, value in sessionList.items():\n",
    "    sessionId = value[\"session_id\"]\n",
    "    masterListRaw[key] = legiscan.getMasterList(sessionId, raw = True)\n",
    "del key, value, sessionId"
   ]
  },
  {
   "cell_type": "code",
   "execution_count": 19,
   "id": "626c444b",
   "metadata": {},
   "outputs": [],
   "source": [
    "# Get the Master List from LegiScan for each legislative session\n",
    "masterList = {}\n",
    "for key, value in sessionList.items():\n",
    "    sessionId = value[\"session_id\"]\n",
    "    masterList[key] = legiscan.getMasterList(sessionId, raw = False)\n",
    "del key, value, sessionId"
   ]
  },
  {
   "cell_type": "markdown",
   "id": "27cc41f9",
   "metadata": {},
   "source": [
    "Obtain the stored master lists (both the raw and full) from the disk. The lists will be used to compare each bill with the LegiScan API master list. The stored dataset list is stored in the `data/lookup/mastertList.json` or `data/lookup/masterListRaw.json` files. The master lists contain the list of bills for each session. The dataset ID is needed to retrieve the bills for each session. We will use the LegiScan API to retrieve the list of datasets for each session. Here, we open the stored dataset list into a new dictionary called `masterListStored` and `masterListRawStored`."
   ]
  },
  {
   "cell_type": "code",
   "execution_count": 20,
   "id": "7c6c7eb2",
   "metadata": {},
   "outputs": [],
   "source": [
    "# Get the stored raw master list from JSON dictionary on disk (data/lookup directory)\n",
    "masterListRawStored = legiscan.getStoredData(dataType = \"master\", raw = True)\n",
    "# Get the stored master list from JSON dictionary on disk (data/lookup directory)\n",
    "masterListStored = legiscan.getStoredData(dataType = \"master\", raw = False)"
   ]
  },
  {
   "cell_type": "markdown",
   "id": "909f137e",
   "metadata": {},
   "source": [
    "Now that we have both the master lists (the one from the legiscan api, `masterListRaw`, and the stored version, `masterListRawStored`), we can compare them. We will check if the master list from the LegiScan API is the same as the master list stored in the disk. If they are not the same, we will first identify which bills need updating, and will later update the stored master list with the new master list from the LegiScan API. We will also check if there are any new bills that have been added to the LegiScan API since the last time we retrieved the session list.\n",
    "\n",
    "The function method `matchHash` from the legiscan module class, uses the hash values to compare the two lists. In this case the relevant JSON keys are `chanbe_hash` for each `session_id`."
   ]
  },
  {
   "cell_type": "code",
   "execution_count": 21,
   "id": "6ab1ade4",
   "metadata": {},
   "outputs": [
    {
     "name": "stdout",
     "output_type": "stream",
     "text": [
      "All master lists match\n"
     ]
    }
   ],
   "source": [
    "# Compare the masterList and masterListStored dictionaries for any changes\n",
    "# Create a dictionary to store unmatched bills\n",
    "unmatchedMasterList = {}\n",
    "# Iterate through each session and compare the bills lists\n",
    "for key, value in masterList.items():\n",
    "    unmatchedMasterList[key] = {}\n",
    "    unmatched = legiscan.matchHash(masterList[key][\"bills\"], masterListStored[key][\"bills\"], hashType = \"change\", silent = True)\n",
    "    # If there are unmatched bills, store them in the unmatchedMasterList dictionary\n",
    "    unmatchedMasterList[key] = unmatched if unmatched is not None else None\n",
    "del key, value, unmatched\n",
    "\n",
    "if all(not value for value in unmatchedMasterList.values()):\n",
    "    print(\"All master lists match\")\n",
    "    # Delete the unmatchedMasterList variable\n",
    "    del unmatchedMasterList\n",
    "else:\n",
    "    print(\"Unmatched master lists found\")\n",
    "    # Print the unmatched sessions\n",
    "    print(unmatchedMasterList)"
   ]
  },
  {
   "cell_type": "code",
   "execution_count": 22,
   "id": "56bc2563",
   "metadata": {},
   "outputs": [
    {
     "name": "stdout",
     "output_type": "stream",
     "text": [
      "All master lists match\n"
     ]
    }
   ],
   "source": [
    "# Compare the masterList and masterListStored dictionaries for any changes\n",
    "# Create a dictionary to store unmatched bills\n",
    "unmatchedMasterListRaw = {}\n",
    "# Iterate through each session and compare the bills lists\n",
    "for key, value in masterListRaw.items():\n",
    "    unmatchedMasterListRaw[key] = {}\n",
    "    unmatched = legiscan.matchHash(masterListRaw[key][\"bills\"], masterListRawStored[key][\"bills\"], hashType = \"change\", silent = True)\n",
    "    # If there are unmatched bills, store them in the unmatchedMasterList dictionary\n",
    "    unmatchedMasterListRaw[key] = unmatched if unmatched is not None else None\n",
    "del key, value, unmatched\n",
    "\n",
    "if all(not value for value in unmatchedMasterListRaw.values()):\n",
    "    print(\"All master lists match\")\n",
    "    # Delete the unmatchedMasterList variable\n",
    "    del unmatchedMasterListRaw\n",
    "else:\n",
    "    print(\"Unmatched master lists found\")\n",
    "    # Print the unmatched sessions\n",
    "    print(unmatchedMasterListRaw)"
   ]
  },
  {
   "cell_type": "markdown",
   "id": "11df3310",
   "metadata": {},
   "source": [
    "Export both the LegiScan query records (raw and full master list) to the `data/legis/json` directory as a JSON file for future reference."
   ]
  },
  {
   "cell_type": "code",
   "execution_count": null,
   "id": "bffb99d9",
   "metadata": {},
   "outputs": [],
   "source": [
    "# export the raw master list to a JSON file in the data/legis/json directory\n",
    "with open(os.path.join(prjDirs[\"pathDataLegis\"], \"json\", \"masterListRaw.json\"), \"w\", encoding=\"utf-8\") as f:\n",
    "    json.dump(masterListRaw, f, ensure_ascii=False, indent=4)\n",
    "del f"
   ]
  },
  {
   "cell_type": "code",
   "execution_count": null,
   "id": "bf69f71f",
   "metadata": {},
   "outputs": [],
   "source": [
    "# export the master list to a JSON file in the data/legis/json directory\n",
    "with open(os.path.join(prjDirs[\"pathDataLegis\"], \"json\", \"masterList.json\"), \"w\", encoding=\"utf-8\") as f:\n",
    "    json.dump(masterList, f, ensure_ascii=False, indent=4)\n",
    "del f"
   ]
  },
  {
   "cell_type": "markdown",
   "id": "8e5c84c4",
   "metadata": {},
   "source": [
    "If needed update the stored session people list with the new session people list from the LegiScan API."
   ]
  },
  {
   "cell_type": "code",
   "execution_count": null,
   "id": "5e06e165",
   "metadata": {},
   "outputs": [],
   "source": [
    "# Update the stored raw master list with the new masterListRaw\n",
    "with open(os.path.join(prjDirs[\"pathDataLookup\"], \"masterListRawStored.json\"), \"w\", encoding=\"utf-8\") as f:\n",
    "    json.dump(masterListRaw, f, ensure_ascii=False, indent=4)\n",
    "del f"
   ]
  },
  {
   "cell_type": "code",
   "execution_count": null,
   "id": "80d6f796",
   "metadata": {},
   "outputs": [],
   "source": [
    "# Update the master list with the new masterList\n",
    "with open(os.path.join(prjDirs[\"pathDataLookup\"], \"masterListStored.json\"), \"w\", encoding=\"utf-8\") as f:\n",
    "    json.dump(masterList, f, ensure_ascii=False, indent=4)\n",
    "del f"
   ]
  },
  {
   "cell_type": "markdown",
   "id": "72e9acf5",
   "metadata": {},
   "source": [
    "<h1 style=\"font-weight:bold; color:orangered; border-bottom: 2px solid orangered\">3. Bill Monitoring Operations</h1>"
   ]
  },
  {
   "cell_type": "markdown",
   "id": "6790a66b",
   "metadata": {},
   "source": [
    "<h2 style=\"font-weight:bold; color:dodgerblue; border-bottom: 1px solid dodgerblue; padding-left: 25px\">3.1. Stored Monitored LC Bill List</h2>"
   ]
  },
  {
   "cell_type": "markdown",
   "id": "4e451425",
   "metadata": {},
   "source": [
    "Open the stored LC list of monitoring bills from disk (`data/lookup/lcBillListStored.json`). The list will be used to compare with the LegiScan API bill list."
   ]
  },
  {
   "cell_type": "code",
   "execution_count": 39,
   "id": "70546c1e",
   "metadata": {},
   "outputs": [],
   "source": [
    "# Get the list of LC bills from the stored list on disk (data/lookup directory)\n",
    "lcBillListStored = legiscan.getStoredData(dataType = \"bills\", project = \"LC\")"
   ]
  },
  {
   "cell_type": "markdown",
   "id": "f5a7a84f",
   "metadata": {},
   "source": [
    "Now that we have both the AI bill lists (the master list from the legiscan api, `masterListRaw`, and the stored version, `lcBillListStored`), we can compare them. We will check if the bills from the LC bill list stored in the disk are the same as the LegiScan API bills in the master list. If they are not the same, we will first identify which bills need updating, and will later update the stored LC bill list with the new bill list from the LegiScan API. We will also check if there are any new bills that have been added to the LegiScan API since the last time we retrieved the session list.\n",
    "\n",
    "The function method `matchHash` from the legiscan module class, uses the hash values to compare the two lists. In this case the relevant JSON keys are `change_hash` for each `session_id`."
   ]
  },
  {
   "cell_type": "code",
   "execution_count": 41,
   "id": "79030389",
   "metadata": {},
   "outputs": [
    {
     "name": "stdout",
     "output_type": "stream",
     "text": [
      "All LC bills match\n"
     ]
    }
   ],
   "source": [
    "# Compare the lcBillListStored and the masterListRaw dictionaries for any changes\n",
    "unmatchedLcBillList = {}\n",
    "# Iterate through each session and compare the bills lists\n",
    "for key, value in lcBillListStored.items():\n",
    "    unmatchedLcBillList[key] = {}\n",
    "    unmatched = legiscan.matchHash(lcBillListStored[key], masterListRaw[key][\"bills\"], hashType = \"change\", silent = True)\n",
    "    # If there are unmatched bills, store them in the unmatchedLcBillList dictionary\n",
    "    unmatchedLcBillList[key] = unmatched if unmatched is not None else None\n",
    "del key, value, unmatched\n",
    "\n",
    "# if the unmatchedLcBillList is empty, print \"All LC bills match\", and delete the unmatchedLcBillList variable\n",
    "if all(not value for value in unmatchedLcBillList.values()):\n",
    "    print(\"All LC bills match\")\n",
    "    # Delete the unmatchedLcBillList variable\n",
    "    del unmatchedLcBillList\n",
    "else:\n",
    "    print(\"Unmatched LC bills found\")\n",
    "    # Print the unmatched sessions\n",
    "    print(unmatchedLcBillList)"
   ]
  },
  {
   "cell_type": "markdown",
   "id": "7e5df0d2",
   "metadata": {},
   "source": [
    "If needed, update the stored LegiScan AI search query list with the new LegiScan AI search query list from the LegiScan API."
   ]
  },
  {
   "cell_type": "code",
   "execution_count": 42,
   "id": "85b5e518",
   "metadata": {},
   "outputs": [],
   "source": [
    "# Update the stored aiBillList with the new aiBillList\n",
    "with open(os.path.join(prjDirs[\"pathDataLookup\"], \"lcBillListStored.json\"), \"w\", encoding=\"utf-8\") as f:\n",
    "    json.dump(lcBillListStored, f, ensure_ascii=False, indent=4)\n",
    "del f"
   ]
  },
  {
   "cell_type": "markdown",
   "id": "b1d2fbcb",
   "metadata": {},
   "source": [
    "<h2 style=\"font-weight:bold; color:dodgerblue; border-bottom: 1px solid dodgerblue; padding-left: 25px\">3.3. Get LegiScan Bills</h2>"
   ]
  },
  {
   "cell_type": "markdown",
   "id": "1f9cc83e",
   "metadata": {},
   "source": [
    "Get the LegiScan bills for each session. The session ID is needed to retrieve the bills for each session. We will use the LegiScan API to retrieve the list of bills for each session."
   ]
  },
  {
   "cell_type": "code",
   "execution_count": 43,
   "id": "3f2ec4b9",
   "metadata": {},
   "outputs": [
    {
     "name": "stdout",
     "output_type": "stream",
     "text": [
      "\n",
      "2025-2026 Legislative Session (58 bills)\n",
      "  1. AB21 (1893357)\n",
      "  2. AB23 (1893359)\n",
      "  3. AB33 (1893370)\n",
      "  4. AB96 (1904796)\n",
      "  5. AB231 (1916611)\n",
      "  6. AB283 (1936624)\n",
      "  7. AB288 (1936629)\n",
      "  8. AB303 (1939179)\n",
      "  9. AB331 (1943413)\n",
      "  10. AB339 (1945201)\n",
      "  11. AB340 (1945202)\n",
      "  12. AB346 (1947437)\n",
      "  13. AB423 (1958468)\n",
      "  14. AB424 (1958469)\n",
      "  15. AB427 (1958472)\n",
      "  16. AB478 (1964665)\n",
      "  17. AB495 (1964682)\n",
      "  18. AB522 (1964709)\n",
      "  19. AB569 (1968210)\n",
      "  20. AB571 (1968212)\n",
      "  21. AB596 (1970384)\n",
      "  22. AB672 (1971702)\n",
      "  23. AB711 (1971741)\n",
      "  24. AB853 (1976440)\n",
      "  25. AB882 (1976469)\n",
      "  26. AB1054 (1978589)\n",
      "  27. AB1067 (1978602)\n",
      "  28. AB1109 (1978644)\n",
      "  29. AB1189 (1980086)\n",
      "  30. AB1323 (1980220)\n",
      "  31. AB1331 (1980228)\n",
      "  32. AB1355 (1980252)\n",
      "  33. AB1383 (1980280)\n",
      "  34. ACA1 (1893407)\n",
      "  35. ACA2 (1893408)\n",
      "  36. SB7 (1893452)\n",
      "  37. SB16 (1893428)\n",
      "  38. SB21 (1893434)\n",
      "  39. SB23 (1893436)\n",
      "  40. SB27 (1893440)\n",
      "  41. SB28 (1893441)\n",
      "  42. SB35 (1894445)\n",
      "  43. SB36 (1894446)\n",
      "  44. SB37 (1894447)\n",
      "  45. SB70 (1919274)\n",
      "  46. SB82 (1929344)\n",
      "  47. SB83 (1929345)\n",
      "  48. SB237 (1947444)\n",
      "  49. SB238 (1947445)\n",
      "  50. SB299 (1964719)\n",
      "  51. SB301 (1964721)\n",
      "  52. SB309 (1964729)\n",
      "  53. SB366 (1970455)\n",
      "  54. SB458 (1976540)\n",
      "  55. SB481 (1976563)\n",
      "  56. SB600 (1978833)\n",
      "  57. SB853 (1991553)\n",
      "  58. SJR2 (1990396)\n",
      "\n",
      "Completed fetching AI bills from LegiScan (Total: 58 bills)\n"
     ]
    }
   ],
   "source": [
    "# Define a dictionary to store LC bills\n",
    "lcBills = {}\n",
    "j = 0\n",
    "# Iterate through the AI bill list and fetch the bill details from LegiScan\n",
    "for myPeriod, myBillList in lcBillListStored.items():\n",
    "    # Set the key to the legislative session period\n",
    "    lcBills[myPeriod] = {}\n",
    "    i = 1\n",
    "    l = len(myBillList)\n",
    "    print(f\"\\n{myPeriod} Legislative Session ({l} bills)\")\n",
    "    # Iterate through the bills for the current legislative session\n",
    "    for myBillNumber, myBill in myBillList.items():\n",
    "        # Get the bill ID\n",
    "        myBillId = myBill[\"bill_id\"]\n",
    "        print(f\"  {i}. {myBillNumber} ({myBillId})\")\n",
    "        # add the legiscan query to the aiBills dictionary\n",
    "        lcBills[myPeriod][myBillNumber] = legiscan.getBill(billId = myBillId)\n",
    "        i += 1\n",
    "    j += i - 1\n",
    "print(f\"\\nCompleted fetching AI bills from LegiScan (Total: {j} bills)\")\n",
    "del myPeriod, myBillList, myBillNumber, myBillId, myBill, i, l, j"
   ]
  },
  {
   "cell_type": "markdown",
   "id": "f507b73b",
   "metadata": {},
   "source": [
    "Export the LegiScan query records to the `data/legis/json` directory as a JSON file for future reference."
   ]
  },
  {
   "cell_type": "code",
   "execution_count": 44,
   "id": "6517a0bb",
   "metadata": {},
   "outputs": [],
   "source": [
    "# Export the AI bills to a JSON file in the data/legiscan/json directory\n",
    "with open(os.path.join(prjDirs[\"pathDataLegis\"], \"json\", \"lcBills.json\"), \"w\", encoding=\"utf-8\") as f:\n",
    "    json.dump(lcBills, f, ensure_ascii=False, indent=4)\n",
    "del f"
   ]
  },
  {
   "cell_type": "markdown",
   "id": "dda0210e",
   "metadata": {},
   "source": [
    "<h2 style=\"font-weight:bold; color:dodgerblue; border-bottom: 1px solid dodgerblue; padding-left: 25px\">3.3. Get Bill Text</h2>"
   ]
  },
  {
   "cell_type": "markdown",
   "id": "09f8909c",
   "metadata": {},
   "source": [
    "Get the LegiScan bill text for each session. This process involves two legiscan functions:\n",
    "\n",
    "- `legiscan.getBillText`: This function retrieves the bill text for each bill in the session. The document ID is passed as an argument to the function. The function runs the LegiScan API call, and returns the bill text JSON information for each bill (which includes the base64 encoded bill text).\n",
    "- `legiscan.summarizeBillText`: This function summarizes the bill text for each bill in the session. The bill JSON information is passed as an argument to this function. The function performs a number of tasks:\n",
    "    - Looks up the `texts` JSON object group of the bill, and finds the last bill text version (is the last one in the list, with the latest bill date), and retrieves the `doc_id` identifier of the bill text. \n",
    "    - Uses the `legiscan.getBillText` function above to retrieve the encoded (base64) bill text. It then proceeds to decode the encoded bill text, and converts it to a string.\n",
    "    - Uses an `Azure OpenAI` API call to create a TL;DR summary of the bill text, along with a list of keywords (tags) for the bill text. \n",
    "    - Finally, it constructs and returns a dictionary with the bill number, summarized bill text, the tags, and the bill text itself.\n",
    " "
   ]
  },
  {
   "cell_type": "code",
   "execution_count": null,
   "id": "836127c8",
   "metadata": {},
   "outputs": [],
   "source": [
    "# Create a function that loops through the aiBills dictionary, gets the bill text for each bill, and then processes the text through Azure OpenAI to obtain the summary and keywords.\n",
    "def createBillTextSummary(billList):\n",
    "    \"\"\"\n",
    "    Create a dictionary of bill text objects from the bill list.\n",
    "    \"\"\"\n",
    "    # Create a dictionary to store the bill text objects\n",
    "    billTextDict = {}\n",
    "    # First, loop through the legislative sessions in the bill list\n",
    "    for key, value in billList.items():\n",
    "        # Set the key to the legislative session period\n",
    "        billTextDict[key] = {}\n",
    "        # Count the number of bills in the legislative session\n",
    "        billCount = len(value)\n",
    "        print(f\"\\n{key} Legislative Session ({billCount} bills)\")\n",
    "        # Reset the counter for the number of bills processed\n",
    "        i = 1        \n",
    "        # Loop through the bills for the legislative session\n",
    "        for billKey, billContent in value.items():\n",
    "            maxRetries = 5\n",
    "            attempts = 0\n",
    "            success = False\n",
    "            while not success and attempts < maxRetries:\n",
    "                try:\n",
    "                    # Get the bill text from LegiScan\n",
    "                    billTextJson = legiscan.summarizeBillText(billContent)\n",
    "                    success = True\n",
    "                except Exception as e:\n",
    "                    attempts += 1\n",
    "                    print(f\"  - Error fetching bill text for {billKey}: {e}\")\n",
    "            if success:\n",
    "                # If the bill text is processed,\n",
    "                print(f\"  {billKey} ({i}/{billCount})\")\n",
    "                # Add the bill text to the billTextDict dictionary\n",
    "                billTextDict[key][billKey] = billTextJson\n",
    "                # Increment the counter for the number of bills processed\n",
    "                i += 1\n",
    "            else:\n",
    "                break\n",
    "    # Return the billTextDict dictionary\n",
    "    return billTextDict"
   ]
  },
  {
   "cell_type": "markdown",
   "id": "55b48518",
   "metadata": {},
   "source": [
    "We will execute the `createBillTextDict` function above (which in turns runs the `legiscan.summarizeBillText` function) for each bill in each legislative session, and generates a new dictionary obtaining the resulting data."
   ]
  },
  {
   "cell_type": "code",
   "execution_count": 46,
   "id": "9c16c79c",
   "metadata": {},
   "outputs": [
    {
     "name": "stdout",
     "output_type": "stream",
     "text": [
      "\n",
      "2025-2026 Legislative Session (58 bills)\n",
      "  AB21 (1/58)\n",
      "  AB23 (2/58)\n",
      "  AB33 (3/58)\n",
      "  AB96 (4/58)\n",
      "  AB231 (5/58)\n",
      "  AB283 (6/58)\n",
      "  AB288 (7/58)\n",
      "  AB303 (8/58)\n",
      "  AB331 (9/58)\n",
      "  AB339 (10/58)\n",
      "  AB340 (11/58)\n",
      "  AB346 (12/58)\n",
      "  AB423 (13/58)\n",
      "  AB424 (14/58)\n",
      "  AB427 (15/58)\n",
      "  AB478 (16/58)\n",
      "  AB495 (17/58)\n",
      "  AB522 (18/58)\n",
      "  AB569 (19/58)\n",
      "  AB571 (20/58)\n",
      "  AB596 (21/58)\n",
      "  AB672 (22/58)\n",
      "  AB711 (23/58)\n",
      "  AB853 (24/58)\n",
      "  AB882 (25/58)\n",
      "  AB1054 (26/58)\n",
      "  AB1067 (27/58)\n",
      "  AB1109 (28/58)\n",
      "  AB1189 (29/58)\n",
      "  AB1323 (30/58)\n",
      "  AB1331 (31/58)\n",
      "  AB1355 (32/58)\n",
      "  AB1383 (33/58)\n",
      "  ACA1 (34/58)\n",
      "  ACA2 (35/58)\n",
      "  SB7 (36/58)\n",
      "  SB16 (37/58)\n",
      "  SB21 (38/58)\n",
      "  SB23 (39/58)\n",
      "  SB27 (40/58)\n",
      "  SB28 (41/58)\n",
      "  SB35 (42/58)\n",
      "  SB36 (43/58)\n",
      "  SB37 (44/58)\n",
      "  SB70 (45/58)\n",
      "  SB82 (46/58)\n",
      "  SB83 (47/58)\n",
      "  SB237 (48/58)\n",
      "  SB238 (49/58)\n",
      "  SB299 (50/58)\n",
      "  SB301 (51/58)\n",
      "  SB309 (52/58)\n",
      "  SB366 (53/58)\n",
      "  SB458 (54/58)\n",
      "  SB481 (55/58)\n",
      "  SB600 (56/58)\n",
      "  SB853 (57/58)\n",
      "  SJR2 (58/58)\n"
     ]
    }
   ],
   "source": [
    "lcBillsSummaries = createBillTextSummary(lcBills)"
   ]
  },
  {
   "cell_type": "markdown",
   "id": "75b3a4b6",
   "metadata": {},
   "source": [
    "Export the LegiScan query records to the `data/legis/json` directory as a JSON file for future reference."
   ]
  },
  {
   "cell_type": "code",
   "execution_count": 47,
   "id": "aeec4817",
   "metadata": {},
   "outputs": [],
   "source": [
    "# Export the AI bills summaries to a JSON file in the data/legiscan/json directory\n",
    "with open(os.path.join(prjDirs[\"pathDataLegis\"], \"json\", \"lcBillsSummaries.json\"), \"w\", encoding=\"utf-8\") as f:\n",
    "    json.dump(lcBillsSummaries, f, ensure_ascii=False, indent=4)\n",
    "del f"
   ]
  },
  {
   "cell_type": "code",
   "execution_count": 48,
   "id": "eaf44331",
   "metadata": {},
   "outputs": [],
   "source": [
    "# Export the AI bill summaries to a JSON file in the data/lookup directory for reference\n",
    "with open(os.path.join(prjDirs[\"pathDataLookup\"], \"lcBillsSummariesStored.json\"), \"w\", encoding=\"utf-8\") as f:\n",
    "    json.dump(lcBillsSummaries, f, ensure_ascii=False, indent=4)\n",
    "del f"
   ]
  },
  {
   "cell_type": "markdown",
   "id": "37a38a70",
   "metadata": {},
   "source": [
    "<div style = \"background-color:indigo\"><center>\n",
    "<h1 style=\"font-weight:bold; color:goldenrod; border-top: 2px solid goldenrod; border-bottom: 2px solid goldenrod; padding-top: 5px; padding-bottom: 10px\">End of Script</h1>\n",
    "</center></div>"
   ]
  },
  {
   "cell_type": "markdown",
   "id": "78b2c26b",
   "metadata": {},
   "source": []
  }
 ],
 "metadata": {
  "kernelspec": {
   "display_name": "drkPy",
   "language": "python",
   "name": "python3"
  },
  "language_info": {
   "codemirror_mode": {
    "name": "ipython",
    "version": 3
   },
   "file_extension": ".py",
   "mimetype": "text/x-python",
   "name": "python",
   "nbconvert_exporter": "python",
   "pygments_lexer": "ipython3",
   "version": "3.11.11"
  }
 },
 "nbformat": 4,
 "nbformat_minor": 5
}
