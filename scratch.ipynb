{
 "cells": [
  {
   "cell_type": "markdown",
   "id": "eab3bc86",
   "metadata": {},
   "source": [
    "# CaLPA Scratch Folder"
   ]
  },
  {
   "cell_type": "markdown",
   "id": "57e5ba04",
   "metadata": {},
   "source": [
    "This is a scratch notebook used to test the code and functionality of the AI California Legislative Policy Analysis (CALPA) system. It is not intended for production use and may contain incomplete or experimental code. The purpose of this notebook is to facilitate the development and testing of the CALPA system, including its data processing, analysis, and visualization components. The notebook may include code snippets, comments, and notes related to the development process. Please refer to the official documentation and user guides for the CALPA system for more information on its usage and features."
   ]
  },
  {
   "cell_type": "code",
   "execution_count": null,
   "id": "f176218c",
   "metadata": {},
   "outputs": [],
   "source": [
    "#%reset"
   ]
  },
  {
   "cell_type": "markdown",
   "id": "d36f40d4",
   "metadata": {},
   "source": [
    "## Initialization"
   ]
  },
  {
   "cell_type": "code",
   "execution_count": 226,
   "id": "54fee68e",
   "metadata": {},
   "outputs": [],
   "source": [
    "# Import required libraries\n",
    "import os\n",
    "import time\n",
    "from datetime import date\n",
    "from datetime import datetime\n",
    "import json\n",
    "import mimetypes\n",
    "import glob\n",
    "import base64\n",
    "import zipfile\n",
    "import io\n",
    "import dotenv\n",
    "import requests\n",
    "import pandas as pd\n",
    "import feedparser\n",
    "import webbrowser\n",
    "from mrkdwn_analysis import MarkdownAnalyzer"
   ]
  },
  {
   "cell_type": "code",
   "execution_count": 15,
   "id": "4b3d7fc8",
   "metadata": {},
   "outputs": [
    {
     "name": "stdout",
     "output_type": "stream",
     "text": [
      "Project Global Settings:\n",
      "- Name: California Legislative Policy Analysis\n",
      "- Title: AI Legislative Policy Analysis\n",
      "- Version: 1.0\n",
      "- Author: Dr. Kostas Alexandridis, GISP\n",
      "Data Dates\n",
      "- Start Date: 2010-12-02\n",
      "- End Date: 2025-04-25\n",
      "- Periods: 2009-2010, 2011-2012, 2013-2014, 2015-2016, 2017-2018, 2019-2020, 2021-2022, 2023-2024, 2025-2026\n",
      "Directory Global Settings:\n",
      "\n",
      "General:\n",
      "- Project (pathPrj): c:\\Users\\ktale\\OneDrive\\Documents\\GitHub\\CaLPA\n",
      "- Admin (pathAdmin): c:\\Users\\ktale\\OneDrive\\Documents\\GitHub\\CaLPA\\admin\n",
      "- Metadata (pathMetadata): c:\\Users\\ktale\\OneDrive\\Documents\\GitHub\\CaLPA\\metadata\n",
      "- Analysis (pathAnalysis): c:\\Users\\ktale\\OneDrive\\Documents\\GitHub\\CaLPA\\analysis\n",
      "Scripts:\n",
      "- Python Calpa Module (pathScriptsCalpa): c:\\Users\\ktale\\OneDrive\\Documents\\GitHub\\CaLPA\\calpa\n",
      "- Markdown Scripts (pathScriptsMd): c:\\Users\\ktale\\OneDrive\\Documents\\GitHub\\CaLPA\\markdown\n",
      "- RIS Scripts (pathScriptsRis): c:\\Users\\ktale\\OneDrive\\Documents\\GitHub\\CaLPA\\ris\n",
      "Data:\n",
      "- Main Data (pathData): c:\\Users\\ktale\\OneDrive\\Documents\\GitHub\\CaLPA\\data\n",
      "- Documents (pathDataDocs): c:\\Users\\ktale\\OneDrive\\Documents\\GitHub\\CaLPA\\data\\docs\n",
      "- LegiScan (pathDataLegis): c:\\Users\\ktale\\OneDrive\\Documents\\GitHub\\CaLPA\\data\\legis\n",
      "- LookUp (pathDataLookup): c:\\Users\\ktale\\OneDrive\\Documents\\GitHub\\CaLPA\\data\\lookup\n",
      "- Markdown (pathDataMd): c:\\Users\\ktale\\OneDrive\\Documents\\GitHub\\CaLPA\\data\\md\n",
      "- RIS (pathDataBbl): c:\\Users\\ktale\\OneDrive\\Documents\\GitHub\\CaLPA\\data\\bbl\n",
      "Graphics:\n",
      "- Main Graphics (pathGraphics): c:\\Users\\ktale\\OneDrive\\Documents\\GitHub\\CaLPA\\graphics\n",
      "- Figures (pathGraphicsFigs): c:\\Users\\ktale\\OneDrive\\Documents\\GitHub\\CaLPA\\graphics\\figs\n",
      "- Presentations (pathGraphicsVisual): c:\\Users\\ktale\\OneDrive\\Documents\\GitHub\\CaLPA\\graphics\\visual\n"
     ]
    }
   ],
   "source": [
    "# Load the Calpa module located in the scripts/python/calpa directory\n",
    "from calpa import Calpa, LegiScan\n",
    "\n",
    "# Load environment variables from .env file\n",
    "dotenv.load_dotenv(os.path.join(os.getcwd(), '.env'))\n",
    "\n",
    "# Instantiate the LegiScan and Calpa classes\n",
    "calpa = Calpa()\n",
    "legiscan = LegiScan()\n",
    "\n",
    "# Create project metadata for the AI project\n",
    "prjMetadata = calpa.projectMetadata(\"AI\", \"0\")\n",
    "\n",
    "# Create the project directories dictionary\n",
    "prjDirs = calpa.projectDirectories(os.getcwd())\n"
   ]
  },
  {
   "cell_type": "code",
   "execution_count": 16,
   "id": "ecd5d2ba",
   "metadata": {},
   "outputs": [],
   "source": [
    "# Load the codebookBill pickle file from the data/lookup directory\n",
    "codebookBill = pd.read_pickle(os.path.join(prjDirs[\"pathDataLookup\"], \"codebookBill.pkl\"))\n",
    "\n",
    "# Load the codebookRollCall pickle file from the data/lookup directory\n",
    "codebookRollCall = pd.read_pickle(os.path.join(prjDirs[\"pathDataLookup\"], \"codebookRollCall.pkl\"))\n",
    "\n",
    "# Load the codebookBillText pickle file from the data/lookup directory\n",
    "codebookBillText = pd.read_pickle(os.path.join(prjDirs[\"pathDataLookup\"], \"codebookBillText.pkl\"))\n",
    "\n",
    "# Load the codebookAmendment pickle file from the data/lookup directory\n",
    "codebookAmendment = pd.read_pickle(os.path.join(prjDirs[\"pathDataLookup\"], \"codebookAmendment.pkl\"))\n",
    "\n",
    "# Load the codebookSupplement pickle file from the data/lookup directory\n",
    "codebookSupplement = pd.read_pickle(os.path.join(prjDirs[\"pathDataLookup\"], \"codebookSupplement.pkl\"))\n",
    "\n",
    "# Load the codebookPerson pickle file from the data/lookup directory\n",
    "codebookPerson = pd.read_pickle(os.path.join(prjDirs[\"pathDataLookup\"], \"codebookPerson.pkl\"))\n",
    "\n",
    "# Load the codebookSessionList pickle file from the data/lookup directory\n",
    "codebookSessionList = pd.read_pickle(os.path.join(prjDirs[\"pathDataLookup\"], \"codebookSessionList.pkl\"))"
   ]
  },
  {
   "cell_type": "code",
   "execution_count": 17,
   "id": "e8d02a07",
   "metadata": {},
   "outputs": [],
   "source": [
    "# Obtain the stored sessions list from JSON dictionary on disk (data/lookup directory)\n",
    "sessionListStored = legiscan.getStoredData(dataType = \"session\")\n",
    "\n",
    "# Obtain the stored session People list from JSON dictionary on disk (data/lookup directory)\n",
    "sessionPeopleStored = legiscan.getStoredData(dataType = \"people\")\n",
    "\n",
    "# Obtain the stored dataset list from JSON dictionary on disk (data/lookup directory)\n",
    "datasetListStored = legiscan.getStoredData(dataType = \"dataset\")\n",
    "\n",
    "# Get the stored raw master list from JSON dictionary on disk (data/lookup directory)\n",
    "masterListRawStored = legiscan.getStoredData(dataType = \"master\", raw = True)\n",
    "# Get the stored master list from JSON dictionary on disk (data/lookup directory)\n",
    "masterListStored = legiscan.getStoredData(dataType = \"master\", raw = False)\n",
    "\n",
    "# Get the AI monitoring list from disk (data/lookup directory)\n",
    "aiBillListStored = legiscan.getStoredData(dataType = \"bills\", project = \"AI\")\n",
    "\n",
    "# Get the AI full list of bills from dism (data/legis/json directory)\n",
    "aiBills = legiscan.getStoredData(dataType = \"data\", project = \"AI\")\n",
    "\n",
    "# Get the AI bill summries list from disk (data/lookup directory)\n",
    "aiBillsSummariesStored = legiscan.getStoredData(dataType = \"summaries\", project = \"AI\")"
   ]
  },
  {
   "cell_type": "markdown",
   "id": "03c2279f",
   "metadata": {},
   "source": [
    "## End of Initialization"
   ]
  },
  {
   "cell_type": "code",
   "execution_count": 5,
   "id": "d0cbb705",
   "metadata": {},
   "outputs": [],
   "source": [
    "test = calpa.getCaLegisLinks(billPeriod = \"2013-2014\", billId = \"SB860\")"
   ]
  },
  {
   "cell_type": "code",
   "execution_count": 7,
   "id": "d6d64cda",
   "metadata": {},
   "outputs": [
    {
     "data": {
      "text/plain": [
       "dict_keys(['main', 'text', 'votes', 'history', 'analysis', 'todaysLaw', 'compare', 'status'])"
      ]
     },
     "execution_count": 7,
     "metadata": {},
     "output_type": "execute_result"
    }
   ],
   "source": [
    "test.keys()"
   ]
  },
  {
   "cell_type": "code",
   "execution_count": 6,
   "id": "6d0291e3",
   "metadata": {},
   "outputs": [
    {
     "data": {
      "text/plain": [
       "True"
      ]
     },
     "execution_count": 6,
     "metadata": {},
     "output_type": "execute_result"
    }
   ],
   "source": [
    "# open test[\"main\"] in a web browser\n",
    "webbrowser.open(test[\"status\"])"
   ]
  },
  {
   "cell_type": "code",
   "execution_count": 12,
   "id": "b2604c66",
   "metadata": {},
   "outputs": [
    {
     "data": {
      "text/plain": [
       "dict_keys(['main', 'text', 'votes', 'history', 'analysis', 'todaysLaw', 'compare', 'status'])"
      ]
     },
     "execution_count": 12,
     "metadata": {},
     "output_type": "execute_result"
    }
   ],
   "source": [
    "test.keys()"
   ]
  },
  {
   "cell_type": "code",
   "execution_count": null,
   "id": "7a261b90",
   "metadata": {},
   "outputs": [],
   "source": []
  },
  {
   "cell_type": "code",
   "execution_count": null,
   "id": "33f92fb6",
   "metadata": {},
   "outputs": [],
   "source": [
    "testBill = aiBills[\"2013-2014\"][\"SB860\"]\n",
    "testBill.keys()"
   ]
  },
  {
   "cell_type": "code",
   "execution_count": null,
   "id": "a2d50371",
   "metadata": {},
   "outputs": [],
   "source": []
  },
  {
   "cell_type": "code",
   "execution_count": null,
   "id": "8afdf382",
   "metadata": {},
   "outputs": [],
   "source": [
    "legiscan.billCode[bType]"
   ]
  },
  {
   "cell_type": "code",
   "execution_count": 21,
   "id": "9b6825b1",
   "metadata": {},
   "outputs": [
    {
     "data": {
      "text/plain": [
       "{'bill_id': 581712,\n",
       " 'change_hash': 'e38cd0ab53209fc7aaf182ffc8ba1f5b',\n",
       " 'session_id': 993,\n",
       " 'session': {'session_id': 993,\n",
       "  'state_id': 5,\n",
       "  'year_start': 2013,\n",
       "  'year_end': 2014,\n",
       "  'prefile': 0,\n",
       "  'sine_die': 1,\n",
       "  'prior': 1,\n",
       "  'special': 0,\n",
       "  'session_tag': 'Regular Session',\n",
       "  'session_title': '2013-2014 Regular Session',\n",
       "  'session_name': '2013-2014 Session'},\n",
       " 'url': 'https://legiscan.com/CA/bill/SB860/2013',\n",
       " 'state_link': 'http://www.leginfo.ca.gov/cgi-bin/postquery?bill_number=sb_860&sess=1314&house=S',\n",
       " 'completed': 1,\n",
       " 'status': 4,\n",
       " 'status_date': '2014-06-20',\n",
       " 'progress': [{'date': '2014-01-09', 'event': 1},\n",
       "  {'date': '2014-01-23', 'event': 9},\n",
       "  {'date': '2014-04-10', 'event': 2},\n",
       "  {'date': '2014-05-08', 'event': 9},\n",
       "  {'date': '2014-06-12', 'event': 9},\n",
       "  {'date': '2014-06-15', 'event': 3},\n",
       "  {'date': '2014-06-20', 'event': 8},\n",
       "  {'date': '2014-06-20', 'event': 4}],\n",
       " 'state': 'CA',\n",
       " 'state_id': 5,\n",
       " 'bill_number': 'SB860',\n",
       " 'bill_type': 'B',\n",
       " 'bill_type_id': '1',\n",
       " 'body': 'S',\n",
       " 'body_id': 20,\n",
       " 'current_body': 'S',\n",
       " 'current_body_id': 20,\n",
       " 'title': 'Education finance: education omnibus trailer bill.',\n",
       " 'description': 'An act to amend Sections 69432, 69432.7, 69433.6, 70022, 70023, 79200, 81821, 84321.6, 84750.5, 84751, 87482, 89295, 92493, 92494, 92495, 92495.5, and 92675 of, to amend the heading of Article 5 (commencing with Section 79200) of Chapter 9 of Part 48 of Division 7 of Title 3 of, to add Sections 79204, 79205, 79206, 79207, 79208, 79209, 84750.6, 84754.6, 89712, 90083, 92495.6, and 94102.1 to, to add Article 1.5 (commencing with Section 78220) to Chapter 2 of Part 48 of Division 7 of Title 3 of, to add Article 5 (commencing with Section 89770) to Chapter 6 of Part 55 of Division 8 of Title 3 of, and to add Chapter 15 (commencing with Section 92985) to Part 57 of Division 9 of Title 3 of, the Education Code, to amend Sections 17581.7 and 68926.3 of the Government Code, to amend Section 13146 of the Health and Safety Code, and to amend Sections 10726 and 10742 of the Public Contract Code, relating to postsecondary education, and making an appropriation therefor, to take effect immediately, bill related to the budget.',\n",
       " 'pending_committee_id': 0,\n",
       " 'committee': [],\n",
       " 'referrals': [{'date': '2014-01-09',\n",
       "   'committee_id': 489,\n",
       "   'chamber': 'S',\n",
       "   'chamber_id': 20,\n",
       "   'name': 'Rules'},\n",
       "  {'date': '2014-01-23',\n",
       "   'committee_id': 476,\n",
       "   'chamber': 'S',\n",
       "   'chamber_id': 20,\n",
       "   'name': 'Budget and Fiscal Review'},\n",
       "  {'date': '2014-05-08',\n",
       "   'committee_id': 452,\n",
       "   'chamber': 'A',\n",
       "   'chamber_id': 19,\n",
       "   'name': 'Budget'}],\n",
       " 'history': [{'date': '2014-01-09',\n",
       "   'action': 'Introduced. Read first time. To Com. on RLS. for assignment. To print. ',\n",
       "   'chamber': 'S',\n",
       "   'chamber_id': 20,\n",
       "   'importance': 1},\n",
       "  {'date': '2014-01-10',\n",
       "   'action': 'From printer. May be acted upon on or after February 9.',\n",
       "   'chamber': 'S',\n",
       "   'chamber_id': 20,\n",
       "   'importance': 0},\n",
       "  {'date': '2014-01-23',\n",
       "   'action': 'Referred to Com. on B. & F.R.',\n",
       "   'chamber': 'S',\n",
       "   'chamber_id': 20,\n",
       "   'importance': 1},\n",
       "  {'date': '2014-04-03',\n",
       "   'action': 'Withdrawn from committee. Ordered to second reading.',\n",
       "   'chamber': 'S',\n",
       "   'chamber_id': 20,\n",
       "   'importance': 0},\n",
       "  {'date': '2014-04-07',\n",
       "   'action': 'Read second time. Ordered to third reading.',\n",
       "   'chamber': 'S',\n",
       "   'chamber_id': 20,\n",
       "   'importance': 0},\n",
       "  {'date': '2014-04-10',\n",
       "   'action': 'Read third time. Passed. (Ayes 22. Noes 12. Page 3132.) Ordered to the Assembly.',\n",
       "   'chamber': 'S',\n",
       "   'chamber_id': 20,\n",
       "   'importance': 1},\n",
       "  {'date': '2014-04-10',\n",
       "   'action': 'In Assembly. Read first time. Held at Desk.',\n",
       "   'chamber': 'A',\n",
       "   'chamber_id': 19,\n",
       "   'importance': 0},\n",
       "  {'date': '2014-05-08',\n",
       "   'action': 'Referred to Com. on BUDGET.',\n",
       "   'chamber': 'A',\n",
       "   'chamber_id': 19,\n",
       "   'importance': 1},\n",
       "  {'date': '2014-06-12',\n",
       "   'action': \"From committee with author's amendments. Read second time and amended. Re-referred to Com. on BUDGET.\",\n",
       "   'chamber': 'A',\n",
       "   'chamber_id': 19,\n",
       "   'importance': 1},\n",
       "  {'date': '2014-06-15',\n",
       "   'action': 'Assembly Rule 96 suspended. (Page 5527.) Withdrawn from committee. Ordered to third reading. Assembly Rule 63 suspended. (Page 5527.) Read third time. Passed. (Ayes 65. Noes 8. Page 5531.) Ordered to the Senate.',\n",
       "   'chamber': 'A',\n",
       "   'chamber_id': 19,\n",
       "   'importance': 0},\n",
       "  {'date': '2014-06-15',\n",
       "   'action': 'In Senate. Concurrence in Assembly amendments pending. Assembly amendments concurred in. (Ayes 37. Noes 0. Page 3912.) Ordered to engrossing and enrolling.',\n",
       "   'chamber': 'S',\n",
       "   'chamber_id': 20,\n",
       "   'importance': 1},\n",
       "  {'date': '2014-06-19',\n",
       "   'action': 'Enrolled and presented to the Governor at 1 p.m.',\n",
       "   'chamber': 'S',\n",
       "   'chamber_id': 20,\n",
       "   'importance': 0},\n",
       "  {'date': '2014-06-20',\n",
       "   'action': 'Approved by the Governor.',\n",
       "   'chamber': '',\n",
       "   'chamber_id': 0,\n",
       "   'importance': 0},\n",
       "  {'date': '2014-06-20',\n",
       "   'action': 'Chaptered by Secretary of State. Chapter 34, Statutes of 2014.',\n",
       "   'chamber': '',\n",
       "   'chamber_id': 0,\n",
       "   'importance': 1}],\n",
       " 'sponsors': [],\n",
       " 'sasts': [],\n",
       " 'subjects': [],\n",
       " 'texts': [{'doc_id': 910147,\n",
       "   'date': '2014-01-09',\n",
       "   'type': 'Introduced',\n",
       "   'type_id': 1,\n",
       "   'mime': 'text/html',\n",
       "   'mime_id': 1,\n",
       "   'url': 'https://legiscan.com/CA/text/SB860/id/910147',\n",
       "   'state_link': 'http://www.leginfo.ca.gov/pub/13-14/bill/sen/sb_0851-0900/sb_860_bill_20140109_introduced.html',\n",
       "   'text_size': 752,\n",
       "   'text_hash': 'b267bdb7cce5f9893d9268d2835c473e',\n",
       "   'alt_bill_text': 0,\n",
       "   'alt_mime': '',\n",
       "   'alt_mime_id': 0,\n",
       "   'alt_state_link': '',\n",
       "   'alt_text_size': 0,\n",
       "   'alt_text_hash': ''},\n",
       "  {'doc_id': 1034778,\n",
       "   'date': '2014-06-12',\n",
       "   'type': 'Amended',\n",
       "   'type_id': 3,\n",
       "   'mime': 'text/html',\n",
       "   'mime_id': 1,\n",
       "   'url': 'https://legiscan.com/CA/text/SB860/id/1034778',\n",
       "   'state_link': 'http://www.leginfo.ca.gov/pub/13-14/bill/sen/sb_0851-0900/sb_860_bill_20140612_amended_asm_v98.html',\n",
       "   'text_size': 188785,\n",
       "   'text_hash': '6c4da7999588d7352b3d78d83bf76d3a',\n",
       "   'alt_bill_text': 0,\n",
       "   'alt_mime': '',\n",
       "   'alt_mime_id': 0,\n",
       "   'alt_state_link': '',\n",
       "   'alt_text_size': 0,\n",
       "   'alt_text_hash': ''},\n",
       "  {'doc_id': 1035757,\n",
       "   'date': '2014-06-17',\n",
       "   'type': 'Enrolled',\n",
       "   'type_id': 5,\n",
       "   'mime': 'text/html',\n",
       "   'mime_id': 1,\n",
       "   'url': 'https://legiscan.com/CA/text/SB860/id/1035757',\n",
       "   'state_link': 'http://www.leginfo.ca.gov/pub/13-14/bill/sen/sb_0851-0900/sb_860_bill_20140617_enrolled.html',\n",
       "   'text_size': 172919,\n",
       "   'text_hash': '7acc4fa7dac9acdf5b8de5f0dacab76f',\n",
       "   'alt_bill_text': 0,\n",
       "   'alt_mime': '',\n",
       "   'alt_mime_id': 0,\n",
       "   'alt_state_link': '',\n",
       "   'alt_text_size': 0,\n",
       "   'alt_text_hash': ''},\n",
       "  {'doc_id': 1036939,\n",
       "   'date': '2014-06-20',\n",
       "   'type': 'Chaptered',\n",
       "   'type_id': 6,\n",
       "   'mime': 'text/html',\n",
       "   'mime_id': 1,\n",
       "   'url': 'https://legiscan.com/CA/text/SB860/id/1036939',\n",
       "   'state_link': 'http://www.leginfo.ca.gov/pub/13-14/bill/sen/sb_0851-0900/sb_860_bill_20140620_chaptered.html',\n",
       "   'text_size': 173016,\n",
       "   'text_hash': '102b07e5415a85a22508ea8b655a4f4c',\n",
       "   'alt_bill_text': 0,\n",
       "   'alt_mime': '',\n",
       "   'alt_mime_id': 0,\n",
       "   'alt_state_link': '',\n",
       "   'alt_text_size': 0,\n",
       "   'alt_text_hash': ''}],\n",
       " 'votes': [{'roll_call_id': 355089,\n",
       "   'date': '2014-04-10',\n",
       "   'desc': 'Senate 3rd Reading SB860 Committee on B. & F.R. (Leno)',\n",
       "   'yea': 22,\n",
       "   'nay': 12,\n",
       "   'nv': 6,\n",
       "   'absent': 0,\n",
       "   'total': 40,\n",
       "   'passed': 1,\n",
       "   'chamber': 'S',\n",
       "   'chamber_id': 20,\n",
       "   'url': 'https://legiscan.com/CA/rollcall/SB860/id/355089',\n",
       "   'state_link': 'http://www.leginfo.ca.gov/pub/13-14/bill/sen/sb_0851-0900/sb_860_vote_20140410_1053AM_sen_floor.html'},\n",
       "  {'roll_call_id': 371536,\n",
       "   'date': '2014-06-15',\n",
       "   'desc': 'SB 860 B.& F. R.  Senate Third Reading  By SKINNER',\n",
       "   'yea': 65,\n",
       "   'nay': 8,\n",
       "   'nv': 0,\n",
       "   'absent': 6,\n",
       "   'total': 79,\n",
       "   'passed': 1,\n",
       "   'chamber': 'A',\n",
       "   'chamber_id': 19,\n",
       "   'url': 'https://legiscan.com/CA/rollcall/SB860/id/371536',\n",
       "   'state_link': 'http://www.leginfo.ca.gov/pub/13-14/bill/sen/sb_0851-0900/sb_860_vote_20140615_0537PM_asm_floor.html'},\n",
       "  {'roll_call_id': 371537,\n",
       "   'date': '2014-06-15',\n",
       "   'desc': 'Unfinished Supp 2 SB860 Committee on B. & F.R. (Leno) Concurrence',\n",
       "   'yea': 37,\n",
       "   'nay': 0,\n",
       "   'nv': 3,\n",
       "   'absent': 0,\n",
       "   'total': 40,\n",
       "   'passed': 1,\n",
       "   'chamber': 'S',\n",
       "   'chamber_id': 20,\n",
       "   'url': 'https://legiscan.com/CA/rollcall/SB860/id/371537',\n",
       "   'state_link': 'http://www.leginfo.ca.gov/pub/13-14/bill/sen/sb_0851-0900/sb_860_vote_20140615_0756PM_sen_floor.html'}],\n",
       " 'amendments': [],\n",
       " 'supplements': [],\n",
       " 'calendar': []}"
      ]
     },
     "execution_count": 21,
     "metadata": {},
     "output_type": "execute_result"
    }
   ],
   "source": [
    "aiBills[\"2013-2014\"][\"SB860\"]"
   ]
  },
  {
   "cell_type": "code",
   "execution_count": null,
   "id": "5d7e23ed",
   "metadata": {},
   "outputs": [],
   "source": [
    "# join a list of strings with a comma\n",
    "def joinList(list):\n",
    "    return \", \".join(list)"
   ]
  },
  {
   "cell_type": "code",
   "execution_count": 37,
   "id": "82b5345e",
   "metadata": {},
   "outputs": [
    {
     "data": {
      "text/plain": [
       "'artificial-intelligence, california, higher-education, budget, student-aid, cal-grant, middle-class-scholarship, community-colleges, calworks, university-of-california, california-state-university, funding, neuroscience, cal-brain, education-policy, legislation'"
      ]
     },
     "execution_count": 37,
     "metadata": {},
     "output_type": "execute_result"
    }
   ],
   "source": [
    "\", \".join(aiBillsSummariesStored[\"2013-2014\"][\"SB860\"][\"tags\"])"
   ]
  },
  {
   "cell_type": "code",
   "execution_count": 39,
   "id": "33737fd1",
   "metadata": {},
   "outputs": [
    {
     "data": {
      "text/plain": [
       "'#artificial-intelligence, #california, #higher-education, #budget, #student-aid, #cal-grant, #middle-class-scholarship, #community-colleges, #calworks, #university-of-california, #california-state-university, #funding, #neuroscience, #cal-brain, #education-policy, #legislation'"
      ]
     },
     "execution_count": 39,
     "metadata": {},
     "output_type": "execute_result"
    }
   ],
   "source": [
    "\", \".join([f\"#{tag}\" for tag in aiBillsSummariesStored[\"2013-2014\"][\"SB860\"][\"tags\"]])"
   ]
  },
  {
   "cell_type": "code",
   "execution_count": null,
   "id": "a81e5c7d",
   "metadata": {},
   "outputs": [],
   "source": [
    "def aiBillYaml(billPeriod, billId):\n",
    "    \"\"\"\n",
    "    Function to create a YAML file for the AI bill\n",
    "    \"\"\"\n",
    "    # Get the bill data from the AI bills dictionary\n",
    "    bill = aiBills[billPeriod][billId]\n",
    "    \n",
    "    thisPeriod = billPeriod\n",
    "    thisBillId = billId\n",
    "    thisBillCode = f\"{bill['body']}{bill['bill_type']}\"\n",
    "    thisBillNumber = bill['bill_number'].replace(f\"{thisBillCode}\", \"\")\n",
    "    thisBillAlias1 = f\"{thisBillCode}-{thisBillNumber}\"\n",
    "    thisBillAlias2 = f\"{thisBillCode} {thisBillNumber}\"\n",
    "    thisBillKeywords = \", \".join(aiBillsSummariesStored[thisPeriod][thisBillId][\"tags\"])\n",
    "    thisBillHashTags = \", \".join([f\"#{tag}\" for tag in aiBillsSummariesStored[thisPeriod][thisBillId][\"tags\"]])\n",
    "    thisBillSponsors = legiscan.summarizeBillSponsors(aiBills[thisPeriod][thisBillId], output=\"dict\")\n",
    "    thisBillAction = bill['history'][-1]['action']\n",
    "    if thisBillAction.startswith(\"Chaptered\"):\n",
    "        chaptered = True\n",
    "        chapterNo = thisBillAction.removeprefix(\"Chaptered by Secretary of State. Chapter \").removesuffix(\".\")\n",
    "        chapterYear = int(chapterNo.split(\", Statutes of \")[1])\n",
    "        chapterNo = int(chapterNo.split(\", Statutes of \")[0])\n",
    "    else:\n",
    "        chaptered = False\n",
    "        chapterYear = None\n",
    "        chapterNo = None\n",
    "    \n",
    "    legisLinks = calpa.getCaLegisLinks(billPeriod, billId)\n",
    "    \n",
    "    # Create the YAML file name\n",
    "    yamlFileName = f\"{billId}.yaml\"\n",
    "    \n",
    "    # Create the YAML file path\n",
    "    yamlFilePath = os.path.join(prjDirs[\"pathData\"], \"legis\", \"yaml\", thisPeriod, yamlFileName)\n",
    "    \n",
    "    # Create the YAML file\n",
    "    with open(yamlFilePath, 'w') as yamlFile:\n",
    "        # Begin writing the YAML file\n",
    "        yamlFile.write(f\"---\\n\")\n",
    "        # Aliases (vector)\n",
    "        yamlFile.write(f\"aliases:\\n\")\n",
    "        yamlFile.write(f\"  - {thisBillAlias1}\\n\")\n",
    "        yamlFile.write(f\"  - {thisBillAlias2}\\n\")\n",
    "        # Type (vector)\n",
    "        yamlFile.write(f\"type:\\n\")\n",
    "        yamlFile.write(f\"  - {legiscan.billCode[thisBillCode]}\\n\")\n",
    "        yamlFile.write(f\"  - California Legislature Bill\\n\")\n",
    "        yamlFile.write(f\"  - AI Legislation\\n\")\n",
    "        # Tags (vector)\n",
    "        yamlFile.write(f\"tags:\\n\")\n",
    "        yamlFile.write(f\"  - Zotero\\n\")\n",
    "        yamlFile.write(f\"  - california-legislature\\n\")\n",
    "        yamlFile.write(f\"  - {bill['session']['session_title'].lower().replace(' ', '-')}\\n\")\n",
    "        for tag in aiBillsSummariesStored[thisPeriod][thisBillId][\"tags\"]:\n",
    "            yamlFile.write(f\"  - {tag}\\n\")\n",
    "        # Keywords\n",
    "        yamlFile.write(f\"keywords: {thisBillKeywords}\\n\")\n",
    "        # Hash tags\n",
    "        yamlFile.write(f\"hashTags: {thisBillHashTags}\\n\")\n",
    "        # Bill and Session Information\n",
    "        yamlFile.write(f\"billNumber: {thisBillNumber}\\n\")\n",
    "        yamlFile.write(f\"billType: {legiscan.billCode[thisBillCode]}\\n\")\n",
    "        yamlFile.write(f\"legislativeBody: California Legislature\\n\")\n",
    "        yamlFile.write(f\"session: {bill['session']['session_tag']}\\n\")\n",
    "        yamlFile.write(f\"\"\"topic: \"{thisBillAlias1}: {bill['title']}\"\\n\"\"\")\n",
    "        yamlFile.write(f\"\"\"title': \"{thisBillAlias1}: {bill['description']}\"\\n\"\"\")\n",
    "        yamlFile.write(f\"\"\"summary: \"{aiBillsSummariesStored[thisPeriod][thisBillId]['summary']}\"\\n\"\"\")\n",
    "        # Sponsors\n",
    "        if not thisBillSponsors:\n",
    "            yamlFile.write(f\"sponsors: None\\n\")\n",
    "            yamlFile.write(f\"coSponsors: None\\n\")\n",
    "            yamlFile.write(f\"jointSponsors: None\\n\")\n",
    "        else:\n",
    "            yamlFile.write(f\"sponsors: {', '.join(thisBillSponsors['Primary Sponsor'])}\\n\")\n",
    "            yamlFile.write(f\"coSponsors: {', '.join(thisBillSponsors['Co-Sponsor'])}\\n\")\n",
    "            yamlFile.write(f\"jointSponsors: {', '.join(thisBillSponsors['Joint Sponsor'])}\\n\")\n",
    "        # Bill Status\n",
    "        yamlFile.write(f\"billStatus: {legiscan.statusType[bill['status']]}\\n\")\n",
    "        if bill[\"session\"][\"sine_die\"] == 0:\n",
    "            yamlFile.write(f\"sessionStatus: Active\\n\")\n",
    "        elif bill[\"session\"][\"sine_die\"] == 1:\n",
    "            yamlFile.write(f\"sessionStatus: Inactive\\n\")\n",
    "        # Dates\n",
    "        yamlFile.write(f\"dateStatus: {bill['status_date']}\\n\")\n",
    "        yamlFile.write(f\"dateIntroduced: {bill['history'][0]['date']}\\n\")\n",
    "        yamlFile.write(f\"dateAssessed: {bill['history'][-1]['date']}\\n\")\n",
    "        # Bill Actions\n",
    "        yamlFile.write(f\"lastAction: {thisBillAction}\\n\")\n",
    "        yamlFile.write(f\"chaptered: {chaptered}\\n\")\n",
    "        yamlFile.write(f\"chapterNo: {chapterNo}\\n\")\n",
    "        yamlFile.write(f\"chapterYear: {chapterYear}\\n\")\n",
    "        # Legiscan link\n",
    "        yamlFile.write(f\"linkLegiscan: {bill['url']}\\n\")\n",
    "        # California legislature bill links\n",
    "        yamlFile.write(f\"linkMain: {legisLinks['main']}\\n\")\n",
    "        yamlFile.write(f\"linkText: {legisLinks['text']}\\n\")\n",
    "        yamlFile.write(f\"linkVotes: {legisLinks['votes']}\\n\")\n",
    "        yamlFile.write(f\"linkHistory: {legisLinks['history']}\\n\")\n",
    "        yamlFile.write(f\"linkAnalysis: {legisLinks['analysis']}\\n\")\n",
    "        yamlFile.write(f\"linkTodaysLaw: {legisLinks['todaysLaw']}\\n\")\n",
    "        yamlFile.write(f\"linkCompare: {legisLinks['compare']}\\n\")\n",
    "        yamlFile.write(f\"linkStatus: {legisLinks['status']}\\n\")\n",
    "        # Obsidian PDF link\n",
    "        yamlFile.write(f\"pdfLink: [[Documents/CA Legislative Bills/{thisPeriod}/{thisBillId}.pdf]]\\n\")\n",
    "        # Legiscan IDs\n",
    "        yamlFile.write(f\"legiscanBillId: {bill['bill_id']}\\n\")\n",
    "        yamlFile.write(f\"legiscanBillHash: {bill['change_hash']}\\n\")\n",
    "        yamlFile.write(f\"legiscanSessionId: {bill['session_id']}\\n\")\n",
    "        # Related (vector)\n",
    "        yamlFile.write(f\"related:\\n\")\n",
    "        yamlFile.write(f\"  - [[Artificial Intelligence]]\\n\")\n",
    "        yamlFile.write(f\"  - [[California Government]]\\n\")\n",
    "        # Dates for Obsidian\n",
    "        yamlFile.write(f\"generated: \\n\")\n",
    "        yamlFile.write(f\"modified: \\n\")\n",
    "        # Close the YAML file\n",
    "        yamlFile.write(f\"---\\n\")"
   ]
  },
  {
   "cell_type": "code",
   "execution_count": 141,
   "id": "18bbca36",
   "metadata": {},
   "outputs": [],
   "source": [
    "aiBillYaml(\"2013-2014\", \"SB860\")"
   ]
  },
  {
   "cell_type": "code",
   "execution_count": 316,
   "id": "b0d36e6f",
   "metadata": {},
   "outputs": [],
   "source": [
    "def aiBillMarkdown(billPeriod, billId):\n",
    "    \"\"\"\n",
    "    Function to create an md file for the AI bill\n",
    "    \"\"\"\n",
    "    # Get the bill data from the AI bills dictionary\n",
    "    bill = aiBills[billPeriod][billId]\n",
    "    \n",
    "    thisPeriod = billPeriod\n",
    "    thisBillId = billId\n",
    "    thisBillCode = f\"{bill['body']}{bill['bill_type']}\"\n",
    "    thisBillNumber = bill['bill_number'].replace(f\"{thisBillCode}\", \"\")\n",
    "    thisBillAlias1 = f\"{thisBillCode}-{thisBillNumber}\"\n",
    "    thisBillAlias2 = f\"{thisBillCode} {thisBillNumber}\"\n",
    "    thisBillKeywords = \", \".join(aiBillsSummariesStored[thisPeriod][thisBillId][\"tags\"])\n",
    "    thisBillHashTags = \", \".join([f\"#{tag}\" for tag in aiBillsSummariesStored[thisPeriod][thisBillId][\"tags\"]])\n",
    "    thisBillSponsors = legiscan.summarizeBillSponsors(aiBills[thisPeriod][thisBillId], output=\"dict\")\n",
    "    thisBillSponsorsMd = legiscan.summarizeBillSponsors(aiBills[thisPeriod][thisBillId], output=\"md\")\n",
    "    thisBillAction = bill['history'][-1]['action']\n",
    "    if thisBillAction.startswith(\"Chaptered\"):\n",
    "        chaptered = True\n",
    "        chapterNo = thisBillAction.removeprefix(\"Chaptered by Secretary of State. Chapter \").removesuffix(\".\")\n",
    "        chapterYear = int(chapterNo.split(\", Statutes of \")[1])\n",
    "        chapterNo = int(chapterNo.split(\", Statutes of \")[0])\n",
    "    else:\n",
    "        chaptered = False\n",
    "        chapterYear = None\n",
    "        chapterNo = None\n",
    "    \n",
    "    legisLinks = calpa.getCaLegisLinks(billPeriod, billId)\n",
    "    thisNotesPath = os.path.join(prjDirs[\"pathScriptsMd\"], \"notes\", thisPeriod, f\"{thisBillId}.md\")\n",
    "    with open(thisNotesPath, 'r') as src:\n",
    "        thisBillNotes = src.readlines()\n",
    "        section = aiNotes = lcNotes = \"\"\n",
    "        for i, line in enumerate(thisBillNotes):\n",
    "            if line.startswith(f\"## {thisBillId} AI Notes\"):\n",
    "                section = \"AI\"\n",
    "                #print(f\"Found AI Notes at line {i}\")\n",
    "            elif line.startswith(f\"## {thisBillId} LC Notes\"):\n",
    "                section = \"LC\"\n",
    "                #print(f\"Found LC Notes at line {i}\")\n",
    "            if section == \"AI\":\n",
    "                aiNotes += line\n",
    "            elif section == \"LC\":\n",
    "                lcNotes += line\n",
    "    \n",
    "    # Create the YAML file name\n",
    "    mdFileName = f\"{billId}.md\"\n",
    "    \n",
    "    # Create the YAML file path\n",
    "    mdFilePath = os.path.join(prjDirs[\"pathScriptsMd\"], \"AI\", thisPeriod, mdFileName)\n",
    "    \n",
    "    # Create the YAML file\n",
    "    with open(mdFilePath, 'w') as mdFile:\n",
    "        # Begin writing the YAML file\n",
    "        mdFile.write(f\"---\\n\")\n",
    "        # Aliases (vector)\n",
    "        mdFile.write(f\"aliases:\\n\")\n",
    "        mdFile.write(f\"  - {thisBillAlias1}\\n\")\n",
    "        mdFile.write(f\"  - {thisBillAlias2}\\n\")\n",
    "        # Type (vector)\n",
    "        mdFile.write(f\"type:\\n\")\n",
    "        mdFile.write(f\"  - {legiscan.billCode[thisBillCode]}\\n\")\n",
    "        mdFile.write(f\"  - California Legislature Bill\\n\")\n",
    "        mdFile.write(f\"  - AI Legislation\\n\")\n",
    "        # Tags (vector)\n",
    "        mdFile.write(f\"tags:\\n\")\n",
    "        mdFile.write(f\"  - Zotero\\n\")\n",
    "        mdFile.write(f\"  - california-legislature\\n\")\n",
    "        mdFile.write(f\"  - {bill['session']['session_title'].lower().replace(' ', '-')}\\n\")\n",
    "        for tag in aiBillsSummariesStored[thisPeriod][thisBillId][\"tags\"]:\n",
    "            mdFile.write(f\"  - {tag}\\n\")\n",
    "        # Keywords\n",
    "        mdFile.write(f\"keywords: {thisBillKeywords}\\n\")\n",
    "        # Hash tags\n",
    "        mdFile.write(f\"hashTags: '{thisBillHashTags}'\\n\")\n",
    "        # Bill and Session Information\n",
    "        mdFile.write(f\"billNumber: {thisBillNumber}\\n\")\n",
    "        mdFile.write(f\"billType: {legiscan.billCode[thisBillCode]}\\n\")\n",
    "        mdFile.write(f\"legislativeBody: California Legislature\\n\")\n",
    "        mdFile.write(f\"session: {bill['session']['session_tag']}\\n\")\n",
    "        mdFile.write(f\"\"\"topic: \"{thisBillAlias1}: {bill['title']}\"\\n\"\"\")\n",
    "        mdFile.write(f\"\"\"title': \"{thisBillAlias1}: {bill['description']}\"\\n\"\"\")\n",
    "        mdFile.write(f\"\"\"summary: \"{aiBillsSummariesStored[thisPeriod][thisBillId]['summary']}\"\\n\"\"\")\n",
    "        # Sponsors\n",
    "        if \"Primary Sponsor\" not in thisBillSponsors.keys():\n",
    "            mdFile.write(f\"sponsors: None\\n\")\n",
    "        else:\n",
    "            mdFile.write(f\"sponsors: {', '.join(thisBillSponsors['Primary Sponsor'])}\\n\")\n",
    "        if \"Co-Sponsor\" not in thisBillSponsors.keys():\n",
    "            mdFile.write(f\"coSponsors: None\\n\")\n",
    "        else:\n",
    "            mdFile.write(f\"coSponsors: {', '.join(thisBillSponsors['Co-Sponsor'])}\\n\")\n",
    "        if \"Joint Sponsor\" not in thisBillSponsors.keys():\n",
    "            mdFile.write(f\"jointSponsors: None\\n\")\n",
    "        else:\n",
    "            mdFile.write(f\"jointSponsors: {', '.join(thisBillSponsors['Joint Sponsor'])}\\n\")\n",
    "        # Bill Status\n",
    "        mdFile.write(f\"billStatus: {legiscan.statusType[bill['status']]}\\n\")\n",
    "        if bill[\"session\"][\"sine_die\"] == 0:\n",
    "            mdFile.write(f\"sessionStatus: Active\\n\")\n",
    "        elif bill[\"session\"][\"sine_die\"] == 1:\n",
    "            mdFile.write(f\"sessionStatus: Inactive\\n\")\n",
    "        # Dates\n",
    "        mdFile.write(f\"dateStatus: {bill['status_date']}\\n\")\n",
    "        mdFile.write(f\"dateIntroduced: {bill['history'][0]['date']}\\n\")\n",
    "        mdFile.write(f\"dateAssessed: {bill['history'][-1]['date']}\\n\")\n",
    "        # Bill Actions\n",
    "        mdFile.write(f\"lastAction: {thisBillAction}\\n\")\n",
    "        mdFile.write(f\"chaptered: {chaptered}\\n\")\n",
    "        mdFile.write(f\"chapterNo: {chapterNo}\\n\")\n",
    "        mdFile.write(f\"chapterYear: {chapterYear}\\n\")\n",
    "        # Legiscan link\n",
    "        mdFile.write(f\"linkLegiscan: {bill['url']}\\n\")\n",
    "        # California legislature bill links\n",
    "        mdFile.write(f\"linkMain: {legisLinks['main']}\\n\")\n",
    "        mdFile.write(f\"linkText: {legisLinks['text']}\\n\")\n",
    "        mdFile.write(f\"linkVotes: {legisLinks['votes']}\\n\")\n",
    "        mdFile.write(f\"linkHistory: {legisLinks['history']}\\n\")\n",
    "        mdFile.write(f\"linkAnalysis: {legisLinks['analysis']}\\n\")\n",
    "        mdFile.write(f\"linkTodaysLaw: {legisLinks['todaysLaw']}\\n\")\n",
    "        mdFile.write(f\"linkCompare: {legisLinks['compare']}\\n\")\n",
    "        mdFile.write(f\"linkStatus: {legisLinks['status']}\\n\")\n",
    "        # Obsidian PDF link\n",
    "        mdFile.write(f\"pdfLink: '[[Documents/CA Legislative Bills/{thisPeriod}/{thisBillId}.pdf]]'\\n\")\n",
    "        # Legiscan IDs\n",
    "        mdFile.write(f\"legiscanBillId: {bill['bill_id']}\\n\")\n",
    "        mdFile.write(f\"legiscanBillHash: {bill['change_hash']}\\n\")\n",
    "        mdFile.write(f\"legiscanSessionId: {bill['session_id']}\\n\")\n",
    "        # Related (vector)\n",
    "        mdFile.write(f\"related:\\n\")\n",
    "        mdFile.write(f\"  - '[[Artificial Intelligence]]'\\n\")\n",
    "        mdFile.write(f\"  - '[[California Government]]'\\n\")\n",
    "        # Dates for Obsidian\n",
    "        mdFile.write(f\"generated: \\n\")\n",
    "        mdFile.write(f\"modified: \\n\")\n",
    "        # Close the YAML file\n",
    "        mdFile.write(f\"---\\n\")\n",
    "        \n",
    "        # Main Markdown Content\n",
    "        mdFile.write(\"\\n\")\n",
    "        # Session Title\n",
    "        mdFile.write(f\"## {thisBillAlias1}: {bill['title']}\\n\\n\")\n",
    "        \n",
    "        # Metadata Info Box\n",
    "        mdFile.write(f\">[!legislative] **{thisBillId} Metadata**\\n\")\n",
    "        mdFile.write(f\">- **Bill Number**: {thisBillAlias1}\\n\")\n",
    "        mdFile.write(f\">- **Legislative Period**: {thisPeriod}\\n\")\n",
    "        mdFile.write(f\">- **Legislative Body**: California Legislature, {thisPeriod} {bill['session']['session_tag']}\\n\")\n",
    "        mdFile.write(f\">- **Bill Type**: {legiscan.billCode[thisBillCode]}\\n\")\n",
    "        mdFile.write(f\">- **Topic**: {thisBillAlias1}: {bill['title']}\\n\")\n",
    "        mdFile.write(f\">- **Title**: {thisBillAlias1}: {bill['description']}\\n\")\n",
    "        mdFile.write(f\">- **TL;DR Summary**: {aiBillsSummariesStored[thisPeriod][thisBillId]['summary']}\\n\")\n",
    "        mdFile.write(f\">- **Keywords**: {thisBillKeywords}\\n\")\n",
    "        mdFile.write(f\">- **Hash Tags**: {thisBillHashTags}\\n\")\n",
    "        if \"Primary Sponsor\" not in thisBillSponsorsMd.keys():\n",
    "            mdFile.write(f\">- **Sponsor(s)**: None\\n\")\n",
    "        else:\n",
    "            mdFile.write(f\">- **Sponsor(s)**: {thisBillSponsorsMd['Primary Sponsor']}\\n\")\n",
    "        if \"Co-Sponsor\" not in thisBillSponsorsMd.keys():\n",
    "            mdFile.write(f\">- **Co-Sponsor(s)**: None\\n\")\n",
    "        else:\n",
    "            mdFile.write(f\">- **Co-Sponsor(s)**: {thisBillSponsorsMd['Co-Sponsor']}\\n\")\n",
    "        if \"Joint Sponsor\" not in thisBillSponsorsMd.keys():\n",
    "            mdFile.write(f\">- **Joint Sponsor(s)**: None\\n\")\n",
    "        else:\n",
    "            mdFile.write(f\">- **Joint Sponsor(s)**: {thisBillSponsorsMd['Joint Sponsor']}\\n\")\n",
    "        mdFile.write(f\">- **Introduced Date**: {calpa.convertStrToDate(bill['history'][0]['date'])}\\n\")\n",
    "        mdFile.write(f\">- **Bill Status**: {legiscan.statusType[bill['status']]}\\n\")\n",
    "        if bill[\"session\"][\"sine_die\"] == 0:\n",
    "            mdFile.write(f\">- **Session Status**: Active\\n\")\n",
    "        elif bill[\"session\"][\"sine_die\"] == 1:\n",
    "            mdFile.write(f\">- **Session Status**: Inactive\\n\")\n",
    "        mdFile.write(f\">- **Status Date**: {calpa.convertStrToDate(bill['status_date'])}\\n\")\n",
    "        mdFile.write(f\">- **Last Action**: {thisBillAction}\\n\")\n",
    "        mdFile.write(f\">- **Last Action Date**: {calpa.convertStrToDate(bill['history'][-1]['date'])}\\n\")\n",
    "        mdFile.write(f\">- **Chaptered**: {chaptered}\\n\")\n",
    "        mdFile.write(f\">- **Chapter No**: {chapterNo}\\n\")\n",
    "        mdFile.write(f\">- **Chapter Year**: {chapterYear}\\n\")\n",
    "        mdFile.write(f\">- **LegiScan Bill ID**: {bill['bill_id']}\\n\")\n",
    "        mdFile.write(f\">- **LegiScan Bill Hash**: {bill['change_hash']}\\n\")\n",
    "        mdFile.write(f\">- **LegiScan Session ID**: {bill['session_id']}\\n\")\n",
    "        mdFile.write(f\">- **Bill Links**: \")\n",
    "        mdFile.write(f\"[LegiScan]({bill['url']}), \")\n",
    "        mdFile.write(f\"[State Main]({legisLinks['main']}), \")\n",
    "        mdFile.write(f\"[State Text]({legisLinks['text']}), \")\n",
    "        mdFile.write(f\"[State Votes]({legisLinks['votes']}), \")\n",
    "        mdFile.write(f\"[State History]({legisLinks['history']}), \")\n",
    "        mdFile.write(f\"[State Analysis]({legisLinks['analysis']}), \")\n",
    "        mdFile.write(f\"[State Today's Law]({legisLinks['todaysLaw']}), \")\n",
    "        mdFile.write(f\"[State Compare]({legisLinks['compare']}), \")\n",
    "        mdFile.write(f\"[State Status]({legisLinks['status']})\\n\")\n",
    "        mdFile.write(f\">- **Obsidian PDF Link**: [[Documents/CA Legislative Bills/{thisPeriod}/{thisBillId}.pdf]]\\n\")\n",
    "        mdFile.write(f\">- **Related**: [[Artificial Intelligence]], [[California Government]]\\n\\n\")\n",
    "        \n",
    "        # Summary Info Box\n",
    "        mdFile.write(f\">[!tldr] **{thisBillId} TL;DR Summary**\\n\")\n",
    "        mdFile.write(f\"> {aiBillsSummariesStored[thisPeriod][thisBillId]['summary']}\\n\\n\\n\")\n",
    "        \n",
    "        # Write the bill Notes\n",
    "        mdFile.write(f\"{aiNotes}\\n\")  \n",
    "        \n",
    "        # Webpage Title\n",
    "        mdFile.write(f\"## State WebPage\\n\\n\")\n",
    "        mdFile.write(f\"\"\"<iframe src=\"{legisLinks['main']}\" allow=\"fullscreen\" allowfullscreen=\"\" style=\"height: 100%;width:100%;aspect-ratio: 16/ 10;\"</iframe>\\n\"\"\")\n",
    "        \n",
    "        \n",
    "        mdFile.write(\"\\n\")"
   ]
  },
  {
   "cell_type": "code",
   "execution_count": 317,
   "id": "d34f47c8",
   "metadata": {},
   "outputs": [],
   "source": [
    "aiBillMarkdown(\"2013-2014\", \"AB1465\")\n",
    "aiBillMarkdown(\"2013-2014\", \"SB836\")\n",
    "aiBillMarkdown(\"2013-2014\", \"SB860\")"
   ]
  },
  {
   "cell_type": "code",
   "execution_count": null,
   "id": "39c67322",
   "metadata": {},
   "outputs": [],
   "source": [
    "<iframe src=\"https://leginfo.legislature.ca.gov/faces/billTextClient.xhtml?bill_id=202520260AB33\" allow=\"fullscreen\" allowfullscreen=\"\" style=\"height:100%;width:100%; aspect-ratio: 16 / 10; \"></iframe>\n"
   ]
  },
  {
   "cell_type": "code",
   "execution_count": null,
   "id": "cdb834b8",
   "metadata": {},
   "outputs": [],
   "source": [
    "# format date to MMM-DD-YYYY\n",
    "def formatDate(date):\n",
    "    return date.strftime(\"%b-%d-%Y\")"
   ]
  },
  {
   "cell_type": "code",
   "execution_count": 198,
   "id": "f96572fd",
   "metadata": {},
   "outputs": [
    {
     "data": {
      "text/plain": [
       "'October 01, 2023'"
      ]
     },
     "execution_count": 198,
     "metadata": {},
     "output_type": "execute_result"
    }
   ],
   "source": [
    "# convert \"2023-10-01\" to date\n",
    "def convertDate(dateString):\n",
    "    return datetime.strptime(dateString, \"%Y-%m-%d\").date().strftime(\"%B %d, %Y\")\n",
    "convertDate(\"2023-10-01\")"
   ]
  },
  {
   "cell_type": "code",
   "execution_count": 133,
   "id": "beef64bc",
   "metadata": {},
   "outputs": [
    {
     "data": {
      "text/plain": [
       "{'bill_id': 581712,\n",
       " 'change_hash': 'e38cd0ab53209fc7aaf182ffc8ba1f5b',\n",
       " 'session_id': 993,\n",
       " 'session': {'session_id': 993,\n",
       "  'state_id': 5,\n",
       "  'year_start': 2013,\n",
       "  'year_end': 2014,\n",
       "  'prefile': 0,\n",
       "  'sine_die': 1,\n",
       "  'prior': 1,\n",
       "  'special': 0,\n",
       "  'session_tag': 'Regular Session',\n",
       "  'session_title': '2013-2014 Regular Session',\n",
       "  'session_name': '2013-2014 Session'},\n",
       " 'url': 'https://legiscan.com/CA/bill/SB860/2013',\n",
       " 'state_link': 'http://www.leginfo.ca.gov/cgi-bin/postquery?bill_number=sb_860&sess=1314&house=S',\n",
       " 'completed': 1,\n",
       " 'status': 4,\n",
       " 'status_date': '2014-06-20',\n",
       " 'progress': [{'date': '2014-01-09', 'event': 1},\n",
       "  {'date': '2014-01-23', 'event': 9},\n",
       "  {'date': '2014-04-10', 'event': 2},\n",
       "  {'date': '2014-05-08', 'event': 9},\n",
       "  {'date': '2014-06-12', 'event': 9},\n",
       "  {'date': '2014-06-15', 'event': 3},\n",
       "  {'date': '2014-06-20', 'event': 8},\n",
       "  {'date': '2014-06-20', 'event': 4}],\n",
       " 'state': 'CA',\n",
       " 'state_id': 5,\n",
       " 'bill_number': 'SB860',\n",
       " 'bill_type': 'B',\n",
       " 'bill_type_id': '1',\n",
       " 'body': 'S',\n",
       " 'body_id': 20,\n",
       " 'current_body': 'S',\n",
       " 'current_body_id': 20,\n",
       " 'title': 'Education finance: education omnibus trailer bill.',\n",
       " 'description': 'An act to amend Sections 69432, 69432.7, 69433.6, 70022, 70023, 79200, 81821, 84321.6, 84750.5, 84751, 87482, 89295, 92493, 92494, 92495, 92495.5, and 92675 of, to amend the heading of Article 5 (commencing with Section 79200) of Chapter 9 of Part 48 of Division 7 of Title 3 of, to add Sections 79204, 79205, 79206, 79207, 79208, 79209, 84750.6, 84754.6, 89712, 90083, 92495.6, and 94102.1 to, to add Article 1.5 (commencing with Section 78220) to Chapter 2 of Part 48 of Division 7 of Title 3 of, to add Article 5 (commencing with Section 89770) to Chapter 6 of Part 55 of Division 8 of Title 3 of, and to add Chapter 15 (commencing with Section 92985) to Part 57 of Division 9 of Title 3 of, the Education Code, to amend Sections 17581.7 and 68926.3 of the Government Code, to amend Section 13146 of the Health and Safety Code, and to amend Sections 10726 and 10742 of the Public Contract Code, relating to postsecondary education, and making an appropriation therefor, to take effect immediately, bill related to the budget.',\n",
       " 'pending_committee_id': 0,\n",
       " 'committee': [],\n",
       " 'referrals': [{'date': '2014-01-09',\n",
       "   'committee_id': 489,\n",
       "   'chamber': 'S',\n",
       "   'chamber_id': 20,\n",
       "   'name': 'Rules'},\n",
       "  {'date': '2014-01-23',\n",
       "   'committee_id': 476,\n",
       "   'chamber': 'S',\n",
       "   'chamber_id': 20,\n",
       "   'name': 'Budget and Fiscal Review'},\n",
       "  {'date': '2014-05-08',\n",
       "   'committee_id': 452,\n",
       "   'chamber': 'A',\n",
       "   'chamber_id': 19,\n",
       "   'name': 'Budget'}],\n",
       " 'history': [{'date': '2014-01-09',\n",
       "   'action': 'Introduced. Read first time. To Com. on RLS. for assignment. To print. ',\n",
       "   'chamber': 'S',\n",
       "   'chamber_id': 20,\n",
       "   'importance': 1},\n",
       "  {'date': '2014-01-10',\n",
       "   'action': 'From printer. May be acted upon on or after February 9.',\n",
       "   'chamber': 'S',\n",
       "   'chamber_id': 20,\n",
       "   'importance': 0},\n",
       "  {'date': '2014-01-23',\n",
       "   'action': 'Referred to Com. on B. & F.R.',\n",
       "   'chamber': 'S',\n",
       "   'chamber_id': 20,\n",
       "   'importance': 1},\n",
       "  {'date': '2014-04-03',\n",
       "   'action': 'Withdrawn from committee. Ordered to second reading.',\n",
       "   'chamber': 'S',\n",
       "   'chamber_id': 20,\n",
       "   'importance': 0},\n",
       "  {'date': '2014-04-07',\n",
       "   'action': 'Read second time. Ordered to third reading.',\n",
       "   'chamber': 'S',\n",
       "   'chamber_id': 20,\n",
       "   'importance': 0},\n",
       "  {'date': '2014-04-10',\n",
       "   'action': 'Read third time. Passed. (Ayes 22. Noes 12. Page 3132.) Ordered to the Assembly.',\n",
       "   'chamber': 'S',\n",
       "   'chamber_id': 20,\n",
       "   'importance': 1},\n",
       "  {'date': '2014-04-10',\n",
       "   'action': 'In Assembly. Read first time. Held at Desk.',\n",
       "   'chamber': 'A',\n",
       "   'chamber_id': 19,\n",
       "   'importance': 0},\n",
       "  {'date': '2014-05-08',\n",
       "   'action': 'Referred to Com. on BUDGET.',\n",
       "   'chamber': 'A',\n",
       "   'chamber_id': 19,\n",
       "   'importance': 1},\n",
       "  {'date': '2014-06-12',\n",
       "   'action': \"From committee with author's amendments. Read second time and amended. Re-referred to Com. on BUDGET.\",\n",
       "   'chamber': 'A',\n",
       "   'chamber_id': 19,\n",
       "   'importance': 1},\n",
       "  {'date': '2014-06-15',\n",
       "   'action': 'Assembly Rule 96 suspended. (Page 5527.) Withdrawn from committee. Ordered to third reading. Assembly Rule 63 suspended. (Page 5527.) Read third time. Passed. (Ayes 65. Noes 8. Page 5531.) Ordered to the Senate.',\n",
       "   'chamber': 'A',\n",
       "   'chamber_id': 19,\n",
       "   'importance': 0},\n",
       "  {'date': '2014-06-15',\n",
       "   'action': 'In Senate. Concurrence in Assembly amendments pending. Assembly amendments concurred in. (Ayes 37. Noes 0. Page 3912.) Ordered to engrossing and enrolling.',\n",
       "   'chamber': 'S',\n",
       "   'chamber_id': 20,\n",
       "   'importance': 1},\n",
       "  {'date': '2014-06-19',\n",
       "   'action': 'Enrolled and presented to the Governor at 1 p.m.',\n",
       "   'chamber': 'S',\n",
       "   'chamber_id': 20,\n",
       "   'importance': 0},\n",
       "  {'date': '2014-06-20',\n",
       "   'action': 'Approved by the Governor.',\n",
       "   'chamber': '',\n",
       "   'chamber_id': 0,\n",
       "   'importance': 0},\n",
       "  {'date': '2014-06-20',\n",
       "   'action': 'Chaptered by Secretary of State. Chapter 34, Statutes of 2014.',\n",
       "   'chamber': '',\n",
       "   'chamber_id': 0,\n",
       "   'importance': 1}],\n",
       " 'sponsors': [],\n",
       " 'sasts': [],\n",
       " 'subjects': [],\n",
       " 'texts': [{'doc_id': 910147,\n",
       "   'date': '2014-01-09',\n",
       "   'type': 'Introduced',\n",
       "   'type_id': 1,\n",
       "   'mime': 'text/html',\n",
       "   'mime_id': 1,\n",
       "   'url': 'https://legiscan.com/CA/text/SB860/id/910147',\n",
       "   'state_link': 'http://www.leginfo.ca.gov/pub/13-14/bill/sen/sb_0851-0900/sb_860_bill_20140109_introduced.html',\n",
       "   'text_size': 752,\n",
       "   'text_hash': 'b267bdb7cce5f9893d9268d2835c473e',\n",
       "   'alt_bill_text': 0,\n",
       "   'alt_mime': '',\n",
       "   'alt_mime_id': 0,\n",
       "   'alt_state_link': '',\n",
       "   'alt_text_size': 0,\n",
       "   'alt_text_hash': ''},\n",
       "  {'doc_id': 1034778,\n",
       "   'date': '2014-06-12',\n",
       "   'type': 'Amended',\n",
       "   'type_id': 3,\n",
       "   'mime': 'text/html',\n",
       "   'mime_id': 1,\n",
       "   'url': 'https://legiscan.com/CA/text/SB860/id/1034778',\n",
       "   'state_link': 'http://www.leginfo.ca.gov/pub/13-14/bill/sen/sb_0851-0900/sb_860_bill_20140612_amended_asm_v98.html',\n",
       "   'text_size': 188785,\n",
       "   'text_hash': '6c4da7999588d7352b3d78d83bf76d3a',\n",
       "   'alt_bill_text': 0,\n",
       "   'alt_mime': '',\n",
       "   'alt_mime_id': 0,\n",
       "   'alt_state_link': '',\n",
       "   'alt_text_size': 0,\n",
       "   'alt_text_hash': ''},\n",
       "  {'doc_id': 1035757,\n",
       "   'date': '2014-06-17',\n",
       "   'type': 'Enrolled',\n",
       "   'type_id': 5,\n",
       "   'mime': 'text/html',\n",
       "   'mime_id': 1,\n",
       "   'url': 'https://legiscan.com/CA/text/SB860/id/1035757',\n",
       "   'state_link': 'http://www.leginfo.ca.gov/pub/13-14/bill/sen/sb_0851-0900/sb_860_bill_20140617_enrolled.html',\n",
       "   'text_size': 172919,\n",
       "   'text_hash': '7acc4fa7dac9acdf5b8de5f0dacab76f',\n",
       "   'alt_bill_text': 0,\n",
       "   'alt_mime': '',\n",
       "   'alt_mime_id': 0,\n",
       "   'alt_state_link': '',\n",
       "   'alt_text_size': 0,\n",
       "   'alt_text_hash': ''},\n",
       "  {'doc_id': 1036939,\n",
       "   'date': '2014-06-20',\n",
       "   'type': 'Chaptered',\n",
       "   'type_id': 6,\n",
       "   'mime': 'text/html',\n",
       "   'mime_id': 1,\n",
       "   'url': 'https://legiscan.com/CA/text/SB860/id/1036939',\n",
       "   'state_link': 'http://www.leginfo.ca.gov/pub/13-14/bill/sen/sb_0851-0900/sb_860_bill_20140620_chaptered.html',\n",
       "   'text_size': 173016,\n",
       "   'text_hash': '102b07e5415a85a22508ea8b655a4f4c',\n",
       "   'alt_bill_text': 0,\n",
       "   'alt_mime': '',\n",
       "   'alt_mime_id': 0,\n",
       "   'alt_state_link': '',\n",
       "   'alt_text_size': 0,\n",
       "   'alt_text_hash': ''}],\n",
       " 'votes': [{'roll_call_id': 355089,\n",
       "   'date': '2014-04-10',\n",
       "   'desc': 'Senate 3rd Reading SB860 Committee on B. & F.R. (Leno)',\n",
       "   'yea': 22,\n",
       "   'nay': 12,\n",
       "   'nv': 6,\n",
       "   'absent': 0,\n",
       "   'total': 40,\n",
       "   'passed': 1,\n",
       "   'chamber': 'S',\n",
       "   'chamber_id': 20,\n",
       "   'url': 'https://legiscan.com/CA/rollcall/SB860/id/355089',\n",
       "   'state_link': 'http://www.leginfo.ca.gov/pub/13-14/bill/sen/sb_0851-0900/sb_860_vote_20140410_1053AM_sen_floor.html'},\n",
       "  {'roll_call_id': 371536,\n",
       "   'date': '2014-06-15',\n",
       "   'desc': 'SB 860 B.& F. R.  Senate Third Reading  By SKINNER',\n",
       "   'yea': 65,\n",
       "   'nay': 8,\n",
       "   'nv': 0,\n",
       "   'absent': 6,\n",
       "   'total': 79,\n",
       "   'passed': 1,\n",
       "   'chamber': 'A',\n",
       "   'chamber_id': 19,\n",
       "   'url': 'https://legiscan.com/CA/rollcall/SB860/id/371536',\n",
       "   'state_link': 'http://www.leginfo.ca.gov/pub/13-14/bill/sen/sb_0851-0900/sb_860_vote_20140615_0537PM_asm_floor.html'},\n",
       "  {'roll_call_id': 371537,\n",
       "   'date': '2014-06-15',\n",
       "   'desc': 'Unfinished Supp 2 SB860 Committee on B. & F.R. (Leno) Concurrence',\n",
       "   'yea': 37,\n",
       "   'nay': 0,\n",
       "   'nv': 3,\n",
       "   'absent': 0,\n",
       "   'total': 40,\n",
       "   'passed': 1,\n",
       "   'chamber': 'S',\n",
       "   'chamber_id': 20,\n",
       "   'url': 'https://legiscan.com/CA/rollcall/SB860/id/371537',\n",
       "   'state_link': 'http://www.leginfo.ca.gov/pub/13-14/bill/sen/sb_0851-0900/sb_860_vote_20140615_0756PM_sen_floor.html'}],\n",
       " 'amendments': [],\n",
       " 'supplements': [],\n",
       " 'calendar': []}"
      ]
     },
     "execution_count": 133,
     "metadata": {},
     "output_type": "execute_result"
    }
   ],
   "source": [
    "aiBills[\"2013-2014\"][\"SB860\"]"
   ]
  },
  {
   "cell_type": "code",
   "execution_count": null,
   "id": "457d1436",
   "metadata": {},
   "outputs": [],
   "source": [
    "webbrowser.open(aiBills[\"2013-2014\"][\"AB1465\"][\"url\"], new=2, autoraise=True)"
   ]
  },
  {
   "cell_type": "code",
   "execution_count": null,
   "id": "3a0b68ef",
   "metadata": {},
   "outputs": [],
   "source": [
    "webbrowser.open(aiBills[\"2013-2014\"][\"AB1465\"][\"state_link\"], new=2, autoraise=True)"
   ]
  },
  {
   "cell_type": "code",
   "execution_count": null,
   "id": "c9d26297",
   "metadata": {},
   "outputs": [],
   "source": [
    "aiBills[\"2013-2014\"][\"AB1465\"][\"progress\"][-1][\"date\"]"
   ]
  },
  {
   "cell_type": "code",
   "execution_count": null,
   "id": "afbcfe91",
   "metadata": {},
   "outputs": [],
   "source": [
    "aiBills[\"2013-2014\"][\"AB1465\"][\"history\"][-1]"
   ]
  },
  {
   "cell_type": "code",
   "execution_count": 44,
   "id": "6eeba298",
   "metadata": {},
   "outputs": [
    {
     "data": {
      "text/plain": [
       "{'Primary Sponsor': ['Ellen Corbett (D, SD10)'],\n",
       " 'Co-Sponsor': ['Joel Anderson (R, SD38)',\n",
       "  'Jim Beall (D, SD15)',\n",
       "  'Marty Block (D, SD39)',\n",
       "  'Anthony Cannella (R, SD12)',\n",
       "  'Lou Correa (D, SD34)',\n",
       "  'Noreen Evans (D, SD02)',\n",
       "  'Cathleen Galgiani (D, SD05)',\n",
       "  'Loni Hancock (D, SD09)',\n",
       "  'Jerry Hill (D, SD13)',\n",
       "  'Ricardo Lara (D, SD33)',\n",
       "  'Ted Lieu (D, SD28)',\n",
       "  'Carol Liu (D, SD25)',\n",
       "  'Jim Nielsen (R, SD04)',\n",
       "  'Richard Roth (D, SD31)',\n",
       "  'Lois Wolk (D, SD03)'],\n",
       " 'Joint Sponsor': ['Nancy Skinner (D, SD09)', 'Marie Waldron (R, AD75)']}"
      ]
     },
     "execution_count": 44,
     "metadata": {},
     "output_type": "execute_result"
    }
   ],
   "source": [
    "legiscan.summarizeBillSponsors(aiBills[\"2013-2014\"][\"SB836\"], output=\"dict\")"
   ]
  },
  {
   "cell_type": "code",
   "execution_count": 68,
   "id": "f84f459d",
   "metadata": {},
   "outputs": [],
   "source": [
    "test = legiscan.summarizeBillSponsors(aiBills[\"2013-2014\"][\"SB860\"], output=\"dict\")"
   ]
  },
  {
   "cell_type": "code",
   "execution_count": 71,
   "id": "f0923600",
   "metadata": {},
   "outputs": [
    {
     "name": "stdout",
     "output_type": "stream",
     "text": [
      "test is empty\n"
     ]
    }
   ],
   "source": [
    "# check if test is empty\n",
    "if not test:\n",
    "    print(\"test is empty\")"
   ]
  },
  {
   "cell_type": "code",
   "execution_count": 45,
   "id": "f68a30a2",
   "metadata": {},
   "outputs": [],
   "source": [
    "test = legiscan.summarizeBillSponsors(aiBills[\"2013-2014\"][\"SB836\"], output=\"dict\")"
   ]
  },
  {
   "cell_type": "code",
   "execution_count": 57,
   "id": "2af090f8",
   "metadata": {},
   "outputs": [
    {
     "data": {
      "text/plain": [
       "'Ellen Corbett (D, SD10)'"
      ]
     },
     "execution_count": 57,
     "metadata": {},
     "output_type": "execute_result"
    }
   ],
   "source": [
    "', '.join(test['Primary Sponsor'])"
   ]
  },
  {
   "cell_type": "code",
   "execution_count": 58,
   "id": "ba31c36f",
   "metadata": {},
   "outputs": [
    {
     "data": {
      "text/plain": [
       "'Joel Anderson (R, SD38), Jim Beall (D, SD15), Marty Block (D, SD39), Anthony Cannella (R, SD12), Lou Correa (D, SD34), Noreen Evans (D, SD02), Cathleen Galgiani (D, SD05), Loni Hancock (D, SD09), Jerry Hill (D, SD13), Ricardo Lara (D, SD33), Ted Lieu (D, SD28), Carol Liu (D, SD25), Jim Nielsen (R, SD04), Richard Roth (D, SD31), Lois Wolk (D, SD03)'"
      ]
     },
     "execution_count": 58,
     "metadata": {},
     "output_type": "execute_result"
    }
   ],
   "source": [
    "', '.join(test['Co-Sponsor'])"
   ]
  },
  {
   "cell_type": "code",
   "execution_count": 59,
   "id": "487f3e5d",
   "metadata": {},
   "outputs": [
    {
     "data": {
      "text/plain": [
       "'Nancy Skinner (D, SD09), Marie Waldron (R, AD75)'"
      ]
     },
     "execution_count": 59,
     "metadata": {},
     "output_type": "execute_result"
    }
   ],
   "source": [
    "', '.join(test['Joint Sponsor'])"
   ]
  },
  {
   "cell_type": "code",
   "execution_count": 178,
   "id": "d6713ec9",
   "metadata": {},
   "outputs": [],
   "source": [
    "test=legiscan.summarizeBillSponsors(aiBills[\"2013-2014\"][\"AB1465\"], output=\"md\")"
   ]
  },
  {
   "cell_type": "code",
   "execution_count": 180,
   "id": "0927a876",
   "metadata": {},
   "outputs": [
    {
     "ename": "KeyError",
     "evalue": "'Co-Sponsor'",
     "output_type": "error",
     "traceback": [
      "\u001b[1;31m---------------------------------------------------------------------------\u001b[0m",
      "\u001b[1;31mKeyError\u001b[0m                                  Traceback (most recent call last)",
      "Cell \u001b[1;32mIn[180], line 6\u001b[0m\n\u001b[0;32m      4\u001b[0m \u001b[38;5;28;01mif\u001b[39;00m \u001b[38;5;129;01mnot\u001b[39;00m test[\u001b[38;5;124m\"\u001b[39m\u001b[38;5;124mPrimary Sponsor\u001b[39m\u001b[38;5;124m\"\u001b[39m]:\n\u001b[0;32m      5\u001b[0m     \u001b[38;5;28mprint\u001b[39m(\u001b[38;5;124m\"\u001b[39m\u001b[38;5;124mtest[\u001b[39m\u001b[38;5;124m'\u001b[39m\u001b[38;5;124mPrimary Sponsor\u001b[39m\u001b[38;5;124m'\u001b[39m\u001b[38;5;124m] is empty\u001b[39m\u001b[38;5;124m\"\u001b[39m)\n\u001b[1;32m----> 6\u001b[0m \u001b[38;5;28;01mif\u001b[39;00m \u001b[38;5;129;01mnot\u001b[39;00m \u001b[43mtest\u001b[49m\u001b[43m[\u001b[49m\u001b[38;5;124;43m\"\u001b[39;49m\u001b[38;5;124;43mCo-Sponsor\u001b[39;49m\u001b[38;5;124;43m\"\u001b[39;49m\u001b[43m]\u001b[49m:\n\u001b[0;32m      7\u001b[0m     \u001b[38;5;28mprint\u001b[39m(\u001b[38;5;124m\"\u001b[39m\u001b[38;5;124mtest[\u001b[39m\u001b[38;5;124m'\u001b[39m\u001b[38;5;124mCo-Sponsor\u001b[39m\u001b[38;5;124m'\u001b[39m\u001b[38;5;124m] is empty\u001b[39m\u001b[38;5;124m\"\u001b[39m)\n\u001b[0;32m      8\u001b[0m \u001b[38;5;28;01mif\u001b[39;00m \u001b[38;5;129;01mnot\u001b[39;00m test[\u001b[38;5;124m\"\u001b[39m\u001b[38;5;124mJoint Sponsor\u001b[39m\u001b[38;5;124m\"\u001b[39m]:\n",
      "\u001b[1;31mKeyError\u001b[0m: 'Co-Sponsor'"
     ]
    }
   ],
   "source": [
    "if not test:\n",
    "    print(\"test is empty\")\n",
    "else:\n",
    "    if not test[\"Primary Sponsor\"]:\n",
    "        print(\"test['Primary Sponsor'] is empty\")\n",
    "    if not test[\"Co-Sponsor\"]:\n",
    "        print(\"test['Co-Sponsor'] is empty\")\n",
    "    if not test[\"Joint Sponsor\"]:\n",
    "        print(\"test['Joint Sponsor'] is empty\")"
   ]
  },
  {
   "cell_type": "code",
   "execution_count": 42,
   "id": "0bfd0a09",
   "metadata": {},
   "outputs": [
    {
     "name": "stdout",
     "output_type": "stream",
     "text": [
      "- Primary Sponsor(s): [Ellen Corbett (D, SD10)](https://ballotpedia.org/Ellen_Corbett)\n",
      "- Co-Sponsor(s): [Joel Anderson (R, SD38)](https://ballotpedia.org/Joel_Anderson_(California)), [Jim Beall (D, SD15)](https://ballotpedia.org/James_Beall_Jr.), [Marty Block (D, SD39)](https://ballotpedia.org/Martin_Block), [Anthony Cannella (R, SD12)](https://ballotpedia.org/Anthony_Cannella), [Lou Correa (D, SD34)](https://ballotpedia.org/Lou_Correa), [Noreen Evans (D, SD02)](https://ballotpedia.org/Noreen_Evans), [Cathleen Galgiani (D, SD05)](https://ballotpedia.org/Cathleen_Galgiani), [Loni Hancock (D, SD09)](https://ballotpedia.org/Loni_Hancock), [Jerry Hill (D, SD13)](https://ballotpedia.org/Gerald_Hill), [Ricardo Lara (D, SD33)](https://ballotpedia.org/Ricardo_Lara), [Ted Lieu (D, SD28)](https://ballotpedia.org/Ted_Lieu), [Carol Liu (D, SD25)](https://ballotpedia.org/Carol_Liu), [Jim Nielsen (R, SD04)](https://ballotpedia.org/Jim_Nielsen), [Richard Roth (D, SD31)](https://ballotpedia.org/Richard_Roth), [Lois Wolk (D, SD03)](https://ballotpedia.org/Lois_Wolk)\n",
      "- Joint Sponsor(s): [Nancy Skinner (D, SD09)](https://ballotpedia.org/Nancy_Skinner_(California)), [Marie Waldron (R, AD75)](https://ballotpedia.org/Marie_Waldron)\n"
     ]
    },
    {
     "data": {
      "text/plain": [
       "{'Primary Sponsor': '[Ellen Corbett (D, SD10)](https://ballotpedia.org/Ellen_Corbett)',\n",
       " 'Co-Sponsor': '[Joel Anderson (R, SD38)](https://ballotpedia.org/Joel_Anderson_(California)), [Jim Beall (D, SD15)](https://ballotpedia.org/James_Beall_Jr.), [Marty Block (D, SD39)](https://ballotpedia.org/Martin_Block), [Anthony Cannella (R, SD12)](https://ballotpedia.org/Anthony_Cannella), [Lou Correa (D, SD34)](https://ballotpedia.org/Lou_Correa), [Noreen Evans (D, SD02)](https://ballotpedia.org/Noreen_Evans), [Cathleen Galgiani (D, SD05)](https://ballotpedia.org/Cathleen_Galgiani), [Loni Hancock (D, SD09)](https://ballotpedia.org/Loni_Hancock), [Jerry Hill (D, SD13)](https://ballotpedia.org/Gerald_Hill), [Ricardo Lara (D, SD33)](https://ballotpedia.org/Ricardo_Lara), [Ted Lieu (D, SD28)](https://ballotpedia.org/Ted_Lieu), [Carol Liu (D, SD25)](https://ballotpedia.org/Carol_Liu), [Jim Nielsen (R, SD04)](https://ballotpedia.org/Jim_Nielsen), [Richard Roth (D, SD31)](https://ballotpedia.org/Richard_Roth), [Lois Wolk (D, SD03)](https://ballotpedia.org/Lois_Wolk)',\n",
       " 'Joint Sponsor': '[Nancy Skinner (D, SD09)](https://ballotpedia.org/Nancy_Skinner_(California)), [Marie Waldron (R, AD75)](https://ballotpedia.org/Marie_Waldron)'}"
      ]
     },
     "execution_count": 42,
     "metadata": {},
     "output_type": "execute_result"
    }
   ],
   "source": [
    "legiscan.summarizeBillSponsors(aiBills[\"2013-2014\"][\"SB836\"], output=\"md\")"
   ]
  },
  {
   "cell_type": "markdown",
   "id": "679807d4",
   "metadata": {},
   "source": [
    "- Primary Sponsor(s): [Ellen Corbett (D, SD10)](https://ballotpedia.org/Ellen_Corbett)\n",
    "- Co-Sponsor(s): [Joel Anderson (R, SD38)](https://ballotpedia.org/Joel_Anderson_(California)), [Jim Beall (D, SD15)](https://ballotpedia.org/James_Beall_Jr.), [Marty Block (D, SD39)](https://ballotpedia.org/Martin_Block), [Anthony Cannella (R, SD12)](https://ballotpedia.org/Anthony_Cannella), [Lou Correa (D, SD34)](https://ballotpedia.org/Lou_Correa), [Noreen Evans (D, SD02)](https://ballotpedia.org/Noreen_Evans), [Cathleen Galgiani (D, SD05)](https://ballotpedia.org/Cathleen_Galgiani), [Loni Hancock (D, SD09)](https://ballotpedia.org/Loni_Hancock), [Jerry Hill (D, SD13)](https://ballotpedia.org/Gerald_Hill), [Ricardo Lara (D, SD33)](https://ballotpedia.org/Ricardo_Lara), [Ted Lieu (D, SD28)](https://ballotpedia.org/Ted_Lieu), [Carol Liu (D, SD25)](https://ballotpedia.org/Carol_Liu), [Jim Nielsen (R, SD04)](https://ballotpedia.org/Jim_Nielsen), [Richard Roth (D, SD31)](https://ballotpedia.org/Richard_Roth), [Lois Wolk (D, SD03)](https://ballotpedia.org/Lois_Wolk)\n",
    "- Joint Sponsor(s): [Nancy Skinner (D, SD09)](https://ballotpedia.org/Nancy_Skinner_(California)), [Marie Waldron (R, AD75)](https://ballotpedia.org/Marie_Waldron)"
   ]
  },
  {
   "cell_type": "code",
   "execution_count": 167,
   "id": "1e3a8a02",
   "metadata": {},
   "outputs": [],
   "source": [
    "test = legiscan.summarizeBillSponsors(aiBills[\"2013-2014\"][\"SB836\"], output=\"md\")"
   ]
  },
  {
   "cell_type": "code",
   "execution_count": 168,
   "id": "7b8671fc",
   "metadata": {},
   "outputs": [
    {
     "data": {
      "text/plain": [
       "'[Ellen Corbett (D, SD10)](https://ballotpedia.org/Ellen_Corbett)'"
      ]
     },
     "execution_count": 168,
     "metadata": {},
     "output_type": "execute_result"
    }
   ],
   "source": [
    "test[\"Primary Sponsor\"]"
   ]
  },
  {
   "cell_type": "code",
   "execution_count": null,
   "id": "c6848308",
   "metadata": {},
   "outputs": [],
   "source": [
    "myBill = aiBills[\"2013-2014\"][\"SB836\"]"
   ]
  },
  {
   "cell_type": "code",
   "execution_count": null,
   "id": "574cd30f",
   "metadata": {},
   "outputs": [],
   "source": [
    "myBillDocId = myBill[\"texts\"][-1][\"doc_id\"]"
   ]
  },
  {
   "cell_type": "code",
   "execution_count": null,
   "id": "cf42c63a",
   "metadata": {},
   "outputs": [],
   "source": [
    "myBillText =legiscan.getBillText(myBillDocId)"
   ]
  },
  {
   "cell_type": "code",
   "execution_count": 229,
   "id": "11e5e6f7",
   "metadata": {},
   "outputs": [],
   "source": [
    "samplePath = r\"C:\\Users\\ktale\\Knowledge Management\\Policy and Governance\\Legislation\\Labor Bills\\2025-2026\\AB-21.md\""
   ]
  },
  {
   "cell_type": "code",
   "execution_count": 238,
   "id": "cb65ce76",
   "metadata": {},
   "outputs": [],
   "source": [
    "\n",
    "analyzer = MarkdownAnalyzer(samplePath)\n",
    "\n",
    "headers = analyzer.identify_headers()\n",
    "paragraphs = analyzer.identify_paragraphs()\n",
    "blockquotes = analyzer.identify_blockquotes()\n",
    "links = analyzer.identify_links()\n",
    "codeBlocks = analyzer.identify_code_blocks()"
   ]
  },
  {
   "cell_type": "code",
   "execution_count": null,
   "id": "1879efa1",
   "metadata": {},
   "outputs": [
    {
     "name": "stdout",
     "output_type": "stream",
     "text": [
      "{'headers': 7, 'paragraphs': 10, 'blockquotes': 5, 'code_blocks': 0, 'ordered_lists': 0, 'unordered_lists': 0, 'tables': 0, 'html_blocks': 1, 'html_inline_count': 0, 'words': 799, 'characters': 7241}\n"
     ]
    }
   ],
   "source": [
    "analysis = analyzer.analyse()\n",
    "\n",
    "print(analysis)"
   ]
  },
  {
   "cell_type": "code",
   "execution_count": 231,
   "id": "1333511a",
   "metadata": {},
   "outputs": [
    {
     "data": {
      "text/plain": [
       "{'Header': [{'line': 58,\n",
       "   'level': 2,\n",
       "   'text': 'AB-21 Taxpayer Protection Act of 2025'},\n",
       "  {'line': 120, 'level': 2, 'text': 'Webpage'},\n",
       "  {'line': 125, 'level': 2, 'text': 'Self Notes'},\n",
       "  {'line': 131, 'level': 2, 'text': 'OCEA Legislative Committee Notes'},\n",
       "  {'line': 132, 'level': 3, 'text': 'OCEA LC Meeting: 25/02'},\n",
       "  {'line': 138, 'level': 3, 'text': 'OCEA LC Meeting: 25/03'},\n",
       "  {'line': 144, 'level': 2, 'text': 'Reading notes'}]}"
      ]
     },
     "execution_count": 231,
     "metadata": {},
     "output_type": "execute_result"
    }
   ],
   "source": [
    "headers"
   ]
  },
  {
   "cell_type": "code",
   "execution_count": 232,
   "id": "4667d7a4",
   "metadata": {},
   "outputs": [
    {
     "data": {
      "text/plain": [
       "{'Paragraph': ['The California Constitution also provides that all taxes imposed by a local government are either general taxes or special taxes, as defined, and requires that taxes imposed, extended, or increased by a local government be submitted to the electorate and approved by a majority vote, in the case of general taxes, or a 2/3 vote, in the case of special taxes.\\nExisting law imposes specified requirements on state and local ballots, including, among other things, on the contents of the ballot label, ballot title, and summary.\\nThis bill would declare the intent of the Legislature to enact a constitutional amendment to limit the ability of state and local governments to raise taxes, restore a 2/3 vote requirement on local special tax increases, impose voter approval requirements on specific categories of new taxes, and regulate the titles on state and local ballot measures relating to tax increases.',\n",
       "  '%% begin notes %%',\n",
       "  '%% end notes %%',\n",
       "  '**Discussion:**',\n",
       "  '**Disposition:**',\n",
       "  '**Discussion:**',\n",
       "  '**Disposition:**',\n",
       "  '%% begin annotations %%',\n",
       "  '%% end annotations %%',\n",
       "  '%% Import Date: 2025-03-23T20:17:28.971-07:00 %%']}"
      ]
     },
     "execution_count": 232,
     "metadata": {},
     "output_type": "execute_result"
    }
   ],
   "source": [
    "paragraphs"
   ]
  },
  {
   "cell_type": "code",
   "execution_count": 233,
   "id": "dbd793cd",
   "metadata": {},
   "outputs": [
    {
     "data": {
      "text/plain": [
       "{'Text link': [{'line': 60,\n",
       "   'text': 'Zotero URI',\n",
       "   'url': 'https://zotero.org/groups/5920243/items/QJI3JVD8'},\n",
       "  {'line': 60,\n",
       "   'text': 'PDF',\n",
       "   'url': 'zotero://select/groups/5920243/items/3YVM7HR6'},\n",
       "  {'line': 60,\n",
       "   'text': 'Full Text',\n",
       "   'url': 'https://leginfo.legislature.ca.gov/faces/billTextClient.xhtml?bill_id=202520260AB21'},\n",
       "  {'line': 60,\n",
       "   'text': 'History',\n",
       "   'url': 'https://leginfo.legislature.ca.gov/faces/billHistoryClient.xhtml?bill_id=202520260AB21'},\n",
       "  {'line': 60,\n",
       "   'text': 'Status',\n",
       "   'url': 'https://leginfo.legislature.ca.gov/faces/billStatusClient.xhtml?bill_id=202520260AB21'},\n",
       "  {'line': 60,\n",
       "   'text': 'Sponsor',\n",
       "   'url': 'https://ballotpedia.org/Carl_DeMaio'},\n",
       "  {'line': 108,\n",
       "   'text': 'https://leginfo.legislature.ca.gov/faces/billTextClient.xhtml?bill_id=202520260AB21',\n",
       "   'url': 'https://leginfo.legislature.ca.gov/faces/billTextClient.xhtml?bill_id=202520260AB21'}]}"
      ]
     },
     "execution_count": 233,
     "metadata": {},
     "output_type": "execute_result"
    }
   ],
   "source": [
    "links"
   ]
  },
  {
   "cell_type": "code",
   "execution_count": null,
   "id": "e5157eb1",
   "metadata": {},
   "outputs": [],
   "source": [
    "import io\n",
    "import pypandoc\n",
    "import panflute\n",
    "\n",
    "def action(elem, doc):\n",
    "    if isinstance(elem, panflute.Image):\n",
    "        doc.images.append(elem)\n",
    "    elif isinstance(elem, panflute.Link):\n",
    "        doc.links.append(elem)\n",
    "\n",
    "if __name__ == '__main__':\n",
    "    data = pypandoc.convert_file('example.md', 'json')\n",
    "    doc = panflute.load(io.StringIO(data))\n",
    "    doc.images = []\n",
    "    doc.links = []\n",
    "    doc = panflute.run_filter(action, prepare=prepare, doc=doc)\n",
    "\n",
    "    print(\"\\nList of image URLs:\")\n",
    "    for image in doc.images:\n",
    "        print(image.url)"
   ]
  },
  {
   "cell_type": "code",
   "execution_count": 249,
   "id": "99d886ec",
   "metadata": {},
   "outputs": [],
   "source": [
    "# Directory for the markdown notes\n",
    "mdNotesPath = os.path.join(prjDirs[\"pathScriptsMd\"], \"notes\")\n",
    "\n",
    "for key in aiBills.keys():\n",
    "    # check if a directory exists for the bill period\n",
    "    if not os.path.exists(os.path.join(mdNotesPath, key)):\n",
    "        # create the directory\n",
    "        os.makedirs(os.path.join(mdNotesPath, key))\n",
    "    for billId in aiBills[key].keys():\n",
    "        # Check if the bill has a markdown file\n",
    "        if not os.path.exists(os.path.join(mdNotesPath, key, f\"{billId}.md\")):\n",
    "            # Create the markdown file\n",
    "            with open(os.path.join(mdNotesPath, key, f\"{billId}.md\"), 'w') as mdFile:\n",
    "                # Write the bill information to the markdown file\n",
    "                mdFile.write(f\"## {billId} AI Notes\\n\\n\")\n",
    "        # othewise replace the file with the new one\n",
    "        else:\n",
    "            # Replace the markdown file with the new one\n",
    "            with open(os.path.join(mdNotesPath, key, f\"{billId}.md\"), 'w') as mdFile:\n",
    "                # Write the bill information to the markdown file\n",
    "                mdFile.write(f\"## {billId} AI Notes\\n\\n\")\n"
   ]
  },
  {
   "cell_type": "code",
   "execution_count": 253,
   "id": "273a6c25",
   "metadata": {},
   "outputs": [],
   "source": [
    "testPath = os.path.join(prjDirs[\"pathScriptsMd\"], \"notes\", \"2013-2014\", \"AB1465.md\")\n",
    "\n",
    "with open(testPath, 'r') as src:\n",
    "        testNotes = src.read()\n"
   ]
  },
  {
   "cell_type": "code",
   "execution_count": 259,
   "id": "252d1095",
   "metadata": {},
   "outputs": [
    {
     "data": {
      "text/plain": [
       "'## AB1465 AI Notes\\n\\nTest AI notes for AB1465. \\n\\n\\n## AB1465 LC Notes\\n\\n### OCEA-LC-25-02\\n\\nNotes for February 2025 OCEA Legislative Committee meeting.\\n- Notes here.\\n'"
      ]
     },
     "execution_count": 259,
     "metadata": {},
     "output_type": "execute_result"
    }
   ],
   "source": [
    "testNotes"
   ]
  },
  {
   "cell_type": "code",
   "execution_count": 262,
   "id": "7c0a495d",
   "metadata": {},
   "outputs": [
    {
     "data": {
      "text/plain": [
       "'\\n\\n### OCEA-LC-25-02\\n\\nNotes for February 2025 OCEA Legislative Committee meeting.\\n- Notes here.\\n'"
      ]
     },
     "execution_count": 262,
     "metadata": {},
     "output_type": "execute_result"
    }
   ],
   "source": [
    "# Read the testPath markdown file, and find the section \"## AI Notes\"\n",
    "testNotes.split(\"\\n## AB1465 LC Notes\")[1]"
   ]
  },
  {
   "cell_type": "code",
   "execution_count": 309,
   "id": "07364892",
   "metadata": {},
   "outputs": [],
   "source": [
    "with open(testPath, 'r') as src:\n",
    "    lines = src.readlines()\n",
    "    section = aiNotes = lcNotes = \"\"\n",
    "    for i, line in enumerate(lines):\n",
    "        if line.startswith(\"## AB1465 AI Notes\"):\n",
    "            section = \"AI\"\n",
    "            #print(f\"Found AI Notes at line {i}\")\n",
    "        elif line.startswith(\"## AB1465 LC Notes\"):\n",
    "            section = \"LC\"\n",
    "            #print(f\"Found LC Notes at line {i}\")\n",
    "        if section == \"AI\":\n",
    "            aiNotes += line\n",
    "        elif section == \"LC\":\n",
    "            lcNotes += line\n"
   ]
  },
  {
   "cell_type": "code",
   "execution_count": null,
   "id": "e79fc0e5",
   "metadata": {},
   "outputs": [],
   "source": []
  }
 ],
 "metadata": {
  "kernelspec": {
   "display_name": "drkPy",
   "language": "python",
   "name": "python3"
  },
  "language_info": {
   "codemirror_mode": {
    "name": "ipython",
    "version": 3
   },
   "file_extension": ".py",
   "mimetype": "text/x-python",
   "name": "python",
   "nbconvert_exporter": "python",
   "pygments_lexer": "ipython3",
   "version": "3.11.11"
  }
 },
 "nbformat": 4,
 "nbformat_minor": 5
}
