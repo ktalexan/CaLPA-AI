{
 "cells": [
  {
   "cell_type": "markdown",
   "id": "eab3bc86",
   "metadata": {},
   "source": [
    "# CaLPA Scratch Folder"
   ]
  },
  {
   "cell_type": "markdown",
   "id": "57e5ba04",
   "metadata": {},
   "source": [
    "This is a scratch notebook used to test the code and functionality of the AI California Legislative Policy Analysis (CALPA) system. It is not intended for production use and may contain incomplete or experimental code. The purpose of this notebook is to facilitate the development and testing of the CALPA system, including its data processing, analysis, and visualization components. The notebook may include code snippets, comments, and notes related to the development process. Please refer to the official documentation and user guides for the CALPA system for more information on its usage and features."
   ]
  },
  {
   "cell_type": "code",
   "execution_count": null,
   "id": "f176218c",
   "metadata": {},
   "outputs": [],
   "source": [
    "# %reset"
   ]
  },
  {
   "cell_type": "markdown",
   "id": "d36f40d4",
   "metadata": {},
   "source": [
    "## Initialization"
   ]
  },
  {
   "cell_type": "code",
   "execution_count": null,
   "id": "54fee68e",
   "metadata": {},
   "outputs": [],
   "source": [
    "# Import required libraries\n",
    "import os\n",
    "import time\n",
    "from datetime import date\n",
    "from datetime import datetime\n",
    "import json\n",
    "import mimetypes\n",
    "import glob\n",
    "import base64\n",
    "import zipfile\n",
    "import io\n",
    "import dotenv\n",
    "import requests\n",
    "import pandas as pd\n",
    "import feedparser\n",
    "import webbrowser"
   ]
  },
  {
   "cell_type": "code",
   "execution_count": 2,
   "id": "4b3d7fc8",
   "metadata": {},
   "outputs": [
    {
     "name": "stdout",
     "output_type": "stream",
     "text": [
      "Project Global Settings:\n",
      "- Name: California Legislative Policy Analysis\n",
      "- Title: AI Legislative Policy Analysis\n",
      "- Version: 1.0\n",
      "- Author: Dr. Kostas Alexandridis, GISP\n",
      "Data Dates\n",
      "- Start Date: 2010-12-02\n",
      "- End Date: 2025-04-20\n",
      "- Periods: 2009-2010, 2011-2012, 2013-2014, 2015-2016, 2017-2018, 2019-2020, 2021-2022, 2023-2024, 2025-2026\n",
      "Directory Global Settings:\n",
      "\n",
      "General:\n",
      "- Project: c:\\Users\\ktale\\OneDrive\\Documents\\GitHub\\CaLPA\n",
      "- Admin: c:\\Users\\ktale\\OneDrive\\Documents\\GitHub\\CaLPA\\admin\n",
      "- Metadata: c:\\Users\\ktale\\OneDrive\\Documents\\GitHub\\CaLPA\\metadata\n",
      "- Analysis: c:\\Users\\ktale\\OneDrive\\Documents\\GitHub\\CaLPA\\analysis\n",
      "Scripts:\n",
      "- Python Calpa Module: c:\\Users\\ktale\\OneDrive\\Documents\\GitHub\\CaLPA\\calpa\n",
      "- Markdown Scripts: c:\\Users\\ktale\\OneDrive\\Documents\\GitHub\\CaLPA\\markdown\n",
      "- RIS Scripts: c:\\Users\\ktale\\OneDrive\\Documents\\GitHub\\CaLPA\\ris\n",
      "Data:\n",
      "- Main Data: c:\\Users\\ktale\\OneDrive\\Documents\\GitHub\\CaLPA\\data\n",
      "- Documents: c:\\Users\\ktale\\OneDrive\\Documents\\GitHub\\CaLPA\\data\\docs\n",
      "- LegiScan: c:\\Users\\ktale\\OneDrive\\Documents\\GitHub\\CaLPA\\data\\legis\n",
      "- LookUp: c:\\Users\\ktale\\OneDrive\\Documents\\GitHub\\CaLPA\\data\\lookup\n",
      "- Markdown: c:\\Users\\ktale\\OneDrive\\Documents\\GitHub\\CaLPA\\data\\md\n",
      "- RIS: c:\\Users\\ktale\\OneDrive\\Documents\\GitHub\\CaLPA\\data\\bbl\n",
      "Graphics:\n",
      "- Main Graphics: c:\\Users\\ktale\\OneDrive\\Documents\\GitHub\\CaLPA\\graphics\n",
      "- Figures: c:\\Users\\ktale\\OneDrive\\Documents\\GitHub\\CaLPA\\graphics\\figs\n",
      "- Presentations: c:\\Users\\ktale\\OneDrive\\Documents\\GitHub\\CaLPA\\graphics\\visual\n"
     ]
    }
   ],
   "source": [
    "# Load the Calpa module located in the scripts/python/calpa directory\n",
    "from calpa import Calpa, LegiScan\n",
    "\n",
    "# Load environment variables from .env file\n",
    "dotenv.load_dotenv(os.path.join(os.getcwd(), '.env'))\n",
    "\n",
    "# Instantiate the LegiScan and Calpa classes\n",
    "calpa = Calpa()\n",
    "legiscan = LegiScan()\n",
    "\n",
    "# Create project metadata for the AI project\n",
    "prjMetadata = calpa.projectMetadata(\"AI\", \"0\")\n",
    "\n",
    "# Create the project directories dictionary\n",
    "prjDirs = calpa.projectDirectories(os.getcwd())"
   ]
  },
  {
   "cell_type": "code",
   "execution_count": 3,
   "id": "ecd5d2ba",
   "metadata": {},
   "outputs": [],
   "source": [
    "# Load the getBillCodebook pickle file from the data/lookup directory\n",
    "getBillCodebook = pd.read_pickle(os.path.join(prjDirs[\"pathDataLookup\"], \"getBillCodebook.pkl\"))\n",
    "\n",
    "# Load the getRollCallCodebook pickle file from the data/lookup directory\n",
    "getRollCallCodebook = pd.read_pickle(os.path.join(prjDirs[\"pathDataLookup\"], \"getRollCallCodebook.pkl\"))\n",
    "\n",
    "# Load the getBillTextCodebook pickle file from the data/lookup directory\n",
    "getBillTextCodebook = pd.read_pickle(os.path.join(prjDirs[\"pathDataLookup\"], \"getBillTextCodebook.pkl\"))\n",
    "\n",
    "# Load the getAmendmentCodebook pickle file from the data/lookup directory\n",
    "getAmendmentCodebook = pd.read_pickle(os.path.join(prjDirs[\"pathDataLookup\"], \"getAmendmentCodebook.pkl\"))\n",
    "\n",
    "# Load the getSupplementCodebook pickle file from the data/lookup directory\n",
    "getSupplementCodebook = pd.read_pickle(os.path.join(prjDirs[\"pathDataLookup\"], \"getSupplementCodebook.pkl\"))\n",
    "\n",
    "# Load the getPersonCodebook pickle file from the data/lookup directory\n",
    "getPersonCodebook = pd.read_pickle(os.path.join(prjDirs[\"pathDataLookup\"], \"getPersonCodebook.pkl\"))\n",
    "\n",
    "# Load the getSessionListCodebook pickle file from the data/lookup directory\n",
    "getSessionListCodebook = pd.read_pickle(os.path.join(prjDirs[\"pathDataLookup\"], \"getSessionListCodebook.pkl\"))"
   ]
  },
  {
   "cell_type": "code",
   "execution_count": null,
   "id": "e8d02a07",
   "metadata": {},
   "outputs": [],
   "source": [
    "# Obtain the stored sessions list from JSON dictionary on disk (data/lookup directory)\n",
    "sessionListStored = legiscan.getStoredData(dataType = \"session\")\n",
    "\n",
    "# Obtain the stored session People list from JSON dictionary on disk (data/lookup directory)\n",
    "sessionPeopleStored = legiscan.getStoredData(dataType = \"people\")\n",
    "\n",
    "# Obtain the stored dataset list from JSON dictionary on disk (data/lookup directory)\n",
    "datasetListStored = legiscan.getStoredData(dataType = \"dataset\")\n",
    "\n",
    "# Get the stored raw master list from JSON dictionary on disk (data/lookup directory)\n",
    "masterListRawStored = legiscan.getStoredData(dataType = \"master\", raw = True)\n",
    "# Get the stored master list from JSON dictionary on disk (data/lookup directory)\n",
    "masterListStored = legiscan.getStoredData(dataType = \"master\", raw = False)\n",
    "\n",
    "# Get the AI monitoring list from disk (data/lookup directory)\n",
    "aiBillListStored = legiscan.getStoredData(dataType = \"bills\", project = \"AI\")\n",
    "\n",
    "# Get the AI full list of bills from dism (data/legis/json directory)\n",
    "aiBills = legiscan.getStoredData(dataType = \"data\", project = \"AI\")"
   ]
  },
  {
   "cell_type": "code",
   "execution_count": 5,
   "id": "457d1436",
   "metadata": {},
   "outputs": [
    {
     "data": {
      "text/plain": [
       "True"
      ]
     },
     "execution_count": 5,
     "metadata": {},
     "output_type": "execute_result"
    }
   ],
   "source": [
    "webbrowser.open(aiBills[\"2013-2014\"][\"AB1465\"][\"url\"], new=2, autoraise=True)"
   ]
  },
  {
   "cell_type": "code",
   "execution_count": 16,
   "id": "3a0b68ef",
   "metadata": {},
   "outputs": [
    {
     "data": {
      "text/plain": [
       "True"
      ]
     },
     "execution_count": 16,
     "metadata": {},
     "output_type": "execute_result"
    }
   ],
   "source": [
    "webbrowser.open(aiBills[\"2013-2014\"][\"AB1465\"][\"state_link\"], new=2, autoraise=True)"
   ]
  },
  {
   "cell_type": "code",
   "execution_count": 6,
   "id": "c9d26297",
   "metadata": {},
   "outputs": [
    {
     "data": {
      "text/plain": [
       "'2014-06-15'"
      ]
     },
     "execution_count": 6,
     "metadata": {},
     "output_type": "execute_result"
    }
   ],
   "source": [
    "aiBills[\"2013-2014\"][\"AB1465\"][\"progress\"][-1][\"date\"]"
   ]
  },
  {
   "cell_type": "code",
   "execution_count": 22,
   "id": "afbcfe91",
   "metadata": {},
   "outputs": [
    {
     "data": {
      "text/plain": [
       "{'date': '2014-06-26',\n",
       " 'action': 'Ordered to inactive file at the request of Senator Corbett.',\n",
       " 'chamber': 'S',\n",
       " 'chamber_id': 20,\n",
       " 'importance': 0}"
      ]
     },
     "execution_count": 22,
     "metadata": {},
     "output_type": "execute_result"
    }
   ],
   "source": [
    "aiBills[\"2013-2014\"][\"AB1465\"][\"history\"][-1]"
   ]
  },
  {
   "cell_type": "code",
   "execution_count": 7,
   "id": "6eeba298",
   "metadata": {},
   "outputs": [
    {
     "data": {
      "text/plain": [
       "{'Primary Sponsor': ['Ellen Corbett (D, SD10)'],\n",
       " 'Co-Sponsor': ['Joel Anderson (R, SD38)',\n",
       "  'Jim Beall (D, SD15)',\n",
       "  'Marty Block (D, SD39)',\n",
       "  'Anthony Cannella (R, SD12)',\n",
       "  'Lou Correa (D, SD34)',\n",
       "  'Noreen Evans (D, SD02)',\n",
       "  'Cathleen Galgiani (D, SD05)',\n",
       "  'Loni Hancock (D, SD09)',\n",
       "  'Jerry Hill (D, SD13)',\n",
       "  'Ricardo Lara (D, SD33)',\n",
       "  'Ted Lieu (D, SD28)',\n",
       "  'Carol Liu (D, SD25)',\n",
       "  'Jim Nielsen (R, SD04)',\n",
       "  'Richard Roth (D, SD31)',\n",
       "  'Lois Wolk (D, SD03)'],\n",
       " 'Joint Sponsor': ['Nancy Skinner (D, SD09)', 'Marie Waldron (R, AD75)']}"
      ]
     },
     "execution_count": 7,
     "metadata": {},
     "output_type": "execute_result"
    }
   ],
   "source": [
    "legiscan.summarizeBillSponsors(aiBills[\"2013-2014\"][\"SB836\"], output=\"dict\")"
   ]
  },
  {
   "cell_type": "code",
   "execution_count": 26,
   "id": "0bfd0a09",
   "metadata": {},
   "outputs": [
    {
     "name": "stdout",
     "output_type": "stream",
     "text": [
      "- Primary Sponsor(s): [Ellen Corbett (D, SD10)](https://ballotpedia.org/Ellen_Corbett)\n",
      "- Co-Sponsor(s): [Joel Anderson (R, SD38)](https://ballotpedia.org/Joel_Anderson_(California)), [Jim Beall (D, SD15)](https://ballotpedia.org/James_Beall_Jr.), [Marty Block (D, SD39)](https://ballotpedia.org/Martin_Block), [Anthony Cannella (R, SD12)](https://ballotpedia.org/Anthony_Cannella), [Lou Correa (D, SD34)](https://ballotpedia.org/Lou_Correa), [Noreen Evans (D, SD02)](https://ballotpedia.org/Noreen_Evans), [Cathleen Galgiani (D, SD05)](https://ballotpedia.org/Cathleen_Galgiani), [Loni Hancock (D, SD09)](https://ballotpedia.org/Loni_Hancock), [Jerry Hill (D, SD13)](https://ballotpedia.org/Gerald_Hill), [Ricardo Lara (D, SD33)](https://ballotpedia.org/Ricardo_Lara), [Ted Lieu (D, SD28)](https://ballotpedia.org/Ted_Lieu), [Carol Liu (D, SD25)](https://ballotpedia.org/Carol_Liu), [Jim Nielsen (R, SD04)](https://ballotpedia.org/Jim_Nielsen), [Richard Roth (D, SD31)](https://ballotpedia.org/Richard_Roth), [Lois Wolk (D, SD03)](https://ballotpedia.org/Lois_Wolk)\n",
      "- Joint Sponsor(s): [Nancy Skinner (D, SD09)](https://ballotpedia.org/Nancy_Skinner_(California)), [Marie Waldron (R, AD75)](https://ballotpedia.org/Marie_Waldron)\n"
     ]
    },
    {
     "data": {
      "text/plain": [
       "{'Primary Sponsor': '[Ellen Corbett (D, SD10)](https://ballotpedia.org/Ellen_Corbett)',\n",
       " 'Co-Sponsor': '[Joel Anderson (R, SD38)](https://ballotpedia.org/Joel_Anderson_(California)), [Jim Beall (D, SD15)](https://ballotpedia.org/James_Beall_Jr.), [Marty Block (D, SD39)](https://ballotpedia.org/Martin_Block), [Anthony Cannella (R, SD12)](https://ballotpedia.org/Anthony_Cannella), [Lou Correa (D, SD34)](https://ballotpedia.org/Lou_Correa), [Noreen Evans (D, SD02)](https://ballotpedia.org/Noreen_Evans), [Cathleen Galgiani (D, SD05)](https://ballotpedia.org/Cathleen_Galgiani), [Loni Hancock (D, SD09)](https://ballotpedia.org/Loni_Hancock), [Jerry Hill (D, SD13)](https://ballotpedia.org/Gerald_Hill), [Ricardo Lara (D, SD33)](https://ballotpedia.org/Ricardo_Lara), [Ted Lieu (D, SD28)](https://ballotpedia.org/Ted_Lieu), [Carol Liu (D, SD25)](https://ballotpedia.org/Carol_Liu), [Jim Nielsen (R, SD04)](https://ballotpedia.org/Jim_Nielsen), [Richard Roth (D, SD31)](https://ballotpedia.org/Richard_Roth), [Lois Wolk (D, SD03)](https://ballotpedia.org/Lois_Wolk)',\n",
       " 'Joint Sponsor': '[Nancy Skinner (D, SD09)](https://ballotpedia.org/Nancy_Skinner_(California)), [Marie Waldron (R, AD75)](https://ballotpedia.org/Marie_Waldron)'}"
      ]
     },
     "execution_count": 26,
     "metadata": {},
     "output_type": "execute_result"
    }
   ],
   "source": [
    "legiscan.summarizeBillSponsors(aiBills[\"2013-2014\"][\"SB836\"], output=\"md\")"
   ]
  },
  {
   "cell_type": "markdown",
   "id": "679807d4",
   "metadata": {},
   "source": [
    "- Primary Sponsor(s): [Ellen Corbett (D, SD10)](https://ballotpedia.org/Ellen_Corbett)\n",
    "- Co-Sponsor(s): [Joel Anderson (R, SD38)](https://ballotpedia.org/Joel_Anderson_(California)), [Jim Beall (D, SD15)](https://ballotpedia.org/James_Beall_Jr.), [Marty Block (D, SD39)](https://ballotpedia.org/Martin_Block), [Anthony Cannella (R, SD12)](https://ballotpedia.org/Anthony_Cannella), [Lou Correa (D, SD34)](https://ballotpedia.org/Lou_Correa), [Noreen Evans (D, SD02)](https://ballotpedia.org/Noreen_Evans), [Cathleen Galgiani (D, SD05)](https://ballotpedia.org/Cathleen_Galgiani), [Loni Hancock (D, SD09)](https://ballotpedia.org/Loni_Hancock), [Jerry Hill (D, SD13)](https://ballotpedia.org/Gerald_Hill), [Ricardo Lara (D, SD33)](https://ballotpedia.org/Ricardo_Lara), [Ted Lieu (D, SD28)](https://ballotpedia.org/Ted_Lieu), [Carol Liu (D, SD25)](https://ballotpedia.org/Carol_Liu), [Jim Nielsen (R, SD04)](https://ballotpedia.org/Jim_Nielsen), [Richard Roth (D, SD31)](https://ballotpedia.org/Richard_Roth), [Lois Wolk (D, SD03)](https://ballotpedia.org/Lois_Wolk)\n",
    "- Joint Sponsor(s): [Nancy Skinner (D, SD09)](https://ballotpedia.org/Nancy_Skinner_(California)), [Marie Waldron (R, AD75)](https://ballotpedia.org/Marie_Waldron)"
   ]
  },
  {
   "cell_type": "code",
   "execution_count": 14,
   "id": "c6848308",
   "metadata": {},
   "outputs": [],
   "source": [
    "myBill = aiBills[\"2013-2014\"][\"SB836\"]"
   ]
  },
  {
   "cell_type": "code",
   "execution_count": 16,
   "id": "574cd30f",
   "metadata": {},
   "outputs": [],
   "source": [
    "myBillDocId = myBill[\"texts\"][-1][\"doc_id\"]"
   ]
  },
  {
   "cell_type": "code",
   "execution_count": 18,
   "id": "cf42c63a",
   "metadata": {},
   "outputs": [],
   "source": [
    "myBillText =legiscan.getBillText(myBillDocId)"
   ]
  },
  {
   "cell_type": "code",
   "execution_count": 20,
   "id": "eed2e061",
   "metadata": {},
   "outputs": [
    {
     "name": "stdout",
     "output_type": "stream",
     "text": [
      "<pre>\n",
      "BILL NUMBER: SB 836\tAMENDED\n",
      "\tBILL TEXT\n",
      "\n",
      "\tAMENDED IN SENATE  MAY 27, 2014\n",
      "\tAMENDED IN SENATE  MAY 13, 2014\n",
      "\tAMENDED IN SENATE  MAY 7, 2014\n",
      "\tAMENDED IN SENATE  APRIL 22, 2014\n",
      "\n",
      "INTRODUCED BY   Senator Corbett\n",
      "   (Coauthors: Senators Anderson, Beall, Block, Cannella, Correa,\n",
      "Evans, Galgiani, Hancock, Hill, Lara, Lieu, Liu, Nielsen, Roth, and\n",
      "Wolk)\n",
      "   ( <strike> Coauthor: </strike> <strike> Assembly Member </strike>\n",
      "<strike> Waldron </strike> <em> Coauthors: </em> <em> Assembly\n",
      "Members </em> <em> Skinner </em> <em> and Waldron </em> )\n",
      "\n",
      "                        JANUARY 6, 2014\n",
      "\n",
      "   An act to add Chapter 15 (commencing with Section 92985) to Part\n",
      "57 of Division 9 of Title 3 of the Education Code, relating to brain\n",
      "research.\n",
      "\n",
      "\n",
      "\n",
      "\tLEGISLATIVE COUNSEL'S DIGEST\n",
      "\n",
      "\n",
      "   SB 836, as amended, Corbett. Brain research: Cal-BRAIN program.\n",
      "   Existing law establishes various health research grant programs,\n",
      "including the Cancer Research Program, the Breast Cancer Research\n",
      "Program, and the Spinal Cord Injury Research Program.\n",
      "   This bill, the California Blueprint for Research to Advance\n",
      "Innovations in Neuroscience (Cal-BRAIN) Act of 2014, would request\n",
      "the Regents of the University of California to establish the\n",
      "Cal-BRAIN program to leverage California's research assets and the\n",
      "federal BRAIN Initiative's funding opportunities to accelerate the\n",
      "development of brain mapping techniques, including the development of\n",
      "new technologies, in order to achieve certain goals. The bill would\n",
      "additionally request the University of California to convene certain\n",
      "stakeholders to <strike> administer </strike> <em> develop a\n",
      "governing structure for </em> the Cal-BRAIN program <em> designed\n",
      "</em> to do specified tasks <em> , </em> and to provide information\n",
      "about the program through an Internet Web site. These provisions\n",
      "would only be implemented to the extent that adequate funding is\n",
      "appropriated to the University of California, as specified.\n",
      "   Vote: majority. Appropriation: no. Fiscal committee: no.\n",
      "State-mandated local program: no.\n",
      "\n",
      "\n",
      "THE PEOPLE OF THE STATE OF CALIFORNIA DO ENACT AS FOLLOWS:\n",
      "\n",
      "  SECTION 1.  The Legislature hereby finds and declares all of the\n",
      "following:\n",
      "   (a) In April 2013, President Obama unveiled the Brain Research\n",
      "through Advancing Innovative Neurotechnologies (BRAIN) Initiative --\n",
      "a collaborative program that will map the activity of every neuron in\n",
      "the human brain with a programmed total investment of more than $300\n",
      "million per year over 10 years.\n",
      "   (b) The BRAIN Initiative is launching with approximately $110\n",
      "million in funding for research in 2014, as well as additional\n",
      "private sector investment from institutes and foundations based in\n",
      "California.\n",
      "   (c) California is poised to be a world leader in this research\n",
      "effort given the prominent role of scientists and industry leaders\n",
      "throughout the state.\n",
      "   (d) Four of the six scientists who proposed the BRAIN Initiative\n",
      "and six of the 15 members of the Advisory Committee to the Director\n",
      "of the National Institutes of Health for the BRAIN Initiative are\n",
      "from California.\n",
      "   (e) Some California-based corporations have indicated they are\n",
      "interested in collaborating with brain research institutions on\n",
      "research for the BRAIN Initiative to bring new discoveries to the\n",
      "marketplace.\n",
      "   (f) The BRAIN Initiative has the potential to be a major driver of\n",
      "new industries and jobs in biotechnology, artificial intelligence,\n",
      "and information technologies, as well as a catalyst for major\n",
      "breakthroughs in brain-related diseases, injuries, and illnesses,\n",
      "including Alzheimer's disease, which is programmed to cost California\n",
      "over $30 billion a year by 2030.\n",
      "   (g) The products of scientific research improve the quality of our\n",
      "lives and health and provide us with high-quality jobs that employ\n",
      "and demand a highly skilled workforce.\n",
      "   (h) Given California's assets and capacity for collaboration,\n",
      "entrepreneurship, and innovation, a state investment to expand and\n",
      "accelerate this research in the state and to promote the translation\n",
      "of breakthroughs into the marketplace is an important investment in\n",
      "the intellectual infrastructure for California's economic future.\n",
      "  SEC. 2.  Chapter 15 (commencing with Section 92985) is added to\n",
      "Part 57 of Division 9 of Title 3 of the Education Code, to read:\n",
      "      CHAPTER 15.  THE CALIFORNIA BLUEPRINT FOR RESEARCH TO ADVANCE\n",
      "INNOVATIONS IN NEUROSCIENCE ACT OF 2014\n",
      "\n",
      "\n",
      "   92985.  This act shall be known, and may be cited, as the\n",
      "California Blueprint for Research to Advance Innovations in\n",
      "Neuroscience (Cal-BRAIN) Act of 2014.\n",
      "   92986.  (a) The Regents of the University of California are\n",
      "requested to establish the Cal-BRAIN program to leverage California's\n",
      "vast research assets and the federal BRAIN Initiative's funding\n",
      "opportunities to accelerate the development of brain mapping\n",
      "techniques, including the development of new technologies, which will\n",
      "create new, high-paying jobs in California while advancing patient\n",
      "care and improving lives, in order to achieve the following goals:\n",
      "   (1) Maintain California's leadership role in neuroscience\n",
      "innovation.\n",
      "   (2) Develop a dynamic map of the human brain that provides\n",
      "researchers, physicians, and engineers with the knowledge necessary\n",
      "to develop new treatments and technologies that will improve lives\n",
      "and reduce the costs of providing health care.\n",
      "   (3) Grow California's economy through the expansion of California'\n",
      "s high technology and biotechnology sectors.\n",
      "   (4) Train the next generation of scientists for the neuroscience\n",
      "and engineering jobs of the future.\n",
      "   (b) The University of California is requested to utilize\n",
      "California's unique collaborative research environment by convening\n",
      "stakeholders from public and private research institutions, national\n",
      "laboratories, biotechnology and high technology companies, and\n",
      "venture capital firms to <strike> administer the Cal-BRAIN program to\n",
      "do all of the following: </strike>\n",
      "   <strike> (1) </strike> <strike> </strike> <strike> Develop\n",
      "</strike> <em> develop </em> the governing structure <strike> of\n",
      "</strike> <em> for </em> the Cal-BRAIN program. <em>\n",
      "   (c) The governing structure shall be designed to do all of the\n",
      "following: </em> <strike>\n",
      "   (2) </strike>\n",
      "   <em> (1) </em> Adopt a research plan that identifies milestones\n",
      "for achieving the goals of the Cal-BRAIN program. <strike>\n",
      "   (3) </strike>\n",
      "   <em> (2) </em> Establish competitive, merit-based opportunities\n",
      "for interested public and private California research institutions\n",
      "and national laboratories to apply for Cal-BRAIN program funding.\n",
      "<strike>\n",
      "   (4) </strike>\n",
      "   <em> (3) </em> Maintain the flexibility to adjust the Cal-BRAIN\n",
      "program's priorities and focus based upon knowledge gained from\n",
      "scientific discoveries. <strike>\n",
      "   (5) </strike>\n",
      "   <em> (4) </em> Establish a technology transfer program to identify\n",
      "and accelerate the commercial application of both early and\n",
      "late-stage discoveries and technologies from the Cal-BRAIN program\n",
      "into the marketplace and to promote new and expanded technology\n",
      "sectors in the state. <strike>\n",
      "   (6) </strike>\n",
      "   <em> (5) </em> Solicit contributions to the Cal-BRAIN program with\n",
      "a goal of achieving a nonstate funding match that meets or exceeds\n",
      "the financial investment by the state.\n",
      "   92987.  The Regents of the University of California are requested\n",
      "to provide information about the Cal-BRAIN program through an\n",
      "Internet Web site, including a brief description of funded projects\n",
      "and activities.\n",
      "   92988.  This chapter shall be implemented only to the extent that\n",
      "adequate funding for its purposes, as determined by the Regents of\n",
      "the University of California, is appropriated to the University of\n",
      "California in the annual Budget Act or other statute.     <br>\n",
      "\n",
      "\n"
     ]
    }
   ],
   "source": [
    "# Use base64 to decode the bill text for myBillText[\"doc\"]\n",
    "myBillTextDecoded = base64.b64decode(myBillText[\"doc\"]).decode(\"utf-8\")\n",
    "print(myBillTextDecoded)"
   ]
  },
  {
   "cell_type": "code",
   "execution_count": 25,
   "id": "b949c1d2",
   "metadata": {},
   "outputs": [
    {
     "name": "stdout",
     "output_type": "stream",
     "text": [
      "SB 836, titled \"Brain research: Cal-BRAIN program,\" proposes the establishment of the California Blueprint for Research to Advance Innovations in Neuroscience (Cal-BRAIN) program. The bill requests the University of California to leverage state research assets and federal BRAIN Initiative funding to develop brain mapping techniques, create high-paying jobs, and advance patient care. It outlines goals such as maintaining California's leadership in neuroscience, fostering economic growth, and training future scientists. Implementation is contingent on adequate funding appropriated to the University of California. The bill also includes provisions for the University of California to report on the program's progress and outcomes. The bill is set to be enacted on January 1, 2015.\n"
     ]
    }
   ],
   "source": [
    "# TL;DR: SB836, 2013-2014, generated by Copilot on 2023-10-10\n",
    "# Summary of the bill text:\n",
    "sb836Tldr = \"\"\"SB 836, titled \"Brain research: Cal-BRAIN program,\" proposes the establishment of the California Blueprint for Research to Advance Innovations in Neuroscience (Cal-BRAIN) program. The bill requests the University of California to leverage state research assets and federal BRAIN Initiative funding to develop brain mapping techniques, create high-paying jobs, and advance patient care. It outlines goals such as maintaining California's leadership in neuroscience, fostering economic growth, and training future scientists. Implementation is contingent on adequate funding appropriated to the University of California. The bill also includes provisions for the University of California to report on the program's progress and outcomes. The bill is set to be enacted on January 1, 2015.\"\"\"\n",
    "print(sb836Tldr)"
   ]
  },
  {
   "cell_type": "code",
   "execution_count": null,
   "id": "783e3be5",
   "metadata": {},
   "outputs": [],
   "source": []
  }
 ],
 "metadata": {
  "kernelspec": {
   "display_name": "agpenv",
   "language": "python",
   "name": "python3"
  },
  "language_info": {
   "codemirror_mode": {
    "name": "ipython",
    "version": 3
   },
   "file_extension": ".py",
   "mimetype": "text/x-python",
   "name": "python",
   "nbconvert_exporter": "python",
   "pygments_lexer": "ipython3",
   "version": "3.11.10"
  }
 },
 "nbformat": 4,
 "nbformat_minor": 5
}
