{
 "cells": [
  {
   "cell_type": "markdown",
   "id": "eab3bc86",
   "metadata": {},
   "source": [
    "# CaLPA Scratch Folder"
   ]
  },
  {
   "cell_type": "markdown",
   "id": "57e5ba04",
   "metadata": {},
   "source": [
    "This is a scratch notebook used to test the code and functionality of the AI California Legislative Policy Analysis (CALPA) system. It is not intended for production use and may contain incomplete or experimental code. The purpose of this notebook is to facilitate the development and testing of the CALPA system, including its data processing, analysis, and visualization components. The notebook may include code snippets, comments, and notes related to the development process. Please refer to the official documentation and user guides for the CALPA system for more information on its usage and features."
   ]
  },
  {
   "cell_type": "code",
   "execution_count": null,
   "id": "f176218c",
   "metadata": {},
   "outputs": [],
   "source": [
    "#%reset"
   ]
  },
  {
   "cell_type": "markdown",
   "id": "d36f40d4",
   "metadata": {},
   "source": [
    "## Initialization"
   ]
  },
  {
   "cell_type": "code",
   "execution_count": 1,
   "id": "54fee68e",
   "metadata": {},
   "outputs": [],
   "source": [
    "# Import required libraries\n",
    "import os\n",
    "import time\n",
    "from datetime import date\n",
    "from datetime import datetime\n",
    "import json\n",
    "import mimetypes\n",
    "import glob\n",
    "import base64\n",
    "import zipfile\n",
    "import io\n",
    "import dotenv\n",
    "import requests\n",
    "import pandas as pd\n",
    "import feedparser\n",
    "import webbrowser\n",
    "from mrkdwn_analysis import MarkdownAnalyzer\n",
    "\n",
    "# Import the calpa library\n",
    "from calpa import calpa"
   ]
  },
  {
   "cell_type": "code",
   "execution_count": 2,
   "id": "4b3d7fc8",
   "metadata": {},
   "outputs": [
    {
     "name": "stdout",
     "output_type": "stream",
     "text": [
      "Project Global Settings:\n",
      "- Name: CaLPA\n",
      "- Title: AI Legislative Policy Analysis\n",
      "- Description: California Legislative Policy Analysis for Artificial Intelligence Related Bills\n",
      "- Project Step: Part 1 - Preliminary Operations\n",
      "- Version: 1.0\n",
      "- Author: Dr. Kostas Alexandridis, GISP\n",
      "- Periods: 2009-2010, 2011-2012, 2013-2014, 2015-2016, 2017-2018, 2019-2020, 2021-2022, 2023-2024, 2025-2026\n",
      "- Start Date: 2010-12-02\n",
      "- End Date: 2025-04-27\n",
      "Directory Global Settings:\n",
      "\n",
      "General:\n",
      "- Project (pathPrj): c:\\Users\\ktale\\OneDrive\\Documents\\GitHub\\CaLPA\n",
      "- Admin (pathAdmin): c:\\Users\\ktale\\OneDrive\\Documents\\GitHub\\CaLPA\\admin\n",
      "- Metadata (pathMetadata): c:\\Users\\ktale\\OneDrive\\Documents\\GitHub\\CaLPA\\metadata\n",
      "- Analysis (pathAnalysis): c:\\Users\\ktale\\OneDrive\\Documents\\GitHub\\CaLPA\\analysis\n",
      "- Obsidian Vault (pathObsidian): C:\\Users\\ktale\\Knowledge Management\\Policy and Governance\\Legislation\n",
      "Scripts:\n",
      "- Python Calpa Module (pathScriptsCalpa): c:\\Users\\ktale\\OneDrive\\Documents\\GitHub\\CaLPA\\calpa\n",
      "- Markdown Scripts (pathScriptsMd): c:\\Users\\ktale\\OneDrive\\Documents\\GitHub\\CaLPA\\markdown\n",
      "- RIS Scripts (pathScriptsRis): c:\\Users\\ktale\\OneDrive\\Documents\\GitHub\\CaLPA\\ris\n",
      "Data:\n",
      "- Main Data (pathData): c:\\Users\\ktale\\OneDrive\\Documents\\GitHub\\CaLPA\\data\n",
      "- Documents (pathDataDocs): c:\\Users\\ktale\\OneDrive\\Documents\\GitHub\\CaLPA\\data\\docs\n",
      "- LegiScan (pathDataLegis): c:\\Users\\ktale\\OneDrive\\Documents\\GitHub\\CaLPA\\data\\legis\n",
      "- LookUp (pathDataLookup): c:\\Users\\ktale\\OneDrive\\Documents\\GitHub\\CaLPA\\data\\lookup\n",
      "- Markdown (pathDataMd): c:\\Users\\ktale\\OneDrive\\Documents\\GitHub\\CaLPA\\data\\md\n",
      "- RIS (pathDataBbl): c:\\Users\\ktale\\OneDrive\\Documents\\GitHub\\CaLPA\\data\\bbl\n",
      "Graphics:\n",
      "- Main Graphics (pathGraphics): c:\\Users\\ktale\\OneDrive\\Documents\\GitHub\\CaLPA\\graphics\n",
      "- Figures (pathGraphicsFigs): c:\\Users\\ktale\\OneDrive\\Documents\\GitHub\\CaLPA\\graphics\\figs\n",
      "- Presentations (pathGraphicsVisual): c:\\Users\\ktale\\OneDrive\\Documents\\GitHub\\CaLPA\\graphics\\visual\n"
     ]
    }
   ],
   "source": [
    "# Load environment variables from .env file\n",
    "dotenv.load_dotenv(os.path.join(os.getcwd(), '.env'))\n",
    "\n",
    "# Create project metadata for the AI project\n",
    "prjMetadata = calpa.projectMetadata(1)\n",
    "\n",
    "# Create the project directories dictionary\n",
    "prjDirs = calpa.projectDirectories(os.getcwd())\n",
    "\n",
    "# Instantiate the LegiScan and Calpa classes\n",
    "legiscan = calpa.LegiScan()\n"
   ]
  },
  {
   "cell_type": "code",
   "execution_count": 3,
   "id": "cb03295c",
   "metadata": {},
   "outputs": [
    {
     "name": "stdout",
     "output_type": "stream",
     "text": [
      "Codebook Lookup Variables:\n",
      "['lookupBillCode', 'lookupBillTextType', 'lookupBillType', 'lookupBodyType', 'lookupEventType', 'lookupMimeType', 'lookupPartyType', 'lookupProgressType', 'lookupReasonType', 'lookupRoleType', 'lookupSastType', 'lookupSponsorType', 'lookupStateType', 'lookupStatusType', 'lookupSupplementType', 'lookupVoteType']\n",
      "\n",
      "Codebook Dictionary Variables:\n",
      "['dictGetAmendment', 'dictGetBill', 'dictGetBillText', 'dictGetPerson', 'dictGetRollCall', 'dictGetSessionList', 'dictGetSupplement']\n",
      "\n"
     ]
    }
   ],
   "source": [
    "# Codebook lookup variables\n",
    "codebookLookupVars = [var for var in dir(calpa.codebook) if var.startswith('lookup')]\n",
    "codebookDictVars = [var for var in dir(calpa.codebook) if var.startswith('dict')]\n",
    "print(f\"Codebook Lookup Variables:\\n{codebookLookupVars}\\n\")\n",
    "print(f\"Codebook Dictionary Variables:\\n{codebookDictVars}\\n\")"
   ]
  },
  {
   "cell_type": "code",
   "execution_count": 4,
   "id": "e8d02a07",
   "metadata": {},
   "outputs": [],
   "source": [
    "# Obtain the stored sessions list from JSON dictionary on disk (data/lookup directory)\n",
    "sessionListStored = legiscan.getStoredData(dataType = \"session\")\n",
    "\n",
    "# Obtain the stored session People list from JSON dictionary on disk (data/lookup directory)\n",
    "sessionPeopleStored = legiscan.getStoredData(dataType = \"people\")\n",
    "\n",
    "# Obtain the stored dataset list from JSON dictionary on disk (data/lookup directory)\n",
    "datasetListStored = legiscan.getStoredData(dataType = \"dataset\")\n",
    "\n",
    "# Get the stored raw master list from JSON dictionary on disk (data/lookup directory)\n",
    "masterListRawStored = legiscan.getStoredData(dataType = \"master\", raw = True)\n",
    "# Get the stored master list from JSON dictionary on disk (data/lookup directory)\n",
    "masterListStored = legiscan.getStoredData(dataType = \"master\", raw = False)\n",
    "\n",
    "# Get the AI monitoring list from disk (data/lookup directory)\n",
    "aiBillListStored = legiscan.getStoredData(dataType = \"bills\", project = \"AI\")\n",
    "\n",
    "# Get the AI full list of bills from dism (data/legis/json directory)\n",
    "aiBills = legiscan.getStoredData(dataType = \"data\", project = \"AI\")\n",
    "\n",
    "# Get the AI bill summries list from disk (data/lookup directory)\n",
    "aiBillsSummariesStored = legiscan.getStoredData(dataType = \"summaries\", project = \"AI\")"
   ]
  },
  {
   "cell_type": "markdown",
   "id": "03c2279f",
   "metadata": {},
   "source": [
    "## End of Initialization"
   ]
  },
  {
   "cell_type": "code",
   "execution_count": null,
   "id": "6d0291e3",
   "metadata": {},
   "outputs": [],
   "source": [
    "# open test[\"main\"] in a web browser\n",
    "webbrowser.open(test[\"status\"])"
   ]
  },
  {
   "cell_type": "code",
   "execution_count": null,
   "id": "457d1436",
   "metadata": {},
   "outputs": [],
   "source": [
    "webbrowser.open(aiBills[\"2013-2014\"][\"AB1465\"][\"url\"], new=2, autoraise=True)"
   ]
  },
  {
   "cell_type": "code",
   "execution_count": null,
   "id": "3a0b68ef",
   "metadata": {},
   "outputs": [],
   "source": [
    "webbrowser.open(aiBills[\"2013-2014\"][\"AB1465\"][\"state_link\"], new=2, autoraise=True)"
   ]
  },
  {
   "cell_type": "code",
   "execution_count": null,
   "id": "0bfd0a09",
   "metadata": {},
   "outputs": [],
   "source": [
    "legiscan.summarizeBillSponsors(aiBills[\"2013-2014\"][\"SB836\"], output=\"md\")"
   ]
  },
  {
   "cell_type": "markdown",
   "id": "679807d4",
   "metadata": {},
   "source": [
    "- Primary Sponsor(s): [Ellen Corbett (D, SD10)](https://ballotpedia.org/Ellen_Corbett)\n",
    "- Co-Sponsor(s): [Joel Anderson (R, SD38)](https://ballotpedia.org/Joel_Anderson_(California)), [Jim Beall (D, SD15)](https://ballotpedia.org/James_Beall_Jr.), [Marty Block (D, SD39)](https://ballotpedia.org/Martin_Block), [Anthony Cannella (R, SD12)](https://ballotpedia.org/Anthony_Cannella), [Lou Correa (D, SD34)](https://ballotpedia.org/Lou_Correa), [Noreen Evans (D, SD02)](https://ballotpedia.org/Noreen_Evans), [Cathleen Galgiani (D, SD05)](https://ballotpedia.org/Cathleen_Galgiani), [Loni Hancock (D, SD09)](https://ballotpedia.org/Loni_Hancock), [Jerry Hill (D, SD13)](https://ballotpedia.org/Gerald_Hill), [Ricardo Lara (D, SD33)](https://ballotpedia.org/Ricardo_Lara), [Ted Lieu (D, SD28)](https://ballotpedia.org/Ted_Lieu), [Carol Liu (D, SD25)](https://ballotpedia.org/Carol_Liu), [Jim Nielsen (R, SD04)](https://ballotpedia.org/Jim_Nielsen), [Richard Roth (D, SD31)](https://ballotpedia.org/Richard_Roth), [Lois Wolk (D, SD03)](https://ballotpedia.org/Lois_Wolk)\n",
    "- Joint Sponsor(s): [Nancy Skinner (D, SD09)](https://ballotpedia.org/Nancy_Skinner_(California)), [Marie Waldron (R, AD75)](https://ballotpedia.org/Marie_Waldron)"
   ]
  },
  {
   "cell_type": "code",
   "execution_count": null,
   "id": "cb65ce76",
   "metadata": {},
   "outputs": [],
   "source": [
    "\n",
    "analyzer = MarkdownAnalyzer(samplePath)\n",
    "\n",
    "headers = analyzer.identify_headers()\n",
    "paragraphs = analyzer.identify_paragraphs()\n",
    "blockquotes = analyzer.identify_blockquotes()\n",
    "links = analyzer.identify_links()\n",
    "codeBlocks = analyzer.identify_code_blocks()"
   ]
  },
  {
   "cell_type": "code",
   "execution_count": null,
   "id": "1879efa1",
   "metadata": {},
   "outputs": [],
   "source": [
    "analysis = analyzer.analyse()\n",
    "\n",
    "print(analysis)"
   ]
  },
  {
   "cell_type": "code",
   "execution_count": null,
   "id": "1333511a",
   "metadata": {},
   "outputs": [],
   "source": [
    "headers"
   ]
  },
  {
   "cell_type": "code",
   "execution_count": null,
   "id": "4667d7a4",
   "metadata": {},
   "outputs": [],
   "source": [
    "paragraphs"
   ]
  },
  {
   "cell_type": "code",
   "execution_count": null,
   "id": "dbd793cd",
   "metadata": {},
   "outputs": [],
   "source": [
    "links"
   ]
  },
  {
   "cell_type": "code",
   "execution_count": null,
   "id": "e5157eb1",
   "metadata": {},
   "outputs": [],
   "source": [
    "import io\n",
    "import pypandoc\n",
    "import panflute\n",
    "\n",
    "def action(elem, doc):\n",
    "    if isinstance(elem, panflute.Image):\n",
    "        doc.images.append(elem)\n",
    "    elif isinstance(elem, panflute.Link):\n",
    "        doc.links.append(elem)\n",
    "\n",
    "if __name__ == '__main__':\n",
    "    data = pypandoc.convert_file('example.md', 'json')\n",
    "    doc = panflute.load(io.StringIO(data))\n",
    "    doc.images = []\n",
    "    doc.links = []\n",
    "    doc = panflute.run_filter(action, prepare=prepare, doc=doc)\n",
    "\n",
    "    print(\"\\nList of image URLs:\")\n",
    "    for image in doc.images:\n",
    "        print(image.url)"
   ]
  },
  {
   "cell_type": "code",
   "execution_count": 6,
   "id": "527087c4",
   "metadata": {},
   "outputs": [
    {
     "name": "stdout",
     "output_type": "stream",
     "text": [
      "2013-2014 Legislative Session:\n",
      "- AB1465: Education finance: education omnibus trailer bill.\n",
      "- SB836: Brain research: Cal-BRAIN program.\n",
      "- SB860: Education finance: education omnibus trailer bill.\n",
      "2017-2018 Legislative Session:\n",
      "- AB1809: Higher education trailer bill.\n",
      "- AB2662: State government: Office of Planning and Research: electronic media: child development.\n",
      "- ACR215: 23 Asilomar AI Principles.\n",
      "- SB843: Higher education trailer bill.\n",
      "- SB1470: Commission on the Future of Work.\n",
      "2019-2020 Legislative Session:\n",
      "- AB156: Optometrists: endorsement fee.\n",
      "- AB459: State government: Artificial Intelligence in State Government Services Commission: report.\n",
      "- AB485: Local government: economic development subsidies.\n",
      "- AB594: Artificial intelligence.\n",
      "- AB976: Artificial Intelligence in State Government Services Commission.\n",
      "- AB1576: Secretary of Government Operations: working group: technology.\n",
      "- AB2269: Personal rights: automated decision systems.\n",
      "- AB3317: Unfair and deceptive practices.\n",
      "- AB3339: Kids Internet Design and Safety Act.\n",
      "- ACR125: Bias and discrimination in hiring reduction through new technology.\n",
      "- SB348: Department of Technology: artificial intelligence: strategic plans.\n",
      "- SB444: University of California: Berkeley and Irvine law schools: Pro Se Indigent Litigant Research Program.\n",
      "- SB730: Commission on Tech Equity.\n",
      "- SB752: The California Master Plan on Tech Equity.\n",
      "- SCR13: International Women’s Day.\n",
      "- SJR6: Artificial intelligence.\n",
      "2021-2022 Legislative Session:\n",
      "- AB13: California Victim Compensation Board: payment of claims.\n",
      "- AB1400: Guaranteed Health Care for All.\n",
      "- AB1545: Children: internet safety: platform operators.\n",
      "- AB1651: Worker rights: Workplace Technology Accountability Act.\n",
      "- AB178: Budget Act of 2022.\n",
      "- AB179: Budget Act of 2022.\n",
      "- AB2224: Real estate: transactions: iBuyers.\n",
      "- AB2826: California Platform Accountability and Transparency Act.\n",
      "- AB587: Social media companies: terms of service.\n",
      "- SB54: Solid waste: reporting, packaging, and plastic food service ware.\n",
      "- SB178: Budget Act of 2022.\n",
      "- SB179: Budget Act of 2022.\n",
      "- SB1018: Platform Accountability and Transparency Act.\n",
      "- SB1216: Secretary of Government Operations: deepfakes.\n",
      "- SR11: Relative to International Women’s Day.\n",
      "2023-2024 Legislative Session:\n",
      "- AB100: Budget Acts of 2021 and 2022.\n",
      "- AB103: Budget Acts of 2021 and 2022.\n",
      "- AB104: Budget Acts of 2022 and 2023.\n",
      "- AB106: Budget Acts of 2022 and 2023.\n",
      "- AB107: Budget Act of 2024.\n",
      "- AB108: Budget Act of 2024.\n",
      "- AB158: Budget Acts of 2022 and 2023.\n",
      "- AB302: Department of Technology: high-risk automated decision systems: inventory.\n",
      "- AB331: Automated decision tools.\n",
      "- AB459: Peace officers: Attorney General: reports.\n",
      "- AB863: Carpet recycling: producer responsibility organizations: fines: succession: training.\n",
      "- AB1008: California Consumer Privacy Act of 2018: personal information.\n",
      "- AB1027: Social media platforms: drug safety policies.\n",
      "- AB1282: Mental health: impacts of social media.\n",
      "- AB1526: Public resources.\n",
      "- AB1791: Digital content provenance.\n",
      "- AB1754: Maintenance of the codes.\n",
      "- AB1824: California Consumer Privacy Act of 2018: opt out right: mergers.\n",
      "- AB1831: Crimes: child pornography.\n",
      "- AB1873: Crimes: sexual exploitation of a child.\n",
      "- AB2013: Generative artificial intelligence: training data transparency.\n",
      "- AB2058: Devices:disclosures.\n",
      "- AB2200: Survivors of Human Trafficking Support Act.\n",
      "- AB2355: Political Reform Act of 1974: political advertisements: artificial intelligence.\n",
      "- AB2370: Community colleges: faculty: instructor of record: qualifications.\n",
      "- AB2412: Healing arts: California Body Contouring Council: practitioners.\n",
      "- AB2512: Telecommunications: automatic dialing-announcing devices: artificial voices.\n",
      "- AB2602: Contracts against public policy: personal or professional services: digital replicas.\n",
      "- AB2652: State Department of Education: artificial intelligence working group.\n",
      "- AB2655: Defending Democracy from Deepfake Deception Act of 2024.\n",
      "- AB2811: Attorneys: court filings: artificial intelligence.\n",
      "- AB2839: Elections: deceptive media in advertisements.\n",
      "- AB2876: Pupil instruction: media literacy: artificial intelligence literacy: curriculum frameworks: instructional materials.\n",
      "- AB2877: California Consumer Privacy Act of 2018: artificial intelligence: training.\n",
      "- AB2885: Artificial intelligence.\n",
      "- AB2905: Telecommunications: automatic dialing-announcing devices: artificial voices.\n",
      "- AB2928: Budget Act of 2022.\n",
      "- AB2930: Automated decision systems.\n",
      "- AB3030: Health care services: artificial intelligence.\n",
      "- AB3050: Artificial intelligence.\n",
      "- AB3058: California Unconditional Benefit Program: employment replaced by automation or artificial intelligence: pilot program.\n",
      "- AB3095: Artificial intelligence.\n",
      "- AB3204: Data Digesters Registration Act.\n",
      "- AB3211: California Digital Content Provenance Standards.\n",
      "- ACR96: 23 Asilomar AI Principles.\n",
      "- ACR219: California Social Media Users’ Bill of Rights.\n",
      "- ACR227: Women in Animation.\n",
      "- AJR6: Artificial intelligence.\n",
      "- SB100: Budget Acts of 2021 and 2022.\n",
      "- SB103: Budget Acts of 2021 and 2022.\n",
      "- SB104: Budget Acts of 2022 and 2023.\n",
      "- SB106: Budget Acts of 2022 and 2023.\n",
      "- SB107: Budget Act of 2024.\n",
      "- SB108: Budget Act of 2024.\n",
      "- SB158: Budget Acts of 2022 and 2023.\n",
      "- SB294: Health care coverage: independent medical review.\n",
      "- SB313: Department of Technology: Office of Artificial Intelligence: state agency public interface: use of AI.\n",
      "- SB398: Department of Technology: advanced technology: research.\n",
      "- SB721: General plan: annual report: suite-style student housing quarters.\n",
      "- SB892: Public contracts: automated decision systems: procurement standards.\n",
      "- SB893: California Artificial Intelligence Research Hub.\n",
      "- SB896: Generative Artificial Intelligence Accountability Act.\n",
      "- SB933: Crimes: child pornography.\n",
      "- SB942: California AI Transparency Act.\n",
      "- SB970: Artificial intelligence technology.\n",
      "- SB1047: Safe and Secure Innovation for Frontier Artificial Intelligence Models Act.\n",
      "- SB1070: Health care district: County of Imperial.\n",
      "- SB1120: Health care coverage: utilization review.\n",
      "- SB1154: California Preventing Algorithmic Collusion Act of 2024.\n",
      "- SB1220: Public benefits contracts: phone operator jobs.\n",
      "- SB1228: User identity authentication.\n",
      "- SB1223: Consumer privacy: sensitive personal information: neural data.\n",
      "- SB1229: Insurance disclosures.\n",
      "- SB1235: Public postsecondary education: Artificial Intelligence and Deepfake Working Group.\n",
      "- SB1282: Crimes: diversion.\n",
      "- SB1288: Public schools: artificial intelligence working group.\n",
      "- SB1381: Crimes: child pornography.\n",
      "- SB1446: Grocery retail store and retail drug establishment employees: self-service checkout and consequential workplace technology.\n",
      "- SCR17: Artificial intelligence.\n",
      "- SCR121: International Women’s Day.\n",
      "- SCR162: Alzheimer’s and Brain Awareness Month and The Longest Day.\n",
      "2025-2026 Legislative Session:\n",
      "- AB93: Water resources: demands: data centers.\n",
      "- AB222: Data centers: energy usage reporting and efficiency standards: electricity rates.\n",
      "- AB279: School libraries: model library standards.\n",
      "- AB316: Artificial intelligence: defenses.\n",
      "- AB325: Cartwright Act: violations.\n",
      "- AB392: Pornographic internet websites: consent.\n",
      "- AB410: Bots: disclosure.\n",
      "- AB412: Generative artificial intelligence: training data: copyrighted materials.\n",
      "- AB489: Health care professions: deceptive terms or letters: artificial intelligence.\n",
      "- AB512: Health care coverage: prior authorization.\n",
      "- AB682: Health care coverage reporting.\n",
      "- AB723: Real estate: digitally altered images: disclosure.\n",
      "- AB853: California AI Transparency Act.\n",
      "- AB887: Pupil instruction: high schools: computer science courses: implementation guide.\n",
      "- AB979: California Cybersecurity Integration Center: artificial intelligence.\n",
      "- AB1018: Automated decision systems.\n",
      "- AB1024: Department of Fish and Wildlife: San Gabriel Valley Bear Management and Community Safety Act.\n",
      "- AB1064: Leading Ethical AI Development (LEAD) for Kids Act.\n",
      "- AB1137: Reporting mechanism: child sexual abuse material.\n",
      "- AB1159: Student personal information.\n",
      "- AB1170: Maintenance of the codes.\n",
      "- AB1242: Language access.\n",
      "- SB7: Employment: automated decision systems.\n",
      "- SB11: Artificial intelligence technology.\n",
      "- SB16: Homeless Housing, Assistance, and Prevention program: housing element: unsheltered and chronic homelessness: assessment and financing plan.\n",
      "- SB53: CalCompute: foundation models: whistleblowers.\n",
      "- SB57: Electrical corporations: tariffs.\n",
      "- SB243: Companion chatbots.\n",
      "- SB295: California Preventing Algorithmic Collusion Act of 2025.\n",
      "- SB354: Insurance Consumer Privacy Protection Act of 2025.\n",
      "- SB366: Employment: artificial intelligence.\n",
      "- SB420: Automated decision systems.\n",
      "- SB468: High-risk artificial intelligence systems: duty to protect personal information.\n",
      "- SB503: Health care services: artificial intelligence.\n",
      "- SB524: Law enforcement agencies: artificial intelligence.\n",
      "- SB579: Mental health and artificial intelligence working group.\n",
      "- SB711: Taxation: federal conformity.\n",
      "- SB813: Multistakeholder regulatory organizations.\n",
      "- SB833: Critical infrastructure: automated decision systems: human oversight.\n"
     ]
    }
   ],
   "source": [
    "for key, value in aiBills.items():\n",
    "    print(f\"{key} Legislative Session:\")\n",
    "    for billId, bill in value.items():\n",
    "        legiscan.aiBillMarkdown(\n",
    "            billPeriod = key,\n",
    "            billId = billId,\n",
    "            billsDict = aiBills,\n",
    "            billsSummariesDict = aiBillsSummariesStored,\n",
    "            obsidianSync = True\n",
    "        )\n",
    "        print(f\"- {billId}: {bill['title']}\")"
   ]
  },
  {
   "cell_type": "code",
   "execution_count": null,
   "id": "0d4f6d05",
   "metadata": {},
   "outputs": [],
   "source": []
  }
 ],
 "metadata": {
  "kernelspec": {
   "display_name": "drkPy",
   "language": "python",
   "name": "python3"
  },
  "language_info": {
   "codemirror_mode": {
    "name": "ipython",
    "version": 3
   },
   "file_extension": ".py",
   "mimetype": "text/x-python",
   "name": "python",
   "nbconvert_exporter": "python",
   "pygments_lexer": "ipython3",
   "version": "3.11.11"
  }
 },
 "nbformat": 4,
 "nbformat_minor": 5
}
