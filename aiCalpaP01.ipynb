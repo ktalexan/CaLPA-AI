{
 "cells": [
  {
   "cell_type": "markdown",
   "id": "c0d4f3f5",
   "metadata": {},
   "source": [
    "</center></div><div style = 'background-color:indigo'><center><h1 style='font-size: 50px; font-weight: bold; color:goldenrod; border-top: 3px solid goldenrod; padding-top: 10px'>AI Legislative Policy Analysis (CaLPA-AI)</h1><div style='font-size: 35px; font-weight: bold; color: goldenrod'> Part 1 - Preliminary Operations</div><div style='font-size: 30px; font-weight: bold; color: goldenrod; border-bottom: 3px solid goldenrod; padding-bottom: 20px'>v.1.1 (MIT License), Dr. Kostas Alexandridis, GISP, April 2025</div></center></div>"
   ]
  },
  {
   "cell_type": "code",
   "execution_count": null,
   "id": "42210fbe",
   "metadata": {},
   "outputs": [],
   "source": [
    "import notebookHeadings\n",
    "from notebookHeadings import mdt\n",
    "mdt(level = 0, prjPart = 1, prjComponent = \"AI\", prjVersion = \"1.1\")"
   ]
  },
  {
   "cell_type": "markdown",
   "id": "e64f18e6",
   "metadata": {},
   "source": [
    "This is the main notebook for the AI California Legislative Policy Analysis (CALPA) project. The goal of this project is to analyze California legislative bills using natural language processing (NLP) techniques. This notebook will cover the preliminary data processing steps, including data loading, cleaning, and preparation for analysis.\n",
    "The project is divided into several parts, each focusing on a specific aspect of the analysis. The first part will cover the data loading and cleaning process, while subsequent parts will focus on feature extraction, model training, and evaluation."
   ]
  },
  {
   "cell_type": "markdown",
   "id": "72a7e42c",
   "metadata": {},
   "source": [
    "<h1 style='font-weight:bold; color:orangered; border-bottom: 2px solid orangered'>1. Preliminaries</h1>"
   ]
  },
  {
   "cell_type": "markdown",
   "id": "3726e966",
   "metadata": {},
   "source": [
    "<h2 style='font-weight:bold; color:dodgerblue; border-bottom: 1px solid dodgerblue; padding-left: 25px'>1.1. Referencing Libraries and Initialization</h2>"
   ]
  },
  {
   "cell_type": "code",
   "execution_count": null,
   "id": "566d1b97",
   "metadata": {},
   "outputs": [],
   "source": [
    "mdt(1, \"1. Preliminaries\")\n",
    "mdt(2, \"1.1. Referencing Libraries and Initialization\")"
   ]
  },
  {
   "cell_type": "markdown",
   "id": "8208c249",
   "metadata": {},
   "source": [
    "If needed to reset the kernel, please run the following cell:"
   ]
  },
  {
   "cell_type": "code",
   "execution_count": null,
   "id": "bc5f5ee8",
   "metadata": {},
   "outputs": [],
   "source": [
    "#%reset"
   ]
  },
  {
   "cell_type": "markdown",
   "id": "8cc81da9",
   "metadata": {},
   "source": [
    "Instantiating python libraries for the project"
   ]
  },
  {
   "cell_type": "code",
   "execution_count": 1,
   "id": "a2f0c47a",
   "metadata": {},
   "outputs": [],
   "source": [
    "# Import required libraries\n",
    "import os\n",
    "from dotenv import load_dotenv\n",
    "import time\n",
    "from datetime import date\n",
    "from datetime import datetime\n",
    "import json\n",
    "import mimetypes\n",
    "import glob\n",
    "import base64\n",
    "import zipfile\n",
    "import io\n",
    "import requests\n",
    "import pandas as pd"
   ]
  },
  {
   "cell_type": "markdown",
   "id": "09d997f5",
   "metadata": {},
   "source": [
    "Load the local python modules containing classes and functions for the project from the local directory.\n",
    "- `calpa`: This module contains the main classes and functions for the project, including the `LegiScan` class for the LegScan API."
   ]
  },
  {
   "cell_type": "code",
   "execution_count": 2,
   "id": "ae70f788",
   "metadata": {},
   "outputs": [],
   "source": [
    "# Load the calpa module located in the scripts/python/calpa directory\n",
    "from calpa import calpa"
   ]
  },
  {
   "cell_type": "markdown",
   "id": "7d2d94ce",
   "metadata": {},
   "source": [
    "<h2 style='font-weight:bold; color:dodgerblue; border-bottom: 1px solid dodgerblue; padding-left: 25px'>1.2. Project and Workspace Variables</h2>"
   ]
  },
  {
   "cell_type": "markdown",
   "id": "f2f8299f",
   "metadata": {},
   "source": [
    "<h3 style='font-weight:bold; color:lime; padding-left: 50px'>Load Environment Variables</h3>"
   ]
  },
  {
   "cell_type": "code",
   "execution_count": null,
   "id": "06bf419c",
   "metadata": {},
   "outputs": [],
   "source": [
    "mdt(2, \"1.2. Project and Workspace Variables\")\n",
    "mdt(3, \"Load Environment Variables\")"
   ]
  },
  {
   "cell_type": "markdown",
   "id": "33393245",
   "metadata": {},
   "source": [
    "Define and maintain project, workspace and metadata. Below we load the environment variables from the `.env` file. The environment variables are used to configure the project and workspace settings. The `dotenv` library is used to load the environment variables from the `.env` file into the Python environment. The environment also contains the LegiScan API key, which is used to access the LegiScan API. The API key is stored in the `LEGISCAN_API_KEY` environment variable. The `dotenv` library is used to load the environment variables from the `.env` file into the Python environment."
   ]
  },
  {
   "cell_type": "code",
   "execution_count": 3,
   "id": "d59292b7",
   "metadata": {},
   "outputs": [
    {
     "data": {
      "text/plain": [
       "True"
      ]
     },
     "execution_count": 3,
     "metadata": {},
     "output_type": "execute_result"
    }
   ],
   "source": [
    "# Load environment variables from .env file\n",
    "load_dotenv()"
   ]
  },
  {
   "cell_type": "markdown",
   "id": "ac57d693",
   "metadata": {},
   "source": [
    "<h3 style='font-weight:bold; color:lime; padding-left: 50px'>Main Class Instantiation</h3>"
   ]
  },
  {
   "cell_type": "code",
   "execution_count": null,
   "id": "a10dfedb",
   "metadata": {},
   "outputs": [],
   "source": [
    "mdt(3, \"Main Class Instantiation\")"
   ]
  },
  {
   "cell_type": "markdown",
   "id": "1ee03ec6",
   "metadata": {},
   "source": [
    "Instantiate the main class for the project:\n",
    "- `legiscan`: This class is used to access the LegiScan API and retrieve legislative data."
   ]
  },
  {
   "cell_type": "code",
   "execution_count": 4,
   "id": "091cabc8",
   "metadata": {},
   "outputs": [],
   "source": [
    "# Instantiate the LegiScan class\n",
    "legiscan = calpa.LegiScan()"
   ]
  },
  {
   "cell_type": "markdown",
   "id": "de3d0889",
   "metadata": {},
   "source": [
    "Create project metadata for the project"
   ]
  },
  {
   "cell_type": "code",
   "execution_count": 5,
   "id": "0103f779",
   "metadata": {},
   "outputs": [
    {
     "name": "stdout",
     "output_type": "stream",
     "text": [
      "~~~~~~~~~~~~~~~~~~~~~~~~~~~~~~~~~~~~~~~~~~~~~~~~~~~~~~~~~~~~~~~~~~~~~~~~~~~~~~~~~~\n",
      " AI Legislative Policy Analysis (CaLPA-AI)\n",
      " California Legislative Policy Analysis for Artificial Intelligence Related Bills\n",
      " Part 1 - Preliminary Operations\n",
      " Version 1.1 (MIT License), Dr. Kostas Alexandridis, GISP\n",
      " GitHub Repository: https://github.com/ktalexan/CaLPA\n",
      " Last Updated: Apr 29, 2025\n",
      "~~~~~~~~~~~~~~~~~~~~~~~~~~~~~~~~~~~~~~~~~~~~~~~~~~~~~~~~~~~~~~~~~~~~~~~~~~~~~~~~~~\n",
      "\n",
      "Dates: 2010-12-02 through 2025-04-29\n",
      "Periods: 2009-2010, 2011-2012, 2013-2014, 2015-2016, 2017-2018, 2019-2020, 2021-2022, 2023-2024, 2025-2026\n"
     ]
    }
   ],
   "source": [
    "# Create project metadata for the AI project\n",
    "prjMetadata = calpa.projectMetadata(prjPart=1, prjComponent=\"AI\", prjVersion=\"1.1\")"
   ]
  },
  {
   "cell_type": "markdown",
   "id": "2c0d5ebb",
   "metadata": {},
   "source": [
    "Create the project directories dictionary"
   ]
  },
  {
   "cell_type": "code",
   "execution_count": 6,
   "id": "83659ca7",
   "metadata": {},
   "outputs": [
    {
     "name": "stdout",
     "output_type": "stream",
     "text": [
      "Directory Global Settings:\n",
      "\n",
      "General:\n",
      "- Project (pathPrj): c:\\Users\\ktale\\OneDrive\\Documents\\GitHub\\CaLPA-AI\n",
      "- Admin (pathAdmin): c:\\Users\\ktale\\OneDrive\\Documents\\GitHub\\CaLPA-AI\\admin\n",
      "- Metadata (pathMetadata): c:\\Users\\ktale\\OneDrive\\Documents\\GitHub\\CaLPA-AI\\metadata\n",
      "- Analysis (pathAnalysis): c:\\Users\\ktale\\OneDrive\\Documents\\GitHub\\CaLPA-AI\\analysis\n",
      "- Obsidian Vault (pathObsidian): C:\\Users\\ktale\\Knowledge Management\\Policy and Governance\\Legislation\n",
      "Scripts:\n",
      "- Python Calpa Module (pathScriptsCalpa): c:\\Users\\ktale\\OneDrive\\Documents\\GitHub\\CaLPA-AI\\calpa\n",
      "- Markdown Scripts (pathScriptsMd): c:\\Users\\ktale\\OneDrive\\Documents\\GitHub\\CaLPA-AI\\markdown\n",
      "- RIS Scripts (pathScriptsRis): c:\\Users\\ktale\\OneDrive\\Documents\\GitHub\\CaLPA-AI\\ris\n",
      "Data:\n",
      "- Main Data (pathData): c:\\Users\\ktale\\OneDrive\\Documents\\GitHub\\CaLPA-AI\\data\n",
      "- Documents (pathDataDocs): c:\\Users\\ktale\\OneDrive\\Documents\\GitHub\\CaLPA-AI\\data\\docs\n",
      "- LegiScan (pathDataLegis): c:\\Users\\ktale\\OneDrive\\Documents\\GitHub\\CaLPA-AI\\data\\legis\n",
      "- LookUp (pathDataLookup): c:\\Users\\ktale\\OneDrive\\Documents\\GitHub\\CaLPA-AI\\data\\lookup\n",
      "- Markdown (pathDataMd): c:\\Users\\ktale\\OneDrive\\Documents\\GitHub\\CaLPA-AI\\data\\md\n",
      "- RIS (pathDataBbl): c:\\Users\\ktale\\OneDrive\\Documents\\GitHub\\CaLPA-AI\\data\\bbl\n",
      "Graphics:\n",
      "- Main Graphics (pathGraphics): c:\\Users\\ktale\\OneDrive\\Documents\\GitHub\\CaLPA-AI\\graphics\n",
      "- Figures (pathGraphicsFigs): c:\\Users\\ktale\\OneDrive\\Documents\\GitHub\\CaLPA-AI\\graphics\\figs\n",
      "- Presentations (pathGraphicsVisual): c:\\Users\\ktale\\OneDrive\\Documents\\GitHub\\CaLPA-AI\\graphics\\visual\n"
     ]
    }
   ],
   "source": [
    "# Create the project directories dictionary\n",
    "prjDirs = calpa.projectDirectories(os.getcwd())"
   ]
  },
  {
   "cell_type": "markdown",
   "id": "e59856f3",
   "metadata": {},
   "source": [
    "<h3 style='font-weight:bold; color:lime; padding-left: 50px'>Lookup Data and Variables</h3>"
   ]
  },
  {
   "cell_type": "code",
   "execution_count": null,
   "id": "4ffba643",
   "metadata": {},
   "outputs": [],
   "source": [
    "mdt(3, \"Lookup Data and Variables\")"
   ]
  },
  {
   "cell_type": "markdown",
   "id": "8d0e8c5e",
   "metadata": {},
   "source": [
    "If needed, you can access the project lookup and dictionary variables. They are embedded in the `codebook` module of the `calpa` package. The codebook module contains the following variables:\n",
    "1. **LegiScan API Call Dictionaries**: These are codebook dictionaries that map the definitions of the LegiScan API fields for a number of API calls. The dictionaries available are (alphabetically ordered):\n",
    "   - `dictGetAmendment`: Contains all the fields returned by the LegiScan API for the `getAmendment` call.\n",
    "   - `dictGetBill`: Contains all the fields returned by the LegiScan API for the `getBill` call.\n",
    "   - `dictGetBillText`: Contains all the fields returned by the LegiScan API for the `getBillText` call.\n",
    "   - `dictGetPerson`: Contains all the fields returned by the LegiScan API for the `getPerson` call.\n",
    "   - `dictGetRollCall`: Contains all the fields returned by the LegiScan API for the `getRollCall` call.\n",
    "   - `dictGetSessionList`: Contains all the fields returned by the LegiScan API for the `getSessionList` call.\n",
    "   - `dictGetSupplement`: Contains all the fields returned by the LegiScan API for the `getSupplement` call.\n",
    "2. **Lookup Variables**: These are lists containing the names or definitions of codes used inside the LegiScan API calls (usually IDs or codes). The lookup variables available are (alphabetically ordered):\n",
    "   - `lookupBillCode`: Bill code definitions used in the LegiScan API.\n",
    "   - `lookupBillTextType`: IDs and definitions of the bill types used in the LegiScan API.\n",
    "   - `lookupBillType`: IDs and definitions of the bill types used in the LegiScan API.\n",
    "   - `lookupBodyType`: Definitions of body types used in the LegiScan API.\n",
    "   - `lookupEventType`: Definitions of event types used in the LegiScan API.\n",
    "   - `lookupMimeType`: Definitions of mime types used in the LegiScan API.\n",
    "   - `lookupPartyType`: Definitions of party types used in the LegiScan API.\n",
    "   - `lookupProgressType`: Definitions of progress types used in the LegiScan API.\n",
    "   - `lookupReasonType`: Definitions of reason types used in the LegiScan API.\n",
    "   - `lookupRoleType`: Definitions of role types used in the LegiScan API.\n",
    "   - `lookupSastType`: Definitions of SAST types used in the LegiScan API.\n",
    "   - `lookupSponsorType`: Definitions of sponsor types used in the LegiScan API.\n",
    "   - `lookupStateType`: Definitions of state types used in the LegiScan API (California only).\n",
    "   - `lookupStatusType`: Definitions of status types used in the LegiScan API.\n",
    "   - `lookupSupplementType`: Definitions of supplement types used in the LegiScan API.\n",
    "   - `lookupVoteType`: Definitions of vote types used in the LegiScan API.\n",
    "\n",
    "If you need to access the codebook variables, you can do so by running the following cell. The codebook variables are stored in the `codebook` module of the `calpa` package. Calling the variables (assuming that the `calpa` package is imported) will return the variables as a dictionary. You can access the variables by using the dictionary keys. For example, to access the `lookupBillCode` variable, you can use the following code:\n",
    "\n",
    ">```python\n",
    "># Load the calpa module located in the scripts/python/calpa directory\n",
    ">from calpa import calpa\n",
    ">\n",
    "># Getting the lookup variables from the codebook module directly\n",
    ">calpa.codebook.lookupBillCode\n",
    ">\n",
    "># Assigning the lookup variables to a stored in the session\n",
    ">lookupBillCode = calpa.codebook.lookupBillCode\n",
    ">```\n"
   ]
  },
  {
   "cell_type": "code",
   "execution_count": 7,
   "id": "761c50e9",
   "metadata": {},
   "outputs": [
    {
     "name": "stdout",
     "output_type": "stream",
     "text": [
      "Codebook Lookup Variables:\n",
      "['lookupBillCode', 'lookupBillTextType', 'lookupBillType', 'lookupBodyType', 'lookupEventType', 'lookupMimeType', 'lookupPartyType', 'lookupProgressType', 'lookupReasonType', 'lookupRoleType', 'lookupSastType', 'lookupSponsorType', 'lookupStateType', 'lookupStatusType', 'lookupSupplementType', 'lookupVoteType']\n",
      "\n",
      "Codebook Dictionary Variables:\n",
      "['dictGetAmendment', 'dictGetBill', 'dictGetBillText', 'dictGetPerson', 'dictGetRollCall', 'dictGetSessionList', 'dictGetSupplement']\n",
      "\n"
     ]
    }
   ],
   "source": [
    "# Codebook lookup variables\n",
    "codebookLookupVars = [var for var in dir(calpa.codebook) if var.startswith('lookup')]\n",
    "codebookDictVars = [var for var in dir(calpa.codebook) if var.startswith('dict')]\n",
    "print(f\"Codebook Lookup Variables:\\n{codebookLookupVars}\\n\")\n",
    "print(f\"Codebook Dictionary Variables:\\n{codebookDictVars}\\n\")"
   ]
  },
  {
   "cell_type": "markdown",
   "id": "f1040c1b",
   "metadata": {},
   "source": [
    "<h1 style='font-weight:bold; color:orangered; border-bottom: 2px solid orangered'>2. Baseline LegiScan Data</h1>"
   ]
  },
  {
   "cell_type": "markdown",
   "id": "a5ee91f4",
   "metadata": {},
   "source": [
    "<h2 style='font-weight:bold; color:dodgerblue; border-bottom: 1px solid dodgerblue; padding-left: 25px'>2.1. Session List</h2>"
   ]
  },
  {
   "cell_type": "code",
   "execution_count": null,
   "id": "0261faf3",
   "metadata": {},
   "outputs": [],
   "source": [
    "mdt(1, \"2. Baseline LegiScan Data\")\n",
    "mdt(2, \"2.1. Session List\")"
   ]
  },
  {
   "cell_type": "markdown",
   "id": "f1cdb9f2",
   "metadata": {},
   "source": [
    "Using the LegiScan API, we will retrieve the list of sessions for California. This will be used to get the session ID for the current session and the previous session. The session ID is needed to retrieve the bills for each session."
   ]
  },
  {
   "cell_type": "code",
   "execution_count": 8,
   "id": "6a452061",
   "metadata": {},
   "outputs": [],
   "source": [
    "# Get the list of sessions from LegiScan\n",
    "sessionList = legiscan.getSessionList()"
   ]
  },
  {
   "cell_type": "markdown",
   "id": "46714b86",
   "metadata": {},
   "source": [
    "Convert the session list to a pandas dataframe"
   ]
  },
  {
   "cell_type": "code",
   "execution_count": 9,
   "id": "29b395fb",
   "metadata": {},
   "outputs": [
    {
     "data": {
      "application/vnd.microsoft.datawrangler.viewer.v0+json": {
       "columns": [
        {
         "name": "index",
         "rawType": "object",
         "type": "string"
        },
        {
         "name": "2009-2010",
         "rawType": "object",
         "type": "unknown"
        },
        {
         "name": "2011-2012",
         "rawType": "object",
         "type": "unknown"
        },
        {
         "name": "2013-2014",
         "rawType": "object",
         "type": "unknown"
        },
        {
         "name": "2015-2016",
         "rawType": "object",
         "type": "unknown"
        },
        {
         "name": "2017-2018",
         "rawType": "object",
         "type": "unknown"
        },
        {
         "name": "2019-2020",
         "rawType": "object",
         "type": "unknown"
        },
        {
         "name": "2021-2022",
         "rawType": "object",
         "type": "unknown"
        },
        {
         "name": "2023-2024",
         "rawType": "object",
         "type": "unknown"
        },
        {
         "name": "2025-2026",
         "rawType": "object",
         "type": "unknown"
        }
       ],
       "conversionMethod": "pd.DataFrame",
       "ref": "5a91f430-7986-4cb6-a679-2fd0f8782c37",
       "rows": [
        [
         "session_id",
         "30",
         "82",
         "993",
         "1120",
         "1400",
         "1624",
         "1791",
         "2016",
         "2172"
        ],
        [
         "state_id",
         "5",
         "5",
         "5",
         "5",
         "5",
         "5",
         "5",
         "5",
         "5"
        ],
        [
         "state_abbr",
         "CA",
         "CA",
         "CA",
         "CA",
         "CA",
         "CA",
         "CA",
         "CA",
         "CA"
        ],
        [
         "year_start",
         "2009",
         "2011",
         "2013",
         "2015",
         "2017",
         "2019",
         "2021",
         "2023",
         "2025"
        ],
        [
         "year_end",
         "2010",
         "2012",
         "2014",
         "2016",
         "2018",
         "2020",
         "2022",
         "2024",
         "2026"
        ]
       ],
       "shape": {
        "columns": 9,
        "rows": 5
       }
      },
      "text/html": [
       "<div>\n",
       "<style scoped>\n",
       "    .dataframe tbody tr th:only-of-type {\n",
       "        vertical-align: middle;\n",
       "    }\n",
       "\n",
       "    .dataframe tbody tr th {\n",
       "        vertical-align: top;\n",
       "    }\n",
       "\n",
       "    .dataframe thead th {\n",
       "        text-align: right;\n",
       "    }\n",
       "</style>\n",
       "<table border=\"1\" class=\"dataframe\">\n",
       "  <thead>\n",
       "    <tr style=\"text-align: right;\">\n",
       "      <th></th>\n",
       "      <th>2009-2010</th>\n",
       "      <th>2011-2012</th>\n",
       "      <th>2013-2014</th>\n",
       "      <th>2015-2016</th>\n",
       "      <th>2017-2018</th>\n",
       "      <th>2019-2020</th>\n",
       "      <th>2021-2022</th>\n",
       "      <th>2023-2024</th>\n",
       "      <th>2025-2026</th>\n",
       "    </tr>\n",
       "  </thead>\n",
       "  <tbody>\n",
       "    <tr>\n",
       "      <th>session_id</th>\n",
       "      <td>30</td>\n",
       "      <td>82</td>\n",
       "      <td>993</td>\n",
       "      <td>1120</td>\n",
       "      <td>1400</td>\n",
       "      <td>1624</td>\n",
       "      <td>1791</td>\n",
       "      <td>2016</td>\n",
       "      <td>2172</td>\n",
       "    </tr>\n",
       "    <tr>\n",
       "      <th>state_id</th>\n",
       "      <td>5</td>\n",
       "      <td>5</td>\n",
       "      <td>5</td>\n",
       "      <td>5</td>\n",
       "      <td>5</td>\n",
       "      <td>5</td>\n",
       "      <td>5</td>\n",
       "      <td>5</td>\n",
       "      <td>5</td>\n",
       "    </tr>\n",
       "    <tr>\n",
       "      <th>state_abbr</th>\n",
       "      <td>CA</td>\n",
       "      <td>CA</td>\n",
       "      <td>CA</td>\n",
       "      <td>CA</td>\n",
       "      <td>CA</td>\n",
       "      <td>CA</td>\n",
       "      <td>CA</td>\n",
       "      <td>CA</td>\n",
       "      <td>CA</td>\n",
       "    </tr>\n",
       "    <tr>\n",
       "      <th>year_start</th>\n",
       "      <td>2009</td>\n",
       "      <td>2011</td>\n",
       "      <td>2013</td>\n",
       "      <td>2015</td>\n",
       "      <td>2017</td>\n",
       "      <td>2019</td>\n",
       "      <td>2021</td>\n",
       "      <td>2023</td>\n",
       "      <td>2025</td>\n",
       "    </tr>\n",
       "    <tr>\n",
       "      <th>year_end</th>\n",
       "      <td>2010</td>\n",
       "      <td>2012</td>\n",
       "      <td>2014</td>\n",
       "      <td>2016</td>\n",
       "      <td>2018</td>\n",
       "      <td>2020</td>\n",
       "      <td>2022</td>\n",
       "      <td>2024</td>\n",
       "      <td>2026</td>\n",
       "    </tr>\n",
       "  </tbody>\n",
       "</table>\n",
       "</div>"
      ],
      "text/plain": [
       "           2009-2010 2011-2012 2013-2014 2015-2016 2017-2018 2019-2020  \\\n",
       "session_id        30        82       993      1120      1400      1624   \n",
       "state_id           5         5         5         5         5         5   \n",
       "state_abbr        CA        CA        CA        CA        CA        CA   \n",
       "year_start      2009      2011      2013      2015      2017      2019   \n",
       "year_end        2010      2012      2014      2016      2018      2020   \n",
       "\n",
       "           2021-2022 2023-2024 2025-2026  \n",
       "session_id      1791      2016      2172  \n",
       "state_id           5         5         5  \n",
       "state_abbr        CA        CA        CA  \n",
       "year_start      2021      2023      2025  \n",
       "year_end        2022      2024      2026  "
      ]
     },
     "execution_count": 9,
     "metadata": {},
     "output_type": "execute_result"
    }
   ],
   "source": [
    "# Convert the sessionList to a pandas DataFrame\n",
    "sessionDf = pd.DataFrame(sessionList)\n",
    "sessionDf.head()"
   ]
  },
  {
   "cell_type": "markdown",
   "id": "cd1cb8b1",
   "metadata": {},
   "source": [
    "We need to compare the session list we obtained from the Legiscan API with the previous session list (stored in the disk under `data/lookup/sessionList.json`). Here, we open the stored session list into a new dictionary called `sessionListStored`."
   ]
  },
  {
   "cell_type": "code",
   "execution_count": 10,
   "id": "de1789a8",
   "metadata": {},
   "outputs": [],
   "source": [
    "# Obtain the stored sessions list from JSON dictionary on disk (data/lookup directory)\n",
    "sessionListStored = legiscan.getStoredData(dataType = \"session\")"
   ]
  },
  {
   "cell_type": "markdown",
   "id": "a9f37022",
   "metadata": {},
   "source": [
    "Now that we have both the session lists (the one from the legiscan api, `sessionList`, and the stored version, `sessionListStored`), we can compare them. We will check if the session list from the LegiScan API is the same as the session list stored in the disk. If they are not the same, we will first identify which sessions need updating, and will later update the stored session list with the new session list from the LegiScan API. We will also check if there are any new sessions that have been added to the LegiScan API since the last time we retrieved the session list.\n",
    "\n",
    "The function method `matchHash` from the legiscan module class, uses the hash values to compare the two lists. In this case the relevant JSON keys are `sesion_hash` for each `session_id`."
   ]
  },
  {
   "cell_type": "code",
   "execution_count": 11,
   "id": "83c52cbd",
   "metadata": {},
   "outputs": [
    {
     "name": "stdout",
     "output_type": "stream",
     "text": [
      "All sessions match\n"
     ]
    }
   ],
   "source": [
    "# Compare the sessionList and sessionListStored dictionaries for any changes\n",
    "unmatchedSessions = legiscan.matchHash(sessionList, sessionListStored, hashType = \"session\", silent = True)\n",
    "\n",
    "# if the unmatchedSessions is empty, print \"All sessions match\", and delete the unmatchedSessions variable\n",
    "if unmatchedSessions is None:\n",
    "    print(\"All sessions match\")\n",
    "    del unmatchedSessions\n",
    "else:\n",
    "    print(\"Unmatched sessions found\")\n",
    "    # Print the unmatched sessions\n",
    "    print(unmatchedSessions)"
   ]
  },
  {
   "cell_type": "markdown",
   "id": "fafdae3c",
   "metadata": {},
   "source": [
    "Export the LegiScan query records to the `data/legis/json` directory as a JSON file for future reference."
   ]
  },
  {
   "cell_type": "code",
   "execution_count": 12,
   "id": "ef0f45d0",
   "metadata": {},
   "outputs": [],
   "source": [
    "# Export the sessionList to a JSON file in the data/legiscan/json directory\n",
    "with open(os.path.join(prjDirs[\"pathDataLegis\"], \"json\", \"sessionList.json\"), \"w\", encoding=\"utf-8\") as f:\n",
    "    json.dump(sessionList, f, ensure_ascii=False, indent=4)\n",
    "del f"
   ]
  },
  {
   "cell_type": "markdown",
   "id": "fea47018",
   "metadata": {},
   "source": [
    "If needed update the stored session list with the new session list from the LegiScan API."
   ]
  },
  {
   "cell_type": "code",
   "execution_count": 13,
   "id": "a4cc057d",
   "metadata": {},
   "outputs": [],
   "source": [
    "# Update the stored sessions list with the new sessionList\n",
    "with open(os.path.join(prjDirs[\"pathDataLookup\"], \"sessionListStored.json\"), \"w\", encoding=\"utf-8\") as f:\n",
    "    json.dump(sessionList, f, ensure_ascii=False, indent=4)\n",
    "del f"
   ]
  },
  {
   "cell_type": "markdown",
   "id": "907241db",
   "metadata": {},
   "source": [
    "<h2 style='font-weight:bold; color:dodgerblue; border-bottom: 1px solid dodgerblue; padding-left: 25px'>2.2. Session People</h2>"
   ]
  },
  {
   "cell_type": "code",
   "execution_count": null,
   "id": "f599eaa5",
   "metadata": {},
   "outputs": [],
   "source": [
    "mdt(2, \"2.2. Session People\")"
   ]
  },
  {
   "cell_type": "markdown",
   "id": "470f8fa0",
   "metadata": {},
   "source": [
    "In this step, we will obtain the list of California legislature members (Senate and Assembly) for each of the legislative sessions. This will be used to get the list of members for each session. The session ID is needed to retrieve the members for each session. We will use the LegiScan API to retrieve the list of members for each session.\n",
    "\n",
    "The `legiscan.getSessionPeople` method retrieves the list of members for each session. The session ID is passed as an argument to the method. The method returns a list of members for each session. The list of members is stored in a dictionary called `sessionPeople`. The dictionary contains the session ID as the key and the list of members as the value."
   ]
  },
  {
   "cell_type": "code",
   "execution_count": 14,
   "id": "3865b9c7",
   "metadata": {},
   "outputs": [],
   "source": [
    "# Get the list of session people from LegiScan\n",
    "sessionPeople = {}\n",
    "for key, value in sessionList.items():\n",
    "    sessionId = value[\"session_id\"]\n",
    "    sessionPeople[key] = legiscan.getSessionPeople(sessionId)\n",
    "del key, value, sessionId"
   ]
  },
  {
   "cell_type": "markdown",
   "id": "e98b2cd9",
   "metadata": {},
   "source": [
    "Similarly with the legislative session list, we will compare the session people list we obtained from the LegiScan API with the previous session people list (stored in the disk under `data/lookup/sessionPeople.json`). Here, we open the stored session people list into a new dictionary called `sessionPeopleStored`."
   ]
  },
  {
   "cell_type": "code",
   "execution_count": 15,
   "id": "589fb5a4",
   "metadata": {},
   "outputs": [],
   "source": [
    "# Obtain the stored session People list from JSON dictionary on disk (data/lookup directory)\n",
    "sessionPeopleStored = legiscan.getStoredData(dataType = \"people\")"
   ]
  },
  {
   "cell_type": "markdown",
   "id": "814d8ccb",
   "metadata": {},
   "source": [
    "This time, the task is not that simple, since `sessionPeople` lists are nested for each session. The comparison of the Legislature members needs to be done in a loop for each session. In the following code segment, we perform this task in sequential steps:\n",
    "\n",
    "1. Create a dictionary named `unmatchedPeople` to hold the unmatched session people (will be nested for each session).\n",
    "2. Loop through the `sessionPeople` and `sessionPeopleStored` dictionaries to compare the session people lists for each session.\n",
    "3. For each session, compare the session people lists and store the unmatched session people in the `unmatchedSessionPeople` dictionary, based on the `person_hash` key attribute on both lists. We will use the `matchHash` method from the `legiscan` module to compare the two lists.\n",
    "4. If there are any unmatched session people, we will update the `unmatchedPeople` dictionary with the unmatched session people (for each session).\n",
    "5. Finally, we will check if there are any unmatched session people in the `unmatchedPeople` dictionary. If there are, we will update the `sessionPeopleStored` dictionary with the unmatched session people and save it to the disk. "
   ]
  },
  {
   "cell_type": "code",
   "execution_count": 16,
   "id": "d1b6dc94",
   "metadata": {},
   "outputs": [
    {
     "name": "stdout",
     "output_type": "stream",
     "text": [
      "All people match\n"
     ]
    }
   ],
   "source": [
    "# Compare the sessionPeople and sessionPeopleStored dictionaries for any changes\n",
    "# Create a dictionary to store unmatched people\n",
    "unmatchedPeople = {}\n",
    "# Iterate through each session and compare the people lists\n",
    "for key, value in sessionPeople.items():\n",
    "    unmatchedPeople[key] = {}\n",
    "    unmatched = legiscan.matchHash(sessionPeople[key][\"people\"], sessionPeopleStored[key][\"people\"], hashType = \"person\", silent = True)\n",
    "    # If there are unmatched people, store them in the unmatchedPeople dictionary\n",
    "    unmatchedPeople[key] = unmatched if unmatched is not None else None\n",
    "del key, value, unmatched\n",
    "\n",
    "# if the unmatchedPeople is empty, print \"All people match\", and delete the unmatchedPeople variable\n",
    "if all(not value for value in unmatchedPeople.values()):\n",
    "    print(\"All people match\")\n",
    "    # Delete the unmatchedPeople variable\n",
    "    del unmatchedPeople\n",
    "else:\n",
    "    print(\"Unmatched people found\")\n",
    "    # Print the unmatched sessions\n",
    "    print(unmatchedPeople)"
   ]
  },
  {
   "cell_type": "markdown",
   "id": "3a05c410",
   "metadata": {},
   "source": [
    "Export the LegiScan query data for the session people to the `data/legis/json' directory for future reference."
   ]
  },
  {
   "cell_type": "code",
   "execution_count": 17,
   "id": "891071b5",
   "metadata": {},
   "outputs": [],
   "source": [
    "# Export the sessionPeople to a JSON file in the data/legiscan/json directory\n",
    "with open(os.path.join(prjDirs[\"pathDataLegis\"], \"json\", \"sessionPeople.json\"), \"w\", encoding=\"utf-8\") as f:\n",
    "    json.dump(sessionPeople, f, ensure_ascii=False, indent=4)\n",
    "del f"
   ]
  },
  {
   "cell_type": "markdown",
   "id": "ade46b74",
   "metadata": {},
   "source": [
    "If needed update the stored session people list with the new session people list from the LegiScan API."
   ]
  },
  {
   "cell_type": "code",
   "execution_count": 18,
   "id": "d1350014",
   "metadata": {},
   "outputs": [],
   "source": [
    "# Update the stored session People list with the new sessionPeople\n",
    "with open(os.path.join(prjDirs[\"pathDataLookup\"], \"sessionPeopleStored.json\"), \"w\", encoding=\"utf-8\") as f:\n",
    "    json.dump(sessionPeople, f, ensure_ascii=False, indent=4)\n",
    "del f"
   ]
  },
  {
   "cell_type": "markdown",
   "id": "5829436c",
   "metadata": {},
   "source": [
    "<h2 style='font-weight:bold; color:dodgerblue; border-bottom: 1px solid dodgerblue; padding-left: 25px'>2.3. Dataset List</h2>"
   ]
  },
  {
   "cell_type": "code",
   "execution_count": null,
   "id": "eeb8ed3a",
   "metadata": {},
   "outputs": [],
   "source": [
    "mdt(2, \"2.3. Dataset List\")"
   ]
  },
  {
   "cell_type": "markdown",
   "id": "9afdc0fa",
   "metadata": {},
   "source": [
    "In this session we will obtain the list of datasets and their attributes for each of the California Legislative Session from LegiScan. This process is needed to obtain the dataset `access_key` for each session, and consequently to use it in query dataset data in a further step.\n",
    "\n",
    "The `legiscan.getDatasetList` method retrieves the list of datasets for each session. The session ID is passed as an argument to the method. The method returns a list of datasets for each session. The list of datasets is stored in a dictionary called `datasetList`. The dictionary contains the session ID as the key and the list of datasets as the value."
   ]
  },
  {
   "cell_type": "code",
   "execution_count": 19,
   "id": "60379275",
   "metadata": {},
   "outputs": [],
   "source": [
    "# Get the list of datasets from LegiScan for each legislative session\n",
    "datasetList = legiscan.getDatasetList()"
   ]
  },
  {
   "cell_type": "markdown",
   "id": "95891ea2",
   "metadata": {},
   "source": [
    "Obtain the stored dataset list from the disk. The list will be used to compare with the LegiScan API dataset list. The stored dataset list is stored in the `data/lookup/datasetList.json` file. The dataset list contains the list of datasets for each session. The dataset ID is needed to retrieve the datasets for each session. We will use the LegiScan API to retrieve the list of datasets for each session. Here, we open the stored dataset list into a new dictionary called `datasetListStored`."
   ]
  },
  {
   "cell_type": "code",
   "execution_count": 20,
   "id": "c59f42ae",
   "metadata": {},
   "outputs": [],
   "source": [
    "# Obtain the stored dataset list from JSON dictionary on disk (data/lookup directory)\n",
    "datasetListStored = legiscan.getStoredData(dataType = \"dataset\")"
   ]
  },
  {
   "cell_type": "markdown",
   "id": "d69cc3c6",
   "metadata": {},
   "source": [
    "Now that we have both the dataset lists (the one from the legiscan api, `datasetList`, and the stored version, `datasetListStored`), we can compare them. We will check if the dataset list from the LegiScan API is the same as the dataset list stored in the disk. If they are not the same, we will first identify which datasets need updating, and will later update the stored dataset list with the new dataset list from the LegiScan API. We will also check if there are any new datasets that have been added to the LegiScan API since the last time we retrieved the session list.\n",
    "\n",
    "The function method `matchHash` from the legiscan module class, uses the hash values to compare the two lists. In this case the relevant JSON keys are `dataset_hash` for each `session_id`."
   ]
  },
  {
   "cell_type": "code",
   "execution_count": 21,
   "id": "bfc98217",
   "metadata": {},
   "outputs": [
    {
     "name": "stdout",
     "output_type": "stream",
     "text": [
      "All datasets match\n"
     ]
    }
   ],
   "source": [
    "# Compare the datasetList and datasetListStored dictionaries for any changes\n",
    "unmatchedDatasets = legiscan.matchHash(datasetList, datasetListStored, hashType = \"dataset\", silent = True)\n",
    "\n",
    "# if the unmatchedSessions is empty, print \"All sessions match\", and delete the unmatchedSessions variable\n",
    "if unmatchedDatasets is None:\n",
    "    print(\"All datasets match\")\n",
    "    del unmatchedDatasets\n",
    "else:\n",
    "    print(\"Unmatched datasets found\")\n",
    "    # Print the unmatched sessions\n",
    "    print(unmatchedDatasets)"
   ]
  },
  {
   "cell_type": "markdown",
   "id": "7e76c862",
   "metadata": {},
   "source": [
    "Export the LegiScan query records to the `data/legis/json` directory as a JSON file for future reference."
   ]
  },
  {
   "cell_type": "code",
   "execution_count": 22,
   "id": "bf32ce01",
   "metadata": {},
   "outputs": [],
   "source": [
    "# export the datasetList to a JSON file in the data/legis/json directory\n",
    "with open(os.path.join(prjDirs[\"pathDataLegis\"], \"json\", \"datasetList.json\"), \"w\", encoding=\"utf-8\") as f:\n",
    "    json.dump(datasetList, f, ensure_ascii=False, indent=4)\n",
    "del f"
   ]
  },
  {
   "cell_type": "markdown",
   "id": "b814be36",
   "metadata": {},
   "source": [
    "Update the stored dataset list with the new dataset list from the LegiScan API."
   ]
  },
  {
   "cell_type": "code",
   "execution_count": 23,
   "id": "51443b9d",
   "metadata": {},
   "outputs": [],
   "source": [
    "# Update the stored dataset list with the new datasetList\n",
    "with open(os.path.join(prjDirs[\"pathDataLookup\"], \"datasetListStored.json\"), \"w\", encoding=\"utf-8\") as f:\n",
    "    json.dump(datasetList, f, ensure_ascii=False, indent=4)\n",
    "del f"
   ]
  },
  {
   "cell_type": "markdown",
   "id": "c2eaab25",
   "metadata": {},
   "source": [
    "<h2 style='font-weight:bold; color:dodgerblue; border-bottom: 1px solid dodgerblue; padding-left: 25px'>2.4. Master List</h2>"
   ]
  },
  {
   "cell_type": "code",
   "execution_count": null,
   "id": "1136578c",
   "metadata": {},
   "outputs": [],
   "source": [
    "mdt(2, \"2.4. Master List\")"
   ]
  },
  {
   "cell_type": "markdown",
   "id": "68f1f61f",
   "metadata": {},
   "source": [
    "This step is to obtain the master list of datasets for each session. The master list contains the list of bills for each legislative session. The master list is used to get the list of bills for each session. The session ID is needed to retrieve the bills for each session. We will use the LegiScan API to retrieve the list of bills for each session.\n",
    "\n",
    "There are two options for this method. The first obtains the master list with bill attributes (when `raw = False`), and the second obtains the raw master list containing only the bill_ID and hash (when `raw = True`)\n",
    "\n",
    "We will use the `legiscan.getMasterList(sessionID, raw)` method and will store the results in a dictionary called `masterList` or `masterListRaw` depending on the option provided in the method invocation."
   ]
  },
  {
   "cell_type": "code",
   "execution_count": 24,
   "id": "9da1467b",
   "metadata": {},
   "outputs": [],
   "source": [
    "# Get the Raw Master List from LegiScan for each legislative session\n",
    "masterListRaw = {}\n",
    "for key, value in sessionList.items():\n",
    "    sessionId = value[\"session_id\"]\n",
    "    masterListRaw[key] = legiscan.getMasterList(sessionId, raw = True)\n",
    "del key, value, sessionId"
   ]
  },
  {
   "cell_type": "code",
   "execution_count": 25,
   "id": "626c444b",
   "metadata": {},
   "outputs": [],
   "source": [
    "# Get the Master List from LegiScan for each legislative session\n",
    "masterList = {}\n",
    "for key, value in sessionList.items():\n",
    "    sessionId = value[\"session_id\"]\n",
    "    masterList[key] = legiscan.getMasterList(sessionId, raw = False)\n",
    "del key, value, sessionId"
   ]
  },
  {
   "cell_type": "markdown",
   "id": "27cc41f9",
   "metadata": {},
   "source": [
    "Obtain the stored master lists (both the raw and full) from the disk. The lists will be used to compare each bill with the LegiScan API master list. The stored dataset list is stored in the `data/lookup/mastertList.json` or `data/lookup/masterListRaw.json` files. The master lists contain the list of bills for each session. The dataset ID is needed to retrieve the bills for each session. We will use the LegiScan API to retrieve the list of datasets for each session. Here, we open the stored dataset list into a new dictionary called `masterListStored` and `masterListRawStored`."
   ]
  },
  {
   "cell_type": "code",
   "execution_count": 26,
   "id": "7c6c7eb2",
   "metadata": {},
   "outputs": [],
   "source": [
    "# Get the stored raw master list from JSON dictionary on disk (data/lookup directory)\n",
    "masterListRawStored = legiscan.getStoredData(dataType = \"master\", raw = True)\n",
    "# Get the stored master list from JSON dictionary on disk (data/lookup directory)\n",
    "masterListStored = legiscan.getStoredData(dataType = \"master\", raw = False)"
   ]
  },
  {
   "cell_type": "markdown",
   "id": "909f137e",
   "metadata": {},
   "source": [
    "Now that we have both the master lists (the one from the legiscan api, `masterListRaw`, and the stored version, `masterListRawStored`), we can compare them. We will check if the master list from the LegiScan API is the same as the master list stored in the disk. If they are not the same, we will first identify which bills need updating, and will later update the stored master list with the new master list from the LegiScan API. We will also check if there are any new bills that have been added to the LegiScan API since the last time we retrieved the session list.\n",
    "\n",
    "The function method `matchHash` from the legiscan module class, uses the hash values to compare the two lists. In this case the relevant JSON keys are `chanbe_hash` for each `session_id`."
   ]
  },
  {
   "cell_type": "code",
   "execution_count": 27,
   "id": "6ab1ade4",
   "metadata": {},
   "outputs": [
    {
     "name": "stdout",
     "output_type": "stream",
     "text": [
      "All master lists match\n"
     ]
    }
   ],
   "source": [
    "# Compare the masterList and masterListStored dictionaries for any changes\n",
    "# Create a dictionary to store unmatched bills\n",
    "unmatchedMasterList = {}\n",
    "# Iterate through each session and compare the bills lists\n",
    "for key, value in masterList.items():\n",
    "    unmatchedMasterList[key] = {}\n",
    "    unmatched = legiscan.matchHash(masterList[key][\"bills\"], masterListStored[key][\"bills\"], hashType = \"change\", silent = True)\n",
    "    # If there are unmatched bills, store them in the unmatchedMasterList dictionary\n",
    "    unmatchedMasterList[key] = unmatched if unmatched is not None else None\n",
    "del key, value, unmatched\n",
    "\n",
    "if all(not value for value in unmatchedMasterList.values()):\n",
    "    print(\"All master lists match\")\n",
    "    # Delete the unmatchedMasterList variable\n",
    "    del unmatchedMasterList\n",
    "else:\n",
    "    print(\"Unmatched master lists found\")\n",
    "    # Print the unmatched sessions\n",
    "    print(unmatchedMasterList)"
   ]
  },
  {
   "cell_type": "code",
   "execution_count": 28,
   "id": "56bc2563",
   "metadata": {},
   "outputs": [
    {
     "name": "stdout",
     "output_type": "stream",
     "text": [
      "All master lists match\n"
     ]
    }
   ],
   "source": [
    "# Compare the masterList and masterListStored dictionaries for any changes\n",
    "# Create a dictionary to store unmatched bills\n",
    "unmatchedMasterListRaw = {}\n",
    "# Iterate through each session and compare the bills lists\n",
    "for key, value in masterListRaw.items():\n",
    "    unmatchedMasterListRaw[key] = {}\n",
    "    unmatched = legiscan.matchHash(masterListRaw[key][\"bills\"], masterListRawStored[key][\"bills\"], hashType = \"change\", silent = True)\n",
    "    # If there are unmatched bills, store them in the unmatchedMasterList dictionary\n",
    "    unmatchedMasterListRaw[key] = unmatched if unmatched is not None else None\n",
    "del key, value, unmatched\n",
    "\n",
    "if all(not value for value in unmatchedMasterListRaw.values()):\n",
    "    print(\"All master lists match\")\n",
    "    # Delete the unmatchedMasterList variable\n",
    "    del unmatchedMasterListRaw\n",
    "else:\n",
    "    print(\"Unmatched master lists found\")\n",
    "    # Print the unmatched sessions\n",
    "    print(unmatchedMasterListRaw)"
   ]
  },
  {
   "cell_type": "markdown",
   "id": "11df3310",
   "metadata": {},
   "source": [
    "Export both the LegiScan query records (raw and full master list) to the `data/legis/json` directory as a JSON file for future reference."
   ]
  },
  {
   "cell_type": "code",
   "execution_count": 29,
   "id": "bffb99d9",
   "metadata": {},
   "outputs": [],
   "source": [
    "# export the raw master list to a JSON file in the data/legis/json directory\n",
    "with open(os.path.join(prjDirs[\"pathDataLegis\"], \"json\", \"masterListRaw.json\"), \"w\", encoding=\"utf-8\") as f:\n",
    "    json.dump(masterListRaw, f, ensure_ascii=False, indent=4)\n",
    "del f"
   ]
  },
  {
   "cell_type": "code",
   "execution_count": 30,
   "id": "bf69f71f",
   "metadata": {},
   "outputs": [],
   "source": [
    "# export the master list to a JSON file in the data/legis/json directory\n",
    "with open(os.path.join(prjDirs[\"pathDataLegis\"], \"json\", \"masterList.json\"), \"w\", encoding=\"utf-8\") as f:\n",
    "    json.dump(masterList, f, ensure_ascii=False, indent=4)\n",
    "del f"
   ]
  },
  {
   "cell_type": "markdown",
   "id": "8e5c84c4",
   "metadata": {},
   "source": [
    "If needed update the stored session people list with the new session people list from the LegiScan API."
   ]
  },
  {
   "cell_type": "code",
   "execution_count": 31,
   "id": "5e06e165",
   "metadata": {},
   "outputs": [],
   "source": [
    "# Update the stored raw master list with the new masterListRaw\n",
    "with open(os.path.join(prjDirs[\"pathDataLookup\"], \"masterListRawStored.json\"), \"w\", encoding=\"utf-8\") as f:\n",
    "    json.dump(masterListRaw, f, ensure_ascii=False, indent=4)\n",
    "del f"
   ]
  },
  {
   "cell_type": "code",
   "execution_count": 32,
   "id": "80d6f796",
   "metadata": {},
   "outputs": [],
   "source": [
    "# Update the master list with the new masterList\n",
    "with open(os.path.join(prjDirs[\"pathDataLookup\"], \"masterListStored.json\"), \"w\", encoding=\"utf-8\") as f:\n",
    "    json.dump(masterList, f, ensure_ascii=False, indent=4)\n",
    "del f"
   ]
  },
  {
   "cell_type": "markdown",
   "id": "7d8d4b7d",
   "metadata": {},
   "source": [
    "<h1 style='font-weight:bold; color:orangered; border-bottom: 2px solid orangered'>3. Bill Monitoring Operations</h1>"
   ]
  },
  {
   "cell_type": "markdown",
   "id": "b6f928b4",
   "metadata": {},
   "source": [
    "<h2 style='font-weight:bold; color:dodgerblue; border-bottom: 1px solid dodgerblue; padding-left: 25px'>3.1. LegiScan AI Search Query</h2>"
   ]
  },
  {
   "cell_type": "code",
   "execution_count": null,
   "id": "9598e984",
   "metadata": {},
   "outputs": [],
   "source": [
    "mdt(1, \"3. Bill Monitoring Operations\")\n",
    "mdt(2, \"3.1. LegiScan AI Search Query\")"
   ]
  },
  {
   "cell_type": "markdown",
   "id": "8f034a81",
   "metadata": {},
   "source": [
    "First, and foremost, we need to update the list of bills to be monitored, based on the LegiScan API search query. The search query is used to retrieve the list of bills that match the term `artificial intelligence` within a given relevance threshold for each legislative session.\n",
    "\n",
    "We will use the `legiscan.aiSearchQuery` method to retrieve the list of bills that match the search query. The search query is encoded as an internal argument to the method. The method returns a list of bills that match the search query. The list of bills is stored in a dictionary called `aiBillList`."
   ]
  },
  {
   "cell_type": "code",
   "execution_count": 33,
   "id": "b95bee53",
   "metadata": {},
   "outputs": [
    {
     "name": "stdout",
     "output_type": "stream",
     "text": [
      "SB836: Bill 577638 added to monitor list with stance watch\n",
      "SB860: Bill 581712 added to monitor list with stance watch\n",
      "AB1465: Bill 581806 added to monitor list with stance watch\n",
      "3 bills\n",
      "2013-2014\n",
      "\n",
      "ACR215: Bill 1111231 added to monitor list with stance watch\n",
      "AB2662: Bill 1090551 added to monitor list with stance watch\n",
      "SB1470: Bill 1092270 added to monitor list with stance watch\n",
      "3 bills\n",
      "2017-2018\n",
      "\n",
      "AB594: Bill 1205261 added to monitor list with stance watch\n",
      "AB1576: Bill 1216111 added to monitor list with stance watch\n",
      "SB348: Bill 1210745 added to monitor list with stance watch\n",
      "SJR6: Bill 1237237 added to monitor list with stance watch\n",
      "AB459: Bill 1199608 added to monitor list with stance watch\n",
      "AB976: Bill 1214383 added to monitor list with stance watch\n",
      "SB444: Bill 1214166 added to monitor list with stance watch\n",
      "SB730: Bill 1215535 added to monitor list with stance watch\n",
      "AB156: Bill 1140154 added to monitor list with stance watch\n",
      "AB485: Bill 1200933 added to monitor list with stance watch\n",
      "SCR13: Bill 1205432 added to monitor list with stance watch\n",
      "ACR125: Bill 1272951 added to monitor list with stance watch\n",
      "AB3317: Bill 1347660 added to monitor list with stance watch\n",
      "SB752: Bill 1215850 added to monitor list with stance watch\n",
      "AB2269: Bill 1341577 added to monitor list with stance watch\n",
      "AB3339: Bill 1347682 added to monitor list with stance watch\n",
      "16 bills\n",
      "2019-2020\n",
      "\n",
      "SB1216: Bill 1593803 added to monitor list with stance watch\n",
      "AB587: Bill 1450081 added to monitor list with stance watch\n",
      "AB13: Bill 1385509 added to monitor list with stance watch\n",
      "AB1545: Bill 1459096 added to monitor list with stance watch\n",
      "SB54: Bill 1385430 added to monitor list with stance watch\n",
      "AB1400: Bill 1458951 added to monitor list with stance watch\n",
      "SB1018: Bill 1590455 added to monitor list with stance watch\n",
      "SR11: Bill 1453532 added to monitor list with stance watch\n",
      "AB2826: Bill 1594657 added to monitor list with stance watch\n",
      "AB2224: Bill 1592488 added to monitor list with stance watch\n",
      "AB1651: Bill 1559219 added to monitor list with stance watch\n",
      "11 bills\n",
      "2021-2022\n",
      "\n",
      "SB1288: Bill 1848589 added to monitor list with stance watch\n",
      "SB896: Bill 1796695 added to monitor list with stance watch\n",
      "AB2013: Bill 1834299 added to monitor list with stance watch\n",
      "SB1047: Bill 1840453 added to monitor list with stance watch\n",
      "AB2652: Bill 1847401 added to monitor list with stance watch\n",
      "AB3030: Bill 1849339 added to monitor list with stance watch\n",
      "AB2355: Bill 1845122 added to monitor list with stance watch\n",
      "SB893: Bill 1796692 added to monitor list with stance watch\n",
      "SB1120: Bill 1846289 added to monitor list with stance watch\n",
      "AB1831: Bill 1813231 added to monitor list with stance watch\n",
      "AB2885: Bill 1848433 added to monitor list with stance watch\n",
      "SB892: Bill 1796691 added to monitor list with stance watch\n",
      "SB1235: Bill 1848536 added to monitor list with stance watch\n",
      "SB942: Bill 1819737 added to monitor list with stance watch\n",
      "SB970: Bill 1829037 added to monitor list with stance watch\n",
      "SB721: Bill 1712200 added to monitor list with stance watch\n",
      "AB2876: Bill 1848424 added to monitor list with stance watch\n",
      "SB933: Bill 1814918 added to monitor list with stance watch\n",
      "AB331: Bill 1686429 added to monitor list with stance watch\n",
      "AB2811: Bill 1848359 added to monitor list with stance watch\n",
      "SB313: Bill 1697069 added to monitor list with stance watch\n",
      "AB3204: Bill 1849513 added to monitor list with stance watch\n",
      "AB2905: Bill 1848453 added to monitor list with stance watch\n",
      "SB1220: Bill 1848521 added to monitor list with stance watch\n",
      "AB2877: Bill 1848425 added to monitor list with stance watch\n",
      "SB398: Bill 1702816 added to monitor list with stance watch\n",
      "AB3058: Bill 1849367 added to monitor list with stance watch\n",
      "AB3211: Bill 1849520 added to monitor list with stance watch\n",
      "SB1229: Bill 1848530 added to monitor list with stance watch\n",
      "AB1282: Bill 1712027 added to monitor list with stance watch\n",
      "SB1381: Bill 1849659 added to monitor list with stance watch\n",
      "AB2930: Bill 1848478 added to monitor list with stance watch\n",
      "AB2839: Bill 1848387 added to monitor list with stance watch\n",
      "AB2370: Bill 1845137 added to monitor list with stance watch\n",
      "AB1824: Bill 1812205 added to monitor list with stance watch\n",
      "AB1791: Bill 1798416 added to monitor list with stance watch\n",
      "AB2602: Bill 1847351 added to monitor list with stance watch\n",
      "SB294: Bill 1693943 added to monitor list with stance watch\n",
      "SCR17: Bill 1686454 added to monitor list with stance watch\n",
      "AB2655: Bill 1847404 added to monitor list with stance watch\n",
      "AB302: Bill 1683775 added to monitor list with stance watch\n",
      "AB2058: Bill 1835452 added to monitor list with stance watch\n",
      "AB1027: Bill 1709727 added to monitor list with stance watch\n",
      "SB1446: Bill 1849724 added to monitor list with stance watch\n",
      "AJR6: Bill 1761500 added to monitor list with stance watch\n",
      "AB459: Bill 1697048 added to monitor list with stance watch\n",
      "ACR96: Bill 1771300 added to monitor list with stance watch\n",
      "SCR121: Bill 1860070 added to monitor list with stance watch\n",
      "AB1008: Bill 1709708 added to monitor list with stance watch\n",
      "SB1228: Bill 1848529 added to monitor list with stance watch\n",
      "AB2412: Bill 1845179 added to monitor list with stance watch\n",
      "AB3095: Bill 1849404 added to monitor list with stance watch\n",
      "AB1526: Bill 1714444 added to monitor list with stance watch\n",
      "AB1873: Bill 1824468 added to monitor list with stance watch\n",
      "SCR162: Bill 1882346 added to monitor list with stance watch\n",
      "ACR227: Bill 1885654 added to monitor list with stance watch\n",
      "AB3050: Bill 1849359 added to monitor list with stance watch\n",
      "AB2200: Bill 1840414 added to monitor list with stance watch\n",
      "AB2512: Bill 1846229 added to monitor list with stance watch\n",
      "AB863: Bill 1707510 added to monitor list with stance watch\n",
      "SB1070: Bill 1845188 added to monitor list with stance watch\n",
      "SB1223: Bill 1848524 added to monitor list with stance watch\n",
      "SB1154: Bill 1847496 added to monitor list with stance watch\n",
      "ACR219: Bill 1883008 added to monitor list with stance watch\n",
      "AB108: Bill 1649620 added to monitor list with stance watch\n",
      "SB108: Bill 1667841 added to monitor list with stance watch\n",
      "AB2928: Bill 1848476 added to monitor list with stance watch\n",
      "AB158: Bill 1649670 added to monitor list with stance watch\n",
      "SB158: Bill 1667891 added to monitor list with stance watch\n",
      "AB100: Bill 1649612 added to monitor list with stance watch\n",
      "AB103: Bill 1649615 added to monitor list with stance watch\n",
      "71 bills\n",
      "2023-2024\n",
      "\n",
      "SB813: Bill 1980543 added to monitor list with stance watch\n",
      "SB420: Bill 1974530 added to monitor list with stance watch\n",
      "SB579: Bill 1978812 added to monitor list with stance watch\n",
      "AB512: Bill 1964699 added to monitor list with stance watch\n",
      "AB412: Bill 1955758 added to monitor list with stance watch\n",
      "SB11: Bill 1893423 added to monitor list with stance watch\n",
      "SB524: Bill 1978757 added to monitor list with stance watch\n",
      "AB1064: Bill 1978599 added to monitor list with stance watch\n",
      "SB833: Bill 1980563 added to monitor list with stance watch\n",
      "AB316: Bill 1941749 added to monitor list with stance watch\n",
      "AB489: Bill 1964676 added to monitor list with stance watch\n",
      "SB53: Bill 1904800 added to monitor list with stance watch\n",
      "SB366: Bill 1970455 added to monitor list with stance watch\n",
      "SB468: Bill 1976550 added to monitor list with stance watch\n",
      "AB410: Bill 1955756 added to monitor list with stance watch\n",
      "AB979: Bill 1978731 added to monitor list with stance watch\n",
      "AB1405: Bill 1980302 added to monitor list with stance watch\n",
      "AB853: Bill 1976440 added to monitor list with stance watch\n",
      "AB1137: Bill 1978672 added to monitor list with stance watch\n",
      "SB503: Bill 1976585 added to monitor list with stance watch\n",
      "SB243: Bill 1949687 added to monitor list with stance watch\n",
      "AB1159: Bill 1978694 added to monitor list with stance watch\n",
      "SB7: Bill 1893452 added to monitor list with stance support\n",
      "SB238: Bill 1947445 added to monitor list with stance watch\n",
      "AB222: Bill 1908207 added to monitor list with stance watch\n",
      "SB384: Bill 1971760 added to monitor list with stance watch\n",
      "AB93: Bill 1904793 added to monitor list with stance watch\n",
      "AB682: Bill 1971712 added to monitor list with stance watch\n",
      "SB771: Bill 1980501 added to monitor list with stance watch\n",
      "AB325: Bill 1943407 added to monitor list with stance watch\n",
      "AB1018: Bill 1978553 added to monitor list with stance watch\n",
      "SB57: Bill 1908210 added to monitor list with stance watch\n",
      "AB723: Bill 1971753 added to monitor list with stance watch\n",
      "AB279: Bill 1933300 added to monitor list with stance watch\n",
      "AB1242: Bill 1980139 added to monitor list with stance watch\n",
      "SJR2: Bill 1990396 added to monitor list with stance watch\n",
      "AB392: Bill 1953081 added to monitor list with stance watch\n",
      "SB259: Bill 1953097 added to monitor list with stance watch\n",
      "SB295: Bill 1961095 added to monitor list with stance watch\n",
      "AB1170: Bill 1980067 added to monitor list with stance watch\n",
      "SB52: Bill 1898373 added to monitor list with stance watch\n",
      "AB1024: Bill 1978559 added to monitor list with stance watch\n",
      "AB887: Bill 1976474 added to monitor list with stance watch\n",
      "SB638: Bill 1978871 added to monitor list with stance watch\n",
      "SB857: Bill 2005483 added to monitor list with stance watch\n",
      "SB354: Bill 1968261 added to monitor list with stance watch\n",
      "46 bills\n",
      "2025-2026\n",
      "\n",
      "Total number of bills added: 150\n"
     ]
    }
   ],
   "source": [
    "# Create a dictionary to store the AI search results\n",
    "aiBillList = {}\n",
    "billCount = 0\n",
    "# Loop through each session in the sessionList\n",
    "for myPeriod, mySession in sessionList.items():\n",
    "    # Get the session ID for the current session\n",
    "    mySessionId = mySession[\"session_id\"]\n",
    "    # Run the AI search query for the current session\n",
    "    aiQuery = legiscan.aiSearchQuery(sessionId = mySessionId, threshold = 75)\n",
    "    # and add it to the aiBillList dictionary\n",
    "    if aiQuery != {}:\n",
    "        print(f\"{myPeriod}\\n\")\n",
    "        aiBillList[myPeriod] = aiQuery\n",
    "        billCount += len(aiBillList[myPeriod])\n",
    "print(f\"Total number of bills added: {billCount}\")\n",
    "del myPeriod, mySession, mySessionId, billCount, aiQuery\n",
    "\n",
    "# reorder the aiBillList dictionary by key in ascending order\n",
    "aiBillList = dict(sorted(aiBillList.items(), key=lambda item: item[0], reverse=False))"
   ]
  },
  {
   "cell_type": "markdown",
   "id": "5e07ec2d",
   "metadata": {},
   "source": [
    "Export the LegiScan query records to the `data/legis/json` directory as a JSON file for future reference."
   ]
  },
  {
   "cell_type": "code",
   "execution_count": 34,
   "id": "72fa9b02",
   "metadata": {},
   "outputs": [],
   "source": [
    "# Export the aiBillList to a JSON file in the data/legis/json directory\n",
    "with open(os.path.join(prjDirs[\"pathDataLegis\"], \"json\", \"aiBillList.json\"), \"w\", encoding=\"utf-8\") as f:\n",
    "    json.dump(aiBillList, f, ensure_ascii=False, indent=4)\n",
    "del f"
   ]
  },
  {
   "cell_type": "markdown",
   "id": "2c209731",
   "metadata": {},
   "source": [
    "<h2 style='font-weight:bold; color:dodgerblue; border-bottom: 1px solid dodgerblue; padding-left: 25px'>3.2. Stored Monitor Bill List</h2>"
   ]
  },
  {
   "cell_type": "code",
   "execution_count": null,
   "id": "8567cb2f",
   "metadata": {},
   "outputs": [],
   "source": [
    "mdt(2, \"3.2. Stored Monitor Bill List\")"
   ]
  },
  {
   "cell_type": "markdown",
   "id": "317cff94",
   "metadata": {},
   "source": [
    "Get the stored monitoring list from the disk"
   ]
  },
  {
   "cell_type": "code",
   "execution_count": 40,
   "id": "bd1555a0",
   "metadata": {},
   "outputs": [],
   "source": [
    "# Get the stored AI bill list from JSON dictionary on disk (data/lookup directory)\n",
    "aiBillListStored = legiscan.getStoredData(dataType = \"bills\", project = \"AI\")"
   ]
  },
  {
   "cell_type": "markdown",
   "id": "b31ede10",
   "metadata": {},
   "source": [
    "Now that we have both the AI bill lists (the one from the legiscan api, `aiBillList`, and the stored version, `aiBillListStored`), we can compare them. We will check if the AI bill list from the LegiScan API is the same as the AI bill list stored in the disk. If they are not the same, we will first identify which bills need updating, and will later update the stored AI bill list with the new bill list from the LegiScan API. We will also check if there are any new bills that have been added to the LegiScan API since the last time we retrieved the session list.\n",
    "\n",
    "The function method `matchHash` from the legiscan module class, uses the hash values to compare the two lists. In this case the relevant JSON keys are `change_hash` for each `session_id`."
   ]
  },
  {
   "cell_type": "code",
   "execution_count": 41,
   "id": "8060e489",
   "metadata": {},
   "outputs": [
    {
     "name": "stdout",
     "output_type": "stream",
     "text": [
      "All AI bills match for 2013-2014\n",
      "All AI bills match for 2017-2018\n",
      "All AI bills match for 2019-2020\n",
      "All AI bills match for 2021-2022\n",
      "All AI bills match for 2023-2024\n",
      "All AI bills match for 2025-2026\n",
      "All bills match\n"
     ]
    }
   ],
   "source": [
    "# Create a dictionary to store unmatched AI bills\n",
    "unmatchedAiBillList = {}\n",
    "# Loop through each session in the aiBillList and compare it with the stored aiBillList\n",
    "for myPeriod, mySession in aiBillList.items():\n",
    "    sessionUnmatched = legiscan.matchHash(mySession, aiBillListStored[myPeriod], hashType = \"change\", silent = True)\n",
    "    # If there are unmatched AI bills, store them in the unmatchedAiBillList dictionary\n",
    "    if sessionUnmatched is not None:\n",
    "        # If the sessionUnmatched is not empty, add it to the unmatchedAiBillList dictionary\n",
    "        unmatchedAiBillList[myPeriod] = sessionUnmatched\n",
    "        print(f\"Unmatched AI bills found for {myPeriod}\")\n",
    "        print(sessionUnmatched)\n",
    "    else:\n",
    "        # If the sessionUnmatched is empty, print \"All AI bills match for {myPeriod}\"\n",
    "        print(f\"All AI bills match for {myPeriod}\")\n",
    "del myPeriod, mySession, sessionUnmatched\n",
    "\n",
    "# if the unmatchedAiBillList is empty, print \"All bills match\", and delete the unmatchedAiBillList variable. Otherwise, print \"Unmatched bills found\" and print the unmatched sessions.\n",
    "if unmatchedAiBillList == {}:\n",
    "    print(\"All bills match\")\n",
    "    del unmatchedAiBillList\n",
    "else:\n",
    "    print(\"Unmatched bills found\")\n",
    "    # Print the unmatched sessions\n",
    "    print(unmatchedAiBillList)"
   ]
  },
  {
   "cell_type": "markdown",
   "id": "7e5df0d2",
   "metadata": {},
   "source": [
    "If needed, update the stored LegiScan AI search query list with the new LegiScan AI search query list from the LegiScan API."
   ]
  },
  {
   "cell_type": "code",
   "execution_count": 37,
   "id": "85b5e518",
   "metadata": {},
   "outputs": [],
   "source": [
    "# Update the stored aiBillList with the new aiBillList\n",
    "with open(os.path.join(prjDirs[\"pathDataLookup\"], \"aiBillListStored.json\"), \"w\", encoding=\"utf-8\") as f:\n",
    "    json.dump(aiBillList, f, ensure_ascii=False, indent=4)\n",
    "del f"
   ]
  },
  {
   "cell_type": "markdown",
   "id": "60ce1152",
   "metadata": {},
   "source": [
    "<h2 style='font-weight:bold; color:dodgerblue; border-bottom: 1px solid dodgerblue; padding-left: 25px'>3.3. Get LegiScan Bills</h2>"
   ]
  },
  {
   "cell_type": "code",
   "execution_count": null,
   "id": "a0910928",
   "metadata": {},
   "outputs": [],
   "source": [
    "mdt(2, \"3.3. Get LegiScan Bills\")"
   ]
  },
  {
   "cell_type": "markdown",
   "id": "1f9cc83e",
   "metadata": {},
   "source": [
    "Get the LegiScan bills for each session. The session ID is needed to retrieve the bills for each session. We will use the LegiScan API to retrieve the list of bills for each session."
   ]
  },
  {
   "cell_type": "code",
   "execution_count": 43,
   "id": "3f2ec4b9",
   "metadata": {},
   "outputs": [
    {
     "name": "stdout",
     "output_type": "stream",
     "text": [
      "\n",
      "2013-2014 Legislative Session (3 bills)\n",
      "SB836 (577638)(1/3), SB860 (581712)(2/3), AB1465 (581806)(3/3)\n",
      "\n",
      "2017-2018 Legislative Session (3 bills)\n",
      "ACR215 (1111231)(1/3), AB2662 (1090551)(2/3), SB1470 (1092270)(3/3)\n",
      "\n",
      "2019-2020 Legislative Session (16 bills)\n",
      "AB594 (1205261)(1/16), AB1576 (1216111)(2/16), SB348 (1210745)(3/16), SJR6 (1237237)(4/16), AB459 (1199608)(5/16), AB976 (1214383)(6/16), SB444 (1214166)(7/16), SB730 (1215535)(8/16), AB156 (1140154)(9/16), AB485 (1200933)(10/16), SCR13 (1205432)(11/16), ACR125 (1272951)(12/16), AB3317 (1347660)(13/16), SB752 (1215850)(14/16), AB2269 (1341577)(15/16), AB3339 (1347682)(16/16)\n",
      "\n",
      "2021-2022 Legislative Session (11 bills)\n",
      "SB1216 (1593803)(1/11), AB587 (1450081)(2/11), AB13 (1385509)(3/11), AB1545 (1459096)(4/11), SB54 (1385430)(5/11), AB1400 (1458951)(6/11), SB1018 (1590455)(7/11), SR11 (1453532)(8/11), AB2826 (1594657)(9/11), AB2224 (1592488)(10/11), AB1651 (1559219)(11/11)\n",
      "\n",
      "2023-2024 Legislative Session (71 bills)\n",
      "SB1288 (1848589)(1/71), SB896 (1796695)(2/71), AB2013 (1834299)(3/71), SB1047 (1840453)(4/71), AB2652 (1847401)(5/71), AB3030 (1849339)(6/71), AB2355 (1845122)(7/71), SB893 (1796692)(8/71), SB1120 (1846289)(9/71), AB1831 (1813231)(10/71), AB2885 (1848433)(11/71), SB892 (1796691)(12/71), SB1235 (1848536)(13/71), SB942 (1819737)(14/71), SB970 (1829037)(15/71), SB721 (1712200)(16/71), AB2876 (1848424)(17/71), SB933 (1814918)(18/71), AB331 (1686429)(19/71), AB2811 (1848359)(20/71), SB313 (1697069)(21/71), AB3204 (1849513)(22/71), AB2905 (1848453)(23/71), SB1220 (1848521)(24/71), AB2877 (1848425)(25/71), SB398 (1702816)(26/71), AB3058 (1849367)(27/71), AB3211 (1849520)(28/71), SB1229 (1848530)(29/71), AB1282 (1712027)(30/71), SB1381 (1849659)(31/71), AB2930 (1848478)(32/71), AB2839 (1848387)(33/71), AB2370 (1845137)(34/71), AB1824 (1812205)(35/71), AB1791 (1798416)(36/71), AB2602 (1847351)(37/71), SB294 (1693943)(38/71), SCR17 (1686454)(39/71), AB2655 (1847404)(40/71), AB302 (1683775)(41/71), AB2058 (1835452)(42/71), AB1027 (1709727)(43/71), SB1446 (1849724)(44/71), AJR6 (1761500)(45/71), AB459 (1697048)(46/71), ACR96 (1771300)(47/71), SCR121 (1860070)(48/71), AB1008 (1709708)(49/71), SB1228 (1848529)(50/71), AB2412 (1845179)(51/71), AB3095 (1849404)(52/71), AB1526 (1714444)(53/71), AB1873 (1824468)(54/71), SCR162 (1882346)(55/71), ACR227 (1885654)(56/71), AB3050 (1849359)(57/71), AB2200 (1840414)(58/71), AB2512 (1846229)(59/71), AB863 (1707510)(60/71), SB1070 (1845188)(61/71), SB1223 (1848524)(62/71), SB1154 (1847496)(63/71), ACR219 (1883008)(64/71), AB108 (1649620)(65/71), SB108 (1667841)(66/71), AB2928 (1848476)(67/71), AB158 (1649670)(68/71), SB158 (1667891)(69/71), AB100 (1649612)(70/71), AB103 (1649615)(71/71)\n",
      "\n",
      "2025-2026 Legislative Session (46 bills)\n",
      "SB813 (1980543)(1/46), SB420 (1974530)(2/46), SB579 (1978812)(3/46), AB512 (1964699)(4/46), AB412 (1955758)(5/46), SB11 (1893423)(6/46), SB524 (1978757)(7/46), AB1064 (1978599)(8/46), SB833 (1980563)(9/46), AB316 (1941749)(10/46), AB489 (1964676)(11/46), SB53 (1904800)(12/46), SB366 (1970455)(13/46), SB468 (1976550)(14/46), AB410 (1955756)(15/46), AB979 (1978731)(16/46), AB1405 (1980302)(17/46), AB853 (1976440)(18/46), AB1137 (1978672)(19/46), SB503 (1976585)(20/46), SB243 (1949687)(21/46), AB1159 (1978694)(22/46), SB7 (1893452)(23/46), SB238 (1947445)(24/46), AB222 (1908207)(25/46), SB384 (1971760)(26/46), AB93 (1904793)(27/46), AB682 (1971712)(28/46), SB771 (1980501)(29/46), AB325 (1943407)(30/46), AB1018 (1978553)(31/46), SB57 (1908210)(32/46), AB723 (1971753)(33/46), AB279 (1933300)(34/46), AB1242 (1980139)(35/46), SJR2 (1990396)(36/46), AB392 (1953081)(37/46), SB259 (1953097)(38/46), SB295 (1961095)(39/46), AB1170 (1980067)(40/46), SB52 (1898373)(41/46), AB1024 (1978559)(42/46), AB887 (1976474)(43/46), SB638 (1978871)(44/46), SB857 (2005483)(45/46), SB354 (1968261)(46/46)\n",
      "\n",
      "Completed fetching AI bills from LegiScan (Total: 150 bills)\n"
     ]
    }
   ],
   "source": [
    "# Define a dictionary to store AI bills\n",
    "aiBills = {}\n",
    "j = 0\n",
    "# Iterate through the AI bill list and fetch the bill details from LegiScan\n",
    "for myPeriod, myBillList in aiBillListStored.items():\n",
    "    # Set the key to the legislative session period\n",
    "    aiBills[myPeriod] = {}\n",
    "    i = 1\n",
    "    l = len(myBillList)\n",
    "    print(f\"\\n{myPeriod} Legislative Session ({l} bills)\")\n",
    "    # Iterate through the bills for the current legislative session\n",
    "    for myBillNumber, myBill in myBillList.items():\n",
    "        # Get the bill ID\n",
    "        myBillId = myBill[\"bill_id\"]\n",
    "        if i < l:\n",
    "            print(f\"{myBillNumber} ({myBillId})({i}/{l})\", end = \", \")\n",
    "        else:\n",
    "            print(f\"{myBillNumber} ({myBillId})({i}/{l})\")\n",
    "        # add the legiscan query to the aiBills dictionary\n",
    "        aiBills[myPeriod][myBillNumber] = legiscan.getBill(billId = myBillId)\n",
    "        i += 1\n",
    "    j += i - 1\n",
    "print(f\"\\nCompleted fetching AI bills from LegiScan (Total: {j} bills)\")\n",
    "del myPeriod, myBillList, myBillNumber, myBillId, myBill, i, l, j"
   ]
  },
  {
   "cell_type": "markdown",
   "id": "f507b73b",
   "metadata": {},
   "source": [
    "Export the LegiScan query records to the `data/legis/json` directory as a JSON file for future reference."
   ]
  },
  {
   "cell_type": "code",
   "execution_count": 44,
   "id": "6517a0bb",
   "metadata": {},
   "outputs": [],
   "source": [
    "# Export the AI bills to a JSON file in the data/legiscan/json directory\n",
    "with open(os.path.join(prjDirs[\"pathDataLegis\"], \"json\", \"aiBills.json\"), \"w\", encoding=\"utf-8\") as f:\n",
    "    json.dump(aiBills, f, ensure_ascii=False, indent=4)\n",
    "del f"
   ]
  },
  {
   "cell_type": "markdown",
   "id": "a5e05660",
   "metadata": {},
   "source": [
    "<h2 style='font-weight:bold; color:dodgerblue; border-bottom: 1px solid dodgerblue; padding-left: 25px'>3.4. Get Bill Text</h2>"
   ]
  },
  {
   "cell_type": "code",
   "execution_count": null,
   "id": "9fec4061",
   "metadata": {},
   "outputs": [],
   "source": [
    "mdt(2, \"3.4. Get Bill Text\")"
   ]
  },
  {
   "cell_type": "markdown",
   "id": "09f8909c",
   "metadata": {},
   "source": [
    "Get the LegiScan bill text for each session. This process involves two legiscan functions:\n",
    "\n",
    "- `legiscan.getBillText`: This function retrieves the bill text for each bill in the session. The document ID is passed as an argument to the function. The function runs the LegiScan API call, and returns the bill text JSON information for each bill (which includes the base64 encoded bill text).\n",
    "- `legiscan.summarizeBillText`: This function summarizes the bill text for each bill in the session. The bill JSON information is passed as an argument to this function. The function performs a number of tasks:\n",
    "    - Looks up the `texts` JSON object group of the bill, and finds the last bill text version (is the last one in the list, with the latest bill date), and retrieves the `doc_id` identifier of the bill text. \n",
    "    - Uses the `legiscan.getBillText` function above to retrieve the encoded (base64) bill text. It then proceeds to decode the encoded bill text, and converts it to a string.\n",
    "    - Uses an `Azure OpenAI` API call to create a TL;DR summary of the bill text, along with a list of keywords (tags) for the bill text. \n",
    "    - Finally, it constructs and returns a dictionary with the bill number, summarized bill text, the tags, and the bill text itself.\n",
    " "
   ]
  },
  {
   "cell_type": "markdown",
   "id": "55b48518",
   "metadata": {},
   "source": [
    "We will execute the `legiscan.createBillTextSummary` function (which in turns runs the `legiscan.summarizeBillText` function) for each bill in each legislative session, and generates a new dictionary obtaining the resulting data."
   ]
  },
  {
   "cell_type": "code",
   "execution_count": 46,
   "id": "9c16c79c",
   "metadata": {},
   "outputs": [
    {
     "name": "stdout",
     "output_type": "stream",
     "text": [
      "\n",
      "2013-2014 Legislative Session (3 bills)\n",
      "SB836 (1/3), SB860 (2/3), AB1465 (3/3)\n",
      "\n",
      "2017-2018 Legislative Session (3 bills)\n",
      "ACR215 (1/3), AB2662 (2/3), SB1470 (3/3)\n",
      "\n",
      "2019-2020 Legislative Session (16 bills)\n",
      "AB594 (1/16), AB1576 (2/16), SB348 (3/16), SJR6 (4/16), AB459 (5/16), AB976 (6/16), SB444 (7/16), SB730 (8/16), AB156 (9/16), AB485 (10/16), SCR13 (11/16), ACR125 (12/16), AB3317 (13/16), SB752 (14/16), AB2269 (15/16), AB3339 (16/16)\n",
      "\n",
      "2021-2022 Legislative Session (11 bills)\n",
      "SB1216 (1/11), AB587 (2/11), AB13 (3/11), AB1545 (4/11), SB54 (5/11), AB1400 (6/11), SB1018 (7/11), SR11 (8/11), AB2826 (9/11), AB2224 (10/11), AB1651 (11/11)\n",
      "\n",
      "2023-2024 Legislative Session (71 bills)\n",
      "SB1288 (1/71), SB896 (2/71), AB2013 (3/71), SB1047 (4/71), AB2652 (5/71), AB3030 (6/71), AB2355 (7/71), SB893 (8/71), SB1120 (9/71), AB1831 (10/71), AB2885 (11/71), SB892 (12/71), SB1235 (13/71), SB942 (14/71), SB970 (15/71), SB721 (16/71), AB2876 (17/71), SB933 (18/71), AB331 (19/71), AB2811 (20/71), SB313 (21/71), AB3204 (22/71), AB2905 (23/71), SB1220 (24/71), AB2877 (25/71), SB398 (26/71), AB3058 (27/71), AB3211 (28/71), SB1229 (29/71), AB1282 (30/71), SB1381 (31/71), AB2930 (32/71), AB2839 (33/71), AB2370 (34/71), AB1824 (35/71), AB1791 (36/71), AB2602 (37/71), SB294 (38/71), SCR17 (39/71), AB2655 (40/71), AB302 (41/71), AB2058 (42/71), AB1027 (43/71), SB1446 (44/71), AJR6 (45/71), AB459 (46/71), ACR96 (47/71), SCR121 (48/71), AB1008 (49/71), SB1228 (50/71), AB2412 (51/71), AB3095 (52/71), AB1526 (53/71), AB1873 (54/71), SCR162 (55/71), ACR227 (56/71), AB3050 (57/71), AB2200 (58/71), AB2512 (59/71), AB863 (60/71), SB1070 (61/71), SB1223 (62/71), SB1154 (63/71), ACR219 (64/71), AB108 (65/71), SB108 (66/71), AB2928 (67/71), AB158 (68/71), SB158 (69/71), AB100 (70/71), AB103 (71/71)\n",
      "\n",
      "2025-2026 Legislative Session (46 bills)\n",
      "SB813 (1/46), SB420 (2/46), SB579 (3/46), AB512 (4/46), AB412 (5/46), SB11 (6/46), SB524 (7/46), AB1064 (8/46), SB833 (9/46), AB316 (10/46), AB489 (11/46), SB53 (12/46), SB366 (13/46), SB468 (14/46), AB410 (15/46), AB979 (16/46), AB1405 (17/46), AB853 (18/46), AB1137 (19/46), SB503 (20/46), SB243 (21/46), AB1159 (22/46), SB7 (23/46), SB238 (24/46), AB222 (25/46), SB384 (26/46), AB93 (27/46), AB682 (28/46), SB771 (29/46), AB325 (30/46), AB1018 (31/46), SB57 (32/46), AB723 (33/46), AB279 (34/46), AB1242 (35/46), SJR2 (36/46), AB392 (37/46), SB259 (38/46), SB295 (39/46), AB1170 (40/46), SB52 (41/46), AB1024 (42/46), AB887 (43/46), SB638 (44/46), SB857 (45/46), SB354 (46/46)\n"
     ]
    }
   ],
   "source": [
    "aiBillsSummaries = legiscan.createBillTextSummary(aiBills)"
   ]
  },
  {
   "cell_type": "markdown",
   "id": "75b3a4b6",
   "metadata": {},
   "source": [
    "Export the LegiScan query records to the `data/legis/json` directory as a JSON file for future reference."
   ]
  },
  {
   "cell_type": "code",
   "execution_count": 47,
   "id": "aeec4817",
   "metadata": {},
   "outputs": [],
   "source": [
    "# Export the AI bills summaries to a JSON file in the data/legiscan/json directory\n",
    "with open(os.path.join(prjDirs[\"pathDataLegis\"], \"json\", \"aiBillsSummaries.json\"), \"w\", encoding=\"utf-8\") as f:\n",
    "    json.dump(aiBillsSummaries, f, ensure_ascii=False, indent=4)\n",
    "del f"
   ]
  },
  {
   "cell_type": "code",
   "execution_count": 48,
   "id": "eaf44331",
   "metadata": {},
   "outputs": [],
   "source": [
    "# Export the AI bill summaries to a JSON file in the data/lookup directory for reference\n",
    "with open(os.path.join(prjDirs[\"pathDataLookup\"], \"aiBillsSummariesStored.json\"), \"w\", encoding=\"utf-8\") as f:\n",
    "    json.dump(aiBillsSummaries, f, ensure_ascii=False, indent=4)\n",
    "del f"
   ]
  },
  {
   "cell_type": "markdown",
   "id": "1f1348eb",
   "metadata": {},
   "source": [
    "<div style = 'background-color:indigo'><center><h1 style='font-weight:bold; color:goldenrod; border-top: 2px solid goldenrod; border-bottom: 2px solid goldenrod; padding-top: 5px; padding-bottom: 10px'>End of Script</h1></center></div>"
   ]
  },
  {
   "cell_type": "code",
   "execution_count": null,
   "id": "1671834a",
   "metadata": {},
   "outputs": [],
   "source": [
    "mdt(5)"
   ]
  }
 ],
 "metadata": {
  "kernelspec": {
   "display_name": "drkPy",
   "language": "python",
   "name": "python3"
  },
  "language_info": {
   "codemirror_mode": {
    "name": "ipython",
    "version": 3
   },
   "file_extension": ".py",
   "mimetype": "text/x-python",
   "name": "python",
   "nbconvert_exporter": "python",
   "pygments_lexer": "ipython3",
   "version": "3.11.11"
  }
 },
 "nbformat": 4,
 "nbformat_minor": 5
}
