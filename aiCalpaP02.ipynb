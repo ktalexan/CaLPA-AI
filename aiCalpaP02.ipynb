{
 "cells": [
  {
   "cell_type": "markdown",
   "id": "e333f258",
   "metadata": {},
   "source": [
    "</center></div>\n",
    "<div style = \"background-color:indigo\"><center>\n",
    "<h1 style=\"font-size: 50px; font-weight: bold; color:goldenrod; border-top: 3px solid goldenrod; padding-top: 10px\">AI California Legislative Policy Analysis (CALPA-AI)</h1>\n",
    "<div style=\"font-size: 35px; font-weight: bold; color: goldenrod\"> Part 2 - Markdown Documents Analysis</div>\n",
    "<div style=\"font-size: 30px; font-weight: bold; color: goldenrod; border-bottom: 3px solid goldenrod; padding-bottom: 20px\">v.1.0 April 2025</div>\n",
    "</center></div>"
   ]
  },
  {
   "cell_type": "markdown",
   "id": "a59e150e",
   "metadata": {},
   "source": [
    "This is the main notebook for the AI California Legislative Policy Analysis (CALPA) project. The goal of this project is to analyze California legislative bills using natural language processing (NLP) techniques. This notebook will cover the preliminary data processing steps, including data loading, cleaning, and preparation for analysis.\n",
    "The project is divided into several parts, each focusing on a specific aspect of the analysis. The first part will cover the data loading and cleaning process, while subsequent parts will focus on feature extraction, model training, and evaluation."
   ]
  },
  {
   "cell_type": "markdown",
   "id": "66469cb5",
   "metadata": {},
   "source": [
    "<h1 style=\"font-weight:bold; color:orangered; border-bottom: 2px solid orangered\">1. Preliminaries</h1>"
   ]
  },
  {
   "cell_type": "markdown",
   "id": "ea620f0a",
   "metadata": {},
   "source": [
    "<h2 style=\"font-weight:bold; color:dodgerblue; border-bottom: 1px solid dodgerblue; padding-left: 25px\">1.1 Referencing Libraries and Initialization</h2>"
   ]
  },
  {
   "cell_type": "markdown",
   "id": "86bb97ac",
   "metadata": {},
   "source": [
    "If needed to reset the kernel, please run the following cell:"
   ]
  },
  {
   "cell_type": "code",
   "execution_count": null,
   "id": "c1295d19",
   "metadata": {},
   "outputs": [],
   "source": [
    "#%reset"
   ]
  },
  {
   "cell_type": "markdown",
   "id": "0417aab9",
   "metadata": {},
   "source": [
    "Instantiating python libraries for the project"
   ]
  },
  {
   "cell_type": "code",
   "execution_count": 1,
   "id": "8d382be0",
   "metadata": {},
   "outputs": [],
   "source": [
    "# Import required libraries\n",
    "import os\n",
    "from dotenv import load_dotenv\n",
    "import time\n",
    "from datetime import date\n",
    "from datetime import datetime\n",
    "import json\n",
    "import mimetypes\n",
    "import glob\n",
    "import base64\n",
    "import zipfile\n",
    "import io\n",
    "import requests\n",
    "import pandas as pd"
   ]
  },
  {
   "cell_type": "markdown",
   "id": "3e3ac128",
   "metadata": {},
   "source": [
    "Load the local python modules containing classes and functions for the project from the local directory.\n",
    "- `calpa`: This module contains the main classes and functions for the project, including the `LegiScan` class for the LegScan API."
   ]
  },
  {
   "cell_type": "code",
   "execution_count": 2,
   "id": "a74c1678",
   "metadata": {},
   "outputs": [],
   "source": [
    "# Load the calpa module located in the scripts/python/calpa directory\n",
    "from calpa import calpa"
   ]
  },
  {
   "cell_type": "markdown",
   "id": "3aa1914e",
   "metadata": {},
   "source": [
    "<h2 style=\"font-weight:bold; color:dodgerblue; border-bottom: 1px solid dodgerblue; padding-left: 25px\">1.2. Project and Workspace Variables</h2>"
   ]
  },
  {
   "cell_type": "markdown",
   "id": "211b6f05",
   "metadata": {},
   "source": [
    "<h3 style=\"font-weight:bold; color:lime; padding-left: 50px\">Load Environment Variables</h3>"
   ]
  },
  {
   "cell_type": "markdown",
   "id": "ca219968",
   "metadata": {},
   "source": [
    "Define and maintain project, workspace and metadata. Below we load the environment variables from the `.env` file. The environment variables are used to configure the project and workspace settings. The `dotenv` library is used to load the environment variables from the `.env` file into the Python environment. The environment also contains the LegiScan API key, which is used to access the LegiScan API. The API key is stored in the `LEGISCAN_API_KEY` environment variable. The `dotenv` library is used to load the environment variables from the `.env` file into the Python environment."
   ]
  },
  {
   "cell_type": "code",
   "execution_count": 3,
   "id": "a665cd1b",
   "metadata": {},
   "outputs": [
    {
     "data": {
      "text/plain": [
       "True"
      ]
     },
     "execution_count": 3,
     "metadata": {},
     "output_type": "execute_result"
    }
   ],
   "source": [
    "# Load environment variables from .env file\n",
    "load_dotenv()"
   ]
  },
  {
   "cell_type": "markdown",
   "id": "c79425d7",
   "metadata": {},
   "source": [
    "<h3 style=\"font-weight:bold; color:lime; padding-left: 50px\">Main Class Instantiation</h3>"
   ]
  },
  {
   "cell_type": "markdown",
   "id": "d10ef345",
   "metadata": {},
   "source": [
    "Instantiate the main class for the project:\n",
    "- `legiscan`: This class is used to access the LegiScan API and retrieve legislative data."
   ]
  },
  {
   "cell_type": "code",
   "execution_count": 4,
   "id": "4f78c3a9",
   "metadata": {},
   "outputs": [],
   "source": [
    "# Instantiate the LegiScan class\n",
    "legiscan = calpa.LegiScan()"
   ]
  },
  {
   "cell_type": "markdown",
   "id": "bb9f1f51",
   "metadata": {},
   "source": [
    "Create project metadata for the project"
   ]
  },
  {
   "cell_type": "code",
   "execution_count": 44,
   "id": "c2e611ab",
   "metadata": {},
   "outputs": [
    {
     "name": "stdout",
     "output_type": "stream",
     "text": [
      "~~~~~~~~~~~~~~~~~~~~~~~~~~~~~~~~~~~~~~~~~~~~~~~~~~~~~~~~~~~~~~~~~~~~~~~~~~~~~~~~~~\n",
      " AI Legislative Policy Analysis (CaLPA-AI)\n",
      " California Legislative Policy Analysis for Artificial Intelligence Related Bills\n",
      " Part 2 - Markdown Documents Analysis\n",
      " Version 1.0 (MIT License), Dr. Kostas Alexandridis, GISP\n",
      " GitHub Repository: https://github.com/ktalexan/CaLPA\n",
      " Last Updated: Apr 28, 2025\n",
      "~~~~~~~~~~~~~~~~~~~~~~~~~~~~~~~~~~~~~~~~~~~~~~~~~~~~~~~~~~~~~~~~~~~~~~~~~~~~~~~~~~\n",
      "\n",
      "Dates: 2010-12-02 through 2025-04-28\n",
      "Periods: 2009-2010, 2011-2012, 2013-2014, 2015-2016, 2017-2018, 2019-2020, 2021-2022, 2023-2024, 2025-2026\n"
     ]
    }
   ],
   "source": [
    "# Create project metadata for the AI project\n",
    "prjMetadata = calpa.projectMetadata(2)"
   ]
  },
  {
   "cell_type": "markdown",
   "id": "5a65654c",
   "metadata": {},
   "source": [
    "Create the project directories dictionary"
   ]
  },
  {
   "cell_type": "code",
   "execution_count": 6,
   "id": "ecc0c623",
   "metadata": {},
   "outputs": [
    {
     "name": "stdout",
     "output_type": "stream",
     "text": [
      "Directory Global Settings:\n",
      "\n",
      "General:\n",
      "- Project (pathPrj): c:\\Users\\ktale\\OneDrive\\Documents\\GitHub\\CaLPA\n",
      "- Admin (pathAdmin): c:\\Users\\ktale\\OneDrive\\Documents\\GitHub\\CaLPA\\admin\n",
      "- Metadata (pathMetadata): c:\\Users\\ktale\\OneDrive\\Documents\\GitHub\\CaLPA\\metadata\n",
      "- Analysis (pathAnalysis): c:\\Users\\ktale\\OneDrive\\Documents\\GitHub\\CaLPA\\analysis\n",
      "- Obsidian Vault (pathObsidian): C:\\Users\\ktale\\Knowledge Management\\Policy and Governance\\Legislation\n",
      "Scripts:\n",
      "- Python Calpa Module (pathScriptsCalpa): c:\\Users\\ktale\\OneDrive\\Documents\\GitHub\\CaLPA\\calpa\n",
      "- Markdown Scripts (pathScriptsMd): c:\\Users\\ktale\\OneDrive\\Documents\\GitHub\\CaLPA\\markdown\n",
      "- RIS Scripts (pathScriptsRis): c:\\Users\\ktale\\OneDrive\\Documents\\GitHub\\CaLPA\\ris\n",
      "Data:\n",
      "- Main Data (pathData): c:\\Users\\ktale\\OneDrive\\Documents\\GitHub\\CaLPA\\data\n",
      "- Documents (pathDataDocs): c:\\Users\\ktale\\OneDrive\\Documents\\GitHub\\CaLPA\\data\\docs\n",
      "- LegiScan (pathDataLegis): c:\\Users\\ktale\\OneDrive\\Documents\\GitHub\\CaLPA\\data\\legis\n",
      "- LookUp (pathDataLookup): c:\\Users\\ktale\\OneDrive\\Documents\\GitHub\\CaLPA\\data\\lookup\n",
      "- Markdown (pathDataMd): c:\\Users\\ktale\\OneDrive\\Documents\\GitHub\\CaLPA\\data\\md\n",
      "- RIS (pathDataBbl): c:\\Users\\ktale\\OneDrive\\Documents\\GitHub\\CaLPA\\data\\bbl\n",
      "Graphics:\n",
      "- Main Graphics (pathGraphics): c:\\Users\\ktale\\OneDrive\\Documents\\GitHub\\CaLPA\\graphics\n",
      "- Figures (pathGraphicsFigs): c:\\Users\\ktale\\OneDrive\\Documents\\GitHub\\CaLPA\\graphics\\figs\n",
      "- Presentations (pathGraphicsVisual): c:\\Users\\ktale\\OneDrive\\Documents\\GitHub\\CaLPA\\graphics\\visual\n"
     ]
    }
   ],
   "source": [
    "# Create the project directories dictionary\n",
    "prjDirs = calpa.projectDirectories(os.getcwd())"
   ]
  },
  {
   "cell_type": "markdown",
   "id": "23edad0f",
   "metadata": {},
   "source": [
    "<h3 style=\"font-weight:bold; color:lime; padding-left: 50px\">Load Lookup DataFrames</h3>"
   ]
  },
  {
   "cell_type": "markdown",
   "id": "0d41ba81",
   "metadata": {},
   "source": [
    "If needed, you can access the project lookup and dictionary variables. They are embedded in the `codebook` module of the `calpa` package. The codebook module contains the following variables:\n",
    "1. **LegiScan API Call Dictionaries**: These are codebook dictionaries that map the definitions of the LegiScan API fields for a number of API calls. The dictionaries available are (alphabetically ordered):\n",
    "   - `dictGetAmendment`: Contains all the fields returned by the LegiScan API for the `getAmendment` call.\n",
    "   - `dictGetBill`: Contains all the fields returned by the LegiScan API for the `getBill` call.\n",
    "   - `dictGetBillText`: Contains all the fields returned by the LegiScan API for the `getBillText` call.\n",
    "   - `dictGetPerson`: Contains all the fields returned by the LegiScan API for the `getPerson` call.\n",
    "   - `dictGetRollCall`: Contains all the fields returned by the LegiScan API for the `getRollCall` call.\n",
    "   - `dictGetSessionList`: Contains all the fields returned by the LegiScan API for the `getSessionList` call.\n",
    "   - `dictGetSupplement`: Contains all the fields returned by the LegiScan API for the `getSupplement` call.\n",
    "2. **Lookup Variables**: These are lists containing the names or definitions of codes used inside the LegiScan API calls (usually IDs or codes). The lookup variables available are (alphabetically ordered):\n",
    "   - `lookupBillCode`: Bill code definitions used in the LegiScan API.\n",
    "   - `lookupBillTextType`: IDs and definitions of the bill types used in the LegiScan API.\n",
    "   - `lookupBillType`: IDs and definitions of the bill types used in the LegiScan API.\n",
    "   - `lookupBodyType`: Definitions of body types used in the LegiScan API.\n",
    "   - `lookupEventType`: Definitions of event types used in the LegiScan API.\n",
    "   - `lookupMimeType`: Definitions of mime types used in the LegiScan API.\n",
    "   - `lookupPartyType`: Definitions of party types used in the LegiScan API.\n",
    "   - `lookupProgressType`: Definitions of progress types used in the LegiScan API.\n",
    "   - `lookupReasonType`: Definitions of reason types used in the LegiScan API.\n",
    "   - `lookupRoleType`: Definitions of role types used in the LegiScan API.\n",
    "   - `lookupSastType`: Definitions of SAST types used in the LegiScan API.\n",
    "   - `lookupSponsorType`: Definitions of sponsor types used in the LegiScan API.\n",
    "   - `lookupStateType`: Definitions of state types used in the LegiScan API (California only).\n",
    "   - `lookupStatusType`: Definitions of status types used in the LegiScan API.\n",
    "   - `lookupSupplementType`: Definitions of supplement types used in the LegiScan API.\n",
    "   - `lookupVoteType`: Definitions of vote types used in the LegiScan API.\n",
    "\n",
    "If you need to access the codebook variables, you can do so by running the following cell. The codebook variables are stored in the `codebook` module of the `calpa` package. Calling the variables (assuming that the `calpa` package is imported) will return the variables as a dictionary. You can access the variables by using the dictionary keys. For example, to access the `lookupBillCode` variable, you can use the following code:\n",
    "\n",
    ">```python\n",
    "># Load the calpa module located in the scripts/python/calpa directory\n",
    ">from calpa import calpa\n",
    ">\n",
    "># Getting the lookup variables from the codebook module directly\n",
    ">calpa.codebook.lookupBillCode\n",
    ">\n",
    "># Assigning the lookup variables to a stored in the session\n",
    ">lookupBillCode = calpa.codebook.lookupBillCode\n",
    ">```\n"
   ]
  },
  {
   "cell_type": "code",
   "execution_count": 7,
   "id": "a2eb952f",
   "metadata": {},
   "outputs": [
    {
     "name": "stdout",
     "output_type": "stream",
     "text": [
      "Codebook Lookup Variables:\n",
      "['lookupBillCode', 'lookupBillTextType', 'lookupBillType', 'lookupBodyType', 'lookupEventType', 'lookupMimeType', 'lookupPartyType', 'lookupProgressType', 'lookupReasonType', 'lookupRoleType', 'lookupSastType', 'lookupSponsorType', 'lookupStateType', 'lookupStatusType', 'lookupSupplementType', 'lookupVoteType']\n",
      "\n",
      "Codebook Dictionary Variables:\n",
      "['dictGetAmendment', 'dictGetBill', 'dictGetBillText', 'dictGetPerson', 'dictGetRollCall', 'dictGetSessionList', 'dictGetSupplement']\n",
      "\n"
     ]
    }
   ],
   "source": [
    "# Codebook lookup variables\n",
    "codebookLookupVars = [var for var in dir(calpa.codebook) if var.startswith('lookup')]\n",
    "codebookDictVars = [var for var in dir(calpa.codebook) if var.startswith('dict')]\n",
    "print(f\"Codebook Lookup Variables:\\n{codebookLookupVars}\\n\")\n",
    "print(f\"Codebook Dictionary Variables:\\n{codebookDictVars}\\n\")"
   ]
  },
  {
   "cell_type": "markdown",
   "id": "c617deb6",
   "metadata": {},
   "source": [
    "<h3 style=\"font-weight:bold; color:lime; padding-left: 50px\">Load Stored Data</h3>"
   ]
  },
  {
   "cell_type": "markdown",
   "id": "655a1821",
   "metadata": {},
   "source": [
    "Load the stored data from the `data` directory. This includes the following data files:\n",
    "- `sessionListStored`: This file contains the list of legislative sessions.\n",
    "- `sessionPeopleStored`: This file contains the list of legislative session people.\n",
    "- `datasetListStored`: This file contains the list of legislative datasets.\n",
    "- `datasetListRawStored`: This file contains the list of raw legislative datasets.\n",
    "- `masterListStored`: This file contains the list of legislative master datasets.\n",
    "- `aiBillListStored`: This file contains the list of AI legislative bills.\n",
    "- `aiBills`: This file contains the the AI legislative bills data.\n",
    "- `aiBillsSummariesStored`: This file contains the list of AI legislative bill text summaries."
   ]
  },
  {
   "cell_type": "code",
   "execution_count": 8,
   "id": "d4908064",
   "metadata": {},
   "outputs": [],
   "source": [
    "# Obtain the stored sessions list from JSON dictionary on disk (data/lookup directory)\n",
    "sessionListStored = legiscan.getStoredData(dataType = \"session\")\n",
    "\n",
    "# Obtain the stored session People list from JSON dictionary on disk (data/lookup directory)\n",
    "sessionPeopleStored = legiscan.getStoredData(dataType = \"people\")\n",
    "\n",
    "# Obtain the stored dataset list from JSON dictionary on disk (data/lookup directory)\n",
    "datasetListStored = legiscan.getStoredData(dataType = \"dataset\")\n",
    "\n",
    "# Get the stored raw master list from JSON dictionary on disk (data/lookup directory)\n",
    "masterListRawStored = legiscan.getStoredData(dataType = \"master\", raw = True)\n",
    "# Get the stored master list from JSON dictionary on disk (data/lookup directory)\n",
    "masterListStored = legiscan.getStoredData(dataType = \"master\", raw = False)\n",
    "\n",
    "# Get the AI monitoring list from disk (data/lookup directory)\n",
    "aiBillListStored = legiscan.getStoredData(dataType = \"bills\", project = \"AI\")\n",
    "\n",
    "# Get the AI full list of bills from dism (data/legis/json directory)\n",
    "aiBills = legiscan.getStoredData(dataType = \"data\", project = \"AI\")\n",
    "\n",
    "# Get the AI bill summries list from disk (data/lookup directory)\n",
    "aiBillsSummariesStored = legiscan.getStoredData(dataType = \"summaries\", project = \"AI\")"
   ]
  },
  {
   "cell_type": "markdown",
   "id": "23262bcb",
   "metadata": {},
   "source": [
    "<h1 style=\"font-weight:bold; color:orangered; border-bottom: 2px solid orangered\">2. Markdown Data Processing</h1>"
   ]
  },
  {
   "cell_type": "markdown",
   "id": "a1343ad3",
   "metadata": {},
   "source": [
    "The main markdown processing function is located in the `legiscan` class of the `calpa` module. The function is called `aiBillMarkdown()`. This function takes a legislative bill dictionary (obtained from the LegiScan API) and processes it to extract the relevant information. The function returns a markdown file containing the legislative bill information. The markdown file is stored in the `markdown/AI` directory of the project, and (optionally) mirrors the file to the relevant Obsidian vault directory. The markdown file is named using the legislative bill ID and its awareness includes the legislative bill period (it stores the file under the relevant legislative session subfolder). The markdown file has the following sections:\n",
    "1. **YAML properties**: This section contains the YAML properties of the legislative bill. The YAML properties are listed in a formal markdown format.\n",
    "2. **Markdown Information Section**: This section contains the main markdown content of the legislative bill information in the form of callout information boxes. Has the following sections:\n",
    "    - **TL;DR Summary Callout**: Contains the Azure OpenAI TL;DR Summary for the legislative bill.\n",
    "    - **Bill Metadata Callout**: Contains the detailed metadata of the legsiative bill.\n",
    "    - **Bill Citation Callout**: Formats and displays the APA 7th bibliographic citation of the bill.\n",
    "3. **AI Notes Section**: This section contains the AI notes for the legislative bill. The AI notes are obtained from the `markdown/notes` directory of the project, imported by the function, and formatted for display in the markdown file.\n",
    "4. **Embedded State Bill Webpage**: This section contains the embedded state bill webpage. The embedded state bill webpage is obtained from the bill metadata and displayed in an embedded `iframe` object inside the markdown file.\n",
    "\n",
    "In order to process the markdown files, the following process is implemented in the code below. Specifically, we loop through each legislative period in our bill dataset, and consequently trough each legislative bill in the period. For each legislative bill, we call the `aiBillMarkdown()` function to process the markdown file. The function takes the legislative bill dictionary as input and returns the markdown file as output."
   ]
  },
  {
   "cell_type": "code",
   "execution_count": 9,
   "id": "3efc478b",
   "metadata": {},
   "outputs": [
    {
     "name": "stdout",
     "output_type": "stream",
     "text": [
      "2013-2014 Legislative Session:\n",
      "- AB1465: Education finance: education omnibus trailer bill.\n",
      "- SB836: Brain research: Cal-BRAIN program.\n",
      "- SB860: Education finance: education omnibus trailer bill.\n",
      "2017-2018 Legislative Session:\n",
      "- AB1809: Higher education trailer bill.\n",
      "- AB2662: State government: Office of Planning and Research: electronic media: child development.\n",
      "- ACR215: 23 Asilomar AI Principles.\n",
      "- SB843: Higher education trailer bill.\n",
      "- SB1470: Commission on the Future of Work.\n",
      "2019-2020 Legislative Session:\n",
      "- AB156: Optometrists: endorsement fee.\n",
      "- AB459: State government: Artificial Intelligence in State Government Services Commission: report.\n",
      "- AB485: Local government: economic development subsidies.\n",
      "- AB594: Artificial intelligence.\n",
      "- AB976: Artificial Intelligence in State Government Services Commission.\n",
      "- AB1576: Secretary of Government Operations: working group: technology.\n",
      "- AB2269: Personal rights: automated decision systems.\n",
      "- AB3317: Unfair and deceptive practices.\n",
      "- AB3339: Kids Internet Design and Safety Act.\n",
      "- ACR125: Bias and discrimination in hiring reduction through new technology.\n",
      "- SB348: Department of Technology: artificial intelligence: strategic plans.\n",
      "- SB444: University of California: Berkeley and Irvine law schools: Pro Se Indigent Litigant Research Program.\n",
      "- SB730: Commission on Tech Equity.\n",
      "- SB752: The California Master Plan on Tech Equity.\n",
      "- SCR13: International Women’s Day.\n",
      "- SJR6: Artificial intelligence.\n",
      "2021-2022 Legislative Session:\n",
      "- AB13: California Victim Compensation Board: payment of claims.\n",
      "- AB1400: Guaranteed Health Care for All.\n",
      "- AB1545: Children: internet safety: platform operators.\n",
      "- AB1651: Worker rights: Workplace Technology Accountability Act.\n",
      "- AB178: Budget Act of 2022.\n",
      "- AB179: Budget Act of 2022.\n",
      "- AB2224: Real estate: transactions: iBuyers.\n",
      "- AB2826: California Platform Accountability and Transparency Act.\n",
      "- AB587: Social media companies: terms of service.\n",
      "- SB54: Solid waste: reporting, packaging, and plastic food service ware.\n",
      "- SB178: Budget Act of 2022.\n",
      "- SB179: Budget Act of 2022.\n",
      "- SB1018: Platform Accountability and Transparency Act.\n",
      "- SB1216: Secretary of Government Operations: deepfakes.\n",
      "- SR11: Relative to International Women’s Day.\n",
      "2023-2024 Legislative Session:\n",
      "- AB100: Budget Acts of 2021 and 2022.\n",
      "- AB103: Budget Acts of 2021 and 2022.\n",
      "- AB104: Budget Acts of 2022 and 2023.\n",
      "- AB106: Budget Acts of 2022 and 2023.\n",
      "- AB107: Budget Act of 2024.\n",
      "- AB108: Budget Act of 2024.\n",
      "- AB158: Budget Acts of 2022 and 2023.\n",
      "- AB302: Department of Technology: high-risk automated decision systems: inventory.\n",
      "- AB331: Automated decision tools.\n",
      "- AB459: Peace officers: Attorney General: reports.\n",
      "- AB863: Carpet recycling: producer responsibility organizations: fines: succession: training.\n",
      "- AB1008: California Consumer Privacy Act of 2018: personal information.\n",
      "- AB1027: Social media platforms: drug safety policies.\n",
      "- AB1282: Mental health: impacts of social media.\n",
      "- AB1526: Public resources.\n",
      "- AB1791: Digital content provenance.\n",
      "- AB1754: Maintenance of the codes.\n",
      "- AB1824: California Consumer Privacy Act of 2018: opt out right: mergers.\n",
      "- AB1831: Crimes: child pornography.\n",
      "- AB1873: Crimes: sexual exploitation of a child.\n",
      "- AB2013: Generative artificial intelligence: training data transparency.\n",
      "- AB2058: Devices:disclosures.\n",
      "- AB2200: Survivors of Human Trafficking Support Act.\n",
      "- AB2355: Political Reform Act of 1974: political advertisements: artificial intelligence.\n",
      "- AB2370: Community colleges: faculty: instructor of record: qualifications.\n",
      "- AB2412: Healing arts: California Body Contouring Council: practitioners.\n",
      "- AB2512: Telecommunications: automatic dialing-announcing devices: artificial voices.\n",
      "- AB2602: Contracts against public policy: personal or professional services: digital replicas.\n",
      "- AB2652: State Department of Education: artificial intelligence working group.\n",
      "- AB2655: Defending Democracy from Deepfake Deception Act of 2024.\n",
      "- AB2811: Attorneys: court filings: artificial intelligence.\n",
      "- AB2839: Elections: deceptive media in advertisements.\n",
      "- AB2876: Pupil instruction: media literacy: artificial intelligence literacy: curriculum frameworks: instructional materials.\n",
      "- AB2877: California Consumer Privacy Act of 2018: artificial intelligence: training.\n",
      "- AB2885: Artificial intelligence.\n",
      "- AB2905: Telecommunications: automatic dialing-announcing devices: artificial voices.\n",
      "- AB2928: Budget Act of 2022.\n",
      "- AB2930: Automated decision systems.\n",
      "- AB3030: Health care services: artificial intelligence.\n",
      "- AB3050: Artificial intelligence.\n",
      "- AB3058: California Unconditional Benefit Program: employment replaced by automation or artificial intelligence: pilot program.\n",
      "- AB3095: Artificial intelligence.\n",
      "- AB3204: Data Digesters Registration Act.\n",
      "- AB3211: California Digital Content Provenance Standards.\n",
      "- ACR96: 23 Asilomar AI Principles.\n",
      "- ACR219: California Social Media Users’ Bill of Rights.\n",
      "- ACR227: Women in Animation.\n",
      "- AJR6: Artificial intelligence.\n",
      "- SB100: Budget Acts of 2021 and 2022.\n",
      "- SB103: Budget Acts of 2021 and 2022.\n",
      "- SB104: Budget Acts of 2022 and 2023.\n",
      "- SB106: Budget Acts of 2022 and 2023.\n",
      "- SB107: Budget Act of 2024.\n",
      "- SB108: Budget Act of 2024.\n",
      "- SB158: Budget Acts of 2022 and 2023.\n",
      "- SB294: Health care coverage: independent medical review.\n",
      "- SB313: Department of Technology: Office of Artificial Intelligence: state agency public interface: use of AI.\n",
      "- SB398: Department of Technology: advanced technology: research.\n",
      "- SB721: General plan: annual report: suite-style student housing quarters.\n",
      "- SB892: Public contracts: automated decision systems: procurement standards.\n",
      "- SB893: California Artificial Intelligence Research Hub.\n",
      "- SB896: Generative Artificial Intelligence Accountability Act.\n",
      "- SB933: Crimes: child pornography.\n",
      "- SB942: California AI Transparency Act.\n",
      "- SB970: Artificial intelligence technology.\n",
      "- SB1047: Safe and Secure Innovation for Frontier Artificial Intelligence Models Act.\n",
      "- SB1070: Health care district: County of Imperial.\n",
      "- SB1120: Health care coverage: utilization review.\n",
      "- SB1154: California Preventing Algorithmic Collusion Act of 2024.\n",
      "- SB1220: Public benefits contracts: phone operator jobs.\n",
      "- SB1228: User identity authentication.\n",
      "- SB1223: Consumer privacy: sensitive personal information: neural data.\n",
      "- SB1229: Insurance disclosures.\n",
      "- SB1235: Public postsecondary education: Artificial Intelligence and Deepfake Working Group.\n",
      "- SB1282: Crimes: diversion.\n",
      "- SB1288: Public schools: artificial intelligence working group.\n",
      "- SB1381: Crimes: child pornography.\n",
      "- SB1446: Grocery retail store and retail drug establishment employees: self-service checkout and consequential workplace technology.\n",
      "- SCR17: Artificial intelligence.\n",
      "- SCR121: International Women’s Day.\n",
      "- SCR162: Alzheimer’s and Brain Awareness Month and The Longest Day.\n",
      "2025-2026 Legislative Session:\n",
      "- AB93: Water resources: demands: data centers.\n",
      "- AB222: Data centers: energy usage reporting and efficiency standards: electricity rates.\n",
      "- AB279: School libraries: model library standards.\n",
      "- AB316: Artificial intelligence: defenses.\n",
      "- AB325: Cartwright Act: violations.\n",
      "- AB392: Pornographic internet websites: consent.\n",
      "- AB410: Bots: disclosure.\n",
      "- AB412: Generative artificial intelligence: training data: copyrighted materials.\n",
      "- AB489: Health care professions: deceptive terms or letters: artificial intelligence.\n",
      "- AB512: Health care coverage: prior authorization.\n",
      "- AB682: Health care coverage reporting.\n",
      "- AB723: Real estate: digitally altered images: disclosure.\n",
      "- AB853: California AI Transparency Act.\n",
      "- AB887: Pupil instruction: high schools: computer science courses: implementation guide.\n",
      "- AB979: California Cybersecurity Integration Center: artificial intelligence.\n",
      "- AB1018: Automated decision systems.\n",
      "- AB1024: Department of Fish and Wildlife: San Gabriel Valley Bear Management and Community Safety Act.\n",
      "- AB1064: Leading Ethical AI Development (LEAD) for Kids Act.\n",
      "- AB1137: Reporting mechanism: child sexual abuse material.\n",
      "- AB1159: Student personal information.\n",
      "- AB1170: Maintenance of the codes.\n",
      "- AB1242: Language access.\n",
      "- SB7: Employment: automated decision systems.\n",
      "- SB11: Artificial intelligence technology.\n",
      "- SB16: Homeless Housing, Assistance, and Prevention program: housing element: unsheltered and chronic homelessness: assessment and financing plan.\n",
      "- SB53: CalCompute: foundation models: whistleblowers.\n",
      "- SB57: Electrical corporations: tariffs.\n",
      "- SB243: Companion chatbots.\n",
      "- SB295: California Preventing Algorithmic Collusion Act of 2025.\n",
      "- SB354: Insurance Consumer Privacy Protection Act of 2025.\n",
      "- SB366: Employment: artificial intelligence.\n",
      "- SB420: Automated decision systems.\n",
      "- SB468: High-risk artificial intelligence systems: duty to protect personal information.\n",
      "- SB503: Health care services: artificial intelligence.\n",
      "- SB524: Law enforcement agencies: artificial intelligence.\n",
      "- SB579: Mental health and artificial intelligence working group.\n",
      "- SB711: Taxation: federal conformity.\n",
      "- SB813: Multistakeholder regulatory organizations.\n",
      "- SB833: Critical infrastructure: automated decision systems: human oversight.\n"
     ]
    }
   ],
   "source": [
    "# Process the markdown files for each legislative session and bill\n",
    "for key, value in aiBills.items():\n",
    "    # Loop through each period\n",
    "    print(f\"{key} Legislative Session:\")\n",
    "    for billId, bill in value.items():\n",
    "        # for each bill in the period, generate the markdown file\n",
    "        legiscan.aiBillMarkdown(\n",
    "            billPeriod = key,\n",
    "            billId = billId,\n",
    "            billsDict = aiBills,\n",
    "            billsSummariesDict = aiBillsSummariesStored,\n",
    "            obsidianSync = True\n",
    "        )\n",
    "        # Stored markdown file in the markdown/AI directory and in the Obsidian vault directory\n",
    "        print(f\"- {billId}: {bill['title']}\")"
   ]
  },
  {
   "cell_type": "code",
   "execution_count": null,
   "id": "f5cb2c18",
   "metadata": {},
   "outputs": [],
   "source": []
  }
 ],
 "metadata": {
  "kernelspec": {
   "display_name": "drkPy",
   "language": "python",
   "name": "python3"
  },
  "language_info": {
   "codemirror_mode": {
    "name": "ipython",
    "version": 3
   },
   "file_extension": ".py",
   "mimetype": "text/x-python",
   "name": "python",
   "nbconvert_exporter": "python",
   "pygments_lexer": "ipython3",
   "version": "3.11.11"
  }
 },
 "nbformat": 4,
 "nbformat_minor": 5
}
