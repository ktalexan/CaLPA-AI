{
 "cells": [
  {
   "cell_type": "markdown",
   "id": "c0d4f3f5",
   "metadata": {},
   "source": [
    "</center></div><div style = 'background-color:indigo'><center><h1 style='font-size: 50px; font-weight: bold; color:goldenrod; border-top: 3px solid goldenrod; padding-top: 10px'>AI Legislative Policy Analysis (CaLPA-AI)</h1><div style='font-size: 35px; font-weight: bold; color: goldenrod'> Part 1 - Preliminary Operations</div><div style='font-size: 30px; font-weight: bold; color: goldenrod; border-bottom: 3px solid goldenrod; padding-bottom: 20px'>v.1.1 (MIT License), Dr. Kostas Alexandridis, GISP, April 2025</div></center></div>"
   ]
  },
  {
   "cell_type": "code",
   "execution_count": null,
   "id": "42210fbe",
   "metadata": {},
   "outputs": [],
   "source": [
    "import notebookHeadings\n",
    "from notebookHeadings import mdt\n",
    "mdt(level = 0, prjPart = 1, prjComponent = \"AI\", prjVersion = \"1.1\")"
   ]
  },
  {
   "cell_type": "markdown",
   "id": "e64f18e6",
   "metadata": {},
   "source": [
    "This is the main notebook for the AI California Legislative Policy Analysis (CALPA) project. The goal of this project is to analyze California legislative bills using natural language processing (NLP) techniques. This notebook will cover the preliminary data processing steps, including data loading, cleaning, and preparation for analysis.\n",
    "The project is divided into several parts, each focusing on a specific aspect of the analysis. The first part will cover the data loading and cleaning process, while subsequent parts will focus on feature extraction, model training, and evaluation."
   ]
  },
  {
   "cell_type": "markdown",
   "id": "72a7e42c",
   "metadata": {},
   "source": [
    "<h1 style='font-weight:bold; color:orangered; border-bottom: 2px solid orangered'>1. Preliminaries</h1>"
   ]
  },
  {
   "cell_type": "markdown",
   "id": "3726e966",
   "metadata": {},
   "source": [
    "<h2 style='font-weight:bold; color:dodgerblue; border-bottom: 1px solid dodgerblue; padding-left: 25px'>1.1. Referencing Libraries and Initialization</h2>"
   ]
  },
  {
   "cell_type": "code",
   "execution_count": null,
   "id": "566d1b97",
   "metadata": {},
   "outputs": [],
   "source": [
    "mdt(1, \"1. Preliminaries\")\n",
    "mdt(2, \"1.1. Referencing Libraries and Initialization\")"
   ]
  },
  {
   "cell_type": "markdown",
   "id": "8208c249",
   "metadata": {},
   "source": [
    "If needed to reset the kernel, please run the following cell:"
   ]
  },
  {
   "cell_type": "code",
   "execution_count": null,
   "id": "bc5f5ee8",
   "metadata": {},
   "outputs": [],
   "source": [
    "#%reset"
   ]
  },
  {
   "cell_type": "markdown",
   "id": "8cc81da9",
   "metadata": {},
   "source": [
    "Instantiating python libraries for the project"
   ]
  },
  {
   "cell_type": "code",
   "execution_count": null,
   "id": "a2f0c47a",
   "metadata": {},
   "outputs": [],
   "source": [
    "# Import required libraries\n",
    "import os\n",
    "from dotenv import load_dotenv\n",
    "import time\n",
    "from datetime import date\n",
    "from datetime import datetime\n",
    "import json\n",
    "import mimetypes\n",
    "import glob\n",
    "import base64\n",
    "import zipfile\n",
    "import io\n",
    "import requests\n",
    "import pandas as pd"
   ]
  },
  {
   "cell_type": "markdown",
   "id": "09d997f5",
   "metadata": {},
   "source": [
    "Load the local python modules containing classes and functions for the project from the local directory.\n",
    "- `calpa`: This module contains the main classes and functions for the project, including the `LegiScan` class for the LegScan API."
   ]
  },
  {
   "cell_type": "code",
   "execution_count": null,
   "id": "ae70f788",
   "metadata": {},
   "outputs": [],
   "source": [
    "# Load the calpa module located in the scripts/python/calpa directory\n",
    "from calpa import calpa"
   ]
  },
  {
   "cell_type": "markdown",
   "id": "7d2d94ce",
   "metadata": {},
   "source": [
    "<h2 style='font-weight:bold; color:dodgerblue; border-bottom: 1px solid dodgerblue; padding-left: 25px'>1.2. Project and Workspace Variables</h2>"
   ]
  },
  {
   "cell_type": "markdown",
   "id": "f2f8299f",
   "metadata": {},
   "source": [
    "<h3 style='font-weight:bold; color:lime; padding-left: 50px'>Load Environment Variables</h3>"
   ]
  },
  {
   "cell_type": "code",
   "execution_count": null,
   "id": "06bf419c",
   "metadata": {},
   "outputs": [],
   "source": [
    "mdt(2, \"1.2. Project and Workspace Variables\")\n",
    "mdt(3, \"Load Environment Variables\")"
   ]
  },
  {
   "cell_type": "markdown",
   "id": "33393245",
   "metadata": {},
   "source": [
    "Define and maintain project, workspace and metadata. Below we load the environment variables from the `.env` file. The environment variables are used to configure the project and workspace settings. The `dotenv` library is used to load the environment variables from the `.env` file into the Python environment. The environment also contains the LegiScan API key, which is used to access the LegiScan API. The API key is stored in the `LEGISCAN_API_KEY` environment variable. The `dotenv` library is used to load the environment variables from the `.env` file into the Python environment."
   ]
  },
  {
   "cell_type": "code",
   "execution_count": null,
   "id": "d59292b7",
   "metadata": {},
   "outputs": [],
   "source": [
    "# Load environment variables from .env file\n",
    "load_dotenv()"
   ]
  },
  {
   "cell_type": "markdown",
   "id": "ac57d693",
   "metadata": {},
   "source": [
    "<h3 style='font-weight:bold; color:lime; padding-left: 50px'>Main Class Instantiation</h3>"
   ]
  },
  {
   "cell_type": "code",
   "execution_count": null,
   "id": "a10dfedb",
   "metadata": {},
   "outputs": [],
   "source": [
    "mdt(3, \"Main Class Instantiation\")"
   ]
  },
  {
   "cell_type": "markdown",
   "id": "1ee03ec6",
   "metadata": {},
   "source": [
    "Instantiate the main class for the project:\n",
    "- `legiscan`: This class is used to access the LegiScan API and retrieve legislative data."
   ]
  },
  {
   "cell_type": "code",
   "execution_count": null,
   "id": "091cabc8",
   "metadata": {},
   "outputs": [],
   "source": [
    "# Instantiate the LegiScan class\n",
    "legiscan = calpa.LegiScan()"
   ]
  },
  {
   "cell_type": "markdown",
   "id": "de3d0889",
   "metadata": {},
   "source": [
    "Create project metadata for the project"
   ]
  },
  {
   "cell_type": "code",
   "execution_count": null,
   "id": "0103f779",
   "metadata": {},
   "outputs": [],
   "source": [
    "# Create project metadata for the AI project\n",
    "prjMetadata = calpa.projectMetadata(prjPart=1, prjComponent=\"AI\", prjVersion=\"1.1\")"
   ]
  },
  {
   "cell_type": "markdown",
   "id": "2c0d5ebb",
   "metadata": {},
   "source": [
    "Create the project directories dictionary"
   ]
  },
  {
   "cell_type": "code",
   "execution_count": null,
   "id": "83659ca7",
   "metadata": {},
   "outputs": [],
   "source": [
    "# Create the project directories dictionary\n",
    "prjDirs = calpa.projectDirectories(os.getcwd())"
   ]
  },
  {
   "cell_type": "markdown",
   "id": "e59856f3",
   "metadata": {},
   "source": [
    "<h3 style='font-weight:bold; color:lime; padding-left: 50px'>Lookup Data and Variables</h3>"
   ]
  },
  {
   "cell_type": "code",
   "execution_count": null,
   "id": "4ffba643",
   "metadata": {},
   "outputs": [],
   "source": [
    "mdt(3, \"Lookup Data and Variables\")"
   ]
  },
  {
   "cell_type": "markdown",
   "id": "8d0e8c5e",
   "metadata": {},
   "source": [
    "If needed, you can access the project lookup and dictionary variables. They are embedded in the `codebook` module of the `calpa` package. The codebook module contains the following variables:\n",
    "1. **LegiScan API Call Dictionaries**: These are codebook dictionaries that map the definitions of the LegiScan API fields for a number of API calls. The dictionaries available are (alphabetically ordered):\n",
    "   - `dictGetAmendment`: Contains all the fields returned by the LegiScan API for the `getAmendment` call.\n",
    "   - `dictGetBill`: Contains all the fields returned by the LegiScan API for the `getBill` call.\n",
    "   - `dictGetBillText`: Contains all the fields returned by the LegiScan API for the `getBillText` call.\n",
    "   - `dictGetPerson`: Contains all the fields returned by the LegiScan API for the `getPerson` call.\n",
    "   - `dictGetRollCall`: Contains all the fields returned by the LegiScan API for the `getRollCall` call.\n",
    "   - `dictGetSessionList`: Contains all the fields returned by the LegiScan API for the `getSessionList` call.\n",
    "   - `dictGetSupplement`: Contains all the fields returned by the LegiScan API for the `getSupplement` call.\n",
    "2. **Lookup Variables**: These are lists containing the names or definitions of codes used inside the LegiScan API calls (usually IDs or codes). The lookup variables available are (alphabetically ordered):\n",
    "   - `lookupBillCode`: Bill code definitions used in the LegiScan API.\n",
    "   - `lookupBillTextType`: IDs and definitions of the bill types used in the LegiScan API.\n",
    "   - `lookupBillType`: IDs and definitions of the bill types used in the LegiScan API.\n",
    "   - `lookupBodyType`: Definitions of body types used in the LegiScan API.\n",
    "   - `lookupEventType`: Definitions of event types used in the LegiScan API.\n",
    "   - `lookupMimeType`: Definitions of mime types used in the LegiScan API.\n",
    "   - `lookupPartyType`: Definitions of party types used in the LegiScan API.\n",
    "   - `lookupProgressType`: Definitions of progress types used in the LegiScan API.\n",
    "   - `lookupReasonType`: Definitions of reason types used in the LegiScan API.\n",
    "   - `lookupRoleType`: Definitions of role types used in the LegiScan API.\n",
    "   - `lookupSastType`: Definitions of SAST types used in the LegiScan API.\n",
    "   - `lookupSponsorType`: Definitions of sponsor types used in the LegiScan API.\n",
    "   - `lookupStateType`: Definitions of state types used in the LegiScan API (California only).\n",
    "   - `lookupStatusType`: Definitions of status types used in the LegiScan API.\n",
    "   - `lookupSupplementType`: Definitions of supplement types used in the LegiScan API.\n",
    "   - `lookupVoteType`: Definitions of vote types used in the LegiScan API.\n",
    "\n",
    "If you need to access the codebook variables, you can do so by running the following cell. The codebook variables are stored in the `codebook` module of the `calpa` package. Calling the variables (assuming that the `calpa` package is imported) will return the variables as a dictionary. You can access the variables by using the dictionary keys. For example, to access the `lookupBillCode` variable, you can use the following code:\n",
    "\n",
    ">```python\n",
    "># Load the calpa module located in the scripts/python/calpa directory\n",
    ">from calpa import calpa\n",
    ">\n",
    "># Getting the lookup variables from the codebook module directly\n",
    ">calpa.codebook.lookupBillCode\n",
    ">\n",
    "># Assigning the lookup variables to a stored in the session\n",
    ">lookupBillCode = calpa.codebook.lookupBillCode\n",
    ">```\n"
   ]
  },
  {
   "cell_type": "code",
   "execution_count": null,
   "id": "761c50e9",
   "metadata": {},
   "outputs": [],
   "source": [
    "# Codebook lookup variables\n",
    "codebookLookupVars = [var for var in dir(calpa.codebook) if var.startswith('lookup')]\n",
    "codebookDictVars = [var for var in dir(calpa.codebook) if var.startswith('dict')]\n",
    "print(f\"Codebook Lookup Variables:\\n{codebookLookupVars}\\n\")\n",
    "print(f\"Codebook Dictionary Variables:\\n{codebookDictVars}\\n\")"
   ]
  },
  {
   "cell_type": "markdown",
   "id": "f1040c1b",
   "metadata": {},
   "source": [
    "<h1 style='font-weight:bold; color:orangered; border-bottom: 2px solid orangered'>2. Baseline LegiScan Data</h1>"
   ]
  },
  {
   "cell_type": "markdown",
   "id": "a5ee91f4",
   "metadata": {},
   "source": [
    "<h2 style='font-weight:bold; color:dodgerblue; border-bottom: 1px solid dodgerblue; padding-left: 25px'>2.1. Session List</h2>"
   ]
  },
  {
   "cell_type": "code",
   "execution_count": null,
   "id": "0261faf3",
   "metadata": {},
   "outputs": [],
   "source": [
    "mdt(1, \"2. Baseline LegiScan Data\")\n",
    "mdt(2, \"2.1. Session List\")"
   ]
  },
  {
   "cell_type": "markdown",
   "id": "f1cdb9f2",
   "metadata": {},
   "source": [
    "Using the LegiScan API, we will retrieve the list of sessions for California. This will be used to get the session ID for the current session and the previous session. The session ID is needed to retrieve the bills for each session."
   ]
  },
  {
   "cell_type": "code",
   "execution_count": null,
   "id": "6a452061",
   "metadata": {},
   "outputs": [],
   "source": [
    "# Get the list of sessions from LegiScan\n",
    "sessionList = legiscan.getSessionList()"
   ]
  },
  {
   "cell_type": "markdown",
   "id": "46714b86",
   "metadata": {},
   "source": [
    "Convert the session list to a pandas dataframe"
   ]
  },
  {
   "cell_type": "code",
   "execution_count": null,
   "id": "29b395fb",
   "metadata": {},
   "outputs": [],
   "source": [
    "# Convert the sessionList to a pandas DataFrame\n",
    "sessionDf = pd.DataFrame(sessionList)\n",
    "sessionDf.head()"
   ]
  },
  {
   "cell_type": "markdown",
   "id": "cd1cb8b1",
   "metadata": {},
   "source": [
    "We need to compare the session list we obtained from the Legiscan API with the previous session list (stored in the disk under `data/lookup/sessionList.json`). Here, we open the stored session list into a new dictionary called `sessionListStored`."
   ]
  },
  {
   "cell_type": "code",
   "execution_count": null,
   "id": "de1789a8",
   "metadata": {},
   "outputs": [],
   "source": [
    "# Obtain the stored sessions list from JSON dictionary on disk (data/lookup directory)\n",
    "sessionListStored = legiscan.getStoredData(dataType = \"session\")"
   ]
  },
  {
   "cell_type": "markdown",
   "id": "a9f37022",
   "metadata": {},
   "source": [
    "Now that we have both the session lists (the one from the legiscan api, `sessionList`, and the stored version, `sessionListStored`), we can compare them. We will check if the session list from the LegiScan API is the same as the session list stored in the disk. If they are not the same, we will first identify which sessions need updating, and will later update the stored session list with the new session list from the LegiScan API. We will also check if there are any new sessions that have been added to the LegiScan API since the last time we retrieved the session list.\n",
    "\n",
    "The function method `matchHash` from the legiscan module class, uses the hash values to compare the two lists. In this case the relevant JSON keys are `sesion_hash` for each `session_id`."
   ]
  },
  {
   "cell_type": "code",
   "execution_count": null,
   "id": "83c52cbd",
   "metadata": {},
   "outputs": [],
   "source": [
    "# Compare the sessionList and sessionListStored dictionaries for any changes\n",
    "unmatchedSessions = legiscan.matchHash(sessionList, sessionListStored, hashType = \"session\", silent = True)\n",
    "\n",
    "# if the unmatchedSessions is empty, print \"All sessions match\", and delete the unmatchedSessions variable\n",
    "if unmatchedSessions is None:\n",
    "    print(\"All sessions match\")\n",
    "    del unmatchedSessions\n",
    "else:\n",
    "    print(\"Unmatched sessions found\")\n",
    "    # Print the unmatched sessions\n",
    "    print(unmatchedSessions)"
   ]
  },
  {
   "cell_type": "markdown",
   "id": "fafdae3c",
   "metadata": {},
   "source": [
    "Export the LegiScan query records to the `data/legis/json` directory as a JSON file for future reference."
   ]
  },
  {
   "cell_type": "code",
   "execution_count": null,
   "id": "ef0f45d0",
   "metadata": {},
   "outputs": [],
   "source": [
    "# Export the sessionList to a JSON file in the data/legiscan/json directory\n",
    "with open(os.path.join(prjDirs[\"pathDataLegis\"], \"json\", \"sessionList.json\"), \"w\", encoding=\"utf-8\") as f:\n",
    "    json.dump(sessionList, f, ensure_ascii=False, indent=4)\n",
    "del f"
   ]
  },
  {
   "cell_type": "markdown",
   "id": "fea47018",
   "metadata": {},
   "source": [
    "If needed update the stored session list with the new session list from the LegiScan API."
   ]
  },
  {
   "cell_type": "code",
   "execution_count": null,
   "id": "a4cc057d",
   "metadata": {},
   "outputs": [],
   "source": [
    "# Update the stored sessions list with the new sessionList\n",
    "with open(os.path.join(prjDirs[\"pathDataLookup\"], \"sessionListStored.json\"), \"w\", encoding=\"utf-8\") as f:\n",
    "    json.dump(sessionList, f, ensure_ascii=False, indent=4)\n",
    "del f"
   ]
  },
  {
   "cell_type": "markdown",
   "id": "907241db",
   "metadata": {},
   "source": [
    "<h2 style='font-weight:bold; color:dodgerblue; border-bottom: 1px solid dodgerblue; padding-left: 25px'>2.2. Session People</h2>"
   ]
  },
  {
   "cell_type": "code",
   "execution_count": null,
   "id": "f599eaa5",
   "metadata": {},
   "outputs": [],
   "source": [
    "mdt(2, \"2.2. Session People\")"
   ]
  },
  {
   "cell_type": "markdown",
   "id": "470f8fa0",
   "metadata": {},
   "source": [
    "In this step, we will obtain the list of California legislature members (Senate and Assembly) for each of the legislative sessions. This will be used to get the list of members for each session. The session ID is needed to retrieve the members for each session. We will use the LegiScan API to retrieve the list of members for each session.\n",
    "\n",
    "The `legiscan.getSessionPeople` method retrieves the list of members for each session. The session ID is passed as an argument to the method. The method returns a list of members for each session. The list of members is stored in a dictionary called `sessionPeople`. The dictionary contains the session ID as the key and the list of members as the value."
   ]
  },
  {
   "cell_type": "code",
   "execution_count": null,
   "id": "3865b9c7",
   "metadata": {},
   "outputs": [],
   "source": [
    "# Get the list of session people from LegiScan\n",
    "sessionPeople = {}\n",
    "for key, value in sessionList.items():\n",
    "    sessionId = value[\"session_id\"]\n",
    "    sessionPeople[key] = legiscan.getSessionPeople(sessionId)\n",
    "del key, value, sessionId"
   ]
  },
  {
   "cell_type": "markdown",
   "id": "e98b2cd9",
   "metadata": {},
   "source": [
    "Similarly with the legislative session list, we will compare the session people list we obtained from the LegiScan API with the previous session people list (stored in the disk under `data/lookup/sessionPeople.json`). Here, we open the stored session people list into a new dictionary called `sessionPeopleStored`."
   ]
  },
  {
   "cell_type": "code",
   "execution_count": null,
   "id": "589fb5a4",
   "metadata": {},
   "outputs": [],
   "source": [
    "# Obtain the stored session People list from JSON dictionary on disk (data/lookup directory)\n",
    "sessionPeopleStored = legiscan.getStoredData(dataType = \"people\")"
   ]
  },
  {
   "cell_type": "markdown",
   "id": "814d8ccb",
   "metadata": {},
   "source": [
    "This time, the task is not that simple, since `sessionPeople` lists are nested for each session. The comparison of the Legislature members needs to be done in a loop for each session. In the following code segment, we perform this task in sequential steps:\n",
    "\n",
    "1. Create a dictionary named `unmatchedPeople` to hold the unmatched session people (will be nested for each session).\n",
    "2. Loop through the `sessionPeople` and `sessionPeopleStored` dictionaries to compare the session people lists for each session.\n",
    "3. For each session, compare the session people lists and store the unmatched session people in the `unmatchedSessionPeople` dictionary, based on the `person_hash` key attribute on both lists. We will use the `matchHash` method from the `legiscan` module to compare the two lists.\n",
    "4. If there are any unmatched session people, we will update the `unmatchedPeople` dictionary with the unmatched session people (for each session).\n",
    "5. Finally, we will check if there are any unmatched session people in the `unmatchedPeople` dictionary. If there are, we will update the `sessionPeopleStored` dictionary with the unmatched session people and save it to the disk. "
   ]
  },
  {
   "cell_type": "code",
   "execution_count": null,
   "id": "d1b6dc94",
   "metadata": {},
   "outputs": [],
   "source": [
    "# Compare the sessionPeople and sessionPeopleStored dictionaries for any changes\n",
    "# Create a dictionary to store unmatched people\n",
    "unmatchedPeople = {}\n",
    "# Iterate through each session and compare the people lists\n",
    "for key, value in sessionPeople.items():\n",
    "    unmatchedPeople[key] = {}\n",
    "    unmatched = legiscan.matchHash(sessionPeople[key][\"people\"], sessionPeopleStored[key][\"people\"], hashType = \"person\", silent = True)\n",
    "    # If there are unmatched people, store them in the unmatchedPeople dictionary\n",
    "    unmatchedPeople[key] = unmatched if unmatched is not None else None\n",
    "del key, value, unmatched\n",
    "\n",
    "# if the unmatchedPeople is empty, print \"All people match\", and delete the unmatchedPeople variable\n",
    "if all(not value for value in unmatchedPeople.values()):\n",
    "    print(\"All people match\")\n",
    "    # Delete the unmatchedPeople variable\n",
    "    del unmatchedPeople\n",
    "else:\n",
    "    print(\"Unmatched people found\")\n",
    "    # Print the unmatched sessions\n",
    "    print(unmatchedPeople)"
   ]
  },
  {
   "cell_type": "markdown",
   "id": "3a05c410",
   "metadata": {},
   "source": [
    "Export the LegiScan query data for the session people to the `data/legis/json' directory for future reference."
   ]
  },
  {
   "cell_type": "code",
   "execution_count": null,
   "id": "891071b5",
   "metadata": {},
   "outputs": [],
   "source": [
    "# Export the sessionPeople to a JSON file in the data/legiscan/json directory\n",
    "with open(os.path.join(prjDirs[\"pathDataLegis\"], \"json\", \"sessionPeople.json\"), \"w\", encoding=\"utf-8\") as f:\n",
    "    json.dump(sessionPeople, f, ensure_ascii=False, indent=4)\n",
    "del f"
   ]
  },
  {
   "cell_type": "markdown",
   "id": "ade46b74",
   "metadata": {},
   "source": [
    "If needed update the stored session people list with the new session people list from the LegiScan API."
   ]
  },
  {
   "cell_type": "code",
   "execution_count": null,
   "id": "d1350014",
   "metadata": {},
   "outputs": [],
   "source": [
    "# Update the stored session People list with the new sessionPeople\n",
    "with open(os.path.join(prjDirs[\"pathDataLookup\"], \"sessionPeopleStored.json\"), \"w\", encoding=\"utf-8\") as f:\n",
    "    json.dump(sessionPeople, f, ensure_ascii=False, indent=4)\n",
    "del f"
   ]
  },
  {
   "cell_type": "markdown",
   "id": "5829436c",
   "metadata": {},
   "source": [
    "<h2 style='font-weight:bold; color:dodgerblue; border-bottom: 1px solid dodgerblue; padding-left: 25px'>2.3. Dataset List</h2>"
   ]
  },
  {
   "cell_type": "code",
   "execution_count": null,
   "id": "eeb8ed3a",
   "metadata": {},
   "outputs": [],
   "source": [
    "mdt(2, \"2.3. Dataset List\")"
   ]
  },
  {
   "cell_type": "markdown",
   "id": "9afdc0fa",
   "metadata": {},
   "source": [
    "In this session we will obtain the list of datasets and their attributes for each of the California Legislative Session from LegiScan. This process is needed to obtain the dataset `access_key` for each session, and consequently to use it in query dataset data in a further step.\n",
    "\n",
    "The `legiscan.getDatasetList` method retrieves the list of datasets for each session. The session ID is passed as an argument to the method. The method returns a list of datasets for each session. The list of datasets is stored in a dictionary called `datasetList`. The dictionary contains the session ID as the key and the list of datasets as the value."
   ]
  },
  {
   "cell_type": "code",
   "execution_count": null,
   "id": "60379275",
   "metadata": {},
   "outputs": [],
   "source": [
    "# Get the list of datasets from LegiScan for each legislative session\n",
    "datasetList = legiscan.getDatasetList()"
   ]
  },
  {
   "cell_type": "markdown",
   "id": "95891ea2",
   "metadata": {},
   "source": [
    "Obtain the stored dataset list from the disk. The list will be used to compare with the LegiScan API dataset list. The stored dataset list is stored in the `data/lookup/datasetList.json` file. The dataset list contains the list of datasets for each session. The dataset ID is needed to retrieve the datasets for each session. We will use the LegiScan API to retrieve the list of datasets for each session. Here, we open the stored dataset list into a new dictionary called `datasetListStored`."
   ]
  },
  {
   "cell_type": "code",
   "execution_count": null,
   "id": "c59f42ae",
   "metadata": {},
   "outputs": [],
   "source": [
    "# Obtain the stored dataset list from JSON dictionary on disk (data/lookup directory)\n",
    "datasetListStored = legiscan.getStoredData(dataType = \"dataset\")"
   ]
  },
  {
   "cell_type": "markdown",
   "id": "d69cc3c6",
   "metadata": {},
   "source": [
    "Now that we have both the dataset lists (the one from the legiscan api, `datasetList`, and the stored version, `datasetListStored`), we can compare them. We will check if the dataset list from the LegiScan API is the same as the dataset list stored in the disk. If they are not the same, we will first identify which datasets need updating, and will later update the stored dataset list with the new dataset list from the LegiScan API. We will also check if there are any new datasets that have been added to the LegiScan API since the last time we retrieved the session list.\n",
    "\n",
    "The function method `matchHash` from the legiscan module class, uses the hash values to compare the two lists. In this case the relevant JSON keys are `dataset_hash` for each `session_id`."
   ]
  },
  {
   "cell_type": "code",
   "execution_count": null,
   "id": "bfc98217",
   "metadata": {},
   "outputs": [],
   "source": [
    "# Compare the datasetList and datasetListStored dictionaries for any changes\n",
    "unmatchedDatasets = legiscan.matchHash(datasetList, datasetListStored, hashType = \"dataset\", silent = True)\n",
    "\n",
    "# if the unmatchedSessions is empty, print \"All sessions match\", and delete the unmatchedSessions variable\n",
    "if unmatchedDatasets is None:\n",
    "    print(\"All datasets match\")\n",
    "    del unmatchedDatasets\n",
    "else:\n",
    "    print(\"Unmatched datasets found\")\n",
    "    # Print the unmatched sessions\n",
    "    print(unmatchedDatasets)"
   ]
  },
  {
   "cell_type": "markdown",
   "id": "7e76c862",
   "metadata": {},
   "source": [
    "Export the LegiScan query records to the `data/legis/json` directory as a JSON file for future reference."
   ]
  },
  {
   "cell_type": "code",
   "execution_count": null,
   "id": "bf32ce01",
   "metadata": {},
   "outputs": [],
   "source": [
    "# export the datasetList to a JSON file in the data/legis/json directory\n",
    "with open(os.path.join(prjDirs[\"pathDataLegis\"], \"json\", \"datasetList.json\"), \"w\", encoding=\"utf-8\") as f:\n",
    "    json.dump(datasetList, f, ensure_ascii=False, indent=4)\n",
    "del f"
   ]
  },
  {
   "cell_type": "markdown",
   "id": "b814be36",
   "metadata": {},
   "source": [
    "Update the stored dataset list with the new dataset list from the LegiScan API."
   ]
  },
  {
   "cell_type": "code",
   "execution_count": null,
   "id": "51443b9d",
   "metadata": {},
   "outputs": [],
   "source": [
    "# Update the stored dataset list with the new datasetList\n",
    "with open(os.path.join(prjDirs[\"pathDataLookup\"], \"datasetListStored.json\"), \"w\", encoding=\"utf-8\") as f:\n",
    "    json.dump(datasetList, f, ensure_ascii=False, indent=4)\n",
    "del f"
   ]
  },
  {
   "cell_type": "markdown",
   "id": "c2eaab25",
   "metadata": {},
   "source": [
    "<h2 style='font-weight:bold; color:dodgerblue; border-bottom: 1px solid dodgerblue; padding-left: 25px'>2.4. Master List</h2>"
   ]
  },
  {
   "cell_type": "code",
   "execution_count": null,
   "id": "1136578c",
   "metadata": {},
   "outputs": [],
   "source": [
    "mdt(2, \"2.4. Master List\")"
   ]
  },
  {
   "cell_type": "markdown",
   "id": "68f1f61f",
   "metadata": {},
   "source": [
    "This step is to obtain the master list of datasets for each session. The master list contains the list of bills for each legislative session. The master list is used to get the list of bills for each session. The session ID is needed to retrieve the bills for each session. We will use the LegiScan API to retrieve the list of bills for each session.\n",
    "\n",
    "There are two options for this method. The first obtains the master list with bill attributes (when `raw = False`), and the second obtains the raw master list containing only the bill_ID and hash (when `raw = True`)\n",
    "\n",
    "We will use the `legiscan.getMasterList(sessionID, raw)` method and will store the results in a dictionary called `masterList` or `masterListRaw` depending on the option provided in the method invocation."
   ]
  },
  {
   "cell_type": "code",
   "execution_count": null,
   "id": "9da1467b",
   "metadata": {},
   "outputs": [],
   "source": [
    "# Get the Raw Master List from LegiScan for each legislative session\n",
    "masterListRaw = {}\n",
    "for key, value in sessionList.items():\n",
    "    sessionId = value[\"session_id\"]\n",
    "    masterListRaw[key] = legiscan.getMasterList(sessionId, raw = True)\n",
    "del key, value, sessionId"
   ]
  },
  {
   "cell_type": "code",
   "execution_count": null,
   "id": "626c444b",
   "metadata": {},
   "outputs": [],
   "source": [
    "# Get the Master List from LegiScan for each legislative session\n",
    "masterList = {}\n",
    "for key, value in sessionList.items():\n",
    "    sessionId = value[\"session_id\"]\n",
    "    masterList[key] = legiscan.getMasterList(sessionId, raw = False)\n",
    "del key, value, sessionId"
   ]
  },
  {
   "cell_type": "markdown",
   "id": "27cc41f9",
   "metadata": {},
   "source": [
    "Obtain the stored master lists (both the raw and full) from the disk. The lists will be used to compare each bill with the LegiScan API master list. The stored dataset list is stored in the `data/lookup/mastertList.json` or `data/lookup/masterListRaw.json` files. The master lists contain the list of bills for each session. The dataset ID is needed to retrieve the bills for each session. We will use the LegiScan API to retrieve the list of datasets for each session. Here, we open the stored dataset list into a new dictionary called `masterListStored` and `masterListRawStored`."
   ]
  },
  {
   "cell_type": "code",
   "execution_count": null,
   "id": "7c6c7eb2",
   "metadata": {},
   "outputs": [],
   "source": [
    "# Get the stored raw master list from JSON dictionary on disk (data/lookup directory)\n",
    "masterListRawStored = legiscan.getStoredData(dataType = \"master\", raw = True)\n",
    "# Get the stored master list from JSON dictionary on disk (data/lookup directory)\n",
    "masterListStored = legiscan.getStoredData(dataType = \"master\", raw = False)"
   ]
  },
  {
   "cell_type": "markdown",
   "id": "909f137e",
   "metadata": {},
   "source": [
    "Now that we have both the master lists (the one from the legiscan api, `masterListRaw`, and the stored version, `masterListRawStored`), we can compare them. We will check if the master list from the LegiScan API is the same as the master list stored in the disk. If they are not the same, we will first identify which bills need updating, and will later update the stored master list with the new master list from the LegiScan API. We will also check if there are any new bills that have been added to the LegiScan API since the last time we retrieved the session list.\n",
    "\n",
    "The function method `matchHash` from the legiscan module class, uses the hash values to compare the two lists. In this case the relevant JSON keys are `chanbe_hash` for each `session_id`."
   ]
  },
  {
   "cell_type": "code",
   "execution_count": null,
   "id": "6ab1ade4",
   "metadata": {},
   "outputs": [],
   "source": [
    "# Compare the masterList and masterListStored dictionaries for any changes\n",
    "# Create a dictionary to store unmatched bills\n",
    "unmatchedMasterList = {}\n",
    "# Iterate through each session and compare the bills lists\n",
    "for key, value in masterList.items():\n",
    "    unmatchedMasterList[key] = {}\n",
    "    unmatched = legiscan.matchHash(masterList[key][\"bills\"], masterListStored[key][\"bills\"], hashType = \"change\", silent = True)\n",
    "    # If there are unmatched bills, store them in the unmatchedMasterList dictionary\n",
    "    unmatchedMasterList[key] = unmatched if unmatched is not None else None\n",
    "del key, value, unmatched\n",
    "\n",
    "if all(not value for value in unmatchedMasterList.values()):\n",
    "    print(\"All master lists match\")\n",
    "    # Delete the unmatchedMasterList variable\n",
    "    del unmatchedMasterList\n",
    "else:\n",
    "    print(\"Unmatched master lists found\")\n",
    "    # Print the unmatched sessions\n",
    "    print(unmatchedMasterList)"
   ]
  },
  {
   "cell_type": "code",
   "execution_count": null,
   "id": "56bc2563",
   "metadata": {},
   "outputs": [],
   "source": [
    "# Compare the masterList and masterListStored dictionaries for any changes\n",
    "# Create a dictionary to store unmatched bills\n",
    "unmatchedMasterListRaw = {}\n",
    "# Iterate through each session and compare the bills lists\n",
    "for key, value in masterListRaw.items():\n",
    "    unmatchedMasterListRaw[key] = {}\n",
    "    unmatched = legiscan.matchHash(masterListRaw[key][\"bills\"], masterListRawStored[key][\"bills\"], hashType = \"change\", silent = True)\n",
    "    # If there are unmatched bills, store them in the unmatchedMasterList dictionary\n",
    "    unmatchedMasterListRaw[key] = unmatched if unmatched is not None else None\n",
    "del key, value, unmatched\n",
    "\n",
    "if all(not value for value in unmatchedMasterListRaw.values()):\n",
    "    print(\"All master lists match\")\n",
    "    # Delete the unmatchedMasterList variable\n",
    "    del unmatchedMasterListRaw\n",
    "else:\n",
    "    print(\"Unmatched master lists found\")\n",
    "    # Print the unmatched sessions\n",
    "    print(unmatchedMasterListRaw)"
   ]
  },
  {
   "cell_type": "markdown",
   "id": "11df3310",
   "metadata": {},
   "source": [
    "Export both the LegiScan query records (raw and full master list) to the `data/legis/json` directory as a JSON file for future reference."
   ]
  },
  {
   "cell_type": "code",
   "execution_count": null,
   "id": "bffb99d9",
   "metadata": {},
   "outputs": [],
   "source": [
    "# export the raw master list to a JSON file in the data/legis/json directory\n",
    "with open(os.path.join(prjDirs[\"pathDataLegis\"], \"json\", \"masterListRaw.json\"), \"w\", encoding=\"utf-8\") as f:\n",
    "    json.dump(masterListRaw, f, ensure_ascii=False, indent=4)\n",
    "del f"
   ]
  },
  {
   "cell_type": "code",
   "execution_count": null,
   "id": "bf69f71f",
   "metadata": {},
   "outputs": [],
   "source": [
    "# export the master list to a JSON file in the data/legis/json directory\n",
    "with open(os.path.join(prjDirs[\"pathDataLegis\"], \"json\", \"masterList.json\"), \"w\", encoding=\"utf-8\") as f:\n",
    "    json.dump(masterList, f, ensure_ascii=False, indent=4)\n",
    "del f"
   ]
  },
  {
   "cell_type": "markdown",
   "id": "8e5c84c4",
   "metadata": {},
   "source": [
    "If needed update the stored session people list with the new session people list from the LegiScan API."
   ]
  },
  {
   "cell_type": "code",
   "execution_count": null,
   "id": "5e06e165",
   "metadata": {},
   "outputs": [],
   "source": [
    "# Update the stored raw master list with the new masterListRaw\n",
    "with open(os.path.join(prjDirs[\"pathDataLookup\"], \"masterListRawStored.json\"), \"w\", encoding=\"utf-8\") as f:\n",
    "    json.dump(masterListRaw, f, ensure_ascii=False, indent=4)\n",
    "del f"
   ]
  },
  {
   "cell_type": "code",
   "execution_count": null,
   "id": "80d6f796",
   "metadata": {},
   "outputs": [],
   "source": [
    "# Update the master list with the new masterList\n",
    "with open(os.path.join(prjDirs[\"pathDataLookup\"], \"masterListStored.json\"), \"w\", encoding=\"utf-8\") as f:\n",
    "    json.dump(masterList, f, ensure_ascii=False, indent=4)\n",
    "del f"
   ]
  },
  {
   "cell_type": "markdown",
   "id": "7d8d4b7d",
   "metadata": {},
   "source": [
    "<h1 style='font-weight:bold; color:orangered; border-bottom: 2px solid orangered'>3. Bill Monitoring Operations</h1>"
   ]
  },
  {
   "cell_type": "markdown",
   "id": "b6f928b4",
   "metadata": {},
   "source": [
    "<h2 style='font-weight:bold; color:dodgerblue; border-bottom: 1px solid dodgerblue; padding-left: 25px'>3.1. LegiScan AI Search Query</h2>"
   ]
  },
  {
   "cell_type": "code",
   "execution_count": null,
   "id": "9598e984",
   "metadata": {},
   "outputs": [],
   "source": [
    "mdt(1, \"3. Bill Monitoring Operations\")\n",
    "mdt(2, \"3.1. LegiScan AI Search Query\")"
   ]
  },
  {
   "cell_type": "markdown",
   "id": "8f034a81",
   "metadata": {},
   "source": [
    "First, and foremost, we need to update the list of bills to be monitored, based on the LegiScan API search query. The search query is used to retrieve the list of bills that match the term `artificial intelligence` within a given relevance threshold for each legislative session.\n",
    "\n",
    "We will use the `legiscan.aiSearchQuery` method to retrieve the list of bills that match the search query. The search query is encoded as an internal argument to the method. The method returns a list of bills that match the search query. The list of bills is stored in a dictionary called `aiBillList`."
   ]
  },
  {
   "cell_type": "code",
   "execution_count": null,
   "id": "b95bee53",
   "metadata": {},
   "outputs": [],
   "source": [
    "# Create a dictionary to store the AI search results\n",
    "aiBillList = {}\n",
    "billCount = 0\n",
    "# Loop through each session in the sessionList\n",
    "for myPeriod, mySession in sessionList.items():\n",
    "    # Get the session ID for the current session\n",
    "    mySessionId = mySession[\"session_id\"]\n",
    "    # Run the AI search query for the current session\n",
    "    aiQuery = legiscan.aiSearchQuery(sessionId = mySessionId, threshold = 75)\n",
    "    # and add it to the aiBillList dictionary\n",
    "    if aiQuery != {}:\n",
    "        print(f\"{myPeriod}\\n\")\n",
    "        aiBillList[myPeriod] = aiQuery\n",
    "        billCount += len(aiBillList[myPeriod])\n",
    "print(f\"Total number of bills added: {billCount}\")\n",
    "del myPeriod, mySession, mySessionId, billCount, aiQuery\n",
    "\n",
    "# reorder the aiBillList dictionary by key in ascending order\n",
    "aiBillList = dict(sorted(aiBillList.items(), key=lambda item: item[0], reverse=False))"
   ]
  },
  {
   "cell_type": "markdown",
   "id": "5e07ec2d",
   "metadata": {},
   "source": [
    "Export the LegiScan query records to the `data/legis/json` directory as a JSON file for future reference."
   ]
  },
  {
   "cell_type": "code",
   "execution_count": null,
   "id": "72fa9b02",
   "metadata": {},
   "outputs": [],
   "source": [
    "# Export the aiBillList to a JSON file in the data/legis/json directory\n",
    "with open(os.path.join(prjDirs[\"pathDataLegis\"], \"json\", \"aiBillList.json\"), \"w\", encoding=\"utf-8\") as f:\n",
    "    json.dump(aiBillList, f, ensure_ascii=False, indent=4)\n",
    "del f"
   ]
  },
  {
   "cell_type": "markdown",
   "id": "2c209731",
   "metadata": {},
   "source": [
    "<h2 style='font-weight:bold; color:dodgerblue; border-bottom: 1px solid dodgerblue; padding-left: 25px'>3.2. Stored Monitor Bill List</h2>"
   ]
  },
  {
   "cell_type": "code",
   "execution_count": null,
   "id": "8567cb2f",
   "metadata": {},
   "outputs": [],
   "source": [
    "mdt(2, \"3.2. Stored Monitor Bill List\")"
   ]
  },
  {
   "cell_type": "markdown",
   "id": "317cff94",
   "metadata": {},
   "source": [
    "Get the stored monitoring list from the disk"
   ]
  },
  {
   "cell_type": "code",
   "execution_count": null,
   "id": "bd1555a0",
   "metadata": {},
   "outputs": [],
   "source": [
    "# Get the stored AI bill list from JSON dictionary on disk (data/lookup directory)\n",
    "aiBillListStored = legiscan.getStoredData(dataType = \"bills\", project = \"AI\")"
   ]
  },
  {
   "cell_type": "markdown",
   "id": "b31ede10",
   "metadata": {},
   "source": [
    "Now that we have both the AI bill lists (the one from the legiscan api, `aiBillList`, and the stored version, `aiBillListStored`), we can compare them. We will check if the AI bill list from the LegiScan API is the same as the AI bill list stored in the disk. If they are not the same, we will first identify which bills need updating, and will later update the stored AI bill list with the new bill list from the LegiScan API. We will also check if there are any new bills that have been added to the LegiScan API since the last time we retrieved the session list.\n",
    "\n",
    "The function method `matchHash` from the legiscan module class, uses the hash values to compare the two lists. In this case the relevant JSON keys are `change_hash` for each `session_id`."
   ]
  },
  {
   "cell_type": "code",
   "execution_count": null,
   "id": "8060e489",
   "metadata": {},
   "outputs": [],
   "source": [
    "# Create a dictionary to store unmatched AI bills\n",
    "unmatchedAiBillList = {}\n",
    "# Loop through each session in the aiBillList and compare it with the stored aiBillList\n",
    "for myPeriod, mySession in aiBillList.items():\n",
    "    sessionUnmatched = legiscan.matchHash(mySession, aiBillListStored[myPeriod], hashType = \"change\", silent = True)\n",
    "    # If there are unmatched AI bills, store them in the unmatchedAiBillList dictionary\n",
    "    if sessionUnmatched is not None:\n",
    "        # If the sessionUnmatched is not empty, add it to the unmatchedAiBillList dictionary\n",
    "        unmatchedAiBillList[myPeriod] = sessionUnmatched\n",
    "        print(f\"Unmatched AI bills found for {myPeriod}\")\n",
    "        print(sessionUnmatched)\n",
    "    else:\n",
    "        # If the sessionUnmatched is empty, print \"All AI bills match for {myPeriod}\"\n",
    "        print(f\"All AI bills match for {myPeriod}\")\n",
    "del myPeriod, mySession, sessionUnmatched\n",
    "\n",
    "# if the unmatchedAiBillList is empty, print \"All bills match\", and delete the unmatchedAiBillList variable. Otherwise, print \"Unmatched bills found\" and print the unmatched sessions.\n",
    "if unmatchedAiBillList == {}:\n",
    "    print(\"All bills match\")\n",
    "    del unmatchedAiBillList\n",
    "else:\n",
    "    print(\"Unmatched bills found\")\n",
    "    # Print the unmatched sessions\n",
    "    print(unmatchedAiBillList)"
   ]
  },
  {
   "cell_type": "markdown",
   "id": "7e5df0d2",
   "metadata": {},
   "source": [
    "If needed, update the stored LegiScan AI search query list with the new LegiScan AI search query list from the LegiScan API."
   ]
  },
  {
   "cell_type": "code",
   "execution_count": null,
   "id": "85b5e518",
   "metadata": {},
   "outputs": [],
   "source": [
    "# Update the stored aiBillList with the new aiBillList\n",
    "with open(os.path.join(prjDirs[\"pathDataLookup\"], \"aiBillListStored.json\"), \"w\", encoding=\"utf-8\") as f:\n",
    "    json.dump(aiBillList, f, ensure_ascii=False, indent=4)\n",
    "del f"
   ]
  },
  {
   "cell_type": "markdown",
   "id": "60ce1152",
   "metadata": {},
   "source": [
    "<h2 style='font-weight:bold; color:dodgerblue; border-bottom: 1px solid dodgerblue; padding-left: 25px'>3.3. Get LegiScan Bills</h2>"
   ]
  },
  {
   "cell_type": "code",
   "execution_count": null,
   "id": "a0910928",
   "metadata": {},
   "outputs": [],
   "source": [
    "mdt(2, \"3.3. Get LegiScan Bills\")"
   ]
  },
  {
   "cell_type": "markdown",
   "id": "1f9cc83e",
   "metadata": {},
   "source": [
    "Get the LegiScan bills for each session. The session ID is needed to retrieve the bills for each session. We will use the LegiScan API to retrieve the list of bills for each session."
   ]
  },
  {
   "cell_type": "code",
   "execution_count": null,
   "id": "3f2ec4b9",
   "metadata": {},
   "outputs": [],
   "source": [
    "# Define a dictionary to store AI bills\n",
    "aiBills = {}\n",
    "j = 0\n",
    "# Iterate through the AI bill list and fetch the bill details from LegiScan\n",
    "for myPeriod, myBillList in aiBillListStored.items():\n",
    "    # Set the key to the legislative session period\n",
    "    aiBills[myPeriod] = {}\n",
    "    i = 1\n",
    "    l = len(myBillList)\n",
    "    print(f\"\\n{myPeriod} Legislative Session ({l} bills)\")\n",
    "    # Iterate through the bills for the current legislative session\n",
    "    for myBillNumber, myBill in myBillList.items():\n",
    "        # Get the bill ID\n",
    "        myBillId = myBill[\"bill_id\"]\n",
    "        print(f\"  {i}. {myBillNumber} ({myBillId})\")\n",
    "        # add the legiscan query to the aiBills dictionary\n",
    "        aiBills[myPeriod][myBillNumber] = legiscan.getBill(billId = myBillId)\n",
    "        i += 1\n",
    "    j += i - 1\n",
    "print(f\"\\nCompleted fetching AI bills from LegiScan (Total: {j} bills)\")\n",
    "del myPeriod, myBillList, myBillNumber, myBillId, myBill, i, l, j"
   ]
  },
  {
   "cell_type": "markdown",
   "id": "f507b73b",
   "metadata": {},
   "source": [
    "Export the LegiScan query records to the `data/legis/json` directory as a JSON file for future reference."
   ]
  },
  {
   "cell_type": "code",
   "execution_count": null,
   "id": "6517a0bb",
   "metadata": {},
   "outputs": [],
   "source": [
    "# Export the AI bills to a JSON file in the data/legiscan/json directory\n",
    "with open(os.path.join(prjDirs[\"pathDataLegis\"], \"json\", \"aiBills.json\"), \"w\", encoding=\"utf-8\") as f:\n",
    "    json.dump(aiBills, f, ensure_ascii=False, indent=4)\n",
    "del f"
   ]
  },
  {
   "cell_type": "markdown",
   "id": "a5e05660",
   "metadata": {},
   "source": [
    "<h2 style='font-weight:bold; color:dodgerblue; border-bottom: 1px solid dodgerblue; padding-left: 25px'>3.4. Get Bill Text</h2>"
   ]
  },
  {
   "cell_type": "code",
   "execution_count": null,
   "id": "9fec4061",
   "metadata": {},
   "outputs": [],
   "source": [
    "mdt(2, \"3.4. Get Bill Text\")"
   ]
  },
  {
   "cell_type": "markdown",
   "id": "09f8909c",
   "metadata": {},
   "source": [
    "Get the LegiScan bill text for each session. This process involves two legiscan functions:\n",
    "\n",
    "- `legiscan.getBillText`: This function retrieves the bill text for each bill in the session. The document ID is passed as an argument to the function. The function runs the LegiScan API call, and returns the bill text JSON information for each bill (which includes the base64 encoded bill text).\n",
    "- `legiscan.summarizeBillText`: This function summarizes the bill text for each bill in the session. The bill JSON information is passed as an argument to this function. The function performs a number of tasks:\n",
    "    - Looks up the `texts` JSON object group of the bill, and finds the last bill text version (is the last one in the list, with the latest bill date), and retrieves the `doc_id` identifier of the bill text. \n",
    "    - Uses the `legiscan.getBillText` function above to retrieve the encoded (base64) bill text. It then proceeds to decode the encoded bill text, and converts it to a string.\n",
    "    - Uses an `Azure OpenAI` API call to create a TL;DR summary of the bill text, along with a list of keywords (tags) for the bill text. \n",
    "    - Finally, it constructs and returns a dictionary with the bill number, summarized bill text, the tags, and the bill text itself.\n",
    " "
   ]
  },
  {
   "cell_type": "code",
   "execution_count": null,
   "id": "836127c8",
   "metadata": {},
   "outputs": [],
   "source": [
    "# Create a function that loops through the aiBills dictionary, gets the bill text for each bill, and then processes the text through Azure OpenAI to obtain the summary and keywords.\n",
    "def createBillTextSummary(billList):\n",
    "    \"\"\"\n",
    "    Create a dictionary of bill text objects from the bill list.\n",
    "    \"\"\"\n",
    "    # Create a dictionary to store the bill text objects\n",
    "    billTextDict = {}\n",
    "    # First, loop through the legislative sessions in the bill list\n",
    "    for key, value in billList.items():\n",
    "        # Set the key to the legislative session period\n",
    "        billTextDict[key] = {}\n",
    "        # Count the number of bills in the legislative session\n",
    "        billCount = len(value)\n",
    "        print(f\"\\n{key} Legislative Session ({billCount} bills)\")\n",
    "        # Reset the counter for the number of bills processed\n",
    "        i = 1        \n",
    "        # Loop through the bills for the legislative session\n",
    "        for billKey, billContent in value.items():\n",
    "            maxRetries = 5\n",
    "            attempts = 0\n",
    "            success = False\n",
    "            while not success and attempts < maxRetries:\n",
    "                try:\n",
    "                    # Get the bill text from LegiScan\n",
    "                    billTextJson = legiscan.summarizeBillText(billContent)\n",
    "                    success = True\n",
    "                except Exception as e:\n",
    "                    attempts += 1\n",
    "                    print(f\"  - Error fetching bill text for {billKey}: {e}\")\n",
    "            if success:\n",
    "                # If the bill text is processed,\n",
    "                print(f\"  {billKey} ({i}/{billCount})\")\n",
    "                # Add the bill text to the billTextDict dictionary\n",
    "                billTextDict[key][billKey] = billTextJson\n",
    "                # Increment the counter for the number of bills processed\n",
    "                i += 1\n",
    "            else:\n",
    "                break\n",
    "    # Return the billTextDict dictionary\n",
    "    return billTextDict"
   ]
  },
  {
   "cell_type": "markdown",
   "id": "55b48518",
   "metadata": {},
   "source": [
    "We will execute the `createBillTextDict` function above (which in turns runs the `legiscan.summarizeBillText` function) for each bill in each legislative session, and generates a new dictionary obtaining the resulting data."
   ]
  },
  {
   "cell_type": "code",
   "execution_count": null,
   "id": "9c16c79c",
   "metadata": {},
   "outputs": [],
   "source": [
    "aiBillsSummaries = createBillTextSummary(aiBills)"
   ]
  },
  {
   "cell_type": "markdown",
   "id": "75b3a4b6",
   "metadata": {},
   "source": [
    "Export the LegiScan query records to the `data/legis/json` directory as a JSON file for future reference."
   ]
  },
  {
   "cell_type": "code",
   "execution_count": null,
   "id": "aeec4817",
   "metadata": {},
   "outputs": [],
   "source": [
    "# Export the AI bills summaries to a JSON file in the data/legiscan/json directory\n",
    "with open(os.path.join(prjDirs[\"pathDataLegis\"], \"json\", \"aiBillsSummaries.json\"), \"w\", encoding=\"utf-8\") as f:\n",
    "    json.dump(aiBillsSummaries, f, ensure_ascii=False, indent=4)\n",
    "del f"
   ]
  },
  {
   "cell_type": "code",
   "execution_count": null,
   "id": "eaf44331",
   "metadata": {},
   "outputs": [],
   "source": [
    "# Export the AI bill summaries to a JSON file in the data/lookup directory for reference\n",
    "with open(os.path.join(prjDirs[\"pathDataLookup\"], \"aiBillsSummariesStored.json\"), \"w\", encoding=\"utf-8\") as f:\n",
    "    json.dump(aiBillsSummaries, f, ensure_ascii=False, indent=4)\n",
    "del f"
   ]
  },
  {
   "cell_type": "markdown",
   "id": "1f1348eb",
   "metadata": {},
   "source": [
    "<div style = 'background-color:indigo'><center><h1 style='font-weight:bold; color:goldenrod; border-top: 2px solid goldenrod; border-bottom: 2px solid goldenrod; padding-top: 5px; padding-bottom: 10px'>End of Script</h1></center></div>"
   ]
  },
  {
   "cell_type": "code",
   "execution_count": null,
   "id": "1671834a",
   "metadata": {},
   "outputs": [],
   "source": [
    "mdt(5)"
   ]
  }
 ],
 "metadata": {
  "kernelspec": {
   "display_name": "drkPy",
   "language": "python",
   "name": "python3"
  },
  "language_info": {
   "codemirror_mode": {
    "name": "ipython",
    "version": 3
   },
   "file_extension": ".py",
   "mimetype": "text/x-python",
   "name": "python",
   "nbconvert_exporter": "python",
   "pygments_lexer": "ipython3",
   "version": "3.11.11"
  }
 },
 "nbformat": 4,
 "nbformat_minor": 5
}
