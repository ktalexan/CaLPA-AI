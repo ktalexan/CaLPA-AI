{
 "cells": [
  {
   "cell_type": "markdown",
   "id": "e333f258",
   "metadata": {},
   "source": [
    "</center></div>\n",
    "<div style = \"background-color:indigo\"><center>\n",
    "<h1 style=\"font-size: 50px; font-weight: bold; color:goldenrod; border-top: 3px solid goldenrod; padding-top: 10px\">AI California Legislative Policy Analysis (CALPA-AI)</h1>\n",
    "<div style=\"font-size: 35px; font-weight: bold; color: goldenrod\"> Part 2 - Preliminary Data Processing</div>\n",
    "<div style=\"font-size: 30px; font-weight: bold; color: goldenrod; border-bottom: 3px solid goldenrod; padding-bottom: 20px\">v.1.0 April 2025</div>\n",
    "</center></div>"
   ]
  },
  {
   "cell_type": "markdown",
   "id": "a59e150e",
   "metadata": {},
   "source": [
    "This is the main notebook for the AI California Legislative Policy Analysis (CALPA) project. The goal of this project is to analyze California legislative bills using natural language processing (NLP) techniques. This notebook will cover the preliminary data processing steps, including data loading, cleaning, and preparation for analysis.\n",
    "The project is divided into several parts, each focusing on a specific aspect of the analysis. The first part will cover the data loading and cleaning process, while subsequent parts will focus on feature extraction, model training, and evaluation."
   ]
  },
  {
   "cell_type": "markdown",
   "id": "66469cb5",
   "metadata": {},
   "source": [
    "<h1 style=\"font-weight:bold; color:orangered; border-bottom: 2px solid orangered\">1. Preliminaries</h1>"
   ]
  },
  {
   "cell_type": "markdown",
   "id": "ea620f0a",
   "metadata": {},
   "source": [
    "<h2 style=\"font-weight:bold; color:dodgerblue; border-bottom: 1px solid dodgerblue; padding-left: 25px\">1.1 Referencing Libraries and Initialization</h2>"
   ]
  },
  {
   "cell_type": "markdown",
   "id": "86bb97ac",
   "metadata": {},
   "source": [
    "If needed to reset the kernel, please run the following cell:"
   ]
  },
  {
   "cell_type": "code",
   "execution_count": null,
   "id": "c1295d19",
   "metadata": {},
   "outputs": [],
   "source": [
    "#%reset"
   ]
  },
  {
   "cell_type": "markdown",
   "id": "0417aab9",
   "metadata": {},
   "source": [
    "Instantiating python libraries for the project"
   ]
  },
  {
   "cell_type": "code",
   "execution_count": 1,
   "id": "8d382be0",
   "metadata": {},
   "outputs": [],
   "source": [
    "# Import required libraries\n",
    "import os\n",
    "from dotenv import load_dotenv\n",
    "import time\n",
    "from datetime import date\n",
    "from datetime import datetime\n",
    "import json\n",
    "import mimetypes\n",
    "import glob\n",
    "import base64\n",
    "import zipfile\n",
    "import io\n",
    "import requests\n",
    "import pandas as pd"
   ]
  },
  {
   "cell_type": "markdown",
   "id": "3e3ac128",
   "metadata": {},
   "source": [
    "Load the local python modules containing classes and functions for the project from the local directory. There are two modules:\n",
    "- `calpa`: This module contains the main classes and functions for the project.\n",
    "- `legiscan`: This module contains the classes and functions for the LegiScan API."
   ]
  },
  {
   "cell_type": "code",
   "execution_count": 2,
   "id": "a74c1678",
   "metadata": {},
   "outputs": [],
   "source": [
    "# Load the Calpa module located in the scripts/python/calpa directory\n",
    "from calpa import Calpa, LegiScan"
   ]
  },
  {
   "cell_type": "markdown",
   "id": "3aa1914e",
   "metadata": {},
   "source": [
    "<h2 style=\"font-weight:bold; color:dodgerblue; border-bottom: 1px solid dodgerblue; padding-left: 25px\">1.2. Project and Workspace Variables</h2>"
   ]
  },
  {
   "cell_type": "markdown",
   "id": "211b6f05",
   "metadata": {},
   "source": [
    "<h3 style=\"font-weight:bold; color:lime; padding-left: 50px\">Load Environment Variables</h3>"
   ]
  },
  {
   "cell_type": "markdown",
   "id": "ca219968",
   "metadata": {},
   "source": [
    "Define and maintain project, workspace and metadata. Below we load the environment variables from the `.env` file. The environment variables are used to configure the project and workspace settings. The `dotenv` library is used to load the environment variables from the `.env` file into the Python environment. The environment also contains the LegiScan API key, which is used to access the LegiScan API. The API key is stored in the `LEGISCAN_API_KEY` environment variable. The `dotenv` library is used to load the environment variables from the `.env` file into the Python environment."
   ]
  },
  {
   "cell_type": "code",
   "execution_count": 3,
   "id": "a665cd1b",
   "metadata": {},
   "outputs": [
    {
     "data": {
      "text/plain": [
       "True"
      ]
     },
     "execution_count": 3,
     "metadata": {},
     "output_type": "execute_result"
    }
   ],
   "source": [
    "# Load environment variables from .env file\n",
    "load_dotenv()"
   ]
  },
  {
   "cell_type": "markdown",
   "id": "c79425d7",
   "metadata": {},
   "source": [
    "<h3 style=\"font-weight:bold; color:lime; padding-left: 50px\">Main Class Instantiation</h3>"
   ]
  },
  {
   "cell_type": "markdown",
   "id": "d10ef345",
   "metadata": {},
   "source": [
    "Instantiate the two main classes for the project:\n",
    "- `calpa`: This class is used to access the CALPA API and retrieve legislative data.\n",
    "- `legiscan`: This class is used to access the LegiScan API and retrieve legislative data."
   ]
  },
  {
   "cell_type": "code",
   "execution_count": 4,
   "id": "4f78c3a9",
   "metadata": {},
   "outputs": [],
   "source": [
    "# Instantiate the LegiScan and Calpa classes\n",
    "calpa = Calpa()\n",
    "legiscan = LegiScan()"
   ]
  },
  {
   "cell_type": "markdown",
   "id": "bb9f1f51",
   "metadata": {},
   "source": [
    "Create project metadata for the project"
   ]
  },
  {
   "cell_type": "code",
   "execution_count": 6,
   "id": "c2e611ab",
   "metadata": {},
   "outputs": [
    {
     "name": "stdout",
     "output_type": "stream",
     "text": [
      "Project Global Settings:\n",
      "- Name: California Legislative Policy Analysis\n",
      "- Title: AI Legislative Policy Analysis\n",
      "- Version: 1.0\n",
      "- Author: Dr. Kostas Alexandridis, GISP\n",
      "Data Dates\n",
      "- Start Date: 2010-12-02\n",
      "- End Date: 2025-04-24\n",
      "- Periods: 2009-2010, 2011-2012, 2013-2014, 2015-2016, 2017-2018, 2019-2020, 2021-2022, 2023-2024, 2025-2026\n"
     ]
    }
   ],
   "source": [
    "# Create project metadata for the AI project\n",
    "prjMetadata = calpa.projectMetadata(\"AI\", \"1\")"
   ]
  },
  {
   "cell_type": "markdown",
   "id": "5a65654c",
   "metadata": {},
   "source": [
    "Create the project directories dictionary"
   ]
  },
  {
   "cell_type": "code",
   "execution_count": 7,
   "id": "ecc0c623",
   "metadata": {},
   "outputs": [
    {
     "name": "stdout",
     "output_type": "stream",
     "text": [
      "Directory Global Settings:\n",
      "\n",
      "General:\n",
      "- Project (pathPrj): c:\\Users\\ktale\\OneDrive\\Documents\\GitHub\\CaLPA\n",
      "- Admin (pathAdmin): c:\\Users\\ktale\\OneDrive\\Documents\\GitHub\\CaLPA\\admin\n",
      "- Metadata (pathMetadata): c:\\Users\\ktale\\OneDrive\\Documents\\GitHub\\CaLPA\\metadata\n",
      "- Analysis (pathAnalysis): c:\\Users\\ktale\\OneDrive\\Documents\\GitHub\\CaLPA\\analysis\n",
      "Scripts:\n",
      "- Python Calpa Module (pathScriptsCalpa): c:\\Users\\ktale\\OneDrive\\Documents\\GitHub\\CaLPA\\calpa\n",
      "- Markdown Scripts (pathScriptsMd): c:\\Users\\ktale\\OneDrive\\Documents\\GitHub\\CaLPA\\markdown\n",
      "- RIS Scripts (pathScriptsRis): c:\\Users\\ktale\\OneDrive\\Documents\\GitHub\\CaLPA\\ris\n",
      "Data:\n",
      "- Main Data (pathData): c:\\Users\\ktale\\OneDrive\\Documents\\GitHub\\CaLPA\\data\n",
      "- Documents (pathDataDocs): c:\\Users\\ktale\\OneDrive\\Documents\\GitHub\\CaLPA\\data\\docs\n",
      "- LegiScan (pathDataLegis): c:\\Users\\ktale\\OneDrive\\Documents\\GitHub\\CaLPA\\data\\legis\n",
      "- LookUp (pathDataLookup): c:\\Users\\ktale\\OneDrive\\Documents\\GitHub\\CaLPA\\data\\lookup\n",
      "- Markdown (pathDataMd): c:\\Users\\ktale\\OneDrive\\Documents\\GitHub\\CaLPA\\data\\md\n",
      "- RIS (pathDataBbl): c:\\Users\\ktale\\OneDrive\\Documents\\GitHub\\CaLPA\\data\\bbl\n",
      "Graphics:\n",
      "- Main Graphics (pathGraphics): c:\\Users\\ktale\\OneDrive\\Documents\\GitHub\\CaLPA\\graphics\n",
      "- Figures (pathGraphicsFigs): c:\\Users\\ktale\\OneDrive\\Documents\\GitHub\\CaLPA\\graphics\\figs\n",
      "- Presentations (pathGraphicsVisual): c:\\Users\\ktale\\OneDrive\\Documents\\GitHub\\CaLPA\\graphics\\visual\n"
     ]
    }
   ],
   "source": [
    "# Create the project directories dictionary\n",
    "prjDirs = calpa.projectDirectories(os.getcwd())"
   ]
  },
  {
   "cell_type": "markdown",
   "id": "23edad0f",
   "metadata": {},
   "source": [
    "<h3 style=\"font-weight:bold; color:lime; padding-left: 50px\">Load Lookup DataFrames</h3>"
   ]
  },
  {
   "cell_type": "markdown",
   "id": "0d41ba81",
   "metadata": {},
   "source": [
    "Load necessary lookup data frames for the project. These are located in the `data/lookup` project diretory.\n",
    "Specifically we will load the following lookup tables:\n",
    "\n",
    "- `codebookBill`: This table contains the mapping of bill codes to their descriptions.\n",
    "- `codebookRollCall`: This table contains the mapping of roll call codes to their descriptions.\n",
    "- `codebookBillText`: This table contains the mapping of bill text codes to their descriptions.\n",
    "- `codebookAmendment`: This table contains the mapping of amendment codes to their descriptions.\n",
    "- `codebookSupplement`: This table contains the mapping of supplement codes to their descriptions.\n",
    "- `codebookPerson`: This table contains the mapping of person codes to their descriptions.\n",
    "- `codebookSessionList`: This table contains the mapping of session codes to their descriptions."
   ]
  },
  {
   "cell_type": "code",
   "execution_count": 8,
   "id": "a2eb952f",
   "metadata": {},
   "outputs": [],
   "source": [
    "# Load the codebookBill pickle file from the data/lookup directory\n",
    "codebookBill = pd.read_pickle(os.path.join(prjDirs[\"pathDataLookup\"], \"codebookBill.pkl\"))\n",
    "\n",
    "# Load the codebookRollCall pickle file from the data/lookup directory\n",
    "codebookRollCall = pd.read_pickle(os.path.join(prjDirs[\"pathDataLookup\"], \"codebookRollCall.pkl\"))\n",
    "\n",
    "# Load the codebookBillText pickle file from the data/lookup directory\n",
    "codebookBillText = pd.read_pickle(os.path.join(prjDirs[\"pathDataLookup\"], \"codebookBillText.pkl\"))\n",
    "\n",
    "# Load the codebookAmendment pickle file from the data/lookup directory\n",
    "codebookAmendment = pd.read_pickle(os.path.join(prjDirs[\"pathDataLookup\"], \"codebookAmendment.pkl\"))\n",
    "\n",
    "# Load the codebookSupplement pickle file from the data/lookup directory\n",
    "codebookSupplement = pd.read_pickle(os.path.join(prjDirs[\"pathDataLookup\"], \"codebookSupplement.pkl\"))\n",
    "\n",
    "# Load the codebookPerson pickle file from the data/lookup directory\n",
    "codebookPerson = pd.read_pickle(os.path.join(prjDirs[\"pathDataLookup\"], \"codebookPerson.pkl\"))\n",
    "\n",
    "# Load the codebookSessionList pickle file from the data/lookup directory\n",
    "codebookSessionList = pd.read_pickle(os.path.join(prjDirs[\"pathDataLookup\"], \"codebookSessionList.pkl\"))"
   ]
  },
  {
   "cell_type": "markdown",
   "id": "c617deb6",
   "metadata": {},
   "source": [
    "<h3 style=\"font-weight:bold; color:lime; padding-left: 50px\">Load Stored Data</h3>"
   ]
  },
  {
   "cell_type": "markdown",
   "id": "655a1821",
   "metadata": {},
   "source": [
    "Load the stored data from the `data` directory. This includes the following data files:\n",
    "- `sessionListStored`: This file contains the list of legislative sessions.\n",
    "- `sessionPeopleStored`: This file contains the list of legislative session people.\n",
    "- `datasetListStored`: This file contains the list of legislative datasets.\n",
    "- `datasetListRawStored`: This file contains the list of raw legislative datasets.\n",
    "- `masterListStored`: This file contains the list of legislative master datasets.\n",
    "- `aiBillListStored`: This file contains the list of AI legislative bills.\n",
    "- `aiBills`: This file contains the the AI legislative bills data.\n",
    "- `aiBillsSummariesStored`: This file contains the list of AI legislative bill text summaries."
   ]
  },
  {
   "cell_type": "code",
   "execution_count": 10,
   "id": "d4908064",
   "metadata": {},
   "outputs": [],
   "source": [
    "# Obtain the stored sessions list from JSON dictionary on disk (data/lookup directory)\n",
    "sessionListStored = legiscan.getStoredData(dataType = \"session\")\n",
    "\n",
    "# Obtain the stored session People list from JSON dictionary on disk (data/lookup directory)\n",
    "sessionPeopleStored = legiscan.getStoredData(dataType = \"people\")\n",
    "\n",
    "# Obtain the stored dataset list from JSON dictionary on disk (data/lookup directory)\n",
    "datasetListStored = legiscan.getStoredData(dataType = \"dataset\")\n",
    "\n",
    "# Get the stored raw master list from JSON dictionary on disk (data/lookup directory)\n",
    "masterListRawStored = legiscan.getStoredData(dataType = \"master\", raw = True)\n",
    "# Get the stored master list from JSON dictionary on disk (data/lookup directory)\n",
    "masterListStored = legiscan.getStoredData(dataType = \"master\", raw = False)\n",
    "\n",
    "# Get the AI monitoring list from disk (data/lookup directory)\n",
    "aiBillListStored = legiscan.getStoredData(dataType = \"bills\", project = \"AI\")\n",
    "\n",
    "# Get the AI full list of bills from dism (data/legis/json directory)\n",
    "aiBills = legiscan.getStoredData(dataType = \"data\", project = \"AI\")\n",
    "\n",
    "# Get the AI bill summries list from disk (data/lookup directory)\n",
    "aiBillsSummariesStored = legiscan.getStoredData(dataType = \"summaries\", project = \"AI\")"
   ]
  },
  {
   "cell_type": "code",
   "execution_count": null,
   "id": "3efc478b",
   "metadata": {},
   "outputs": [],
   "source": []
  }
 ],
 "metadata": {
  "kernelspec": {
   "display_name": "drkPy",
   "language": "python",
   "name": "python3"
  },
  "language_info": {
   "codemirror_mode": {
    "name": "ipython",
    "version": 3
   },
   "file_extension": ".py",
   "mimetype": "text/x-python",
   "name": "python",
   "nbconvert_exporter": "python",
   "pygments_lexer": "ipython3",
   "version": "3.11.11"
  }
 },
 "nbformat": 4,
 "nbformat_minor": 5
}
