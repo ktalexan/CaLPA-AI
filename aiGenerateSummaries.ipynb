{
 "cells": [
  {
   "cell_type": "markdown",
   "id": "eab3bc86",
   "metadata": {},
   "source": [
    "</center></div>\n",
    "<div style = \"background-color:indigo\"><center>\n",
    "<h1 style=\"font-size: 50px; font-weight: bold; color:goldenrod; border-top: 3px solid goldenrod; padding-top: 10px\">AI California Legislative Policy Analysis (CALPA-AI)</h1>\n",
    "<div style=\"font-size: 35px; font-weight: bold; color: goldenrod\"> Generate Bill Summaries using Azure OpenAI</div>\n",
    "<div style=\"font-size: 30px; font-weight: bold; color: goldenrod; border-bottom: 3px solid goldenrod; padding-bottom: 20px\">v.1.0 April 2025</div>\n",
    "</center></div>"
   ]
  },
  {
   "cell_type": "markdown",
   "id": "57e5ba04",
   "metadata": {},
   "source": [
    "This notebook is designed to generate summaries of California legislative bills using the Azure OpenAI API. The notebook provides a user-friendly interface for inputting bill text and generating summaries, making it easy for users to quickly understand the key points of each bill.\n",
    "The notebook also includes a function to save the generated summaries to a CSV file for easy access and sharing. The code is organized into sections for clarity and ease of use, with comments explaining each step of the process. The notebook is designed to be run in a Jupyter Notebook environment, making it accessible to a wide range of users."
   ]
  },
  {
   "cell_type": "code",
   "execution_count": null,
   "id": "f176218c",
   "metadata": {},
   "outputs": [],
   "source": [
    "#%reset"
   ]
  },
  {
   "cell_type": "markdown",
   "id": "d36f40d4",
   "metadata": {},
   "source": [
    "<h1 style=\"font-weight:bold; color:orangered; border-bottom: 2px solid orangered\">1. Initialization</h1>"
   ]
  },
  {
   "cell_type": "code",
   "execution_count": 1,
   "id": "54fee68e",
   "metadata": {},
   "outputs": [],
   "source": [
    "# Import required libraries\n",
    "import os\n",
    "import time\n",
    "from datetime import date\n",
    "from datetime import datetime\n",
    "import json\n",
    "import mimetypes\n",
    "import glob\n",
    "import base64\n",
    "import zipfile\n",
    "import io\n",
    "import dotenv\n",
    "import requests\n",
    "import pandas as pd\n",
    "import feedparser\n",
    "import webbrowser"
   ]
  },
  {
   "cell_type": "code",
   "execution_count": 2,
   "id": "4b3d7fc8",
   "metadata": {},
   "outputs": [
    {
     "name": "stdout",
     "output_type": "stream",
     "text": [
      "Project Global Settings:\n",
      "- Name: California Legislative Policy Analysis\n",
      "- Title: AI Legislative Policy Analysis\n",
      "- Version: 1.0\n",
      "- Author: Dr. Kostas Alexandridis, GISP\n",
      "Data Dates\n",
      "- Start Date: 2010-12-02\n",
      "- End Date: 2025-04-23\n",
      "- Periods: 2009-2010, 2011-2012, 2013-2014, 2015-2016, 2017-2018, 2019-2020, 2021-2022, 2023-2024, 2025-2026\n",
      "Directory Global Settings:\n",
      "\n",
      "General:\n",
      "- Project: c:\\Users\\ktale\\OneDrive\\Documents\\GitHub\\CaLPA\n",
      "- Admin: c:\\Users\\ktale\\OneDrive\\Documents\\GitHub\\CaLPA\\admin\n",
      "- Metadata: c:\\Users\\ktale\\OneDrive\\Documents\\GitHub\\CaLPA\\metadata\n",
      "- Analysis: c:\\Users\\ktale\\OneDrive\\Documents\\GitHub\\CaLPA\\analysis\n",
      "Scripts:\n",
      "- Python Calpa Module: c:\\Users\\ktale\\OneDrive\\Documents\\GitHub\\CaLPA\\calpa\n",
      "- Markdown Scripts: c:\\Users\\ktale\\OneDrive\\Documents\\GitHub\\CaLPA\\markdown\n",
      "- RIS Scripts: c:\\Users\\ktale\\OneDrive\\Documents\\GitHub\\CaLPA\\ris\n",
      "Data:\n",
      "- Main Data: c:\\Users\\ktale\\OneDrive\\Documents\\GitHub\\CaLPA\\data\n",
      "- Documents: c:\\Users\\ktale\\OneDrive\\Documents\\GitHub\\CaLPA\\data\\docs\n",
      "- LegiScan: c:\\Users\\ktale\\OneDrive\\Documents\\GitHub\\CaLPA\\data\\legis\n",
      "- LookUp: c:\\Users\\ktale\\OneDrive\\Documents\\GitHub\\CaLPA\\data\\lookup\n",
      "- Markdown: c:\\Users\\ktale\\OneDrive\\Documents\\GitHub\\CaLPA\\data\\md\n",
      "- RIS: c:\\Users\\ktale\\OneDrive\\Documents\\GitHub\\CaLPA\\data\\bbl\n",
      "Graphics:\n",
      "- Main Graphics: c:\\Users\\ktale\\OneDrive\\Documents\\GitHub\\CaLPA\\graphics\n",
      "- Figures: c:\\Users\\ktale\\OneDrive\\Documents\\GitHub\\CaLPA\\graphics\\figs\n",
      "- Presentations: c:\\Users\\ktale\\OneDrive\\Documents\\GitHub\\CaLPA\\graphics\\visual\n"
     ]
    }
   ],
   "source": [
    "# Load the Calpa module located in the scripts/python/calpa directory\n",
    "from calpa import Calpa, LegiScan\n",
    "\n",
    "# Load environment variables from .env file\n",
    "dotenv.load_dotenv(os.path.join(os.getcwd(), '.env'))\n",
    "\n",
    "# Instantiate the LegiScan and Calpa classes\n",
    "calpa = Calpa()\n",
    "legiscan = LegiScan()\n",
    "\n",
    "# Create project metadata for the AI project\n",
    "prjMetadata = calpa.projectMetadata(\"AI\", \"0\")\n",
    "\n",
    "# Create the project directories dictionary\n",
    "prjDirs = calpa.projectDirectories(os.getcwd())"
   ]
  },
  {
   "cell_type": "code",
   "execution_count": 3,
   "id": "ecd5d2ba",
   "metadata": {},
   "outputs": [],
   "source": [
    "# Load the getBillCodebook pickle file from the data/lookup directory\n",
    "getBillCodebook = pd.read_pickle(os.path.join(prjDirs[\"pathDataLookup\"], \"getBillCodebook.pkl\"))\n",
    "\n",
    "# Load the getRollCallCodebook pickle file from the data/lookup directory\n",
    "getRollCallCodebook = pd.read_pickle(os.path.join(prjDirs[\"pathDataLookup\"], \"getRollCallCodebook.pkl\"))\n",
    "\n",
    "# Load the getBillTextCodebook pickle file from the data/lookup directory\n",
    "getBillTextCodebook = pd.read_pickle(os.path.join(prjDirs[\"pathDataLookup\"], \"getBillTextCodebook.pkl\"))\n",
    "\n",
    "# Load the getAmendmentCodebook pickle file from the data/lookup directory\n",
    "getAmendmentCodebook = pd.read_pickle(os.path.join(prjDirs[\"pathDataLookup\"], \"getAmendmentCodebook.pkl\"))\n",
    "\n",
    "# Load the getSupplementCodebook pickle file from the data/lookup directory\n",
    "getSupplementCodebook = pd.read_pickle(os.path.join(prjDirs[\"pathDataLookup\"], \"getSupplementCodebook.pkl\"))\n",
    "\n",
    "# Load the getPersonCodebook pickle file from the data/lookup directory\n",
    "getPersonCodebook = pd.read_pickle(os.path.join(prjDirs[\"pathDataLookup\"], \"getPersonCodebook.pkl\"))\n",
    "\n",
    "# Load the getSessionListCodebook pickle file from the data/lookup directory\n",
    "getSessionListCodebook = pd.read_pickle(os.path.join(prjDirs[\"pathDataLookup\"], \"getSessionListCodebook.pkl\"))"
   ]
  },
  {
   "cell_type": "code",
   "execution_count": 4,
   "id": "e8d02a07",
   "metadata": {},
   "outputs": [],
   "source": [
    "# Obtain the stored sessions list from JSON dictionary on disk (data/lookup directory)\n",
    "sessionListStored = legiscan.getStoredData(dataType = \"session\")\n",
    "\n",
    "# Obtain the stored session People list from JSON dictionary on disk (data/lookup directory)\n",
    "sessionPeopleStored = legiscan.getStoredData(dataType = \"people\")\n",
    "\n",
    "# Obtain the stored dataset list from JSON dictionary on disk (data/lookup directory)\n",
    "datasetListStored = legiscan.getStoredData(dataType = \"dataset\")\n",
    "\n",
    "# Get the stored raw master list from JSON dictionary on disk (data/lookup directory)\n",
    "masterListRawStored = legiscan.getStoredData(dataType = \"master\", raw = True)\n",
    "# Get the stored master list from JSON dictionary on disk (data/lookup directory)\n",
    "masterListStored = legiscan.getStoredData(dataType = \"master\", raw = False)\n",
    "\n",
    "# Get the AI monitoring list from disk (data/lookup directory)\n",
    "aiBillListStored = legiscan.getStoredData(dataType = \"bills\", project = \"AI\")\n",
    "\n",
    "# Get the AI full list of bills from dism (data/legis/json directory)\n",
    "aiBills = legiscan.getStoredData(dataType = \"data\", project = \"AI\")"
   ]
  },
  {
   "cell_type": "markdown",
   "id": "5346338e",
   "metadata": {},
   "source": [
    "<h1 style=\"font-weight:bold; color:orangered; border-bottom: 2px solid orangered\">2. Create Bill Summaries</h1>"
   ]
  },
  {
   "cell_type": "code",
   "execution_count": 44,
   "id": "23736200",
   "metadata": {},
   "outputs": [],
   "source": [
    "def addSummaries(period, bill):\n",
    "    \"\"\"\n",
    "    Add summaries to the bill object.\n",
    "    \"\"\"\n",
    "    mySummary = legiscan.summarizeBillText(aiBills[period][bill])\n",
    "    print(mySummary[\"summary\"])\n",
    "    print(mySummary[\"tags\"])\n",
    "    return mySummary"
   ]
  },
  {
   "cell_type": "code",
   "execution_count": 58,
   "id": "7a26711f",
   "metadata": {},
   "outputs": [],
   "source": [
    "aiBillsSummaries = {}"
   ]
  },
  {
   "cell_type": "markdown",
   "id": "100719a4",
   "metadata": {},
   "source": [
    "<h2 style=\"font-weight:bold; color:dodgerblue; border-bottom: 1px solid dodgerblue; padding-left: 25px\">2013-2014</h2>"
   ]
  },
  {
   "cell_type": "code",
   "execution_count": 101,
   "id": "970090a1",
   "metadata": {},
   "outputs": [
    {
     "name": "stdout",
     "output_type": "stream",
     "text": [
      "['AB1465', 'SB836', 'SB860']\n",
      "Bills: 3\n"
     ]
    }
   ],
   "source": [
    "period = \"2013-2014\"\n",
    "aiBillsSummaries[period] = {}\n",
    "blist = list(aiBills[period].keys())\n",
    "print(blist)\n",
    "print(f\"Bills: {len(blist)}\")"
   ]
  },
  {
   "cell_type": "code",
   "execution_count": 102,
   "id": "51bd78f4",
   "metadata": {},
   "outputs": [
    {
     "name": "stdout",
     "output_type": "stream",
     "text": [
      "AB 1465 is the 2014 California education finance omnibus trailer bill, enacting a wide range of statutory changes to implement the state budget for postsecondary education. Key provisions include adjustments to Cal Grant eligibility and award amounts, changes to the Middle Class Scholarship Program, new requirements for community college student equity plans, and updates to funding formulas and reporting for community colleges, CSU, and UC. The bill also provides special funding and oversight for the San Francisco Community College District, allows CSU and UC to use General Fund appropriations for capital projects (including energy conservation), and enacts the Cal-BRAIN Act to support neuroscience research aligned with the federal BRAIN Initiative. Additional changes address CalWORKs education services, performance reporting, student fees, state mandates, and technical corrections. The bill takes effect immediately as part of the 2014-15 budget implementation.\n",
      "['artificial-intelligence', 'california', 'education', 'budget', 'higher-education', 'cal-grant', 'community-colleges', 'csu', 'uc', 'financial-aid', 'legislation', 'neuroscience', 'cal-brain', 'student-equity', 'state-budget', 'trailer-bill']\n"
     ]
    }
   ],
   "source": [
    "billid = \"AB1465\"\n",
    "aiBillsSummaries[period][billid] = addSummaries(period, billid)"
   ]
  },
  {
   "cell_type": "code",
   "execution_count": 105,
   "id": "7fa028d8",
   "metadata": {},
   "outputs": [
    {
     "name": "stdout",
     "output_type": "stream",
     "text": [
      "SB 836, the California Blueprint for Research to Advance Innovations in Neuroscience (Cal-BRAIN) Act of 2014, requests the University of California to establish the Cal-BRAIN program to leverage state and federal resources, including the federal BRAIN Initiative, to accelerate brain mapping research and technology development. The program aims to maintain California's leadership in neuroscience, create new treatments, foster economic growth in high-tech and biotech sectors, and train future scientists, with a focus on collaboration among public and private stakeholders. Implementation depends on sufficient funding, and the program is expected to provide transparency through a public website.\n",
      "['artificial-intelligence', 'california', 'legislation', 'neuroscience', 'brain-research', 'university-of-california', 'biotech', 'technology', 'healthcare']\n"
     ]
    }
   ],
   "source": [
    "billid = \"SB836\"\n",
    "aiBillsSummaries[period][billid] = addSummaries(period, billid)"
   ]
  },
  {
   "cell_type": "code",
   "execution_count": 106,
   "id": "51a64b5b",
   "metadata": {},
   "outputs": [
    {
     "name": "stdout",
     "output_type": "stream",
     "text": [
      "SB 860, enacted in June 2014 as part of California's budget legislation, is a comprehensive education finance trailer bill that makes significant changes to postsecondary education funding, financial aid, and operations. The bill revises eligibility and award amounts for Cal Grants and the Middle Class Scholarship Program, modifies funding and planning requirements for community colleges (including special support for CalWORKs recipients and student equity plans), adjusts rules for state university and community college capital expenditures and debt management, and introduces new reporting and accountability measures for the University of California and California State University systems. It also establishes the California Blueprint for Research to Advance Innovations in Neuroscience (Cal-BRAIN) Act of 2014 to support brain research and related technology development, aligning with the federal BRAIN Initiative. Additional provisions address state mandates, local government reimbursements, building code enforcement, and appropriations for deferred payments and clean energy projects.\n",
      "['artificial-intelligence', 'california', 'education', 'legislation', 'budget', 'cal-grant', 'middle-class-scholarship', 'community-colleges', 'csu', 'uc', 'student-aid', 'neuroscience', 'brain-research', 'cal-brain', 'calworks', 'higher-education', 'state-mandate', 'public-finance']\n"
     ]
    }
   ],
   "source": [
    "billid = \"SB860\"\n",
    "aiBillsSummaries[period][billid] = addSummaries(period, billid)"
   ]
  },
  {
   "cell_type": "markdown",
   "id": "8ae8501a",
   "metadata": {},
   "source": [
    "<h2 style=\"font-weight:bold; color:dodgerblue; border-bottom: 1px solid dodgerblue; padding-left: 25px\">2017-2018</h2>"
   ]
  },
  {
   "cell_type": "code",
   "execution_count": 107,
   "id": "5e5a41f9",
   "metadata": {},
   "outputs": [
    {
     "name": "stdout",
     "output_type": "stream",
     "text": [
      "['AB1809', 'AB2662', 'ACR215', 'SB843', 'SB1470']\n",
      "Bills: 5\n"
     ]
    }
   ],
   "source": [
    "period = \"2017-2018\"\n",
    "aiBillsSummaries[period] = {}\n",
    "blist = list(aiBills[period].keys())\n",
    "print(blist)\n",
    "print(f\"Bills: {len(blist)}\")"
   ]
  },
  {
   "cell_type": "code",
   "execution_count": 108,
   "id": "2aa55d8c",
   "metadata": {},
   "outputs": [
    {
     "name": "stdout",
     "output_type": "stream",
     "text": [
      "Assembly Bill No. 1809 (Chapter 33), approved on June 27, 2018, is California’s 2018 higher education budget trailer bill, enacting sweeping changes and appropriations across the state’s education system. The bill revises funding formulas for California Community Colleges, emphasizing student success, equity, and workforce outcomes, and establishes new accountability and reporting requirements. It creates the California Online Community College to expand flexible, competency-based, tech-enabled learning for working adults, and launches grant programs for STEM pathways, apprenticeship expansion, reentry for formerly incarcerated students, open educational resources, and mental health services. The bill adjusts Cal Grant and Middle Class Scholarship awards, expands support for foster youth and immigrant students, and strengthens hunger-free campus initiatives. It also updates rules for adult education, dual enrollment, and transfer pathways, while appropriating substantial new funding for technology, veterans, and refugee support. The bill mandates new data collection and reporting protocols—including on artificial intelligence and adaptive learning through the California Education Learning Laboratory—requires systemwide coordination, and sets up oversight committees to monitor implementation, with many changes taking effect immediately.\n",
      "['artificial-intelligence', 'california', 'higher-education', 'budget', 'community-college', 'online-learning', 'student-success', 'funding-formula', 'cal-grant', 'stem', 'workforce', 'apprenticeships', 'adult-education', 'open-educational-resources', 'mental-health', 'veterans', 'refugees', 'equity', 'accountability', 'legislation']\n"
     ]
    }
   ],
   "source": [
    "bill = \"AB1809\"\n",
    "aiBillsSummaries[period][bill] = addSummaries(period, bill)\n"
   ]
  },
  {
   "cell_type": "code",
   "execution_count": 112,
   "id": "868ddb7a",
   "metadata": {},
   "outputs": [
    {
     "name": "stdout",
     "output_type": "stream",
     "text": [
      "California Assembly Bill 2662, introduced by Assembly Member Chau, requires the Office of Planning and Research to establish an independent expert panel to review and report on the effects of electronic media—including technologies such as social media, video games, mobile devices, and artificial intelligence—on the cognitive, physical, and social-emotional development of children and adolescents. The bill mandates pilot projects and a grant program to fund additional research as identified by the panel, with a focus on both the positive and negative impacts of media exposure and technology use. The panel is to submit a comprehensive report with evidence-based recommendations to the Legislature by December 31, 2022. Implementation of these provisions is contingent upon receiving $5 million in private or philanthropic funding, appropriated for use from July 1, 2019, to June 30, 2022.\n",
      "['artificial-intelligence', 'california', 'legislation', 'electronic-media', 'children', 'adolescents', 'cognitive-development', 'social-emotional-development', 'physical-development', 'research', 'grant-program', 'technology', 'social-media', 'mobile-devices']\n"
     ]
    }
   ],
   "source": [
    "bill = \"AB2662\"\n",
    "aiBillsSummaries[period][bill] = addSummaries(period, bill)"
   ]
  },
  {
   "cell_type": "code",
   "execution_count": 113,
   "id": "166acb50",
   "metadata": {},
   "outputs": [
    {
     "name": "stdout",
     "output_type": "stream",
     "text": [
      "Assembly Concurrent Resolution No. 215 (Chapter 206) expresses the California Legislature's support for the 23 Asilomar AI Principles, which serve as guiding values for the responsible development and governance of artificial intelligence. The resolution acknowledges AI's rapid advancement and transformative potential across various sectors, while emphasizing the importance of ensuring AI is developed safely, ethically, and in alignment with human values. The Asilomar Principles address issues such as research goals, transparency, safety, value alignment, privacy, shared benefit, human control, and the avoidance of AI arms races, and have been endorsed by leading AI experts worldwide. The Legislature encourages the adoption of these principles in shaping public policy related to AI.\n",
      "['artificial-intelligence', 'public-policy', 'ethics', 'california-legislature', 'asilomar-principles', 'ai-safety', 'ai-governance', 'transparency', 'privacy', 'value-alignment']\n"
     ]
    }
   ],
   "source": [
    "bill = \"ACR215\"\n",
    "aiBillsSummaries[period][bill] = addSummaries(period, bill)"
   ]
  },
  {
   "cell_type": "code",
   "execution_count": 114,
   "id": "006d193e",
   "metadata": {},
   "outputs": [
    {
     "name": "stdout",
     "output_type": "stream",
     "text": [
      "SB 843 is a comprehensive 2018 California budget trailer bill focused on higher education, particularly the California Community Colleges, with significant reforms, appropriations, and new programs. Key provisions include: establishing a new funding formula emphasizing student success and equity; creating the California Online Community College to offer flexible, competency-based online programs for working adults; expanding financial aid and support for foster youth, veterans, refugees, and formerly incarcerated students; strengthening transfer pathways to CSU, UC, and private nonprofits; revising Cal Grant and Middle Class Scholarship awards; supporting mental health, hunger-free campuses, open educational resources, and STEM pathways; and updating apprenticeship, adult education, and reporting requirements. The bill also allocates hundreds of millions in one-time and ongoing General Fund dollars for technology, student services, workforce development, and basic needs, and makes technical and conforming changes to numerous education codes.\n",
      "['artificial-intelligence', 'california', 'higher-education', 'budget', 'community-colleges', 'online-education', 'student-success', 'financial-aid', 'equity', 'workforce-development', 'stem', 'apprenticeship', 'adult-education', 'legislation', '2018']\n"
     ]
    }
   ],
   "source": [
    "bill = \"SB843\"\n",
    "aiBillsSummaries[period][bill] = addSummaries(period, bill)"
   ]
  },
  {
   "cell_type": "code",
   "execution_count": 119,
   "id": "5c789a51",
   "metadata": {},
   "outputs": [
    {
     "name": "stdout",
     "output_type": "stream",
     "text": [
      "Senate Bill 1470, introduced by Senator Stern in the 2017–2018 California legislative session, establishes the Commission on the Future of Work within state government. The commission, composed of eight members with expertise in areas such as labor, technology, and workforce development, is tasked with studying the impact of technological advancements—including automation and artificial intelligence—on California’s workers, employers, and economy. Its duties include gathering public input, commissioning research, advising state leaders, and developing policy recommendations to ensure technology benefits workers and supports a strong middle class. The commission is advisory only and must submit its recommendations to the Legislature and Governor by November 1, 2019. The bill replaces earlier provisions related to the Jobs for California Graduates Program and does not impose any state-mandated local programs.\n",
      "['artificial-intelligence', 'california', 'future-of-work', 'workforce-development', 'technology', 'automation', 'legislation', 'labor-policy', 'senate-bill-1470']\n"
     ]
    }
   ],
   "source": [
    "bill = \"SB1470\"\n",
    "aiBillsSummaries[period][bill] = addSummaries(period, bill)"
   ]
  },
  {
   "cell_type": "markdown",
   "id": "f42cd91f",
   "metadata": {},
   "source": [
    "<h2 style=\"font-weight:bold; color:dodgerblue; border-bottom: 1px solid dodgerblue; padding-left: 25px\">2019-2020</h2>"
   ]
  },
  {
   "cell_type": "code",
   "execution_count": 120,
   "id": "64d4ff81",
   "metadata": {},
   "outputs": [
    {
     "name": "stdout",
     "output_type": "stream",
     "text": [
      "['AB156', 'AB459', 'AB485', 'AB594', 'AB976', 'AB1576', 'AB2269', 'AB3317', 'AB3339', 'ACR125', 'SB348', 'SB444', 'SB730', 'SB752', 'SCR13', 'SJR6']\n",
      "Bills: 16\n"
     ]
    }
   ],
   "source": [
    "period = \"2019-2020\"\n",
    "aiBillsSummaries[period] = {}\n",
    "blist = list(aiBills[period].keys())\n",
    "print(blist)\n",
    "print(f\"Bills: {len(blist)}\")"
   ]
  },
  {
   "cell_type": "code",
   "execution_count": 122,
   "id": "8ca42e64",
   "metadata": {},
   "outputs": [
    {
     "name": "stdout",
     "output_type": "stream",
     "text": [
      "California Assembly Bill 156, introduced by Assembly Member Voepel and amended in January 2020, revises the Business and Professions Code to establish an endorsement fee for optometrists, starting at $50 and allowing the State Board of Optometry to increase it up to $100. The bill is part of the broader regulatory framework for optometry practice in California, setting maximum allowable fees for various licenses and certifications. Earlier provisions regarding consumer protection in remote eye care and the regulation of assessment mechanisms, including those using artificial intelligence, were removed from the final version. The bill does not require appropriations, is subject to a majority vote, involves the fiscal committee, and does not establish a local program.\n",
      "['artificial-intelligence', 'california-legislation', 'optometry', 'professional-licensing', 'business-and-professions-code', 'healthcare-fees', 'remote-assessment', 'regulatory-policy']\n"
     ]
    }
   ],
   "source": [
    "bill = \"AB156\"\n",
    "aiBillsSummaries[period][bill] = addSummaries(period, bill)"
   ]
  },
  {
   "cell_type": "code",
   "execution_count": 123,
   "id": "2bdf606d",
   "metadata": {},
   "outputs": [
    {
     "name": "stdout",
     "output_type": "stream",
     "text": [
      "Assembly Bill 459, introduced by Assembly Member Kiley, would require the Artificial Intelligence in State Government Services Commission (contingent on the enactment of AB 976) to report to the California Legislature by November 1, 2020, on recommended minimum standards for the use of artificial intelligence in state government. The report must address fostering accountability (including human responsibility, appeals processes, transparency, and monitoring), prioritizing safety and security (such as reliability and misuse prevention), protecting residents' privacy, and establishing processes to monitor AI's impact (covering labor displacement, bias, effectiveness, and unforeseen consequences). The bill is set to be repealed on November 1, 2024.\n",
      "['artificial-intelligence', 'california', 'legislation', 'government', 'accountability', 'privacy', 'safety', 'bias', 'transparency', 'technology']\n"
     ]
    }
   ],
   "source": [
    "bill = \"AB459\"\n",
    "aiBillsSummaries[period][bill] = addSummaries(period, bill)"
   ]
  },
  {
   "cell_type": "code",
   "execution_count": 124,
   "id": "4eb521fb",
   "metadata": {},
   "outputs": [
    {
     "name": "stdout",
     "output_type": "stream",
     "text": [
      "Assembly Bill No. 485 (Chapter 803), effective January 1, 2020, requires California local agencies to publicly disclose detailed information before approving any economic development subsidy of $100,000 or more for warehouse distribution centers, including beneficiary names, subsidy amounts, job creation data (with breakdowns by employment type and disadvantaged workers), benefits, accountability measures, and any related state or federal subsidies. The bill mandates annual public reports and hearings on such subsidies, prohibits nondisclosure agreements related to these subsidies, and ensures ongoing public access to all related information via agency and state websites. These requirements apply to all cities, including charter cities, and aim to enhance public transparency, including reporting on issues such as job loss due to automation or artificial intelligence.\n",
      "['artificial-intelligence', 'california', 'legislation', 'transparency', 'economic-development', 'warehouse', 'public-records', 'local-government', 'jobs', 'subsidies']\n"
     ]
    }
   ],
   "source": [
    "bill = \"AB485\"\n",
    "aiBillsSummaries[period][bill] = addSummaries(period, bill)"
   ]
  },
  {
   "cell_type": "code",
   "execution_count": 126,
   "id": "213f432c",
   "metadata": {},
   "outputs": [
    {
     "name": "stdout",
     "output_type": "stream",
     "text": [
      "Assembly Bill No. 594, introduced by Assembly Member Salas during the 2019–2020 California legislative session, adds Section 11546.11 to the Government Code to address the use of artificial intelligence (AI) in state government. The bill authorizes the Director of Technology to appoint a position within the Department of Technology to evaluate and advise on AI integration into state IT strategies. By January 1, 2021, the Department, consulting stakeholders and considering recommendations from the Future of Work Commission, must establish guidelines for the ethical and effective use of AI in state functions. These guidelines will cover standards for ethical use, efficiency, adoption of new technologies, and benefits to workers.\n",
      "['artificial-intelligence', 'california', 'legislation', 'government', 'technology-policy', 'future-of-work', 'ethics', 'public-sector']\n"
     ]
    }
   ],
   "source": [
    "bill = \"AB594\"\n",
    "aiBillsSummaries[period][bill] = addSummaries(period, bill)"
   ]
  },
  {
   "cell_type": "code",
   "execution_count": 127,
   "id": "f5092d20",
   "metadata": {},
   "outputs": [
    {
     "name": "stdout",
     "output_type": "stream",
     "text": [
      "Assembly Bill 976, introduced in California's 2019–2020 legislative session, proposes the creation of the Artificial Intelligence in State Government Services Commission, an eight-member advisory body tasked with annually gathering public input and recommending how artificial intelligence (AI) and data science can improve state services. The commission is to propose plans for AI demonstration projects, set guiding principles by November 1, 2020, and report recommendations to the Legislature and Governor by November 1, 2021, and annually thereafter. The commission is advisory only, with no implementation authority without further legislation, and its provisions are set to be repealed on January 1, 2025.\n",
      "['artificial-intelligence', 'california', 'state-government', 'legislation', 'commission', 'data-science', 'technology-policy']\n"
     ]
    }
   ],
   "source": [
    "bill = \"AB976\"\n",
    "aiBillsSummaries[period][bill] = addSummaries(period, bill)"
   ]
  },
  {
   "cell_type": "code",
   "execution_count": 128,
   "id": "99a5ad62",
   "metadata": {},
   "outputs": [
    {
     "name": "stdout",
     "output_type": "stream",
     "text": [
      "Assembly Bill 1576, introduced by Assembly Member Calderon in the 2019–2020 California legislative session, requires the Secretary of Government Operations to establish a diverse working group on artificial intelligence (AI) by July 1, 2020. This group will evaluate the uses, risks, benefits, and legal implications of AI technologies developed and deployed by California-based businesses, and recommend best practices for ethical, responsible, and equitable AI innovation. The group, composed of experts from technology, law, consumer and privacy organizations, and other stakeholders, must report its findings and recommendations to the Legislature by July 1, 2021. The provisions of this bill are set to be repealed on January 1, 2023.\n",
      "['artificial-intelligence', 'california-legislation', 'technology-policy', 'government-operations', 'ethics', 'business', 'regulation', 'working-group']\n"
     ]
    }
   ],
   "source": [
    "bill = \"AB1576\"\n",
    "aiBillsSummaries[period][bill] = addSummaries(period, bill)"
   ]
  },
  {
   "cell_type": "code",
   "execution_count": 129,
   "id": "9b537ddd",
   "metadata": {},
   "outputs": [
    {
     "name": "stdout",
     "output_type": "stream",
     "text": [
      "California Assembly Bill 2269, introduced by Assembly Member Chau in 2020, proposes the Automated Decision Systems Accountability Act to regulate businesses that offer programs or devices using automated decision systems (ADS), such as those powered by artificial intelligence. The bill requires these businesses to continually test for bias, conduct annual impact assessments to identify potential adverse impacts on protected classes, and submit reports on these assessments to the Department of Business Oversight. Significant modifications to ADS also trigger reassessment and reporting. The Department must establish a reporting procedure and an advisory task force to review ADS use in various sectors. Non-compliance may result in civil penalties, and the bill aims to ensure algorithmic systems do not perpetuate discrimination.\n",
      "['artificial-intelligence', 'california', 'legislation', 'automated-decision-systems', 'bias', 'privacy', 'civil-rights', 'accountability', 'consumer-protection']\n"
     ]
    }
   ],
   "source": [
    "bill = \"AB2269\"\n",
    "aiBillsSummaries[period][bill] = addSummaries(period, bill)"
   ]
  },
  {
   "cell_type": "code",
   "execution_count": 133,
   "id": "db84bd53",
   "metadata": {},
   "outputs": [
    {
     "name": "stdout",
     "output_type": "stream",
     "text": [
      "California Assembly Bill 3317, introduced by Assembly Member Wicks, amends the Consumer Legal Remedies Act to expand protections against unfair and deceptive business practices, particularly for users of online platforms. The bill defines users who provide data, information, or content as customers, and makes it unlawful for online platform operators to violate their own community guidelines, terms, or promises presented to users. It also prohibits the use of design, code, or artificial intelligence to manipulate user interfaces in ways that obscure user autonomy, coerce data sharing, or encourage compulsive usage. The bill requires platforms to provide a public reporting tool for banned design practices and allows the Attorney General to issue compliance guidance.\n",
      "['artificial-intelligence', 'california', 'legislation', 'consumer-protection', 'online-platforms', 'user-data', 'compulsive-usage', 'deceptive-practices', 'public-reporting']\n"
     ]
    }
   ],
   "source": [
    "bill = \"AB3317\"\n",
    "aiBillsSummaries[period][bill] = addSummaries(period, bill)"
   ]
  },
  {
   "cell_type": "code",
   "execution_count": 134,
   "id": "eb50799d",
   "metadata": {},
   "outputs": [
    {
     "name": "stdout",
     "output_type": "stream",
     "text": [
      "California Assembly Bill 3339, known as the Kids Internet Design and Safety Act (KIDS Act), aims to enhance online safety and privacy protections for children under 16 by restricting certain features and content on platforms directed at children. The bill prohibits auto-play, push alerts, engagement-based awards, and features that encourage excessive use or purchases by minors. It also bans the amplification or promotion of harmful, exploitative, or wholly commercial content, including sexual material, violence, and advertising for adult products. Platforms must use age verification data solely for that purpose and comply with regulations established by the Attorney General, including annual audits of the largest child-directed platforms. Violations are considered unfair competition under California law.\n",
      "['artificial-intelligence', 'california', 'legislation', 'privacy', 'children', 'internet-safety', 'social-media', 'online-platforms', 'advertising', 'consumer-protection']\n"
     ]
    }
   ],
   "source": [
    "bill = \"AB3339\"\n",
    "aiBillsSummaries[period][bill] = addSummaries(period, bill)"
   ]
  },
  {
   "cell_type": "code",
   "execution_count": 135,
   "id": "16d9d910",
   "metadata": {},
   "outputs": [
    {
     "name": "stdout",
     "output_type": "stream",
     "text": [
      "The California Assembly Concurrent Resolution No. 125, introduced in 2019, highlights persistent employment discrimination against minorities despite existing anti-discrimination laws and the limitations of traditional hiring practices like résumés and elite college recruiting. Citing studies showing ongoing bias against Black and Latino applicants and underrepresentation of minorities at top colleges, the resolution notes the potential for new technologies, including artificial intelligence, to reduce bias and improve hiring outcomes. The Legislature urges policymakers to promote the responsible development and use of such technologies to ensure fair, unbiased employment opportunities and greater economic mobility for all Californians.\n",
      "['artificial-intelligence', 'california', 'employment-discrimination', 'hiring-practices', 'diversity', 'equal-opportunity', 'legislation', 'technology-in-hiring']\n"
     ]
    }
   ],
   "source": [
    "bill = \"ACR125\"\n",
    "aiBillsSummaries[period][bill] = addSummaries(period, bill)"
   ]
  },
  {
   "cell_type": "code",
   "execution_count": 139,
   "id": "f6f3d93b",
   "metadata": {},
   "outputs": [
    {
     "name": "stdout",
     "output_type": "stream",
     "text": [
      "Senate Bill 348, introduced by Senator Chang in the 2019–2020 California legislative session, would require the Director of Technology to develop a strategic plan to help state departments and agencies incorporate artificial intelligence (AI) into their information technology strategies to improve state services. The plan must assess the effects of AI on employee job responsibilities and ways to minimize negative workforce impacts. The bill encourages the Governor to appoint a special adviser on AI to coordinate a statewide strategic plan, considering privacy and workforce issues, and urges certain state offices and universities to designate a chief artificial intelligence officer. The bill does not require appropriations and is contingent upon the enactment of Assembly Bill 976.\n",
      "['artificial-intelligence', 'california', 'legislation', 'technology', 'state-government', 'strategic-plan', 'workforce', 'privacy']\n"
     ]
    }
   ],
   "source": [
    "bill = \"SB348\"\n",
    "aiBillsSummaries[period][bill] = addSummaries(period, bill)"
   ]
  },
  {
   "cell_type": "code",
   "execution_count": 140,
   "id": "c3acec84",
   "metadata": {},
   "outputs": [
    {
     "name": "stdout",
     "output_type": "stream",
     "text": [
      "Senate Bill 444 (2019–2020), introduced by Senator Umberg, requests the University of California Regents to authorize UC Berkeley and UC Irvine law schools, in partnership with local superior courts, to participate in a research program developing artificial intelligence or machine-learning solutions to improve access to justice for pro se indigent litigants in Alameda and Orange counties. The program, to be enacted by July 1, 2021, emphasizes collaboration across UC, CSU, and community colleges, and adherence to the Asilomar AI Principles. By March 31, 2024, participating law schools must report on their findings, challenges, and recommendations to key state officials and court representatives.\n",
      "['artificial-intelligence', 'california-legislation', 'university-of-california', 'law-schools', 'access-to-justice', 'pro-se-litigants', 'research-program', 'machine-learning']\n"
     ]
    }
   ],
   "source": [
    "bill = \"SB444\"\n",
    "aiBillsSummaries[period][bill] = addSummaries(period, bill)"
   ]
  },
  {
   "cell_type": "code",
   "execution_count": 141,
   "id": "bc7ea5fc",
   "metadata": {},
   "outputs": [
    {
     "name": "stdout",
     "output_type": "stream",
     "text": [
      "Senate Bill 730, introduced by Senator Stern during California's 2019–2020 legislative session, establishes the advisory Commission on Tech Equity until January 1, 2025. The commission, composed of seven appointed and two ex officio members with expertise in fields such as data science, economics, civil rights, technology, and privacy, is tasked with developing policy recommendations to guide the development, regulation, taxation, and equitable distribution of benefits from technological innovation in California. The commission must submit annual reports to the Legislature and Governor, with its first recommendations due by January 1, 2021. Its role is strictly advisory, with implementation of its findings requiring further legislative action.\n",
      "['artificial-intelligence', 'california', 'legislation', 'tech-policy', 'privacy', 'data', 'equity', 'government', 'advisory-commission']\n"
     ]
    }
   ],
   "source": [
    "bill = \"SB730\"\n",
    "aiBillsSummaries[period][bill] = addSummaries(period, bill)"
   ]
  },
  {
   "cell_type": "code",
   "execution_count": 145,
   "id": "3a86df60",
   "metadata": {},
   "outputs": [
    {
     "name": "stdout",
     "output_type": "stream",
     "text": [
      "Senate Bill 752, introduced by Senator Stern in the 2019–2020 California Legislature, establishes the Commission on Tech Equity until November 30, 2024. The commission, consisting of appointed experts and state officials, is tasked with gathering public input and studying the impact of technological innovation—including automation and artificial intelligence—on California’s economy, workforce, privacy, inequality, and related areas. It will advise state leaders and develop policy recommendations to ensure that technology benefits workers and the public, supporting an equitable and sustainable economy. The commission is advisory only, with no authority to implement its findings without further legislation.\n",
      "['artificial-intelligence', 'california', 'technology-policy', 'workforce', 'equity', 'government', 'innovation', 'legislation']\n"
     ]
    }
   ],
   "source": [
    "bill = \"SB752\"\n",
    "aiBillsSummaries[period][bill] = addSummaries(period, bill)"
   ]
  },
  {
   "cell_type": "code",
   "execution_count": 146,
   "id": "2a4bef43",
   "metadata": {},
   "outputs": [
    {
     "name": "stdout",
     "output_type": "stream",
     "text": [
      "Senate Concurrent Resolution No. 13 (Chapter 22) designates March 8, 2019, as International Women’s Day in California, recognizing the day’s historical roots in early 20th-century labor movements and women's activism for rights such as voting, fair working conditions, and an end to discrimination. The resolution highlights the global significance of International Women’s Day, the United Nations’ involvement since 1975, ongoing challenges to gender equality, and the 2019 theme, 'Think Equal, Build Smart, Innovate for Change,' which emphasizes advancing gender equality through innovation, technology, and social reforms. It also notes the persistent gender digital divide and underrepresentation of women in STEM fields, stressing the importance of women's participation in shaping technological and societal advancements.\n",
      "['artificial-intelligence', 'international-womens-day', 'gender-equality', 'california-legislation', 'senate-concurrent-resolution', 'technology', 'stem', 'social-justice', 'women-in-history', 'united-nations']\n"
     ]
    }
   ],
   "source": [
    "bill = \"SCR13\"\n",
    "aiBillsSummaries[period][bill] = addSummaries(period, bill)"
   ]
  },
  {
   "cell_type": "code",
   "execution_count": 147,
   "id": "f3ab38fa",
   "metadata": {},
   "outputs": [
    {
     "name": "stdout",
     "output_type": "stream",
     "text": [
      "Senate Joint Resolution No. 6 (Chapter 112) urges the President and Congress of the United States to establish a comprehensive Artificial Intelligence Advisory Committee and adopt a national AI policy, citing the rapid adoption and economic impact of AI, the need to protect the workforce from technological disruption, and the importance of ethical standards and innovation. The resolution notes that while AI is increasingly used by both consumers and businesses, there is a growing gap between technological advancement and regulatory response, and emphasizes the need for the U.S. to remain competitive as other countries develop their own AI strategies. The resolution calls for copies to be sent to federal leaders and California’s congressional delegation.\n",
      "['artificial-intelligence', 'policy', 'workforce', 'ethics', 'united-states', 'california', 'technology', 'economy', 'regulation', 'innovation']\n"
     ]
    }
   ],
   "source": [
    "bill = \"SJR6\"\n",
    "aiBillsSummaries[period][bill] = addSummaries(period, bill)"
   ]
  },
  {
   "cell_type": "markdown",
   "id": "c23664cd",
   "metadata": {},
   "source": [
    "<h2 style=\"font-weight:bold; color:dodgerblue; border-bottom: 1px solid dodgerblue; padding-left: 25px\">2021-2022</h2>"
   ]
  },
  {
   "cell_type": "code",
   "execution_count": 148,
   "id": "06df6600",
   "metadata": {},
   "outputs": [
    {
     "name": "stdout",
     "output_type": "stream",
     "text": [
      "['AB13', 'AB1400', 'AB1545', 'AB1651', 'AB178', 'AB179', 'AB2224', 'AB2826', 'AB587', 'SB54', 'SB178', 'SB179', 'SB1018', 'SB1216', 'SR11']\n",
      "Bills: 15\n"
     ]
    }
   ],
   "source": [
    "period = \"2021-2022\"\n",
    "aiBillsSummaries[period] = {}\n",
    "blist = list(aiBills[period].keys())\n",
    "print(blist)\n",
    "print(f\"Bills: {len(blist)}\")"
   ]
  },
  {
   "cell_type": "code",
   "execution_count": 149,
   "id": "f39e32e5",
   "metadata": {},
   "outputs": [
    {
     "name": "stdout",
     "output_type": "stream",
     "text": [
      "Assembly Bill No. 13 (Chapter 230), approved on September 2, 2022, appropriates $2,497,600 from California’s General Fund to the California Victim Compensation Board to pay claims to three individuals—Alexander Torres, Juan Carlos de Jesus Bautista, and Zavion Johnson—who were wrongfully charged with crimes they did not commit. The act is designated as an urgency statute to provide immediate relief and prevent further hardship to the claimants, taking effect immediately upon passage.\n",
      "['artificial-intelligence', 'california', 'legislation', 'victim-compensation', 'wrongful-conviction', 'appropriation', 'urgency-statute', 'law', 'government']\n"
     ]
    }
   ],
   "source": [
    "bill = \"AB13\"\n",
    "aiBillsSummaries[period][bill] = addSummaries(period, bill)"
   ]
  },
  {
   "cell_type": "code",
   "execution_count": 150,
   "id": "a8327675",
   "metadata": {},
   "outputs": [
    {
     "name": "stdout",
     "output_type": "stream",
     "text": [
      "Assembly Bill 1400, known as the California Guaranteed Health Care for All Act (CalCare), proposes to establish a single-payer, universal health care system in California, providing comprehensive coverage to all state residents regardless of immigration status, with no premiums, deductibles, or copays. CalCare would consolidate existing federal and state health programs (such as Medi-Cal, Medicare, and CHIP) into one system, governed by an independent board, and funded through a combination of federal funds and new state revenues to be determined by future legislation and voter approval. The bill outlines broad benefits (including medical, mental health, dental, vision, long-term care, and prescription drugs), prohibits discrimination, and bars private billing for covered services. Providers would negotiate payment rates collectively and be paid through global budgets, salaries, or fee-for-service. Implementation is contingent on a fiscal analysis showing sufficient funding, legislative approval, and a statewide ballot measure creating necessary revenue mechanisms. CalCare also includes provisions for cost controls, public transparency, protection of patient data, and transition assistance for workers displaced from the current insurance system.\n",
      "['artificial-intelligence', 'health-care', 'california', 'legislation', 'single-payer', 'universal-coverage', 'calcare', 'insurance', 'public-health', 'cost-control', 'privacy', 'workforce-transition', 'prescription-drugs', 'long-term-care', 'governance']\n"
     ]
    }
   ],
   "source": [
    "bill = \"AB1400\"\n",
    "aiBillsSummaries[period][bill] = addSummaries(period, bill)"
   ]
  },
  {
   "cell_type": "code",
   "execution_count": 151,
   "id": "80da5346",
   "metadata": {},
   "outputs": [
    {
     "name": "stdout",
     "output_type": "stream",
     "text": [
      "California Assembly Bill No. 1545, known as the Kids Internet Design and Safety Act (KIDS Act), aims to enhance internet safety and privacy protections for children under 13 by regulating online platforms directed at children. The bill prohibits certain features, such as auto-play of videos and in-app purchases or communications, without parental consent, and bans advertising related to alcohol, tobacco, or nicotine to these users. It also requires platforms to provide parental controls, distinguish commercial from noncommercial content, and allow parents to create accounts or profiles for their children. The Attorney General is tasked with annually auditing platforms for compliance with state and federal children's online privacy laws. Violations are considered unfair competition under California law.\n",
      "['artificial-intelligence', 'california', 'internet-safety', 'children', 'privacy', 'legislation', 'parental-controls', 'online-platforms', 'consumer-protection']\n"
     ]
    }
   ],
   "source": [
    "bill = \"AB1545\"\n",
    "aiBillsSummaries[period][bill] = addSummaries(period, bill)"
   ]
  },
  {
   "cell_type": "code",
   "execution_count": 152,
   "id": "845ba6f9",
   "metadata": {},
   "outputs": [
    {
     "name": "stdout",
     "output_type": "stream",
     "text": [
      "Assembly Bill 1651 (Kalra), known as the Workplace Technology Accountability Act, proposes comprehensive new rules for California employers regarding the collection, use, and protection of worker data, especially in relation to electronic monitoring and automated decision systems (ADS). The bill grants workers rights to know, review, and correct data collected about them, restricts employers from using such data or electronic monitoring beyond specific purposes related to essential job functions or legal compliance, and bans certain invasive practices (e.g., monitoring private spaces, using facial/emotion recognition). Employers must conduct and publish impact assessments for new technologies, ensure meaningful human oversight of algorithmic decisions, and are subject to significant penalties for violations. Enforcement is led by the Labor Commissioner and the Department of Fair Employment and Housing, with coordination across relevant state agencies and opportunities for workers to bring civil actions. The bill aims to increase transparency, protect worker privacy and well-being, and ensure accountability as workplace technologies evolve.\n",
      "['artificial-intelligence', 'california', 'labor-law', 'worker-privacy', 'workplace-monitoring', 'algorithmic-decision-making', 'data-protection', 'employment', 'legislation']\n"
     ]
    }
   ],
   "source": [
    "bill = \"AB1651\"\n",
    "aiBillsSummaries[period][bill] = addSummaries(period, bill)"
   ]
  },
  {
   "cell_type": "code",
   "execution_count": 153,
   "id": "e1d20317",
   "metadata": {},
   "outputs": [
    {
     "name": "stdout",
     "output_type": "stream",
     "text": [
      "Assembly Bill 178 (AB 178), introduced by Assembly Member Ting and enacted on June 29, 2022, is a comprehensive amendment to the California Budget Act of 2022. It revises, adds, and repeals numerous appropriations and statutory items across a wide range of state government functions for the 2022-23 fiscal year, including but not limited to the judiciary, health and human services, education, public safety, transportation, environmental resources, housing, and economic development. The bill details allocations for various programs such as judicial branch operations, small business support, homelessness and housing initiatives, climate resilience, wildfire prevention, higher education and student aid, workforce development, and public health, among many others. It also includes provisions for administrative flexibility, reporting requirements, and the immediate effect of the amendments as a Budget Bill. The legislation is designed to ensure the effective use of state resources, address emerging needs, and comply with both state and federal requirements.\n",
      "['artificial-intelligence', 'california-budget', 'appropriations', 'fiscal-policy', 'state-government', 'legislation', 'judiciary', 'health', 'education', 'public-safety', 'climate', 'housing', 'economic-development', 'transportation', 'workforce', 'public-health', '2022']\n"
     ]
    }
   ],
   "source": [
    "bill = \"AB178\"\n",
    "aiBillsSummaries[period][bill] = addSummaries(period, bill)"
   ]
  },
  {
   "cell_type": "code",
   "execution_count": 154,
   "id": "ac9b2f3e",
   "metadata": {},
   "outputs": [
    {
     "name": "stdout",
     "output_type": "stream",
     "text": [
      "Assembly Bill No. 179 (Chapter 249) amends the California Budget Act of 2022, making numerous changes to appropriations and funding allocations across a wide range of state government operations for the 2022–23 fiscal year. The bill adjusts, adds, and repeals budget items for agencies and programs including the judiciary, public health, education (K-12, higher education, and early childhood), natural resources, emergency services, housing, social services, business development, public safety, and more. It authorizes new and continued funding for initiatives such as wildfire prevention, climate resilience, infrastructure, affordable housing, mental health, workforce development, and pandemic response. The bill also streamlines administrative processes for federal fund matching, reappropriates and reallocates funds, and updates various control sections to provide flexibility in budget management. The act is declared a budget bill and takes immediate effect upon approval.\n",
      "['artificial-intelligence', 'california', 'state-budget', 'appropriations', 'public-health', 'education', 'climate', 'housing', 'infrastructure', 'social-services', 'emergency-services', 'fiscal-policy', 'government', '2022']\n"
     ]
    }
   ],
   "source": [
    "bill = \"AB179\"\n",
    "aiBillsSummaries[period][bill] = addSummaries(period, bill)"
   ]
  },
  {
   "cell_type": "code",
   "execution_count": 156,
   "id": "e20987f7",
   "metadata": {},
   "outputs": [
    {
     "name": "stdout",
     "output_type": "stream",
     "text": [
      "Assembly Bill No. 2224, introduced by Assembly Member McCarty in the California Legislature's 2021–2022 session, proposes that iBuyers—defined as online real estate companies using automated valuation models (such as those based on artificial intelligence) to purchase properties without traditional financing—must work with a local, licensed real estate broker when selling property in California. This requirement does not apply to the initial sale of newly constructed properties. The bill aims to ensure local broker involvement in iBuyer real estate transactions, aligning with existing regulatory frameworks.\n",
      "['artificial-intelligence', 'real-estate', 'california', 'legislation', 'ibuyer', 'real-estate-broker', 'regulation']\n"
     ]
    }
   ],
   "source": [
    "bill = \"AB2224\"\n",
    "aiBillsSummaries[period][bill] = addSummaries(period, bill)"
   ]
  },
  {
   "cell_type": "code",
   "execution_count": 158,
   "id": "0c12e31d",
   "metadata": {},
   "outputs": [
    {
     "name": "stdout",
     "output_type": "stream",
     "text": [
      "Assembly Bill No. 2826, known as the California Platform Accountability and Transparency Act (C-PATA), requires large online platforms (with 25 million+ monthly U.S. users) to share qualified data with approved university-affiliated researchers for specified research projects, while implementing strict privacy and cybersecurity safeguards. The Department of Technology will establish application processes, oversight, and regulations to ensure platforms disclose information about content, advertising, and algorithmic operations, with annual reporting to legislative committees. The Act provides civil immunity for compliant researchers and journalists, prescribes penalties for violations, and seeks to balance public transparency with user privacy and business confidentiality.\n",
      "['artificial-intelligence', 'california', 'social-media', 'privacy', 'transparency', 'data-sharing', 'regulation', 'technology', 'research', 'government']\n"
     ]
    }
   ],
   "source": [
    "bill = \"AB2826\"\n",
    "aiBillsSummaries[period][bill] = addSummaries(period, bill)"
   ]
  },
  {
   "cell_type": "code",
   "execution_count": 159,
   "id": "348c340d",
   "metadata": {},
   "outputs": [
    {
     "name": "stdout",
     "output_type": "stream",
     "text": [
      "California Assembly Bill No. 587 (Chapter 269), approved in September 2022, requires large social media companies to publicly post clear terms of service for each platform they operate, including details about permitted user behavior, content moderation processes, and actions taken against violations. The law mandates that these companies submit semiannual reports to the Attorney General starting in 2024, detailing their content moderation practices, definitions of harmful content (such as hate speech, extremism, and disinformation), and data on flagged and actioned content, including the use of artificial intelligence in moderation. The Attorney General must make these reports publicly accessible online. Companies violating these requirements face significant civil penalties, and the law applies only to social media companies with over $100 million in annual revenue, excluding platforms limited to direct messaging, commercial transactions, or consumer reviews.\n",
      "['artificial-intelligence', 'california-law', 'social-media', 'content-moderation', 'transparency', 'terms-of-service', 'reporting-requirements', 'privacy', 'hate-speech', 'disinformation', 'compliance', 'penalties']\n"
     ]
    }
   ],
   "source": [
    "bill = \"AB587\"\n",
    "aiBillsSummaries[period][bill] = addSummaries(period, bill)"
   ]
  },
  {
   "cell_type": "code",
   "execution_count": 160,
   "id": "a06ba887",
   "metadata": {},
   "outputs": [
    {
     "name": "stdout",
     "output_type": "stream",
     "text": [
      "Senate Bill No. 54 (SB 54), approved in 2022, enacts the Plastic Pollution Prevention and Packaging Producer Responsibility Act, overhauling California's approach to managing single-use packaging and plastic food service ware. The law requires producers of covered materials to reduce plastic use, ensure that all such materials sold in California are recyclable or compostable by 2032, and meet escalating recycling rate targets (reaching at least 65% by 2032). Producers must join a Producer Responsibility Organization (PRO) or comply individually, funding the collection, processing, and recycling of these materials through fees and annual surcharges—including a $500 million annual environmental mitigation fee. The bill establishes detailed reporting, auditing, and enforcement mechanisms, with civil penalties for noncompliance, and mandates that a portion of funds be used to mitigate plastic pollution impacts, particularly in disadvantaged communities. It also creates advisory boards, requires the use of advanced technologies like artificial intelligence for sorting and recycling, and directs the state to regularly assess and update infrastructure needs, recycling rates, and compliance. Local governments and recycling providers are integrated into the system, and the law includes provisions for transparency, confidentiality of proprietary data, and periodic review of progress toward a more circular economy.\n",
      "['artificial-intelligence', 'california', 'plastic-pollution', 'packaging', 'recycling', 'producer-responsibility', 'environmental-policy', 'circular-economy', 'legislation', 'waste-management', 'single-use-plastics', 'sustainability']\n"
     ]
    }
   ],
   "source": [
    "bill = \"SB54\"\n",
    "aiBillsSummaries[period][bill] = addSummaries(period, bill)"
   ]
  },
  {
   "cell_type": "code",
   "execution_count": 161,
   "id": "ad94c4ab",
   "metadata": {},
   "outputs": [
    {
     "name": "stdout",
     "output_type": "stream",
     "text": [
      "SB 178 is an omnibus budget bill amending California's Budget Act of 2022, making numerous adjustments, additions, and repeals to appropriations across a wide range of state programs and departments for the 2022–23 fiscal year. The bill revises funding allocations for the judicial system, public safety, education (including K-12, higher education, and special education), health and human services, housing, climate initiatives, workforce development, and more. It establishes or modifies grant programs, funding formulas, reporting requirements, and administrative procedures, often in response to evolving needs such as COVID-19, drought, housing, and workforce shortages. The bill also includes technical corrections, reappropriations, and clarifies the use of federal relief funds, state appropriations limits, and other fiscal policies. It is designed to take effect immediately as a budget bill.\n",
      "['artificial-intelligence', 'california', 'budget', 'legislature', 'fiscal-policy', 'appropriations', 'education', 'healthcare', 'public-safety', 'housing', 'climate', 'workforce', 'grants', 'covid-19', 'judiciary', 'higher-education', 'social-services', 'infrastructure', 'state-government', 'appropriations-bill', '2022']\n"
     ]
    }
   ],
   "source": [
    "bill = \"SB178\"\n",
    "aiBillsSummaries[period][bill] = addSummaries(period, bill)"
   ]
  },
  {
   "cell_type": "code",
   "execution_count": 162,
   "id": "a410d6f7",
   "metadata": {},
   "outputs": [
    {
     "name": "stdout",
     "output_type": "stream",
     "text": [
      "Senate Bill 179 (SB 179) amends the California Budget Act of 2022, making a wide range of technical, fiscal, and programmatic adjustments across numerous state agencies and programs for the 2022–23 fiscal year. The bill revises, adds, and repeals hundreds of appropriations and provisions, affecting funding for the judicial branch, local governments, education (K-12, higher education, and community colleges), health and human services, natural resources, housing, public safety, transportation, workforce development, and more. It includes updates to allocations for COVID-19 relief, infrastructure, climate resilience, energy, drought, and wildfire response, as well as targeted funding for equity, public health, and social services. The bill also modifies reporting and administrative requirements, reappropriates and reverts certain funds, and ensures compliance with federal funding rules. SB 179 is designed to take effect immediately as a budget bill, enabling the state to respond flexibly to changing fiscal needs, federal opportunities (such as the Infrastructure Investment and Jobs Act and Inflation Reduction Act), and new legislative priorities.\n",
      "['artificial-intelligence', 'california', 'budget', 'legislation', 'fiscal-policy', 'appropriations', 'judiciary', 'education', 'health', 'human-services', 'climate', 'infrastructure', 'housing', 'public-safety', 'transportation', 'workforce', 'covid-19', 'equity', 'social-services', 'energy', 'environment', 'government']\n"
     ]
    }
   ],
   "source": [
    "bill = \"SB179\"\n",
    "aiBillsSummaries[period][bill] = addSummaries(period, bill)"
   ]
  },
  {
   "cell_type": "code",
   "execution_count": 163,
   "id": "f16d8d02",
   "metadata": {},
   "outputs": [
    {
     "name": "stdout",
     "output_type": "stream",
     "text": [
      "Senate Bill 1018, known as the Platform Accountability and Transparency Act and introduced by Senator Pan during the 2021–2022 California legislative session, requires large social media platforms (with at least 1,000,000 monthly users in California) to publicly disclose annual statistics on how often their algorithms recommended or amplified content that violated the platform’s policies, broken down by category of policy violated. The law aims to increase transparency and accountability regarding the spread of harmful or prohibited content, and imposes civil penalties of up to $100,000 per violation, enforceable by the Attorney General or other specified public attorneys. The requirements do not apply to platforms with fewer than 1,000,000 users or to confidential business information.\n",
      "['artificial-intelligence', 'california', 'social-media', 'transparency', 'legislation', 'policy', 'platform-accountability', 'content-moderation', 'law']\n"
     ]
    }
   ],
   "source": [
    "bill = \"SB1018\"\n",
    "aiBillsSummaries[period][bill] = addSummaries(period, bill)"
   ]
  },
  {
   "cell_type": "code",
   "execution_count": 164,
   "id": "7bc0aee4",
   "metadata": {},
   "outputs": [
    {
     "name": "stdout",
     "output_type": "stream",
     "text": [
      "Senate Bill No. 1216 (Chapter 885), approved on September 30, 2022, requires the California Secretary of Government Operations, until January 1, 2025 and upon legislative appropriation, to evaluate the impact and risks of deepfake and digital content forgery technologies—including privacy, legal, and civic engagement concerns—on state government, businesses, and residents. The Secretary must develop a coordinated plan to investigate standards and technologies for verifying digital content authenticity, support mechanisms for content creators to certify and validate media, and increase public and institutional ability to identify forgeries. A comprehensive report with findings and recommendations is due to the Legislature by October 1, 2024.\n",
      "['artificial-intelligence', 'california', 'legislation', 'deepfakes', 'digital-content', 'privacy', 'government', 'technology-policy']\n"
     ]
    }
   ],
   "source": [
    "bill = \"SB1216\"\n",
    "aiBillsSummaries[period][bill] = addSummaries(period, bill)"
   ]
  },
  {
   "cell_type": "code",
   "execution_count": 165,
   "id": "135213b9",
   "metadata": {},
   "outputs": [
    {
     "name": "stdout",
     "output_type": "stream",
     "text": [
      "California Senate Resolution No. 11, introduced by Senator Leyva and coauthors, designates March 8, 2021, as International Women’s Day, recognizing its origins in early 20th-century labor movements and its evolution into a global event advocating for women’s rights and leadership. The resolution highlights the historical milestones of women’s activism, the ongoing challenges women face—including those exacerbated by the COVID-19 pandemic—and emphasizes the need for women’s perspectives in policy-making and innovation, particularly in fields like science and technology. It calls attention to the persistent gender digital divide and underrepresentation of women in leadership and technical fields, urging continued efforts toward equality and celebration of women’s contributions.\n",
      "['artificial-intelligence', 'california-legislature', 'senate-resolution', 'international-womens-day', 'women-in-leadership', 'gender-equality', 'covid-19', 'digital-divide', 'women-in-stem', 'legislation']\n"
     ]
    }
   ],
   "source": [
    "bill = \"SR11\"\n",
    "aiBillsSummaries[period][bill] = addSummaries(period, bill)"
   ]
  },
  {
   "cell_type": "markdown",
   "id": "f54fc116",
   "metadata": {},
   "source": [
    "<h2 style=\"font-weight:bold; color:dodgerblue; border-bottom: 1px solid dodgerblue; padding-left: 25px\">2023-2024</h2>"
   ]
  },
  {
   "cell_type": "code",
   "execution_count": 166,
   "id": "78da42df",
   "metadata": {},
   "outputs": [
    {
     "name": "stdout",
     "output_type": "stream",
     "text": [
      "['AB100', 'AB103', 'AB104', 'AB106', 'AB107', 'AB108', 'AB158', 'AB302', 'AB331', 'AB459', 'AB863', 'AB1008', 'AB1027', 'AB1282', 'AB1526', 'AB1791', 'AB1754', 'AB1824', 'AB1831', 'AB1873', 'AB2013', 'AB2058', 'AB2200', 'AB2355', 'AB2370', 'AB2412', 'AB2512', 'AB2602', 'AB2652', 'AB2655', 'AB2811', 'AB2839', 'AB2876', 'AB2877', 'AB2885', 'AB2905', 'AB2928', 'AB2930', 'AB3030', 'AB3050', 'AB3058', 'AB3095', 'AB3204', 'AB3211', 'ACR96', 'ACR219', 'ACR227', 'AJR6', 'SB100', 'SB103', 'SB104', 'SB106', 'SB107', 'SB108', 'SB158', 'SB294', 'SB313', 'SB398', 'SB721', 'SB892', 'SB893', 'SB896', 'SB933', 'SB942', 'SB970', 'SB1047', 'SB1070', 'SB1120', 'SB1154', 'SB1220', 'SB1228', 'SB1223', 'SB1229', 'SB1235', 'SB1282', 'SB1288', 'SB1381', 'SB1446', 'SCR17', 'SCR121', 'SCR162']\n",
      "Bills: 81\n"
     ]
    }
   ],
   "source": [
    "period = \"2023-2024\"\n",
    "aiBillsSummaries[period] = {}\n",
    "blist = list(aiBills[period].keys())\n",
    "print(blist)\n",
    "print(f\"Bills: {len(blist)}\")"
   ]
  },
  {
   "cell_type": "code",
   "execution_count": 167,
   "id": "63f51500",
   "metadata": {},
   "outputs": [
    {
     "name": "stdout",
     "output_type": "stream",
     "text": [
      "Assembly Bill No. 100 is a budget bill amending the California Budget Acts of 2021 and 2022 to reallocate and add appropriations across a wide range of state government priorities. The bill authorizes immediate funding for hundreds of specific projects and programs statewide, including investments in parks, transportation, housing, homelessness, health and human services, education, public safety, environmental conservation, arts and culture, and economic and workforce development. It streamlines allocation and oversight processes, provides new funding for pilot programs (such as abortion access and behavioral health), and adjusts major line items for agencies like the Department of Health Care Services, Education, and Food and Agriculture. The bill is effective immediately and is part of a series of statutes constituting the state budget.\n",
      "['artificial-intelligence', 'california', 'budget', 'legislation', 'state-government', 'appropriations', 'health', 'education', 'public-safety', 'housing', 'infrastructure', 'parks', 'environment', 'arts-culture', 'economic-development', 'workforce', 'transportation']\n"
     ]
    }
   ],
   "source": [
    "bill = \"AB100\"\n",
    "aiBillsSummaries[period][bill] = addSummaries(period, bill)"
   ]
  },
  {
   "cell_type": "code",
   "execution_count": 169,
   "id": "c60f1cd1",
   "metadata": {},
   "outputs": [
    {
     "name": "stdout",
     "output_type": "stream",
     "text": [
      "Assembly Bill No. 103 (Chapter 33), approved on June 30, 2023, amends the Budget Acts of 2021 and 2022 to update appropriations and funding allocations for California's state government operations. The bill revises budget items across multiple sectors, including education (K-12, higher education, special education, early learning, and career technical programs), the judiciary, energy and climate programs, corrections and rehabilitation, parks and infrastructure, public safety, health and human services, housing and homelessness, and community support initiatives. It specifies targeted funding for programs such as mental health, student basic needs, foster youth, rapid rehousing, climate resilience, wildfire prevention, and community development, and includes numerous one-time and ongoing appropriations, grants, and reporting requirements. The bill also details legislative priorities for local projects, capital improvements, and community-based services, and declares itself to take effect immediately as a Budget Bill.\n",
      "['artificial-intelligence', 'california', 'budget', 'legislation', 'education', 'higher-education', 'special-education', 'public-health', 'housing', 'climate', 'energy', 'public-safety', 'transportation', 'parks', 'community-development', 'judiciary', 'corrections', 'grants', 'appropriations', 'fiscal-policy']\n"
     ]
    }
   ],
   "source": [
    "bill = \"AB103\"\n",
    "aiBillsSummaries[period][bill] = addSummaries(period, bill)"
   ]
  },
  {
   "cell_type": "code",
   "execution_count": 170,
   "id": "b892a540",
   "metadata": {},
   "outputs": [
    {
     "name": "stdout",
     "output_type": "stream",
     "text": [
      "Assembly Bill 104, introduced by Assembly Member Ting and amended in August 2023, is a comprehensive budget bill amending the California Budget Acts of 2022 and 2023. The bill appropriates and reallocates billions of dollars from the General Fund and other sources to support a wide array of state government priorities for the 2022–23 and 2023–24 fiscal years. Major funding areas include education, parks and open space, public safety and fire prevention, housing and homelessness, health and human services, transportation, water and infrastructure, arts and culture, and community services. The bill details specific allocations to numerous cities, counties, state departments, and organizations for projects such as school upgrades, park renovations, wildfire mitigation, affordable housing, mental health programs, broadband expansion, and support for underserved communities. It also streamlines administrative processes for fund distribution, exempts certain allocations from standard contracting requirements, and allows for advance lump sum payments and flexibility in administering agencies. AB 104 is declared to take immediate effect as a budget bill.\n",
      "['artificial-intelligence', 'california-budget', 'state-legislation', 'public-funding', 'education', 'infrastructure', 'public-safety', 'health', 'housing', 'parks', 'transportation', 'community-services', 'appropriations', 'fiscal-policy', 'government']\n"
     ]
    }
   ],
   "source": [
    "bill = \"AB104\"\n",
    "aiBillsSummaries[period][bill] = addSummaries(period, bill)"
   ]
  },
  {
   "cell_type": "code",
   "execution_count": 172,
   "id": "765f39dc",
   "metadata": {},
   "outputs": [
    {
     "name": "stdout",
     "output_type": "stream",
     "text": [
      "Assembly Bill 106 (Chapter 9, approved April 15, 2024) is a California budget bill that amends the Budget Acts of 2022 and 2023 to revise, add, and repeal appropriations across a wide range of state government functions. The bill allocates funding for numerous projects and programs in areas including parks and open space, education, public safety, infrastructure, housing, health and human services, cultural institutions, transportation, and labor. It also includes provisions for reversion and reappropriation of unspent funds, administrative adjustments, and reporting requirements, while granting the Department of Finance flexibility to manage appropriations and ensure legislative priorities are met. The act is designed to take effect immediately to address fiscal needs for the 2022–23 and 2023–24 fiscal years and to help manage the state's projected budget deficits.\n",
      "['artificial-intelligence', 'california', 'state-budget', 'legislation', 'appropriations', 'fiscal-policy', 'public-safety', 'education', 'infrastructure', 'parks', 'health', 'housing', 'transportation', 'government']\n"
     ]
    }
   ],
   "source": [
    "bill = \"AB106\"\n",
    "aiBillsSummaries[period][bill] = addSummaries(period, bill)"
   ]
  },
  {
   "cell_type": "code",
   "execution_count": 193,
   "id": "665eeea3",
   "metadata": {},
   "outputs": [
    {
     "name": "stdout",
     "output_type": "stream",
     "text": [
      "Assembly Bill No. 107, also known as the Budget Act of 2024, is California's main appropriations bill for the 2024-2025 fiscal year, detailing funding for state government operations, public services, and capital projects. The bill was approved and filed on June 26, 2024, and takes effect immediately. It outlines appropriations for a wide variety of state agencies and programs, including the legislature, judiciary, executive branch, transportation, natural resources, environmental protection, health and human services, and more. The bill includes provisions for the allocation and management of federal and state funds, technical adjustments, reappropriations, and reversions, and specifies procedures for fund transfers, reporting, and oversight. Notably, it includes funding for generative artificial intelligence pilot projects, infrastructure, environmental initiatives, health care, housing, and emergency services, and it provides mechanisms for budget flexibility and accountability across state operations.\n",
      "['artificial-intelligence', 'california-budget', 'appropriations', 'fiscal-year-2024-2025', 'state-government', 'public-services', 'transportation', 'environment', 'health-care', 'housing', 'emergency-services', 'legislation']\n"
     ]
    }
   ],
   "source": [
    "bill = \"AB107\"\n",
    "aiBillsSummaries[period][bill] = addSummaries(period, bill)"
   ]
  },
  {
   "cell_type": "code",
   "execution_count": 190,
   "id": "4d2aa9a0",
   "metadata": {},
   "outputs": [
    {
     "name": "stdout",
     "output_type": "stream",
     "text": [
      "Assembly Bill 108, amended in the California Senate on June 22, 2024, makes extensive changes to the Budget Act of 2024, which governs state spending for the 2024–25 fiscal year. The bill revises, adds, and repeals numerous budget items across a wide range of state departments and programs, including appropriations for education, health, transportation, housing, public safety, environmental protection, and more. Notable provisions include adjustments to funding for the Senate, Assembly, and various state agencies; new or reallocated funds for homelessness prevention, climate programs, small business support, and infrastructure; and updated rules for the implementation and oversight of programs involving artificial intelligence and digital identity. The bill also includes across-the-board cost-saving measures, deferrals, and reappropriations in response to fiscal constraints, as well as updated reporting and accountability requirements. It declares itself a budget bill to take effect immediately and authorizes the Director of Finance to make further adjustments as necessary, including up to $12 million for reparations legislation.\n",
      "['artificial-intelligence', 'california-budget', 'appropriations', 'state-legislation', 'fiscal-policy', 'education', 'health-care', 'transportation', 'climate', 'homelessness', 'housing', 'digital-identity', 'public-safety', 'environmental-policy', 'reparations', 'cost-savings', 'reporting-requirements', 'government-operations', '2024']\n"
     ]
    }
   ],
   "source": [
    "bill = \"AB108\"\n",
    "aiBillsSummaries[period][bill] = addSummaries(period, bill)"
   ]
  },
  {
   "cell_type": "code",
   "execution_count": 194,
   "id": "e841f673",
   "metadata": {},
   "outputs": [
    {
     "name": "stdout",
     "output_type": "stream",
     "text": [
      "Assembly Bill No. 158 (Chapter 996), approved on September 30, 2024, amends the California Budget Acts of 2022 and 2023, revising appropriations and allocations across a wide range of state priorities. The bill directs billions of dollars to projects and programs in areas such as parks and open space, education, public safety, infrastructure (including water, drought, and transportation), housing and homelessness prevention, health and human services, libraries and cultural institutions, veterans' services, community services, environmental protection, and labor. It also modifies funding for energy decarbonization, managed care, corrections and rehabilitation, student housing, workforce development, and sets new fiscal limits and reporting requirements. The act takes effect immediately as a budget bill, reflecting updated legislative priorities and ensuring the rapid deployment of funds to address statewide needs.\n",
      "['artificial-intelligence', 'california', 'state-budget', 'appropriations', 'legislation', 'infrastructure', 'education', 'public-safety', 'health', 'homelessness', 'parks', 'transportation', 'energy', 'environment', 'workforce-development', 'fiscal-policy']\n"
     ]
    }
   ],
   "source": [
    "bill = \"AB158\"\n",
    "aiBillsSummaries[period][bill] = addSummaries(period, bill)"
   ]
  },
  {
   "cell_type": "code",
   "execution_count": 197,
   "id": "865aacdd",
   "metadata": {},
   "outputs": [
    {
     "name": "stdout",
     "output_type": "stream",
     "text": [
      "Assembly Bill No. 302 (Chapter 800), approved on October 13, 2023, requires the California Department of Technology to create a comprehensive inventory of all high-risk automated decision systems—defined as AI or algorithmic tools that significantly impact decisions in areas like housing, education, employment, credit, health care, and criminal justice—used or proposed by state agencies (excluding the University of California, the Legislature, and the judicial branch). The inventory, due by September 1, 2024, must detail each system's purpose, data used, benefits, alternatives, risk mitigation measures, and research on effectiveness. The Department must report annually to the Legislature on these systems through January 1, 2029.\n",
      "['artificial-intelligence', 'california', 'legislation', 'automated-decision-systems', 'government', 'technology', 'inventory', 'transparency', 'risk-assessment', 'reporting']\n"
     ]
    }
   ],
   "source": [
    "bill = \"AB302\"\n",
    "aiBillsSummaries[period][bill] = addSummaries(period, bill)"
   ]
  },
  {
   "cell_type": "code",
   "execution_count": 198,
   "id": "226e3c14",
   "metadata": {},
   "outputs": [
    {
     "name": "stdout",
     "output_type": "stream",
     "text": [
      "California Assembly Bill 331 (2023-2024), introduced by Assembly Member Bauer-Kahan, seeks to regulate the use of automated decision tools (ADTs) powered by artificial intelligence in consequential decisions affecting employment, education, housing, health care, legal services, and more. The bill requires developers and deployers of ADTs, including local government agencies, to conduct annual impact assessments addressing risks of algorithmic discrimination and to submit these to the Civil Rights Department. Individuals affected by ADTs must be notified when such tools are used and given information about their purpose and operation, with an option to request an alternative process if decisions are made solely by ADTs. The bill prohibits the use of ADTs that result in algorithmic discrimination based on protected characteristics and establishes enforcement mechanisms, including administrative fines and civil actions by public attorneys or, in certain cases, individuals. Impact assessments and governance programs must be maintained and made public, with specific provisions for state reimbursement of mandated costs.\n",
      "['artificial-intelligence', 'california', 'legislation', 'automated-decision-tools', 'algorithmic-discrimination', 'civil-rights', 'impact-assessment', 'transparency', 'employment', 'housing', 'education', 'health-care', 'legal-services']\n"
     ]
    }
   ],
   "source": [
    "bill = \"AB331\"\n",
    "aiBillsSummaries[period][bill] = addSummaries(period, bill)"
   ]
  },
  {
   "cell_type": "code",
   "execution_count": 199,
   "id": "011ee03a",
   "metadata": {},
   "outputs": [
    {
     "name": "stdout",
     "output_type": "stream",
     "text": [
      "Assembly Bill 459, introduced by Assembly Member Kalra, amends Section 12525.5 of the California Government Code to update requirements for state and local law enforcement agencies to report data on all stops conducted by peace officers. The bill mandates that agencies submit annual stop data to the Attorney General by March 1, and requires semiannual reporting if issues are found with submissions. To protect privacy, open text or narrative fields in stop data that may contain personally identifiable information will only be available from the reporting agency, not from the Attorney General, although researchers and advocacy groups may access full data under strict confidentiality agreements for the study of racial and identity profiling. The bill also establishes reimbursement procedures for state-mandated local costs and affirms legislative intent to balance public transparency with privacy protections.\n",
      "['artificial-intelligence', 'california', 'law-enforcement', 'privacy', 'public-records', 'racial-profiling', 'government', 'transparency', 'legislation']\n"
     ]
    }
   ],
   "source": [
    "bill = \"AB459\"\n",
    "aiBillsSummaries[period][bill] = addSummaries(period, bill)"
   ]
  },
  {
   "cell_type": "code",
   "execution_count": 200,
   "id": "a7def861",
   "metadata": {},
   "outputs": [
    {
     "name": "stdout",
     "output_type": "stream",
     "text": [
      "Assembly Bill No. 863 (Chapter 675) updates California’s carpet recycling laws by requiring carpet producers to join a single Producer Responsibility Organization (PRO) responsible for developing and implementing a comprehensive carpet recycling plan. The bill mandates new board member requirements for stewardship organizations, increases oversight and reporting to the state, and raises penalties for noncompliance. The PRO must ensure convenient, free carpet collection across the state, allocate 8% of collected assessments to apprenticeship training grants, and meet postconsumer recycled content requirements. The Department of Resources Recycling and Recovery is given expanded authority to audit, regulate, and enforce compliance, and is required to publicly list compliant producers. Financial and operational transparency is increased, though sensitive business data is protected. The bill phases in a new producer responsibility program and makes the existing stewardship program inoperative once the transition is complete.\n",
      "['artificial-intelligence', 'california', 'legislation', 'recycling', 'carpet', 'producer-responsibility', 'environment', 'sustainability', 'waste-management', 'compliance']\n"
     ]
    }
   ],
   "source": [
    "bill = \"AB863\"\n",
    "aiBillsSummaries[period][bill] = addSummaries(period, bill)"
   ]
  },
  {
   "cell_type": "code",
   "execution_count": 201,
   "id": "9a103547",
   "metadata": {},
   "outputs": [
    {
     "name": "stdout",
     "output_type": "stream",
     "text": [
      "Assembly Bill No. 1008 amends Section 1798.140 of the California Civil Code, clarifying and expanding definitions under the California Consumer Privacy Act (CCPA) and the California Privacy Rights Act (CPRA). The bill explicitly states that personal information can exist in various formats, including physical (like paper documents), digital (such as audio or video files), and abstract digital forms (such as encrypted files, metadata, or outputs from artificial intelligence systems). It also updates definitions and requirements for businesses, contractors, and service providers regarding the collection, processing, and sharing of personal information, including sensitive categories like biometric and neural data. The bill affirms its alignment with the purposes and intent of the CPRA and is contingent on the enactment of related legislation (SB 1223) for certain provisions.\n",
      "['artificial-intelligence', 'california-law', 'consumer-privacy', 'data-protection', 'ccpa', 'cpra', 'personal-information', 'legislation', 'privacy-rights', 'neural-data']\n"
     ]
    }
   ],
   "source": [
    "bill = \"AB1008\"\n",
    "aiBillsSummaries[period][bill] = addSummaries(period, bill)"
   ]
  },
  {
   "cell_type": "code",
   "execution_count": 202,
   "id": "511efc95",
   "metadata": {},
   "outputs": [
    {
     "name": "stdout",
     "output_type": "stream",
     "text": [
      "Assembly Bill No. 1027 (Chapter 824) amends California law to strengthen requirements for social media platforms regarding the illegal distribution of controlled substances. The bill expands reporting obligations to include content related to controlled substances, removes a previous exemption for smaller businesses, and requires platforms to publicly post and update policies on handling such content, including how they respond to law enforcement and retain relevant data for 90 days. Exceptions are made for content involving lawful gender-affirming or reproductive health care. The law mandates transparency in moderation practices, requires semiannual reporting to the Attorney General (with public access), and clarifies that it does not override existing privacy laws. These provisions are effective until January 1, 2028.\n",
      "['artificial-intelligence', 'california', 'legislation', 'social-media', 'privacy', 'controlled-substances', 'content-moderation', 'law-enforcement', 'transparency', 'gender-affirming-care', 'reproductive-health']\n"
     ]
    }
   ],
   "source": [
    "bill = \"AB1027\"\n",
    "aiBillsSummaries[period][bill] = addSummaries(period, bill)"
   ]
  },
  {
   "cell_type": "code",
   "execution_count": 203,
   "id": "be703670",
   "metadata": {},
   "outputs": [
    {
     "name": "stdout",
     "output_type": "stream",
     "text": [
      "Assembly Bill No. 1282 (Chapter 807) requires the California Department of Public Health, in consultation with the Behavioral Health Services Oversight and Accountability Commission, to develop and report by December 31, 2026, a statewide strategy addressing the mental health impacts of social media use among children and youth up to age 26. The report must assess both positive and negative effects, identify at-risk and disproportionately impacted groups, recommend ways to strengthen resilience and mental health services, and engage with affected communities and experts. These provisions are set to be repealed on January 1, 2030.\n",
      "['artificial-intelligence', 'california', 'legislation', 'mental-health', 'social-media', 'youth', 'public-health', 'policy', 'resilience']\n"
     ]
    }
   ],
   "source": [
    "bill = \"AB1282\"\n",
    "aiBillsSummaries[period][bill] = addSummaries(period, bill)"
   ]
  },
  {
   "cell_type": "code",
   "execution_count": 204,
   "id": "08493798",
   "metadata": {},
   "outputs": [
    {
     "name": "stdout",
     "output_type": "stream",
     "text": [
      "Assembly Bill No. 1526 (Chapter 848), approved October 13, 2023, makes a series of updates to California's Public Resources Code relating to public resources, waste management, and environmental protection. Key changes include extending reporting deadlines for the Underground Injection Control Program and studies on emissions from idle and abandoned wells; authorizing waivers for certain timber conversion exemptions; and revising the Plastic Pollution Prevention and Packaging Producer Responsibility Act to clarify definitions, expand requirements for producer responsibility plans (including arrangements for recycling materials not collected curbside), and recast the plastic pollution surcharge as the 'environmental mitigation surcharge' with updated collection procedures. The bill also brings aerosol coating products under the architectural paint recovery program, with new reporting and regulatory requirements, and allows for regulatory updates to implement these programs. No state reimbursement is required for local agencies, as new costs result from changes to criminal penalties or definitions.\n",
      "['artificial-intelligence', 'california', 'public-resources', 'environmental-policy', 'recycling', 'plastic-pollution', 'waste-management', 'producer-responsibility', 'timber', 'emissions', 'legislation', 'paint-recycling']\n"
     ]
    }
   ],
   "source": [
    "bill = \"AB1526\"\n",
    "aiBillsSummaries[period][bill] = addSummaries(period, bill)"
   ]
  },
  {
   "cell_type": "code",
   "execution_count": 208,
   "id": "64d2db4d",
   "metadata": {},
   "outputs": [
    {
     "name": "stdout",
     "output_type": "stream",
     "text": [
      "California Assembly Bill No. 1791, introduced by Assembly Member Weber, proposes new rules for social media platforms regarding digital content provenance starting January 1, 2028. The bill requires platforms to automatically redact 'personal provenance data'—information that could identify or be associated with users—from uploaded content, except where users give explicit, informed consent or when the data is copyright management information. Platforms are prohibited from redacting 'system provenance data' (non-user-identifiable information about content authenticity or the devices used), unless it is technically impossible to separate from personal data, in which case a special label must be attached. Violations would be considered unfair business practices. The bill aims to balance user privacy with the need for digital content authenticity and provenance tracking.\n",
      "['artificial-intelligence', 'california', 'legislation', 'social-media', 'privacy', 'digital-content', 'provenance', 'user-data', 'business-and-professions-code']\n"
     ]
    }
   ],
   "source": [
    "bill = \"AB1791\"\n",
    "aiBillsSummaries[period][bill] = addSummaries(period, bill)"
   ]
  },
  {
   "cell_type": "code",
   "execution_count": 209,
   "id": "9152377e",
   "metadata": {},
   "outputs": [
    {
     "name": "stdout",
     "output_type": "stream",
     "text": [
      "Assembly Bill No. 1754 (Chapter 131), approved on July 27, 2023, is California's annual 'Maintenance of the codes' omnibus legislation. The bill makes a wide range of nonsubstantive, technical, and clarifying amendments to numerous sections across various California codes (including Business and Professions, Civil, Code of Civil Procedure, Corporations, Education, Elections, Evidence, Family, Government, Health and Safety, Labor, Penal, Probate, Public Contract, Public Resources, Public Utilities, Revenue and Taxation, Streets and Highways, Vehicle, Water, and Welfare and Institutions Codes). These changes are recommended by the Legislative Counsel to ensure consistency, accuracy, and up-to-date language across state statutes, but do not make substantive policy changes. The bill also updates cross-references, corrects errors, and aligns terminology, and includes a provision that if any other 2023 act amends the same sections, those amendments will prevail over this bill. The bill does not appropriate funds, require a fiscal committee, or establish a local program.\n",
      "['artificial-intelligence', 'california', 'legislation', 'omnibus', 'technical-amendments', 'state-law', 'legal', 'government', 'codes', '2023']\n"
     ]
    }
   ],
   "source": [
    "bill = \"AB1754\"\n",
    "aiBillsSummaries[period][bill] = addSummaries(period, bill)"
   ]
  },
  {
   "cell_type": "code",
   "execution_count": 210,
   "id": "b1951334",
   "metadata": {},
   "outputs": [
    {
     "name": "stdout",
     "output_type": "stream",
     "text": [
      "Assembly Bill No. 1824 amends the California Consumer Privacy Act (CCPA) to require that when a business transfers a consumer's personal information as part of a merger, acquisition, bankruptcy, or similar transaction, the receiving business must honor any opt-out requests previously made by the consumer to the original business. This ensures that consumers' rights to prevent the sale or sharing of their personal information are maintained even after business ownership changes. The bill also clarifies protections for minors' data and aligns with the intent of the California Privacy Rights Act of 2020. The amendments may be further impacted by the passage and sequencing of related legislation (AB 1949).\n",
      "['artificial-intelligence', 'california-law', 'ccpa', 'privacy', 'consumer-rights', 'data-protection', 'mergers-and-acquisitions', 'minors', 'legislation', '2024']\n"
     ]
    }
   ],
   "source": [
    "bill = \"AB1824\"\n",
    "aiBillsSummaries[period][bill] = addSummaries(period, bill)"
   ]
  },
  {
   "cell_type": "code",
   "execution_count": 211,
   "id": "658464b7",
   "metadata": {},
   "outputs": [
    {
     "name": "stdout",
     "output_type": "stream",
     "text": [
      "Assembly Bill No. 1831 (Chapter 926) amends California Penal Code sections related to child pornography to explicitly include material that is digitally altered or generated by artificial intelligence (AI). The bill expands criminal prohibitions and penalties for the production, distribution, and possession of obscene images that depict, or appear to depict, minors engaging in sexual conduct, regardless of whether a real child was involved, including AI-generated content. It clarifies definitions, enhances punishments for offenses involving government property, and updates the law to address the growing threat posed by AI-generated child sexual abuse material (CSAM). The bill does not require state reimbursement to local agencies for costs incurred due to its enactment and will only become operative if SB 1381 is enacted by January 1, 2025.\n",
      "['artificial-intelligence', 'california-law', 'child-pornography', 'penal-code', 'csam', 'digital-content', 'legal-update', 'criminal-penalties']\n"
     ]
    }
   ],
   "source": [
    "bill = \"AB1831\"\n",
    "aiBillsSummaries[period][bill] = addSummaries(period, bill)"
   ]
  },
  {
   "cell_type": "code",
   "execution_count": 212,
   "id": "a27a35b1",
   "metadata": {},
   "outputs": [
    {
     "name": "stdout",
     "output_type": "stream",
     "text": [
      "Assembly Bill No. 1873, introduced in the California Legislature by Assembly Member Sanchez, amends Section 311.3 of the Penal Code to expand the definition of the crime of sexual exploitation of a child. Under the proposed changes, it would be a misdemeanor or felony to knowingly develop, duplicate, print, or exchange any representation, data, or image generated using artificial intelligence that depicts a person under 18 years old engaged in sexual conduct, in addition to existing prohibitions on similar materials produced by other means. The bill specifies definitions for 'artificial intelligence' and 'sexual conduct,' clarifies exemptions for law enforcement, medical, scientific, educational activities, and certain employees, and states that no state reimbursement to local agencies is required, as the bill creates or changes a crime.\n",
      "['artificial-intelligence', 'california', 'child-protection', 'sexual-exploitation', 'law', 'legislation', 'penal-code', 'crime', 'ai-generated-content']\n"
     ]
    }
   ],
   "source": [
    "bill = \"AB1873\"\n",
    "aiBillsSummaries[period][bill] = addSummaries(period, bill)"
   ]
  },
  {
   "cell_type": "code",
   "execution_count": 213,
   "id": "e9512be7",
   "metadata": {},
   "outputs": [
    {
     "name": "stdout",
     "output_type": "stream",
     "text": [
      "Assembly Bill No. 2013 (Chapter 817), approved in California on September 28, 2024, establishes new transparency requirements for developers of generative artificial intelligence (AI) systems or services made available to Californians. Starting January 1, 2026, and for any substantial modifications to such systems released after January 1, 2022, developers must publicly post detailed documentation on their websites about the data used to train these AI systems. This includes high-level summaries of datasets, data sources, data types, whether datasets contain copyrighted or personal information, and information about synthetic data use, among other details. Certain AI systems, such as those solely for security, integrity, aircraft operation, or national defense, are exempt from these requirements.\n",
      "['artificial-intelligence', 'california', 'transparency', 'generative-ai', 'training-data', 'legislation', 'data-disclosure', 'tech-policy']\n"
     ]
    }
   ],
   "source": [
    "bill = \"AB2013\"\n",
    "aiBillsSummaries[period][bill] = addSummaries(period, bill)"
   ]
  },
  {
   "cell_type": "code",
   "execution_count": 214,
   "id": "03aebbb2",
   "metadata": {},
   "outputs": [
    {
     "name": "stdout",
     "output_type": "stream",
     "text": [
      "California Assembly Bill No. 2058, introduced by Assembly Member Weber, requires that starting January 1, 2027, any device that collects or analyzes physiological data (such as heartbeat, blood pressure, or body temperature) and is not regulated by federal law must include a clear disclosure on its product, packaging, or user materials. This disclosure must specify any known limitations in the device’s effectiveness for its intended population based on characteristics like age, color, disability, ethnicity, gender, or race. The bill, which amends the Health and Safety Code to enhance public health transparency, also clarifies that no state reimbursement is required because it only creates or changes crimes or infractions.\n",
      "['artificial-intelligence', 'california', 'legislation', 'public-health', 'medical-devices', 'device-disclosures', 'bias', 'transparency', 'regulation', 'law']\n"
     ]
    }
   ],
   "source": [
    "bill = \"AB2058\"\n",
    "aiBillsSummaries[period][bill] = addSummaries(period, bill)"
   ]
  },
  {
   "cell_type": "code",
   "execution_count": 215,
   "id": "90b630ad",
   "metadata": {},
   "outputs": [
    {
     "name": "stdout",
     "output_type": "stream",
     "text": [
      "Assembly Bill No. 2020 (Survivors of Human Trafficking Support Act), approved in September 2024, requires the California Commission on Peace Officer Standards and Training to develop guidelines by June 2026 for law enforcement interactions with human trafficking survivors. By December 2026, all law enforcement agencies must adopt written policies based on these guidelines, ensuring survivors are informed of their right to have an advocate present, receive culturally appropriate referrals, and are supported throughout legal processes. The bill mandates collaboration with community organizations and provides for state reimbursement to local agencies for any mandated costs.\n",
      "['artificial-intelligence', 'california', 'human-trafficking', 'law-enforcement', 'survivor-support', 'legislation', 'advocacy', 'social-services', 'community-collaboration', 'policy']\n"
     ]
    }
   ],
   "source": [
    "bill = \"AB2200\"\n",
    "aiBillsSummaries[period][bill] = addSummaries(period, bill)"
   ]
  },
  {
   "cell_type": "code",
   "execution_count": 216,
   "id": "badbb0b7",
   "metadata": {},
   "outputs": [
    {
     "name": "stdout",
     "output_type": "stream",
     "text": [
      "Assembly Bill No. 2355 (Chapter 260), approved in September 2024, amends the Political Reform Act of 1974 to require that any qualified political advertisement in California that is generated or substantially altered using artificial intelligence (AI) must include a clear disclosure stating it was created or altered by AI. The bill defines what constitutes AI-generated or altered content and provides detailed requirements for how the disclosure should appear across different media formats (radio, video, print, electronic, etc.). Enforcement is managed by the Fair Political Practices Commission, which can seek injunctive relief or other administrative or civil remedies for non-compliance, though violations are not misdemeanors. The law aims to increase transparency around political ads that use AI, ensuring voters are informed when content may not be authentic.\n",
      "['artificial-intelligence', 'california', 'political-advertising', 'disclosure', 'legislation', 'elections', 'transparency', 'government-code', 'fair-political-practices-commission']\n"
     ]
    }
   ],
   "source": [
    "bill = \"AB2355\"\n",
    "aiBillsSummaries[period][bill] = addSummaries(period, bill)"
   ]
  },
  {
   "cell_type": "code",
   "execution_count": 217,
   "id": "37538992",
   "metadata": {},
   "outputs": [
    {
     "name": "stdout",
     "output_type": "stream",
     "text": [
      "Assembly Bill No. 2370, approved in July 2024, amends the California Education Code to require that the instructor of record for any community college course must meet the established minimum or alternative minimum qualifications for faculty, whether teaching credit or noncredit instruction. This ensures that only properly qualified individuals serve as the official instructor for community college courses, aligning with existing standards set by the Board of Governors of the California Community Colleges.\n",
      "['artificial-intelligence', 'california', 'community-colleges', 'faculty-qualifications', 'education', 'legislation', 'instructor-of-record']\n"
     ]
    }
   ],
   "source": [
    "bill = \"AB2370\"\n",
    "aiBillsSummaries[period][bill] = addSummaries(period, bill)"
   ]
  },
  {
   "cell_type": "code",
   "execution_count": 218,
   "id": "9058c001",
   "metadata": {},
   "outputs": [
    {
     "name": "stdout",
     "output_type": "stream",
     "text": [
      "Assembly Bill 2412, introduced by Assembly Member Reyes, establishes the California Body Contouring Practitioner Act to regulate noninvasive, nonmedical body contouring services in California. The bill creates the California Body Contouring Council to oversee certification, permitting, education, and enforcement for practitioners and businesses. It sets up a standardized, physician-approved 200-hour online training course, annual continuing education, and requires background checks, annual permit renewals, and adherence to ethical and safety standards. The council will maintain a public registry, handle consumer complaints, and enforce strict advertising rules, while prohibiting the use of medical devices or practices outside the noninvasive scope. The act aims to provide consumer protection, standardized training, and job opportunities in a growing industry, including instruction on legal business practices and the use of artificial intelligence in client communication.\n",
      "['artificial-intelligence', 'california-legislation', 'body-contouring', 'professional-regulation', 'consumer-protection', 'online-education', 'certification', 'business-licensing', 'health-and-safety', 'noninvasive-treatments']\n"
     ]
    }
   ],
   "source": [
    "bill = \"AB2412\"\n",
    "aiBillsSummaries[period][bill] = addSummaries(period, bill)"
   ]
  },
  {
   "cell_type": "code",
   "execution_count": 220,
   "id": "c1b5637e",
   "metadata": {},
   "outputs": [
    {
     "name": "stdout",
     "output_type": "stream",
     "text": [
      "Assembly Bill 2512, introduced by Jim Patterson in the California Legislature, amends the Public Utilities Code to expand the definition of 'automatic dialing-announcing device' to include calls made using artificial voices, including those generated or simulated by artificial intelligence. This change gives the Public Utilities Commission authority to regulate such calls, treating violations as crimes, but specifies that no state reimbursement is required for local agencies or school districts affected by the new requirements, as they relate to changes in criminal law.\n",
      "['artificial-intelligence', 'california', 'legislation', 'telecommunications', 'robocalls', 'public-utilities', 'law', 'assembly-bill', 'regulation', 'crime']\n"
     ]
    }
   ],
   "source": [
    "bill = \"AB2512\"\n",
    "aiBillsSummaries[period][bill] = addSummaries(period, bill)"
   ]
  },
  {
   "cell_type": "code",
   "execution_count": 221,
   "id": "bd79ec23",
   "metadata": {},
   "outputs": [
    {
     "name": "stdout",
     "output_type": "stream",
     "text": [
      "Assembly Bill No. 2602 (Chapter 259), effective January 1, 2025, amends California's Labor Code to address contracts involving the use of digital replicas—highly realistic, computer-generated representations of an individual's voice or likeness—in personal or professional services. The bill makes certain contract provisions unenforceable if they allow for a digital replica to replace work the individual would otherwise perform, unless the contract includes a specific description of intended uses, the individual is represented by legal counsel or a labor union, or the terms are clearly stated and agreed upon. The law aims to protect individuals from unauthorized or vaguely defined uses of their digital likeness in employment agreements, without affecting other unrelated contract provisions or existing exclusivity clauses.\n",
      "['artificial-intelligence', 'california-law', 'labor-code', 'digital-replica', 'employment', 'contracts', 'likeness-rights', 'entertainment-industry', 'personal-services']\n"
     ]
    }
   ],
   "source": [
    "bill = \"AB2602\"\n",
    "aiBillsSummaries[period][bill] = addSummaries(period, bill)"
   ]
  },
  {
   "cell_type": "code",
   "execution_count": 223,
   "id": "1a0084ab",
   "metadata": {},
   "outputs": [
    {
     "name": "stdout",
     "output_type": "stream",
     "text": [
      "California Assembly Bill 2652, introduced by Assembly Member Muratsuchi, would require the Superintendent of Public Instruction, in consultation with the State Board of Education, to convene a diverse working group to assess and guide the use of artificial intelligence (AI) in public schools. The group would identify AI's benefits and risks, develop guidance on safe and effective AI use (including issues like academic integrity, data privacy, and equitable access), and create a model policy for local educational agencies and charter schools by July 2026. The bill also mandates stakeholder input, public meetings, and a final report to the Legislature, with implementation dependent on legislative funding.\n",
      "['artificial-intelligence', 'california', 'education', 'public-schools', 'legislation', 'policy', 'data-privacy', 'equity', 'guidance', 'model-policy']\n"
     ]
    }
   ],
   "source": [
    "bill = \"AB2652\"\n",
    "aiBillsSummaries[period][bill] = addSummaries(period, bill)"
   ]
  },
  {
   "cell_type": "code",
   "execution_count": 224,
   "id": "53cfc72d",
   "metadata": {},
   "outputs": [
    {
     "name": "stdout",
     "output_type": "stream",
     "text": [
      "Assembly Bill No. 2655, the Defending Democracy from Deepfake Deception Act of 2024, requires large online platforms in California to block or label materially deceptive, AI-generated audio or visual content (such as deepfakes) related to elections during specified periods before and after elections. The bill mandates platforms to implement procedures for identifying and removing or labeling deceptive content, provide a way for California residents to report such content, and respond within set timeframes. Candidates, election officials, and certain government attorneys may seek court orders against non-compliant platforms, and these legal actions are given priority. The act exempts bona fide news outlets, broadcasters following specific guidelines, and content that is satire or parody. The law is intended to protect California elections from AI-powered disinformation, with provisions expiring in 2027 unless extended.\n",
      "['artificial-intelligence', 'elections', 'california', 'deepfakes', 'online-platforms', 'disinformation', 'social-media', 'law', 'content-moderation', 'legal-compliance']\n"
     ]
    }
   ],
   "source": [
    "bill = \"AB2655\"\n",
    "aiBillsSummaries[period][bill] = addSummaries(period, bill)"
   ]
  },
  {
   "cell_type": "code",
   "execution_count": 225,
   "id": "eb89a39c",
   "metadata": {},
   "outputs": [
    {
     "name": "stdout",
     "output_type": "stream",
     "text": [
      "California Assembly Bill 2811, introduced by Assembly Member Lowenthal and amended in March 2024, would require attorneys filing documents in state or federal courts within California to execute and maintain for seven years an affidavit certifying whether generative artificial intelligence was used in drafting each document. Upon a court’s request, attorneys must file this affidavit, which must indicate if AI was used and, if so, confirm that all AI-generated content was reviewed and approved by a human. The bill defines 'generative artificial intelligence' and aims to increase transparency and accountability in legal filings involving AI tools.\n",
      "['artificial-intelligence', 'california', 'legislation', 'attorneys', 'court-filings', 'legal-profession', 'compliance', 'affidavit', 'generative-ai']\n"
     ]
    }
   ],
   "source": [
    "bill = \"AB2811\"\n",
    "aiBillsSummaries[period][bill] = addSummaries(period, bill)"
   ]
  },
  {
   "cell_type": "code",
   "execution_count": 226,
   "id": "a33d117d",
   "metadata": {},
   "outputs": [
    {
     "name": "stdout",
     "output_type": "stream",
     "text": [
      "Assembly Bill 2839 (Chapter 262), effective immediately, amends California law to combat election disinformation by prohibiting the knowing and malicious distribution of materially deceptive content—including AI-generated deepfakes—in election advertisements and communications within 120 days before, and in some cases 60 days after, an election. The bill targets false portrayals of candidates, election officials, and election infrastructure that could harm reputations or undermine confidence in election outcomes, unless such content is clearly disclosed as manipulated, satirical, or parodic. Exemptions apply to bona fide news, certain publications, and platforms not responsible for originating the content. Violators can face civil actions for injunctions and damages, with expedited court proceedings, as California prepares for AI-driven threats to electoral integrity in the 2024 elections.\n",
      "['artificial-intelligence,elections,deepfakes,disinformation,california-law,media-regulation,civil-procedure,urgent-legislation']\n"
     ]
    }
   ],
   "source": [
    "bill = \"AB2839\"\n",
    "aiBillsSummaries[period][bill] = addSummaries(period, bill)"
   ]
  },
  {
   "cell_type": "code",
   "execution_count": 244,
   "id": "5d9a7b7c",
   "metadata": {},
   "outputs": [
    {
     "name": "stdout",
     "output_type": "stream",
     "text": [
      "Assembly Bill No. 2876 (Chapter 927), approved on September 29, 2024, amends Section 33548 of the California Education Code to require the Instructional Quality Commission to consider including media literacy and artificial intelligence (AI) literacy content in the evaluation criteria for instructional materials and curriculum frameworks for English language arts/English language development (ELA/ELD), mathematics, science, and history-social science. The bill defines 'media literacy' as the ability to access, analyze, evaluate, and use media and information, and 'AI literacy' as understanding how artificial intelligence works, its applications, limitations, implications, and ethical considerations. These requirements apply to the next revisions and adoptions of relevant curriculum frameworks and instructional materials after January 1, 2024 (for media literacy) and January 1, 2025 (for AI literacy).\n",
      "['artificial-intelligence', 'media-literacy', 'education', 'curriculum', 'california', 'instructional-materials', 'legislation', 'digital-citizenship']\n"
     ]
    }
   ],
   "source": [
    "bill = \"AB2876\"\n",
    "aiBillsSummaries[period][bill] = addSummaries(period, bill)"
   ]
  },
  {
   "cell_type": "code",
   "execution_count": 246,
   "id": "8276c25b",
   "metadata": {},
   "outputs": [
    {
     "name": "stdout",
     "output_type": "stream",
     "text": [
      "Assembly Bill 2877, introduced by Assembly Member Bauer-Kahan in the 2023–2024 California legislative session, amends the California Consumer Privacy Act (CCPA) and related statutes to prohibit developers from using the personal information of consumers under 16 years old to train or fine-tune artificial intelligence (AI) systems or services unless affirmative authorization is obtained from the consumer or their parent/guardian. If such authorization is granted, the information must be deidentified and aggregated before use. Exceptions apply for imminent threats to the consumer’s physical health or safety, provided the information is deidentified and aggregated. The bill further clarifies definitions related to AI, training, and fine-tuning, and affirms that its provisions support the intent of the California Privacy Rights Act of 2020.\n",
      "['artificial-intelligence', 'california-law', 'privacy', 'consumer-protection', 'data-protection', 'children', 'legislation']\n"
     ]
    }
   ],
   "source": [
    "bill = \"AB2877\"\n",
    "aiBillsSummaries[period][bill] = addSummaries(period, bill)"
   ]
  },
  {
   "cell_type": "code",
   "execution_count": 247,
   "id": "ccc2fee8",
   "metadata": {},
   "outputs": [
    {
     "name": "stdout",
     "output_type": "stream",
     "text": [
      "Assembly Bill No. 2885 (Chapter 843), approved in September 2024, amends several California codes to define 'artificial intelligence' (AI) for legal and regulatory purposes as machine-based systems capable of influencing environments based on input. The bill updates regulations related to government oversight of high-risk automated decision systems, reporting on the impact of automation and AI on jobs, and responses to deepfakes and digital content forgery. It also ensures that local agencies and social media companies provide transparency about AI's role in decision-making, economic development, and content moderation, and requires government agencies to inventory and report on their use of high-risk AI systems. The legislation aims to address privacy, legal, and social implications of AI and related technologies across state government, business, education, and public reporting.\n",
      "['artificial-intelligence', 'california-law', 'deepfakes', 'automation', 'government-oversight', 'economic-development', 'content-moderation', 'privacy', 'job-impact']\n"
     ]
    }
   ],
   "source": [
    "bill = \"AB2885\"\n",
    "aiBillsSummaries[period][bill] = addSummaries(period, bill)"
   ]
  },
  {
   "cell_type": "code",
   "execution_count": 248,
   "id": "7a2f41d6",
   "metadata": {},
   "outputs": [
    {
     "name": "stdout",
     "output_type": "stream",
     "text": [
      "Assembly Bill No. 2905 (Chapter 316) amends Section 2874 of the California Public Utilities Code to require that, when using automatic dialing-announcing devices for telephone calls, callers must inform recipients if any prerecorded message uses an artificial voice generated or significantly altered by artificial intelligence. The bill maintains existing requirements for an initial natural voice announcement stating the nature of the call, the caller’s business information, and obtaining consent before playing a prerecorded message. Violations of these requirements remain a crime, but the bill specifies that no state reimbursement to local agencies is needed since any costs arise from the creation or modification of a crime.\n",
      "['artificial-intelligence', 'telecommunications', 'automatic-dialing', 'public-utilities-code', 'california', 'legislation', 'artificial-voice', 'consumer-protection']\n"
     ]
    }
   ],
   "source": [
    "bill = \"AB2905\"\n",
    "aiBillsSummaries[period][bill] = addSummaries(period, bill)"
   ]
  },
  {
   "cell_type": "code",
   "execution_count": 280,
   "id": "b0ca11a6",
   "metadata": {},
   "outputs": [
    {
     "name": "stdout",
     "output_type": "stream",
     "text": [
      "Assembly Bill No. 2928, introduced in the California Legislature's 2023–2024 session, amends the Budget Act of 2022 to revise appropriations for the 2022–23 fiscal year, with immediate effect as a budget bill. The bill details a comprehensive allocation of state funds across a wide range of sectors, including parks and open space, education, public safety, water and infrastructure, libraries and cultural institutions, transportation, housing and homelessness prevention, health and human services, veterans, community services, general government, and labor. Notable appropriations include funding for community centers, park improvements, wildfire prevention, affordable housing, workforce development, transportation projects, health clinics, and support for vulnerable populations. The bill also updates funding for the Lockeford Community Services District to include both a restroom and a community center, and includes appropriations for technology, mental health, arts, and artificial intelligence initiatives.\n",
      "['artificial-intelligence', 'california', 'budget', 'appropriations', 'parks', 'education', 'public-safety', 'infrastructure', 'libraries', 'transportation', 'housing', 'homelessness', 'health', 'veterans', 'community-services', 'government', 'labor']\n"
     ]
    }
   ],
   "source": [
    "bill = \"AB2928\"\n",
    "aiBillsSummaries[period][bill] = addSummaries(period, bill)"
   ]
  },
  {
   "cell_type": "code",
   "execution_count": 281,
   "id": "c7c52015",
   "metadata": {},
   "outputs": [
    {
     "name": "stdout",
     "output_type": "stream",
     "text": [
      "Assembly Bill 2930, introduced by Assembly Member Bauer-Kahan, would require developers and deployers of automated decision systems (including AI) used to make significant decisions about individuals in California to conduct and submit annual impact assessments analyzing risks of algorithmic discrimination. The bill mandates transparency, notice, and explanation requirements for individuals affected by such systems, and provides opportunities to correct data or opt for alternative processes where feasible. It prohibits use or distribution of these systems if risks of discrimination are identified and not mitigated, and establishes governance, documentation, and public policy requirements for organizations. The Civil Rights Department is empowered to investigate violations, enforce compliance, and seek penalties of up to $25,000 per violation involving algorithmic discrimination. The bill exempts trade secrets in impact assessments from public disclosure and does not apply to small entities unless their systems impact over 999 people annually.\n",
      "['artificial-intelligence', 'california', 'legislation', 'algorithmic-discrimination', 'civil-rights', 'data-privacy', 'employment-law', 'automated-decision-systems']\n"
     ]
    }
   ],
   "source": [
    "bill = \"AB2930\"\n",
    "aiBillsSummaries[period][bill] = addSummaries(period, bill)"
   ]
  },
  {
   "cell_type": "code",
   "execution_count": 282,
   "id": "16e5c3a2",
   "metadata": {},
   "outputs": [
    {
     "name": "stdout",
     "output_type": "stream",
     "text": [
      "Assembly Bill No. 3030 (Chapter 848) requires California health facilities, clinics, and physicians' offices that use generative artificial intelligence (AI) to create written or verbal communications about patient clinical information to include a clear disclaimer indicating the communication was AI-generated and to provide instructions for contacting a human health care provider. These requirements do not apply if a licensed or certified provider reviews the AI-generated message. Violations are subject to enforcement by the appropriate regulatory boards, and the bill specifically excludes administrative communications like scheduling or billing from these rules.\n",
      "['artificial-intelligence', 'health-care', 'california-law', 'patient-communications', 'medical-regulation', 'generative-ai', 'disclaimer-requirement']\n"
     ]
    }
   ],
   "source": [
    "bill = \"AB3030\"\n",
    "aiBillsSummaries[period][bill] = addSummaries(period, bill)"
   ]
  },
  {
   "cell_type": "code",
   "execution_count": 283,
   "id": "3846b497",
   "metadata": {},
   "outputs": [
    {
     "name": "stdout",
     "output_type": "stream",
     "text": [
      "Assembly Bill 3050, introduced in California's 2023–2024 legislative session by Assembly Member Low, seeks to regulate AI-generated content by requiring the Department of Technology to establish standards for watermarks on certain AI-generated materials, including those that impersonate individuals or are represented as original works. The bill mandates that AI-generating entities must include digital content provenance in these watermarks and prohibits the creation of covered AI-generated material without compliant watermarks, enforceable one year after regulations are issued. Additionally, the bill holds entities or individuals liable for damages if they create deepfakes using a person's likeness without consent and imposes civil penalties of $250–$500 for violations.\n",
      "['artificial-intelligence', 'california', 'legislation', 'deepfake', 'watermarking', 'digital-content', 'privacy', 'regulation']\n"
     ]
    }
   ],
   "source": [
    "bill = \"AB3050\"\n",
    "aiBillsSummaries[period][bill] = addSummaries(period, bill)"
   ]
  },
  {
   "cell_type": "code",
   "execution_count": 284,
   "id": "01c069d4",
   "metadata": {},
   "outputs": [
    {
     "name": "stdout",
     "output_type": "stream",
     "text": [
      "Assembly Bill No. 3058, introduced by Assembly Member Low, proposes the California Unconditional Benefit Income (CalUBI) Pilot Program to provide $1,000 per month for 12 months to individuals who become unemployed due to automation or artificial intelligence, after they have exhausted their regular unemployment benefits. The program, administered by the Employment Development Department and effective until January 1, 2029, is not considered taxable income, does not affect eligibility for other state programs, and requires the department to report policy recommendations to the Legislature based on the program's outcomes. The bill aims to ensure economic stability for Californians displaced by technological advancements.\n",
      "['artificial-intelligence', 'california', 'unemployment', 'ubi', 'automation', 'pilot-program', 'legislation', 'economic-security']\n"
     ]
    }
   ],
   "source": [
    "bill = \"AB3058\"\n",
    "aiBillsSummaries[period][bill] = addSummaries(period, bill)"
   ]
  },
  {
   "cell_type": "code",
   "execution_count": 285,
   "id": "bd79fce3",
   "metadata": {},
   "outputs": [
    {
     "name": "stdout",
     "output_type": "stream",
     "text": [
      "Assembly Bill No. 3095, introduced by Assembly Member Waldron in the 2023–2024 California legislative session, expresses the Legislature's intent to enact future legislation related to artificial intelligence. The bill references the existing Department of Technology within the Government Operations Agency, which oversees state information technology policy, but does not propose any specific measures or mandates at this stage.\n",
      "['artificial-intelligence', 'california-legislation', 'technology-policy', 'department-of-technology', 'ab-3095', 'waldron', '2024']\n"
     ]
    }
   ],
   "source": [
    "bill = \"AB3095\"\n",
    "aiBillsSummaries[period][bill] = addSummaries(period, bill)"
   ]
  },
  {
   "cell_type": "code",
   "execution_count": 286,
   "id": "b71d8382",
   "metadata": {},
   "outputs": [
    {
     "name": "stdout",
     "output_type": "stream",
     "text": [
      "Assembly Bill 3204, known as the Digesters Registration Act, would require any entity in California that designs, codes, produces, or substantially modifies artificial intelligence (AI) systems or services using the personal data of 1,000 or more individuals or households to register annually with the California Privacy Protection Agency. Registrants must provide detailed information about the types of personal and sensitive data used for AI training, disclose if minors' data is involved, and indicate any regulation under other privacy laws. The Agency will maintain a public registry, collect fees, and impose fines for noncompliance, with all proceeds funding enforcement and administration. The Act does not override existing privacy laws and becomes operative on February 1, 2025.\n",
      "['artificial-intelligence', 'california', 'privacy', 'data-protection', 'legislation', 'consumer-rights', 'registration', 'ccpa', 'cpra']\n"
     ]
    }
   ],
   "source": [
    "bill = \"AB3204\"\n",
    "aiBillsSummaries[period][bill] = addSummaries(period, bill)"
   ]
  },
  {
   "cell_type": "code",
   "execution_count": 287,
   "id": "e15a0651",
   "metadata": {},
   "outputs": [
    {
     "name": "stdout",
     "output_type": "stream",
     "text": [
      "California Assembly Bill 3211, introduced by Assembly Member Wicks, establishes the California Digital Content Provenance Standards to address the risks posed by generative AI technologies creating synthetic media (deepfakes). Effective July 1, 2026, the bill requires generative AI providers to embed difficult-to-remove provenance data in AI-generated or significantly modified content, conduct adversarial testing, and provide public provenance detection tools. It prohibits the creation or distribution of tools primarily intended to remove provenance data. Newly manufactured recording devices in California must offer users the option to embed provenance data in authentic (nonsynthetic) content. Large online platforms must label synthetic content and disclose provenance information, labeling content with unknown origins when necessary, and publish annual transparency reports on synthetic content moderation. The Department of Technology is authorized to enforce compliance with administrative penalties up to $100,000 per intentional or grossly negligent violation, with collected penalties funding enforcement efforts.\n",
      "['artificial-intelligence', 'deepfakes', 'digital-content', 'provenance', 'california-legislation', 'online-platforms', 'transparency', 'consumer-protection', 'recording-devices']\n"
     ]
    }
   ],
   "source": [
    "bill = \"AB3211\"\n",
    "aiBillsSummaries[period][bill] = addSummaries(period, bill)"
   ]
  },
  {
   "cell_type": "code",
   "execution_count": 288,
   "id": "f7c43200",
   "metadata": {},
   "outputs": [
    {
     "name": "stdout",
     "output_type": "stream",
     "text": [
      "Assembly Concurrent Resolution No. 96, introduced by Assembly Member Hoover in June 2023, expresses the California Legislature's support for the 23 Asilomar AI Principles as guiding values for the development and regulation of artificial intelligence. These principles, developed by experts in 2017, emphasize the creation of beneficial and robust AI, ethical alignment with human values, transparency, safety, privacy, shared benefit, and caution regarding future AI capabilities and risks. The resolution highlights AI's growing impact across various sectors and calls for responsible advancement to ensure AI benefits society as a whole.\n",
      "['artificial-intelligence', 'california-legislature', 'asilomar-ai-principles', 'public-policy', 'ethics', 'ai-safety', 'ai-governance']\n"
     ]
    }
   ],
   "source": [
    "bill = \"ACR96\"\n",
    "aiBillsSummaries[period][bill] = addSummaries(period, bill)"
   ]
  },
  {
   "cell_type": "code",
   "execution_count": 289,
   "id": "9402bf5c",
   "metadata": {},
   "outputs": [
    {
     "name": "stdout",
     "output_type": "stream",
     "text": [
      "California Assembly Concurrent Resolution No. 219, introduced by Assembly Member Lowenthal in June 2024, urges social media platforms to adopt and protect a comprehensive set of user rights known as the California Social Media Users’ Bill of Rights. The resolution highlights the societal and individual harms caused by unregulated social media, especially to children, and calls for platforms to take responsibility in areas such as preventing harmful content, protecting privacy (particularly for minors), ensuring accurate election information, providing transparent policies and user control, prohibiting unauthorized use of user data for AI training, and collaborating with experts to mitigate algorithmic harms. The measure emphasizes civic duty over mere legal compliance and seeks to balance free speech with the need to reduce abuse, disinformation, and exploitation online.\n",
      "['artificial-intelligence', 'california-legislation', 'social-media', 'user-rights', 'privacy', 'child-protection', 'content-moderation', 'election-integrity', 'algorithmic-transparency', 'data-portability']\n"
     ]
    }
   ],
   "source": [
    "bill = \"ACR219\"\n",
    "aiBillsSummaries[period][bill] = addSummaries(period, bill)"
   ]
  },
  {
   "cell_type": "code",
   "execution_count": 290,
   "id": "21ddb261",
   "metadata": {},
   "outputs": [
    {
     "name": "stdout",
     "output_type": "stream",
     "text": [
      "Assembly Concurrent Resolution No. 227, filed August 23, 2024, recognizes and commends the organization Women in Animation for their efforts in closing the gender gap within the animation industry. The resolution highlights the significant cultural, economic, and social impact of animation in California, acknowledges challenges posed by emerging technologies like artificial intelligence, and notes declining opportunities for artists. It emphasizes the importance of supporting California's artists and credits Women in Animation for providing mentorship, scholarships, and networking to advance gender equity and representation in creative roles.\n",
      "['artificial-intelligence', 'women-in-animation', 'gender-equity', 'animation', 'california-legislature', 'creative-industries', 'professional-development', 'entertainment-industry']\n"
     ]
    }
   ],
   "source": [
    "bill = \"ACR227\"\n",
    "aiBillsSummaries[period][bill] = addSummaries(period, bill)"
   ]
  },
  {
   "cell_type": "code",
   "execution_count": 291,
   "id": "4a5cced3",
   "metadata": {},
   "outputs": [
    {
     "name": "stdout",
     "output_type": "stream",
     "text": [
      "California Assembly Joint Resolution No. 6, introduced by Assembly Member Essayli in May 2023, urges the United States government to immediately pause the training of artificial intelligence systems more powerful than GPT-4 for at least six months. The resolution highlights concerns about the risks posed by advanced AI, including societal disruption, loss of control, and the need for robust governance and safety protocols. It calls for the development of regulatory frameworks, independent oversight, and technical safeguards before allowing further advancement in AI capabilities, emphasizing that decisions about AI's future should not be left solely to tech leaders but involve careful, democratic planning.\n",
      "['artificial-intelligence', 'legislation', 'california', 'ai-governance', 'moratorium', 'ai-safety', 'gpt-4', 'technology-policy']\n"
     ]
    }
   ],
   "source": [
    "bill = \"AJR6\"\n",
    "aiBillsSummaries[period][bill] = addSummaries(period, bill)"
   ]
  },
  {
   "cell_type": "code",
   "execution_count": 292,
   "id": "591409ab",
   "metadata": {},
   "outputs": [
    {
     "name": "stdout",
     "output_type": "stream",
     "text": [
      "Senate Bill 100, introduced by Senator Skinner, amends the California Budget Acts of 2021 and 2022 to revise and expand appropriations across a broad range of state priorities, including workforce and economic development, transportation, health and human services, parks and recreation, housing and homelessness, fire and public safety, education, arts and culture, and infrastructure. The bill details hundreds of specific funding allocations to cities, counties, nonprofits, and state agencies for projects such as community centers, mental health and substance use programs, park and trail improvements, public safety equipment, affordable housing, library upgrades, and environmental initiatives. It also updates administrative provisions for certain programs, authorizes immediate appropriations, and specifies the effective dates and reporting requirements for various grants and projects, ensuring rapid deployment of funds to address urgent community and state needs.\n",
      "['artificial-intelligence', 'california', 'state-budget', 'appropriations', 'public-health', 'infrastructure', 'parks-and-recreation', 'housing', 'homelessness', 'public-safety', 'education', 'transportation', 'environment', 'arts-and-culture', 'senate-bill-100']\n"
     ]
    }
   ],
   "source": [
    "bill = \"SB100\"\n",
    "aiBillsSummaries[period][bill] = addSummaries(period, bill)"
   ]
  },
  {
   "cell_type": "code",
   "execution_count": 295,
   "id": "ed76016c",
   "metadata": {},
   "outputs": [
    {
     "name": "stdout",
     "output_type": "stream",
     "text": [
      "SB 103, as amended in June 2023, is a California budget bill that makes immediate changes to the Budget Acts of 2021 and 2022, adjusting appropriations and allocations for a wide range of state programs and agencies. The bill covers amendments to education funding (including K-12, higher education, and special education), judiciary and public safety, energy and environmental programs, corrections and reentry services, health and human services, parks, transportation, housing, and local government support. It details specific funding amounts, program requirements, reporting obligations, and timelines for expenditures, and incorporates numerous legislative priorities and technical corrections. The bill is effective immediately and is part of the state’s ongoing budget process.\n",
      "['artificial-intelligence', 'california-budget', 'state-legislation', 'appropriations', 'education-funding', 'public-safety', 'energy-policy', 'environment', 'health-services', 'housing', 'infrastructure', 'judiciary', 'transportation', 'social-services']\n"
     ]
    }
   ],
   "source": [
    "bill = \"SB103\"\n",
    "aiBillsSummaries[period][bill] = addSummaries(period, bill)"
   ]
  },
  {
   "cell_type": "code",
   "execution_count": 296,
   "id": "1d5b6e01",
   "metadata": {},
   "outputs": [
    {
     "name": "stdout",
     "output_type": "stream",
     "text": [
      "Senate Bill No. 104 (Chapter 189), approved September 13, 2023, amends the California Budget Acts of 2022 and 2023 to allocate, reappropriate, and adjust funding across a wide range of state government priorities for fiscal years 2022–23 and 2023–24. The bill authorizes immediate appropriations and detailed funding for numerous projects and programs in areas such as parks and open space, education, public safety, water and infrastructure, libraries and cultural institutions, transportation, housing and homelessness, health and human services, veterans services, community initiatives, and labor and workforce development. It provides specific grants and funding directives to state agencies, local governments, nonprofit organizations, and educational institutions, with an emphasis on flexibility, expedited contracting, and advanced lump sum payments to facilitate implementation. The bill also includes numerous administrative and reporting provisions, and clarifies the legal status of related appropriations bills. The act takes effect immediately as a budget bill.\n",
      "['artificial-intelligence', 'california-budget', 'state-legislation', 'appropriations', 'public-safety', 'education', 'infrastructure', 'healthcare', 'housing', 'transportation', 'environment', 'social-services', 'community-development', 'veterans', 'labor']\n"
     ]
    }
   ],
   "source": [
    "bill = \"SB104\"\n",
    "aiBillsSummaries[period][bill] = addSummaries(period, bill)"
   ]
  },
  {
   "cell_type": "code",
   "execution_count": 297,
   "id": "206303ac",
   "metadata": {},
   "outputs": [
    {
     "name": "stdout",
     "output_type": "stream",
     "text": [
      "SB 106, introduced by Senator Wiener and amended in April 2024, revises the California Budget Acts of 2022 and 2023 by amending, adding, and repealing numerous appropriations and provisions across a wide range of state programs. The bill allocates and reallocates funding for parks, education, public safety, infrastructure, health and human services, housing, transportation, environmental programs, and more, with detailed line-item grants and project support for local governments, nonprofits, and state agencies. It also adjusts administrative procedures, extends or reverts certain funds, and grants the Department of Finance authority to manage appropriations to address fiscal needs and projected deficits. The act is intended to take effect immediately as a Budget Bill to ensure the continued operation and fiscal management of California's government in the 2023-24 and 2024-25 fiscal years.\n",
      "['artificial-intelligence', 'california-budget', 'legislation', 'appropriations', 'state-government', 'public-funding', 'public-policy', 'fiscal-management', 'senate-bill-106', '2024']\n"
     ]
    }
   ],
   "source": [
    "bill = \"SB106\"\n",
    "aiBillsSummaries[period][bill] = addSummaries(period, bill)"
   ]
  },
  {
   "cell_type": "code",
   "execution_count": 298,
   "id": "17b53c98",
   "metadata": {},
   "outputs": [
    {
     "name": "stdout",
     "output_type": "stream",
     "text": [
      "Senate Bill 107, as amended in the California Assembly on June 10, 2024, enacts the Budget Act of 2024, making appropriations for the support of California state government and various public purposes for the 2024–25 fiscal year. The bill details allocations and authorizations for a wide range of state departments, agencies, and programs, including education, health, transportation, natural resources, public safety, and social services. It provides specific funding for operational costs, capital outlay, grants, and technical adjustments, as well as mechanisms for loans, fund transfers, and reappropriations. The bill also includes provisions for the implementation of new and existing programs, reporting requirements, and oversight measures. Notably, it addresses the use of generative artificial intelligence in government operations, establishes funding for critical infrastructure, housing, climate resilience, public health, and education, and outlines reductions or deferrals in certain areas in response to fiscal constraints. The act is designed to take effect immediately to ensure the continued functioning and fiscal management of California’s government and public services.\n",
      "['artificial-intelligence', 'california-budget', 'state-appropriations', 'public-services', 'education', 'health-care', 'transportation', 'climate', 'fiscal-policy', 'government-operations', 'legislation-2024']\n"
     ]
    }
   ],
   "source": [
    "bill = \"SB107\"\n",
    "aiBillsSummaries[period][bill] = addSummaries(period, bill)"
   ]
  },
  {
   "cell_type": "code",
   "execution_count": 299,
   "id": "1dac38ad",
   "metadata": {},
   "outputs": [
    {
     "name": "stdout",
     "output_type": "stream",
     "text": [
      "Senate Bill 108, approved June 29, 2024, amends the California Budget Act of 2024 by revising, adding, and repealing various appropriations and provisions across state government agencies for the 2024–25 fiscal year. The bill implements immediate budget changes, including reductions in General Fund state operations by up to 7.95%, new and reallocated funding for programs in transportation, health, education, social services, environmental protection, and public safety, and expanded oversight and reporting requirements. Notable provisions include funding for generative artificial intelligence pilot projects, climate and energy initiatives, housing and homelessness programs, higher education enrollment targets, and a mechanism for implementing reparations legislation. The bill also authorizes special fund loans to the General Fund, sets the state appropriations limit, and indexes all appropriations and control sections. This act is designated as a Budget Bill and takes effect immediately.\n",
      "['artificial-intelligence', 'california-budget', 'appropriations', 'state-government', 'fiscal-policy', 'public-services', 'education-funding', 'transportation', 'healthcare', 'environment', 'homelessness', 'higher-education', 'climate-change', 'public-safety', 'reparations', 'special-funds', 'legislation', '2024']\n"
     ]
    }
   ],
   "source": [
    "bill = \"SB108\"\n",
    "aiBillsSummaries[period][bill] = addSummaries(period, bill)"
   ]
  },
  {
   "cell_type": "code",
   "execution_count": 300,
   "id": "f455ab85",
   "metadata": {},
   "outputs": [
    {
     "name": "stdout",
     "output_type": "stream",
     "text": [
      "Senate Bill 158, introduced by Senator Wiener and amended in August 2024, makes numerous changes to California's Budget Acts of 2022 and 2023, including amending, repealing, and appropriating funds across a wide range of sectors. The bill allocates billions of dollars for state government support and specific projects such as parks, open spaces, education, public safety, health and human services, transportation, housing, homelessness prevention, libraries, cultural institutions, water and infrastructure, veterans' services, community initiatives, workforce development, and environmental protection. It also revises funding schedules for energy, conservation, and decarbonization programs, and sets state appropriations and revenue limits. The act is designed to take effect immediately as a budget bill.\n",
      "['artificial-intelligence', 'california-budget', 'state-legislation', 'appropriations', 'public-safety', 'education', 'infrastructure', 'environment', 'health-care', 'housing', 'transportation']\n"
     ]
    }
   ],
   "source": [
    "bill = \"SB158\"\n",
    "aiBillsSummaries[period][bill] = addSummaries(period, bill)"
   ]
  },
  {
   "cell_type": "code",
   "execution_count": 301,
   "id": "567a786e",
   "metadata": {},
   "outputs": [
    {
     "name": "stdout",
     "output_type": "stream",
     "text": [
      "Senate Bill 294, introduced by Senator Wiener and coauthors, amends California law to require that, beginning January 1, 2026, health care service plans and disability insurers automatically submit decisions to deny, modify, or delay mental health or substance use disorder services for individuals up to age 26 to the state's Independent Medical Review (IMR) System, rather than requiring patients to initiate appeals themselves. This process applies to unresolved or upheld grievances and mandates that plans notify affected parties within 24 hours, allowing enrollees or their representatives to cancel the IMR before a determination is made. The bill aims to improve access to mental health care for youth by streamlining appeals, excludes Medi-Cal managed care plans, and authorizes regulatory agencies to issue guidance and regulations for implementation. Regular public reporting on IMR cases is also required.\n",
      "['artificial-intelligence', 'california', 'health-care', 'mental-health', 'youth-services', 'insurance', 'legislation', 'independent-medical-review', 'policy']\n"
     ]
    }
   ],
   "source": [
    "bill = \"SB294\"\n",
    "aiBillsSummaries[period][bill] = addSummaries(period, bill)"
   ]
  },
  {
   "cell_type": "code",
   "execution_count": 302,
   "id": "980e32fe",
   "metadata": {},
   "outputs": [
    {
     "name": "stdout",
     "output_type": "stream",
     "text": [
      "Senate Bill 313, introduced by Senator Dodd in the 2023-2024 California legislative session, proposes the California AI-ware Act, which would create the Office of Artificial Intelligence within the Department of Technology. This office would oversee the design, use, and deployment of AI systems by state agencies to ensure compliance with privacy and civil liberties laws, minimize bias, and promote equity. The bill requires state agencies using generative AI to communicate with individuals to clearly notify users that they are interacting with AI and provide instructions on how to reach a human representative. The legislation emphasizes transparency, fairness, and accountability in government use of AI.\n",
      "['artificial-intelligence', 'california', 'legislation', 'state-government', 'privacy', 'civil-liberties', 'transparency', 'equity', 'public-notice', 'department-of-technology']\n"
     ]
    }
   ],
   "source": [
    "bill = \"SB313\"\n",
    "aiBillsSummaries[period][bill] = addSummaries(period, bill)"
   ]
  },
  {
   "cell_type": "code",
   "execution_count": 303,
   "id": "fbbd25dc",
   "metadata": {},
   "outputs": [
    {
     "name": "stdout",
     "output_type": "stream",
     "text": [
      "Senate Bill 398 (Artificial Intelligence for California Research Act), introduced by Senator Wahab, directs the California Department of Technology to develop and implement a comprehensive research plan, upon legislative appropriation, to study the feasibility, benefits, and risks of using advanced technologies such as artificial intelligence (AI) to improve state and local government services. The research will analyze potential impacts on equity, efficiency, accuracy, cost-effectiveness, privacy, and provide recommendations for integrating AI into services like unemployment and disability insurance, rental assistance, disaster relief, public records requests, and public benefits eligibility. The Department must report its findings to the Legislature by January 1, 2026, after which the law is repealed.\n",
      "['artificial-intelligence', 'california', 'government-technology', 'public-services', 'legislation', 'research', 'privacy', 'public-benefits']\n"
     ]
    }
   ],
   "source": [
    "bill = \"SB398\"\n",
    "aiBillsSummaries[period][bill] = addSummaries(period, bill)"
   ]
  },
  {
   "cell_type": "code",
   "execution_count": 304,
   "id": "508dae1b",
   "metadata": {},
   "outputs": [
    {
     "name": "stdout",
     "output_type": "stream",
     "text": [
      "Senate Bill 721, introduced by Senator Becker in California's 2023–2024 legislative session, amends Section 65400 of the Government Code to require cities and counties, starting with the seventh housing element revision, to include in their annual land use reports the number of suite-style student housing quarters that meet specific standards (such as kitchen facilities and bathroom ratios) among the counts of demolished and new housing units. These suite-style student housing quarters can count toward a jurisdiction's progress in meeting regional housing needs, but cannot exceed 25% of any income category. The bill imposes a state-mandated local program but specifies that no reimbursement is required, as local agencies can levy sufficient fees to cover costs.\n",
      "['artificial-intelligence', 'california-legislation', 'housing-policy', 'student-housing', 'land-use', 'government-code', 'annual-reporting']\n"
     ]
    }
   ],
   "source": [
    "bill = \"SB721\"\n",
    "aiBillsSummaries[period][bill] = addSummaries(period, bill)"
   ]
  },
  {
   "cell_type": "code",
   "execution_count": 305,
   "id": "12288f8d",
   "metadata": {},
   "outputs": [
    {
     "name": "stdout",
     "output_type": "stream",
     "text": [
      "Senate Bill 892, introduced by Senator Padilla in California's 2023–2024 legislative session, requires the Department of Technology to develop and adopt procurement standards for automated decision systems (ADS) used in public contracts. The standards must be based on industry best practices and include detailed risk and equity assessments, risk controls, adverse incident monitoring, and data minimization. Starting January 1, 2027, state agencies cannot procure or contract for ADS or related services until these regulations are in place, and future contracts must include specific clauses addressing risk, oversight, notification, and termination rights. The Department must collaborate with stakeholders, consult privacy agencies, and annually review and update the standards.\n",
      "['artificial-intelligence', 'california', 'public-contracts', 'procurement', 'automated-decision-systems', 'regulation', 'risk-assessment', 'data-privacy', 'government']\n"
     ]
    }
   ],
   "source": [
    "bill = \"SB892\"\n",
    "aiBillsSummaries[period][bill] = addSummaries(period, bill)"
   ]
  },
  {
   "cell_type": "code",
   "execution_count": 306,
   "id": "938afbcb",
   "metadata": {},
   "outputs": [
    {
     "name": "stdout",
     "output_type": "stream",
     "text": [
      "Senate Bill 893, introduced by Senator Padilla and coauthored by Senators Dodd and Rubio, establishes the California Artificial Intelligence Research Hub within the Government Operations Agency to foster collaboration between government, academia, and the private sector in advancing AI research for public benefit. The Hub will facilitate secure, privacy-protected access to government data for academic research, support the development and access to AI computing infrastructure, encourage innovation in AI applications, and ensure AI technologies developed are trustworthy, transparent, fair, and accountable. The bill specifically prohibits access to trade secrets and personal information and requires oversight by the California Privacy Protection Agency.\n",
      "['artificial-intelligence', 'california-legislation', 'research-hub', 'data-privacy', 'public-policy', 'technology', 'government', 'academic-collaboration']\n"
     ]
    }
   ],
   "source": [
    "bill = \"SB893\"\n",
    "aiBillsSummaries[period][bill] = addSummaries(period, bill)"
   ]
  },
  {
   "cell_type": "code",
   "execution_count": 307,
   "id": "1ad4512b",
   "metadata": {},
   "outputs": [
    {
     "name": "stdout",
     "output_type": "stream",
     "text": [
      "Senate Bill No. 896, the Generative Artificial Intelligence Accountability Act, establishes new requirements and safeguards for the use of generative AI (GenAI) by California state agencies. The law mandates transparency through clear disclaimers when GenAI is used to communicate with the public, ensures people have access to human representatives, and requires regular risk analyses of GenAI's potential threats to critical infrastructure. It emphasizes the importance of fairness, privacy, equity, and accountability in AI deployment, calls for workforce development and public-private partnerships, and directs agencies to consider the impacts of GenAI on bias, discrimination, and regulatory compliance. The act also requires updates to government reports on GenAI and encourages proactive measures to protect Californians from risks associated with this rapidly evolving technology.\n",
      "['artificial-intelligence', 'california', 'legislation', 'government', 'genai', 'disclaimer', 'public-policy', 'privacy', 'equity', 'critical-infrastructure', 'risk-analysis']\n"
     ]
    }
   ],
   "source": [
    "bill = \"SB896\"\n",
    "aiBillsSummaries[period][bill] = addSummaries(period, bill)"
   ]
  },
  {
   "cell_type": "code",
   "execution_count": 308,
   "id": "5f509997",
   "metadata": {},
   "outputs": [
    {
     "name": "stdout",
     "output_type": "stream",
     "text": [
      "Senate Bill 933, amended in the California Assembly on July 3, 2024, updates state law regarding child pornography to explicitly include images generated using artificial intelligence (AI) as prohibited computer-generated images. The bill expands the scope of existing crimes related to the possession, distribution, and production of child pornography to cover AI-generated content, defines 'artificial intelligence' for legal purposes, and requires the Department of Justice to track and report violations involving AI-generated materials. The bill clarifies that no state reimbursement is required for costs incurred by local agencies due to the expanded definition of these crimes.\n",
      "['artificial-intelligence', 'child-pornography', 'california-law', 'criminal-justice', 'penal-code', 'legislation', 'data-reporting']\n"
     ]
    }
   ],
   "source": [
    "bill = \"SB933\"\n",
    "aiBillsSummaries[period][bill] = addSummaries(period, bill)"
   ]
  },
  {
   "cell_type": "code",
   "execution_count": 309,
   "id": "598bd4d3",
   "metadata": {},
   "outputs": [
    {
     "name": "stdout",
     "output_type": "stream",
     "text": [
      "Senate Bill No. 942, the California AI Transparency Act, requires large generative AI providers to offer free, publicly accessible AI detection tools and to include clear, permanent disclosures in AI-generated images, videos, and audio, indicating their artificial origin and provenance. Covered providers must also ensure that third-party licensees maintain these disclosure capabilities, revoking licenses if not, and users must be able to verify AI content without exposing personal information. Violations incur civil penalties of $5,000 per violation, enforceable by the Attorney General or local authorities. The law takes effect January 1, 2026, and excludes certain entertainment products.\n",
      "['artificial-intelligence', 'california-law', 'consumer-protection', 'ai-regulation', 'deepfakes', 'transparency', 'generative-ai', 'digital-content', 'civil-penalties', 'disclosure']\n"
     ]
    }
   ],
   "source": [
    "bill = \"SB942\"\n",
    "aiBillsSummaries[period][bill] = addSummaries(period, bill)"
   ]
  },
  {
   "cell_type": "code",
   "execution_count": 310,
   "id": "f4962a77",
   "metadata": {},
   "outputs": [
    {
     "name": "stdout",
     "output_type": "stream",
     "text": [
      "California Senate Bill 970 (2024), introduced by Senator Ashby, aims to address the misuse of artificial intelligence (AI) in creating synthetic content such as deepfakes. The bill clarifies that using AI-generated or manipulated content to impersonate someone constitutes false personation under criminal law, and that a synthetic likeness or voice reasonably believed to be genuine is treated as the real person's likeness for civil liability. It requires AI technology providers to display consumer warnings about potential legal consequences of misuse by July 1, 2026, with penalties for noncompliance. The Judicial Council must review the impact of AI on court evidence and develop relevant rules by 2026. The bill also defines key AI and synthetic content terms and updates related sections of the Business and Professions, Civil, Evidence, and Penal Codes.\n",
      "['artificial-intelligence', 'california', 'legislation', 'deepfakes', 'consumer-protection', 'civil-law', 'criminal-law', 'evidence', 'technology-regulation']\n"
     ]
    }
   ],
   "source": [
    "bill = \"SB970\"\n",
    "aiBillsSummaries[period][bill] = addSummaries(period, bill)"
   ]
  },
  {
   "cell_type": "code",
   "execution_count": 311,
   "id": "4483b1d0",
   "metadata": {},
   "outputs": [
    {
     "name": "stdout",
     "output_type": "stream",
     "text": [
      "Senate Bill 1047, the Safe and Secure Innovation for Frontier Artificial Intelligence Models Act, establishes comprehensive safety, security, and transparency requirements for developers of advanced AI models in California. The bill mandates that developers of large-scale AI systems (\"covered models\") implement robust cybersecurity measures, written safety protocols, and full shutdown capabilities, while prohibiting the release or use of such models if they pose an unreasonable risk of causing critical harm (such as mass casualties or major infrastructure attacks). Developers must retain detailed records, undergo annual independent audits, report safety incidents, and submit compliance statements to the Attorney General. The bill also imposes obligations on operators of large computing clusters, provides whistleblower protections, and creates the Board of Frontier Models to oversee regulations and definitions. Additionally, it calls for the creation of a public cloud computing resource, CalCompute, to support safe and equitable AI development. Enforcement includes civil penalties and injunctive relief, with certain information exempt from public disclosure for safety and proprietary reasons.\n",
      "['artificial-intelligence', 'california', 'regulation', 'ai-safety', 'technology-law', 'whistleblower-protection', 'cloud-computing', 'public-policy', 'government']\n"
     ]
    }
   ],
   "source": [
    "bill = \"SB1047\"\n",
    "aiBillsSummaries[period][bill] = addSummaries(period, bill)"
   ]
  },
  {
   "cell_type": "code",
   "execution_count": 312,
   "id": "79b5c2c4",
   "metadata": {},
   "outputs": [
    {
     "name": "stdout",
     "output_type": "stream",
     "text": [
      "Senate Bill No. 1070 amends the governance of the Imperial Valley Healthcare District in Imperial County, California, by updating procedures for appointing and electing board members, establishing timelines for dissolving existing healthcare districts, and requiring the recommendation of a permanent funding source to be placed on the ballot by November 2026. The bill outlines the composition and appointment process for the initial board, details the process for potentially acquiring the El Centro Regional Medical Center, mandates public meetings for transparency, and assigns temporary clerical duties to the Heffernan Memorial Healthcare District until district consolidation is complete. It also allows for the creation of a nonvoting community advisory committee and asserts the necessity of this special statute due to the unique healthcare needs of Imperial County.\n",
      "['artificial-intelligence', 'california-legislation', 'health-care-district', 'imperial-county', 'public-health', 'governance', 'hospital-acquisition', 'ballot-measure', 'local-government']\n"
     ]
    }
   ],
   "source": [
    "bill = \"SB1070\"\n",
    "aiBillsSummaries[period][bill] = addSummaries(period, bill)"
   ]
  },
  {
   "cell_type": "code",
   "execution_count": 313,
   "id": "7d0cb946",
   "metadata": {},
   "outputs": [
    {
     "name": "stdout",
     "output_type": "stream",
     "text": [
      "Senate Bill No. 1120 (Chapter 879), approved on September 28, 2024, amends California's Health and Safety Code and Insurance Code to regulate the use of artificial intelligence (AI), algorithms, and software tools in health care utilization review and management by health care service plans and disability insurers. The bill requires that any AI or algorithm used for these purposes must base decisions on individual clinical information, not solely on group data, and cannot supplant provider decision-making or deny, delay, or modify care based on medical necessity—those determinations must be made by licensed health professionals. The bill also mandates transparency, non-discrimination, compliance with state and federal law, regular review, and safeguards for patient data and auditability. Violations may result in administrative penalties, and the bill specifies that no state reimbursement to local agencies is required as it only creates or changes crimes or infractions.\n",
      "['artificial-intelligence', 'health-care', 'insurance', 'utilization-review', 'california-law', 'regulation', 'patient-protection', 'medical-necessity']\n"
     ]
    }
   ],
   "source": [
    "bill = \"SB1120\"\n",
    "aiBillsSummaries[period][bill] = addSummaries(period, bill)"
   ]
  },
  {
   "cell_type": "code",
   "execution_count": 314,
   "id": "7d607161",
   "metadata": {},
   "outputs": [
    {
     "name": "stdout",
     "output_type": "stream",
     "text": [
      "Senate Bill 1154, the California Preventing Algorithmic Collusion Act of 2024, aims to regulate the use of pricing algorithms by requiring companies, upon request by the Attorney General, to submit detailed confidential reports about their algorithms, including data sources, mechanisms, and any discriminatory pricing practices. The bill prohibits the use or distribution of pricing algorithms trained on or using nonpublic competitor data, authorizes the Attorney General to take civil action and impose penalties for violations, and establishes legal presumptions for antitrust violations involving such algorithms. Companies with $5 million or more in annual revenue must disclose to customers and workers when algorithmic pricing is used. Additionally, the Attorney General must publish a study by 2027 on the prevalence and effects of pricing algorithms, including their potential harms and benefits, with recommendations for further regulation.\n",
      "['artificial-intelligence', 'california', 'legislation', 'antitrust', 'pricing-algorithms', 'consumer-protection', 'data-privacy', 'business-regulation']\n"
     ]
    }
   ],
   "source": [
    "bill = \"SB1154\"\n",
    "aiBillsSummaries[period][bill] = addSummaries(period, bill)"
   ]
  },
  {
   "cell_type": "code",
   "execution_count": 315,
   "id": "799601ce",
   "metadata": {},
   "outputs": [
    {
     "name": "stdout",
     "output_type": "stream",
     "text": [
      "Senate Bill 1220, introduced by Senator Limón, prohibits California state and local agencies from contracting for public benefits call center services unless those services are performed exclusively by workers employed in California, effective until July 1, 2030. The bill also bans the use of artificial intelligence (AI) or automated decision systems (ADS) to eliminate or automate core job functions of call center workers, requiring agencies to notify affected workers and the public if such technologies are used in ways that impact core job functions. Contractors must certify their compliance, with civil penalties for violations, and the bill extends these requirements to local agencies, eliminates certain previous exceptions, and includes provisions for state reimbursement of mandated local costs. Some exceptions apply, such as contracts preceding January 1, 2025, emergency services, and specific health care-related contracts.\n",
      "['artificial-intelligence', 'public-contracts', 'california', 'call-centers', 'labor-law', 'public-benefits', 'state-legislation', 'worker-protection']\n"
     ]
    }
   ],
   "source": [
    "bill = \"SB1220\"\n",
    "aiBillsSummaries[period][bill] = addSummaries(period, bill)"
   ]
  },
  {
   "cell_type": "code",
   "execution_count": 316,
   "id": "3553dea4",
   "metadata": {},
   "outputs": [
    {
     "name": "stdout",
     "output_type": "stream",
     "text": [
      "Senate Bill 1228, introduced by Senator Padilla in California's 2023–2024 session, would require social media platforms with at least 1 million California users to verify the identities of 'influential' and 'highly influential' users, defined by follower counts or content reach. Influential users must have their name, phone, and email verified, while highly influential users must provide government-issued ID. Platforms must display a clear authentication status on user profiles and posts, allow users to opt out of seeing posts from unauthenticated influential users, and protect sensitive information. Enforcement can be sought by the Attorney General or local prosecutors. The bill does not apply to smaller platforms and allows platforms to set stricter verification policies if desired.\n",
      "['artificial-intelligence', 'california-legislation', 'social-media', 'user-authentication', 'privacy', 'influencers', 'regulation', 'sb-1228']\n"
     ]
    }
   ],
   "source": [
    "bill = \"SB1228\"\n",
    "aiBillsSummaries[period][bill] = addSummaries(period, bill)"
   ]
  },
  {
   "cell_type": "code",
   "execution_count": 317,
   "id": "34dc2713",
   "metadata": {},
   "outputs": [
    {
     "name": "stdout",
     "output_type": "stream",
     "text": [
      "Senate Bill No. 1223 amends California's Civil Code, specifically the California Consumer Privacy Act (CCPA), to expand the definition of 'sensitive personal information' to include 'neural data'—information generated by measuring the activity of a consumer's central or peripheral nervous system, not inferred from nonneural sources. This change means that neural data, like biometric data, will be subject to stricter privacy protections and consumer rights regarding its collection, use, and sharing by businesses. The bill affirms that these provisions further the purposes of the California Privacy Rights Act of 2020 and includes operative clauses coordinating with other pending legislation.\n",
      "['artificial-intelligence', 'california-law', 'consumer-privacy', 'neural-data', 'ccpa', 'data-protection', 'legislation', 'privacy-rights']\n"
     ]
    }
   ],
   "source": [
    "bill = \"SB1223\"\n",
    "aiBillsSummaries[period][bill] = addSummaries(period, bill)"
   ]
  },
  {
   "cell_type": "code",
   "execution_count": 318,
   "id": "d1c95dee",
   "metadata": {},
   "outputs": [
    {
     "name": "stdout",
     "output_type": "stream",
     "text": [
      "Senate Bill 1229, introduced by Senator Nguyen and effective immediately as an urgency measure, requires property and casualty insurers in California to disclose to applicants and insureds if they use artificial intelligence (AI), including machine learning and generative AI, to make or influence decisions regarding residential property or automobile insurance applications and claims reviews. These disclosures must be provided at the time of application or annually, and the law will remain in effect until January 1, 2030. The bill aims to increase transparency for consumers about the use of rapidly developing AI technologies in insurance decisions.\n",
      "['artificial-intelligence', 'insurance', 'california', 'legislation', 'consumer-protection', 'disclosure', 'property-insurance', 'auto-insurance', 'machine-learning']\n"
     ]
    }
   ],
   "source": [
    "bill = \"SB1229\"\n",
    "aiBillsSummaries[period][bill] = addSummaries(period, bill)"
   ]
  },
  {
   "cell_type": "code",
   "execution_count": 319,
   "id": "b6702254",
   "metadata": {},
   "outputs": [
    {
     "name": "stdout",
     "output_type": "stream",
     "text": [
      "Senate Bill 1235, introduced by Senator Gonzalez and amended in the California Senate on April 15, 2024, would require California State University, Long Beach, in consultation with other public higher education institutions, to establish an Artificial Intelligence and Deepfake Working Group. This group would evaluate and advise on the impacts and risks of artificial intelligence and deepfakes, including privacy, workforce, legal, and civic implications, and could develop a scoping plan to set evaluation topics and stakeholders. The working group would include representatives from various sectors such as labor, education, law, privacy, consumer protection, technology, elections, and ethics, as well as state officials. Annual reports on their findings would be submitted to the Legislature and made public, with meetings subject to open meeting laws.\n",
      "['artificial-intelligence', 'deepfakes', 'public-postsecondary-education', 'california-legislation', 'privacy', 'workforce', 'technology-policy', 'higher-education', 'law', 'ethics']\n"
     ]
    }
   ],
   "source": [
    "bill = \"SB1235\"\n",
    "aiBillsSummaries[period][bill] = addSummaries(period, bill)"
   ]
  },
  {
   "cell_type": "code",
   "execution_count": 320,
   "id": "b405b847",
   "metadata": {},
   "outputs": [
    {
     "name": "stdout",
     "output_type": "stream",
     "text": [
      "Senate Bill 1282, introduced by Senator Smallwood-Cuevas during the 2023–2024 California legislative session, seeks to expand and clarify diversion programs for individuals charged with theft and other offenses. The bill allows county departments providing pretrial or health care services, or nonprofit agencies, to conduct diversion programs, and defines qualifying theft offenses. It also broadens judges' authority to offer diversion in a wider range of cases, with a maximum period of 24 months, and requires courts to consider referrals to treatment or support programs addressing underlying causes of criminal behavior. Certain serious offenses, such as violent felonies and sex crimes, are excluded from eligibility.\n",
      "['artificial-intelligence', 'california-legislation', 'criminal-justice', 'diversion-programs', 'theft-offenses', 'senate-bill-1282', 'mental-health', 'restorative-justice']\n"
     ]
    }
   ],
   "source": [
    "bill = \"SB1282\"\n",
    "aiBillsSummaries[period][bill] = addSummaries(period, bill)"
   ]
  },
  {
   "cell_type": "code",
   "execution_count": 321,
   "id": "6f5d9502",
   "metadata": {},
   "outputs": [
    {
     "name": "stdout",
     "output_type": "stream",
     "text": [
      "Senate Bill No. 1288 (Chapter 893) requires the California Superintendent of Public Instruction to convene a diverse working group to assess, guide, and develop policies on the safe and effective use of artificial intelligence (AI) in public schools. The group must include educators, administrators, students, academic experts, and industry representatives, and is tasked with evaluating current and future AI use, gathering public input, and addressing issues such as academic integrity, data privacy, equity, and educator support. The group must publish guidance by January 2026, a model policy by July 2026, and a final report to the Legislature by January 2027, after which it will dissolve. The provisions will be repealed in 2031.\n",
      "['artificial-intelligence', 'public-schools', 'education-policy', 'california', 'student-privacy', 'teacher-support', 'legislation']\n"
     ]
    }
   ],
   "source": [
    "bill = \"SB1288\"\n",
    "aiBillsSummaries[period][bill] = addSummaries(period, bill)"
   ]
  },
  {
   "cell_type": "code",
   "execution_count": 322,
   "id": "ba1c5780",
   "metadata": {},
   "outputs": [
    {
     "name": "stdout",
     "output_type": "stream",
     "text": [
      "Senate Bill No. 1381 expands California's existing child pornography laws to include material that is digitally altered or generated by artificial intelligence, treating such AI-created depictions of minors engaging in sexual conduct the same as traditional forms. The bill amends several sections of the Penal Code to criminalize the production, distribution, and possession of AI-generated child sexual abuse material, and clarifies that forfeiture and destruction of such material can occur regardless of conviction. The act does not require state reimbursement to local agencies for related costs and will only take effect if AB 1831 is enacted by January 1, 2025.\n",
      "['artificial-intelligence', 'child-pornography', 'california-law', 'penal-code', 'digital-media', 'criminal-law', 'ai-generated-content']\n"
     ]
    }
   ],
   "source": [
    "bill = \"SB1381\"\n",
    "aiBillsSummaries[period][bill] = addSummaries(period, bill)"
   ]
  },
  {
   "cell_type": "code",
   "execution_count": 323,
   "id": "61edfeee",
   "metadata": {},
   "outputs": [
    {
     "name": "stdout",
     "output_type": "stream",
     "text": [
      "Senate Bill 1446, introduced by Senator Smallwood-Cuevas in the California Legislature's 2023–2024 session, seeks to regulate the use of self-service checkout and workplace technology in grocery retail stores and retail drug establishments. The bill prohibits these businesses from offering self-service checkout unless certain conditions are met, such as limiting employees to monitoring no more than two self-checkout stations at a time and requiring those employees to be relieved of all other duties. Additional requirements include restricting self-checkout to 15 items or fewer, prohibiting the use for age-restricted or theft-sensitive items, and mandating inclusion of self-checkout in workplace safety programs. The bill also requires at least 60 days' notice to workers, unions, and the public before implementing new workplace technologies that automate, eliminate, or monitor core job functions. Violations can result in civil penalties of $100 per day, up to $10,000.\n",
      "['artificial-intelligence', 'california', 'labor-law', 'self-checkout', 'grocery-stores', 'retail', 'workplace-technology', 'employee-rights', 'legislation', 'occupational-safety']\n"
     ]
    }
   ],
   "source": [
    "bill = \"SB1446\"\n",
    "aiBillsSummaries[period][bill] = addSummaries(period, bill)"
   ]
  },
  {
   "cell_type": "code",
   "execution_count": 324,
   "id": "c8028cf8",
   "metadata": {},
   "outputs": [
    {
     "name": "stdout",
     "output_type": "stream",
     "text": [
      "Senate Concurrent Resolution No. 17 affirms the California Legislature's commitment to President Biden's vision for safe and ethical artificial intelligence, as outlined in the 'Blueprint for an AI Bill of Rights.' Recognizing both the risks (such as bias and privacy concerns) and benefits of AI, the resolution commits California to examining and implementing principles including safe and effective systems, protections against algorithmic discrimination, data privacy, transparency, and the availability of human alternatives in its legislation and policies related to automated systems.\n",
      "['artificial-intelligence', 'california-legislature', 'ai-bill-of-rights', 'algorithmic-discrimination', 'data-privacy', 'public-policy', 'technology-regulation']\n"
     ]
    }
   ],
   "source": [
    "bill = \"SCR17\"\n",
    "aiBillsSummaries[period][bill] = addSummaries(period, bill)"
   ]
  },
  {
   "cell_type": "code",
   "execution_count": 325,
   "id": "f8283359",
   "metadata": {},
   "outputs": [
    {
     "name": "stdout",
     "output_type": "stream",
     "text": [
      "Senate Concurrent Resolution No. 121 designates March 8, 2024, as International Women's Day in California, recognizing the historical significance of the day, its origins in early 20th-century labor movements, and its ongoing role in advocating for women's rights, gender equality, and social justice. The resolution highlights the United Nations' 2024 theme, 'Invest in women: Accelerate progress,' addresses challenges such as the gender digital divide, underrepresentation of women in leadership and STEM fields, and the need for increased funding for gender-equality initiatives. It calls for integrating women's perspectives into policy and innovation to ensure equitable progress and celebrates the courage and determination of women throughout history.\n",
      "['artificial-intelligence', 'international-womens-day', 'gender-equality', 'women-in-leadership', 'stem', 'public-policy', 'social-justice', 'united-nations', 'california-legislature']\n"
     ]
    }
   ],
   "source": [
    "bill = \"SCR121\"\n",
    "aiBillsSummaries[period][bill] = addSummaries(period, bill)"
   ]
  },
  {
   "cell_type": "code",
   "execution_count": 326,
   "id": "dfd1a207",
   "metadata": {},
   "outputs": [
    {
     "name": "stdout",
     "output_type": "stream",
     "text": [
      "Senate Concurrent Resolution No. 162 recognizes June 2024 as Alzheimer’s and Brain Awareness Month and June 20, 2024, as The Longest Day in California, urging all residents to wear purple to raise awareness of Alzheimer’s disease. The resolution highlights the severe impact of Alzheimer’s on Californians—affecting over 719,000 residents and costing billions in care—while acknowledging the burden on caregivers, the disproportionate effects on certain demographics, and the lack of a cure. It emphasizes the importance of state and federal investment in innovative research, including advances in biomarkers, regenerative medicine, artificial intelligence, and other cutting-edge technologies, to accelerate the development of diagnostics and treatments for neurological disorders and other incurable conditions.\n",
      "['artificial-intelligence', 'alzheimer-s-disease', 'brain-awareness', 'neurological-disorders', 'california-legislation', 'biomarkers', 'medical-research', 'public-health', 'caregiving', 'healthcare-costs', 'regenerative-medicine']\n"
     ]
    }
   ],
   "source": [
    "bill = \"SCR162\"\n",
    "aiBillsSummaries[period][bill] = addSummaries(period, bill)"
   ]
  },
  {
   "cell_type": "markdown",
   "id": "1bd2fbca",
   "metadata": {},
   "source": [
    "<h2 style=\"font-weight:bold; color:dodgerblue; border-bottom: 1px solid dodgerblue; padding-left: 25px\">2025-2026</h2>"
   ]
  },
  {
   "cell_type": "code",
   "execution_count": 327,
   "id": "7ba4b419",
   "metadata": {},
   "outputs": [
    {
     "name": "stdout",
     "output_type": "stream",
     "text": [
      "['AB93', 'AB222', 'AB279', 'AB316', 'AB325', 'AB392', 'AB410', 'AB412', 'AB489', 'AB512', 'AB682', 'AB723', 'AB853', 'AB887', 'AB979', 'AB1018', 'AB1024', 'AB1064', 'AB1137', 'AB1159', 'AB1170', 'AB1242', 'SB7', 'SB11', 'SB16', 'SB53', 'SB57', 'SB243', 'SB295', 'SB354', 'SB366', 'SB420', 'SB468', 'SB503', 'SB524', 'SB579', 'SB711', 'SB813', 'SB833']\n",
      "Bills: 39\n"
     ]
    }
   ],
   "source": [
    "period = \"2025-2026\"\n",
    "aiBillsSummaries[period] = {}\n",
    "blist = list(aiBills[period].keys())\n",
    "print(blist)\n",
    "print(f\"Bills: {len(blist)}\")"
   ]
  },
  {
   "cell_type": "code",
   "execution_count": 328,
   "id": "99792e44",
   "metadata": {},
   "outputs": [
    {
     "name": "stdout",
     "output_type": "stream",
     "text": [
      "California Assembly Bill 93, introduced by Assembly Member Papan, would require data center owners and operators to estimate and report water usage when applying for or renewing business licenses in cities and counties, under penalty of perjury. Local jurisdictions must set efficiency standards for data centers, which may include use of closed-loop systems, nonpotable water, and rainwater capture, with stricter requirements for larger facilities. The Department of Water Resources and State Energy Resources Conservation and Development Commission must develop resource-efficient guidelines for technology needs by 2028. Public entities must include data center water usage in water demand analyses, and the bill applies to all cities, including charter cities. Some costs are exempt from state reimbursement, but others may be reimbursed if mandated.\n",
      "['artificial-intelligence', 'data-centers', 'water-conservation', 'california-legislation', 'business-licensing', 'environmental-policy', 'technology-infrastructure']\n"
     ]
    }
   ],
   "source": [
    "bill = \"AB93\"\n",
    "aiBillsSummaries[period][bill] = addSummaries(period, bill)"
   ]
  },
  {
   "cell_type": "code",
   "execution_count": 329,
   "id": "e50b4f7a",
   "metadata": {},
   "outputs": [
    {
     "name": "stdout",
     "output_type": "stream",
     "text": [
      "California Assembly Bill 222, introduced by Bauer-Kahan and amended in April 2025, would require developers of large artificial intelligence (AI) models to calculate and publicly disclose the total energy used to develop their models, including the percentage generated in California, before commercial use or third-party access. The bill directs the California Energy Commission to adopt efficiency standards for data centers by 2027, require new and substantially altered data centers to incorporate load-management capabilities, and include data center energy trends in its reports. Additionally, the Public Utilities Commission must ensure that costs from new or altered data centers are not unfairly shifted to ratepayers who do not benefit directly. The bill aims to increase transparency and efficiency in the rapidly growing AI and data center sectors.\n",
      "['artificial-intelligence', 'data-centers', 'energy-efficiency', 'public-disclosure', 'california-legislation', 'electricity-rates', 'environment', 'regulation']\n"
     ]
    }
   ],
   "source": [
    "bill = \"AB222\"\n",
    "aiBillsSummaries[period][bill] = addSummaries(period, bill)"
   ]
  },
  {
   "cell_type": "code",
   "execution_count": 330,
   "id": "978a738f",
   "metadata": {},
   "outputs": [
    {
     "name": "stdout",
     "output_type": "stream",
     "text": [
      "Assembly Bill No. 279, introduced by Assembly Member Patel, would require the California Superintendent of Public Instruction, in consultation with the State Board of Education, to periodically (every eight years starting by July 1, 2028) consider and, if necessary, recommend updates to the standards for school library services. If revisions are recommended, a group of experts—including teachers, credentialed teacher librarians, principals, administrators, university professors, and private sector representatives with expertise in technology, media, and social media—would be convened to assist in developing these revisions. The process mandates at least two public hearings for input, and the revised standards would be presented to the state board for adoption, modification, or rejection, with transparency requirements for any changes or rejections. Implementation depends on state budget appropriations.\n",
      "['artificial-intelligence', 'california', 'assembly-bill-279', 'education', 'school-libraries', 'library-standards', 'public-instruction', 'media-literacy', 'technology', 'legislation', 'public-hearings']\n"
     ]
    }
   ],
   "source": [
    "bill = \"AB279\"\n",
    "aiBillsSummaries[period][bill] = addSummaries(period, bill)"
   ]
  },
  {
   "cell_type": "code",
   "execution_count": 331,
   "id": "e2bb72d0",
   "metadata": {},
   "outputs": [
    {
     "name": "stdout",
     "output_type": "stream",
     "text": [
      "Assembly Bill No. 316, introduced in the California Legislature by Assembly Member Krell for the 2025–2026 session, proposes to amend the Civil Code by prohibiting defendants who develop or use artificial intelligence (AI) from claiming as a legal defense that the AI autonomously caused harm to a plaintiff. This means that in civil actions involving harm allegedly caused by AI, the responsible parties cannot avoid liability by arguing that the AI acted independently. The bill also clarifies the definition of artificial intelligence and does not require appropriations, fiscal committee involvement, or local program changes.\n",
      "['artificial-intelligence', 'california', 'civil-liability', 'legislation', 'legal-defense', 'ab-316', 'ai-responsibility']\n"
     ]
    }
   ],
   "source": [
    "bill = \"AB316\"\n",
    "aiBillsSummaries[period][bill] = addSummaries(period, bill)"
   ]
  },
  {
   "cell_type": "code",
   "execution_count": 332,
   "id": "ae341d89",
   "metadata": {},
   "outputs": [
    {
     "name": "stdout",
     "output_type": "stream",
     "text": [
      "California Assembly Bill 325, introduced by Assembly Member Aguiar-Curry for the 2025–2026 session, amends the Cartwright Act to address the use of pricing algorithms in potential antitrust violations. The bill prohibits the use or distribution of pricing algorithms trained with nonpublic competitor data and restricts the use of algorithms trained with other data if they are used by multiple parties to set prices or commercial terms in the same or related markets. It clarifies that complaints under the Cartwright Act only need to plausibly allege the existence of anticompetitive agreements, without having to rule out independent action. The bill expands the scope of prohibited activities under antitrust law, creates new liabilities, and specifies that no state reimbursement is required for local costs arising from these changes.\n",
      "['artificial-intelligence', 'california', 'cartwright-act', 'antitrust', 'business-regulation', 'pricing-algorithms', 'legislation', 'competition-law', 'consumer-protection']\n"
     ]
    }
   ],
   "source": [
    "bill = \"AB325\"\n",
    "aiBillsSummaries[period][bill] = addSummaries(period, bill)"
   ]
  },
  {
   "cell_type": "code",
   "execution_count": 333,
   "id": "a417112d",
   "metadata": {},
   "outputs": [
    {
     "name": "stdout",
     "output_type": "stream",
     "text": [
      "California Assembly Bill 392, introduced by Assembly Member Dixon, would require operators of pornographic internet websites to take reasonable steps to ensure that uploaded sexually explicit content does not include individuals who did not consent, were minors at the time of creation, or did not consent to the content being uploaded. Before uploading, users must submit a statement under penalty of perjury confirming all depicted individuals were adults at creation and consented to both depiction and upload. If a depicted individual notifies the operator of non-consent or minor status, the content must be removed within 48 hours. The bill provides for civil actions by affected individuals and public prosecutors, includes damages and penalties, covers AI-generated content, and does not require reimbursement to local agencies.\n",
      "['artificial-intelligence', 'california', 'legislation', 'internet', 'pornography', 'consent', 'minors', 'civil-action', 'content-removal']\n"
     ]
    }
   ],
   "source": [
    "bill = \"AB392\"\n",
    "aiBillsSummaries[period][bill] = addSummaries(period, bill)"
   ]
  },
  {
   "cell_type": "code",
   "execution_count": 334,
   "id": "4834dde3",
   "metadata": {},
   "outputs": [
    {
     "name": "stdout",
     "output_type": "stream",
     "text": [
      "Assembly Bill No. 410, introduced in the California Legislature, proposes updates to laws regulating the use of bots online. The bill requires anyone using a bot that autonomously communicates with people in California to ensure the bot clearly discloses its non-human identity at the start of any interaction, truthfully answers questions about its status, and refrains from misleading users about being human. The definition of 'bot' is updated to focus on generative artificial intelligence outputs that a reasonable person could mistake for a human, and the bill exempts bots already covered by stricter disclosure laws. Enforcement provisions allow the Attorney General and other officials to seek injunctive relief or civil penalties of $1,000 per violation.\n",
      "['artificial-intelligence', 'california', 'legislation', 'bots', 'disclosure', 'online-communication', 'generative-ai', 'consumer-protection']\n"
     ]
    }
   ],
   "source": [
    "bill = \"AB410\"\n",
    "aiBillsSummaries[period][bill] = addSummaries(period, bill)"
   ]
  },
  {
   "cell_type": "code",
   "execution_count": 335,
   "id": "2dd07cd8",
   "metadata": {},
   "outputs": [
    {
     "name": "stdout",
     "output_type": "stream",
     "text": [
      "Assembly Bill No. 412, introduced in the California Legislature by Assembly Member Bauer-Kahan, would require developers of generative artificial intelligence (GenAI) models to document and disclose any known copyrighted materials used in AI training datasets. Developers must provide a website mechanism for copyright owners to request information, submitting registration numbers and digital 'fingerprints' of their works. Within seven days, developers must assess and report if those materials are likely present in their datasets, or face daily violations and potential civil action. The bill exempts developers who make all training data publicly available at no cost.\n",
      "['artificial-intelligence', 'california', 'legislation', 'copyright', 'genai', 'training-data', 'transparency']\n"
     ]
    }
   ],
   "source": [
    "bill = \"AB412\"\n",
    "aiBillsSummaries[period][bill] = addSummaries(period, bill)"
   ]
  },
  {
   "cell_type": "code",
   "execution_count": 336,
   "id": "9fa4235c",
   "metadata": {},
   "outputs": [
    {
     "name": "stdout",
     "output_type": "stream",
     "text": [
      "California Assembly Bill 489, introduced by Assembly Member Bonta and others, aims to regulate the use of certain terms, letters, or phrases by artificial intelligence (AI) and generative AI technologies in health care contexts. The bill prohibits AI systems from using language that could falsely imply that health advice, care, reports, or assessments are being provided by a licensed human health care professional. Violations are subject to enforcement by the appropriate health care licensing boards, with each misuse constituting a separate offense. The bill also clarifies that no state reimbursement is required for local agencies due to the creation of new crimes or infractions.\n",
      "['artificial-intelligence', 'california', 'health-care', 'legislation', 'consumer-protection', 'generative-ai', 'licensing', 'regulation']\n"
     ]
    }
   ],
   "source": [
    "bill = \"AB489\"\n",
    "aiBillsSummaries[period][bill] = addSummaries(period, bill)"
   ]
  },
  {
   "cell_type": "code",
   "execution_count": 337,
   "id": "25abcc67",
   "metadata": {},
   "outputs": [
    {
     "name": "stdout",
     "output_type": "stream",
     "text": [
      "Assembly Bill 512, introduced by Assembly Member Harabedian, amends California's Health and Safety and Insurance Codes to accelerate timelines for health care prior authorization decisions, requiring health plans and insurers to respond within 48 hours for standard requests and 24 hours for urgent requests upon receiving necessary information. The bill also establishes strict requirements for the use of artificial intelligence, algorithms, or software tools in utilization review, ensuring that such tools cannot make final medical necessity decisions or supplant licensed provider judgment, must use individualized clinical data, and must comply with anti-discrimination and privacy laws. The legislation imposes penalties for noncompliance, does not require state reimbursement for local agencies due to its focus on enforcement, and aligns with state and federal regulations regarding AI in health care coverage.\n",
      "['artificial-intelligence', 'health-care', 'prior-authorization', 'insurance', 'utilization-review', 'california-legislation', 'patient-rights', 'medical-necessity', 'regulation']\n"
     ]
    }
   ],
   "source": [
    "bill = \"AB512\"\n",
    "aiBillsSummaries[period][bill] = addSummaries(period, bill)"
   ]
  },
  {
   "cell_type": "code",
   "execution_count": 338,
   "id": "ace605ca",
   "metadata": {},
   "outputs": [
    {
     "name": "stdout",
     "output_type": "stream",
     "text": [
      "Assembly Bill 682, introduced in California's 2025–2026 legislative session, would require health care service plans and health insurers to include detailed monthly data on claims processing, denials (including reasons for denial), appeals, and the use of artificial intelligence or predictive algorithms in their mandated financial and reporting statements. This information must be published monthly on the respective department websites to increase transparency regarding claim denials and appeals. The bill also clarifies that no state reimbursement is required for local agencies due to its provisions.\n",
      "['artificial-intelligence', 'health-care', 'claims-denial', 'transparency', 'insurance', 'reporting-requirements', 'california-legislation']\n"
     ]
    }
   ],
   "source": [
    "bill = \"AB682\"\n",
    "aiBillsSummaries[period][bill] = addSummaries(period, bill)"
   ]
  },
  {
   "cell_type": "code",
   "execution_count": 339,
   "id": "8f07960e",
   "metadata": {},
   "outputs": [
    {
     "name": "stdout",
     "output_type": "stream",
     "text": [
      "California Assembly Bill 723, introduced by Assembly Member Pellerin, would require real estate brokers and salespersons to disclose when images in advertisements or promotional materials for property sales have been digitally altered using photo editing software or artificial intelligence to change property features (such as adding or removing furniture, appliances, or walls). For online ads, the original, unaltered image must also be included or linked. Routine photo edits like lighting or color correction are excluded from this rule. Violating the requirements would be a crime, but the bill specifies that no state reimbursement to local agencies is required.\n",
      "['artificial-intelligence', 'real-estate', 'california-legislation', 'digital-alteration', 'image-disclosure', 'advertising', 'consumer-protection']\n"
     ]
    }
   ],
   "source": [
    "bill = \"AB723\"\n",
    "aiBillsSummaries[period][bill] = addSummaries(period, bill)"
   ]
  },
  {
   "cell_type": "code",
   "execution_count": 340,
   "id": "16bfcca1",
   "metadata": {},
   "outputs": [
    {
     "name": "stdout",
     "output_type": "stream",
     "text": [
      "Assembly Bill No. 853 (California AI Transparency Act), introduced by Assembly Member Wicks, requires creators of generative AI systems with over 1,000,000 monthly users in California to provide free AI detection tools that can determine if content was generated or altered by their AI and display any system provenance data. The amended bill further mandates large online platforms (over 2,000,000 users) to retain and make provenance data available for posted content, and requires manufacturers of devices capable of capturing photos, audio, or video (like smartphones and cameras) to include options for embedding provenance data in captured content. Violations are subject to civil penalties, and definitions for key terms such as 'provenance data,' 'capture device,' and 'large online platform' are provided.\n",
      "['artificial-intelligence', 'california-legislation', 'ai-transparency', 'provenance-data', 'online-platforms', 'capture-devices', 'privacy', 'regulation', 'generative-ai']\n"
     ]
    }
   ],
   "source": [
    "bill = \"AB853\"\n",
    "aiBillsSummaries[period][bill] = addSummaries(period, bill)"
   ]
  },
  {
   "cell_type": "code",
   "execution_count": 341,
   "id": "d39d6fab",
   "metadata": {},
   "outputs": [
    {
     "name": "stdout",
     "output_type": "stream",
     "text": [
      "Assembly Bill 887, introduced in the 2025–2026 California legislative session, would require all public high schools operated by school districts and charter schools to offer at least one computer science course, with a phased implementation starting in the 2027–28 school year and full compliance by 2029–30. The bill mandates the adoption and public posting of implementation plans, annual progress reviews, and targeted efforts to increase enrollment among underrepresented groups such as female students, students with disabilities, and students from low-income or minority backgrounds. The California Department of Education must also annually publish disaggregated data on computer science course enrollment. Additionally, the bill requires the development of a statewide computer science implementation guide, including best practices, credentialing pathways, and open-source resources, to support equitable and effective computer science education. State reimbursement is provided for any mandated local costs.\n",
      "['artificial-intelligence', 'california', 'education', 'computer-science', 'high-schools', 'diversity', 'legislation', 'public-policy', 'charter-schools']\n"
     ]
    }
   ],
   "source": [
    "bill = \"AB887\"\n",
    "aiBillsSummaries[period][bill] = addSummaries(period, bill)"
   ]
  },
  {
   "cell_type": "code",
   "execution_count": 342,
   "id": "b5fd6293",
   "metadata": {},
   "outputs": [
    {
     "name": "stdout",
     "output_type": "stream",
     "text": [
      "Assembly Bill 979, introduced by Assembly Member Irwin, amends California law to require the California Cybersecurity Integration Center (Cal-CSIC) to develop a California AI Cybersecurity Collaboration Playbook by July 1, 2026. This playbook, created in consultation with the Office of Information Security and the Government Operations Agency, aims to facilitate information sharing across the artificial intelligence community and strengthen collective cyber defenses against emerging threats. The bill mandates that Cal-CSIC review federal standards and best practices, including the federal Joint Cyber Defense Collaborative AI Playbook, and establishes confidentiality protections for cyber threat information shared under the new playbook. The legislation also includes findings justifying limits on public access to certain cybersecurity information to protect state IT systems.\n",
      "['artificial-intelligence', 'cybersecurity', 'california-legislation', 'information-sharing', 'government', 'public-safety', 'confidentiality']\n"
     ]
    }
   ],
   "source": [
    "bill = \"AB979\"\n",
    "aiBillsSummaries[period][bill] = addSummaries(period, bill)"
   ]
  },
  {
   "cell_type": "code",
   "execution_count": 343,
   "id": "3b336549",
   "metadata": {},
   "outputs": [
    {
     "name": "stdout",
     "output_type": "stream",
     "text": [
      "California Assembly Bill 1018, the Automated Decisions Safety Act, would regulate the development and use of automated decision systems (ADS) that make consequential decisions affecting individuals in areas such as employment, education, housing, healthcare, financial services, and more. The bill requires developers and deployers of covered ADS to conduct regular performance evaluations, disclose information and impacts to affected individuals, allow opt-outs and appeals, and submit to independent third-party audits. It also mandates transparency, documentation retention, and prompt correction of errors, while protecting trade secrets and exempting certain systems like cybersecurity tools. Enforcement is provided through civil actions by public entities, with penalties for violations. The bill amends related civil rights and government codes to ensure compliance and safeguard against discrimination or disparate impacts from AI-driven decisions.\n",
      "['artificial-intelligence', 'california', 'legislation', 'regulation', 'automated-decision-systems', 'civil-rights', 'privacy', 'employment', 'transparency', 'auditing']\n"
     ]
    }
   ],
   "source": [
    "bill = \"AB1018\"\n",
    "aiBillsSummaries[period][bill] = addSummaries(period, bill)"
   ]
  },
  {
   "cell_type": "code",
   "execution_count": 344,
   "id": "b8fdea2f",
   "metadata": {},
   "outputs": [
    {
     "name": "stdout",
     "output_type": "stream",
     "text": [
      "Assembly Bill No. 1024, introduced by Assembly Member Harabedian for the 2025–2026 California legislative session, proposes the San Gabriel Valley Bear Management and Community Safety Act. This bill requires the Department of Fish and Wildlife to develop a regional plan by January 1, 2027, addressing bear-related issues in the San Gabriel Valley, Los Angeles County. The plan must analyze bear behaviors, causes of urban bear encounters, city ordinances, best practices for reducing encounters, and reassess bear classifications. The department must set and report measurable goals to reduce bear encounters, and use innovative technologies, such as GPS collars or AI-based tracking systems, to tag and monitor bears that enter residential neighborhoods. The bill cites a special need due to increased bear encounters in the region.\n",
      "['artificial-intelligence', 'wildlife-management', 'bears', 'san-gabriel-valley', 'los-angeles-county', 'california-legislation', 'community-safety', 'gps-tracking', 'urban-wildlife']\n"
     ]
    }
   ],
   "source": [
    "bill = \"AB1024\"\n",
    "aiBillsSummaries[period][bill] = addSummaries(period, bill)"
   ]
  },
  {
   "cell_type": "code",
   "execution_count": 345,
   "id": "c3ba112d",
   "metadata": {},
   "outputs": [
    {
     "name": "stdout",
     "output_type": "stream",
     "text": [
      "California Assembly Bill 1064, the Leading Ethical AI Development (LEAD) for Kids Act, establishes a regulatory framework for artificial intelligence systems intended for or likely to affect children. The bill creates the LEAD for Kids Standards Board to set risk-based regulations, including criteria for identifying high-risk or prohibited AI products (such as companion chatbots that manipulate children, biometric data collection, or social scoring). Developers of covered AI products must register, conduct risk assessments, label systems, undergo audits, and prevent children's access to prohibited products. Use of children's personal data for AI training requires parental or age-appropriate consent. Violations may result in civil penalties, and harmed children (or their guardians) can seek damages. The act also creates a state fund for enforcement and allows coordination with other laws to avoid duplicative compliance.\n",
      "['artificial-intelligence', 'california', 'children', 'legislation', 'privacy', 'risk-assessment', 'data-protection', 'ai-ethics']\n"
     ]
    }
   ],
   "source": [
    "bill = \"AB1064\"\n",
    "aiBillsSummaries[period][bill] = addSummaries(period, bill)"
   ]
  },
  {
   "cell_type": "code",
   "execution_count": 346,
   "id": "7b50d054",
   "metadata": {},
   "outputs": [
    {
     "name": "stdout",
     "output_type": "stream",
     "text": [
      "California Assembly Bill 1137 (2025-2026) proposes amendments to strengthen requirements for social media platforms in addressing child sexual abuse material (CSAM). The bill mandates clear and conspicuous reporting mechanisms for California users to report CSAM, expands liability to cases where any minor is depicted (not just the reporting user), and requires reports to be reviewed via hash matching or, if necessary, by a human reviewer. Noncompliant platforms face significant civil penalties and damages, including new penalties collectible by public attorneys and liability to depicted individuals. The bill also revises audit requirements for platforms to maintain exemption from liability for facilitating or aiding commercial sexual exploitation, mandating third-party audits and public release of audit results. Provisions are made severable to ensure continued enforcement if parts are invalidated.\n",
      "['artificial-intelligence', 'california', 'legislation', 'social-media', 'child-protection', 'civil-code', 'online-safety', 'content-moderation', 'commercial-sexual-exploitation']\n"
     ]
    }
   ],
   "source": [
    "bill = \"AB1137\"\n",
    "aiBillsSummaries[period][bill] = addSummaries(period, bill)"
   ]
  },
  {
   "cell_type": "code",
   "execution_count": 347,
   "id": "15967a99",
   "metadata": {},
   "outputs": [
    {
     "name": "stdout",
     "output_type": "stream",
     "text": [
      "California Assembly Bill 1159, introduced by Assembly Member Addis, amends and expands existing state privacy laws (KOPIPA and ELPIPA) to strengthen protections for student personal information in preschool, K-12, and higher education settings. The bill extends these protections to operators of internet websites, online services, applications, and mobile apps designed or marketed for educational purposes, prohibiting the use of student data—including persistent unique identifiers—for training generative artificial intelligence systems or developing AI unless it directly serves educational purposes and benefits the school. The bill also establishes the Higher Education Student Information Protection Act (HESIPA), effective July 1, 2026, applying similar privacy standards to higher education students. Additionally, students or their guardians who are harmed by noncompliance may bring civil actions for damages and injunctive relief. The bill clarifies operator responsibilities for data retention, deletion, and disclosure, as well as exceptions for legitimate educational, research, and legal uses.\n",
      "['artificial-intelligence', 'student-privacy', 'california', 'education-technology', 'data-protection', 'legislation', 'generative-ai', 'k-12', 'higher-education']\n"
     ]
    }
   ],
   "source": [
    "bill = \"AB1159\"\n",
    "aiBillsSummaries[period][bill] = addSummaries(period, bill)"
   ]
  },
  {
   "cell_type": "code",
   "execution_count": 348,
   "id": "a48555b0",
   "metadata": {},
   "outputs": [
    {
     "name": "stdout",
     "output_type": "stream",
     "text": [
      "Assembly Bill 1170, introduced by Assembly Member Dixon during the California Legislature's 2025–2026 session, is a wide-ranging 'Maintenance of the Codes' bill that implements nonsubstantive changes across numerous sections of California's codes as recommended by the Legislative Counsel. The bill amends, updates, or clarifies language in hundreds of sections spanning the Business and Professions, Civil, Corporations, Education, Elections, Fish and Game, Food and Agricultural, Government, Health and Safety, Insurance, Labor, Military and Veterans, Penal, Public Contract, Public Resources, Public Utilities, Revenue and Taxation, Streets and Highways, Unemployment Insurance, Vehicle, Water, and Welfare and Institutions Codes, among others. It addresses technical corrections, codifies recent statutory changes, and ensures statutory consistency without altering substantive policy. Notably, the bill also includes updates related to artificial intelligence, privacy, housing, environmental regulations, public health, education, labor law, and other areas to streamline and maintain the accuracy of California’s statutory framework. The bill does not require appropriations, is not subject to a fiscal committee, and does not create a local program.\n",
      "['artificial-intelligence', 'california-legislature', 'statutory-maintenance', 'public-policy', 'government', 'legal-updates', 'privacy', 'housing', 'environment', 'public-health', 'education', 'labor-law']\n"
     ]
    }
   ],
   "source": [
    "bill = \"AB1170\"\n",
    "aiBillsSummaries[period][bill] = addSummaries(period, bill)"
   ]
  },
  {
   "cell_type": "code",
   "execution_count": 349,
   "id": "c51f4d2e",
   "metadata": {},
   "outputs": [
    {
     "name": "stdout",
     "output_type": "stream",
     "text": [
      "Assembly Bill 1242, introduced by Assembly Member Nguyen, amends California's language access laws to expand and strengthen requirements for state agencies to provide services and information in non-English languages. The bill revises the definition of 'substantial number of non-English-speaking people' to include those eligible for services, requires more comprehensive language needs assessments using census and community data, and mandates detailed implementation plans and reporting. It establishes a Language Access Director within the California Health and Human Services Agency to oversee and coordinate language access efforts, ensure the use of qualified interpreters and translators (with limits on machine or AI translation unless reviewed by a human), and engage with limited English proficient and deaf or hard of hearing communities. The bill also requires each department to develop a Language Access Plan and allocates funding for these efforts, with biennial reports to the Legislature on progress and challenges.\n",
      "['artificial-intelligence', 'california', 'language-access', 'bilingual-services', 'government', 'legislation', 'public-services', 'translation', 'interpretation', 'deaf-hard-of-hearing', 'health-and-human-services', 'equity', 'state-agencies']\n"
     ]
    }
   ],
   "source": [
    "bill = \"AB1242\"\n",
    "aiBillsSummaries[period][bill] = addSummaries(period, bill)"
   ]
  },
  {
   "cell_type": "code",
   "execution_count": 350,
   "id": "152b35cc",
   "metadata": {},
   "outputs": [
    {
     "name": "stdout",
     "output_type": "stream",
     "text": [
      "Senate Bill 7, introduced by Senator McNerney in California's 2025–2026 legislative session, regulates the use of automated decision systems (ADS), including artificial intelligence, in employment decisions. The bill requires employers to provide advance written notice to workers when ADS are used, maintain and share an updated list of such systems, and detail how these systems impact employment-related decisions. Employers must allow workers to access and correct their data, prohibit the use of ADS for certain sensitive or discriminatory purposes, and ensure that human review is involved in key employment actions. Workers have the right to appeal ADS-based decisions, with clear timelines for responses and remedies. The bill prohibits retaliation against workers for asserting their rights and establishes enforcement mechanisms, including civil actions and penalties for violations.\n",
      "['artificial-intelligence', 'employment-law', 'automated-decision-systems', 'worker-rights', 'california-legislation', 'data-privacy', 'labor-law', 'ai-regulation']\n"
     ]
    }
   ],
   "source": [
    "bill = \"SB7\"\n",
    "aiBillsSummaries[period][bill] = addSummaries(period, bill)"
   ]
  },
  {
   "cell_type": "code",
   "execution_count": 351,
   "id": "77afebe2",
   "metadata": {},
   "outputs": [
    {
     "name": "stdout",
     "output_type": "stream",
     "text": [
      "Senate Bill 11, introduced by Senator Ashby in the California Legislature, aims to address the misuse of artificial intelligence (AI) technologies that create digital replicas of individuals. The bill redefines relevant legal terms, clarifies that the use of digital replicas to impersonate someone constitutes false personation under criminal law, and updates civil law to treat unauthorized, realistic digital replicas of a person's voice or likeness as equivalent to genuine use. It removes certain legal presumptions protecting advertisers and requires AI providers to issue consumer warnings about potential civil or criminal liability for misuse, with penalties for noncompliance. Additionally, the Judicial Council must develop court rules to address AI-generated or manipulated evidence by 2027.\n",
      "['artificial-intelligence', 'california-legislation', 'digital-replica', 'privacy', 'consumer-protection', 'civil-law', 'criminal-law', 'evidence-law']\n"
     ]
    }
   ],
   "source": [
    "bill = \"SB11\"\n",
    "aiBillsSummaries[period][bill] = addSummaries(period, bill)"
   ]
  },
  {
   "cell_type": "code",
   "execution_count": 352,
   "id": "8f5918ed",
   "metadata": {},
   "outputs": [
    {
     "name": "stdout",
     "output_type": "stream",
     "text": [
      "Senate Bill 16 (2025), introduced by Senator Blakespear, amends California law to enhance local government responsibilities and regional coordination in addressing homelessness. The bill establishes Round 7 of the Homeless Housing, Assistance, and Prevention (HHAP) program, requiring cities and counties to collaborate on regionally coordinated homeless action plans, with counties contributing 50% of city shelter operating costs or a feasible percentage determined by the state. It mandates new data collection, reporting, and planning requirements for local housing elements, including detailed assessments and actions to reduce homelessness, especially for jurisdictions not receiving HHAP funds. The bill also integrates HHAP Round 7 activities into county behavioral health planning and ensures state reimbursement for any new local government mandates. These changes apply to all California cities, including charter cities, and aim to strengthen interim housing, regional collaboration, and alignment with behavioral health services to address the state’s homelessness crisis.\n",
      "['artificial-intelligence', 'california', 'homelessness', 'housing-policy', 'legislation', 'senate-bill-16', 'behavioral-health', 'local-government', 'public-policy', '2025']\n"
     ]
    }
   ],
   "source": [
    "bill = \"SB16\"\n",
    "aiBillsSummaries[period][bill] = addSummaries(period, bill)"
   ]
  },
  {
   "cell_type": "code",
   "execution_count": 353,
   "id": "6de70741",
   "metadata": {},
   "outputs": [
    {
     "name": "stdout",
     "output_type": "stream",
     "text": [
      "Senate Bill 53, introduced by Senator Wiener in the 2025-2026 California Legislature, would establish a consortium within the Government Operations Agency to develop a framework for the creation of 'CalCompute,' a public cloud computing cluster aimed at supporting the safe, ethical, equitable, and sustainable development of artificial intelligence (AI). The consortium, composed of representatives from academia, labor, public interest groups, and AI experts, would produce a report with recommendations for CalCompute's structure, governance, and workforce development by January 1, 2027, after which the consortium would dissolve. The bill also introduces new whistleblower protections for employees involved with high-risk AI foundation models, prohibiting retaliation against those who report critical risks or false statements related to AI development and requiring developers to maintain internal processes for anonymous disclosures and clear employee notifications of their rights.\n",
      "['artificial-intelligence', 'california-legislation', 'cloud-computing', 'public-sector', 'whistleblower-protection', 'foundation-models', 'technology-policy', 'ai-safety', 'labor-law']\n"
     ]
    }
   ],
   "source": [
    "bill = \"SB53\"\n",
    "aiBillsSummaries[period][bill] = addSummaries(period, bill)"
   ]
  },
  {
   "cell_type": "code",
   "execution_count": 354,
   "id": "8a753af0",
   "metadata": {},
   "outputs": [
    {
     "name": "stdout",
     "output_type": "stream",
     "text": [
      "Senate Bill 57, the Ratepayer and Technological Innovation Protection Act, directs the California Public Utilities Commission to create or modify a special electricity tariff for large-scale 'eligible customers' (such as major data centers) by July 1, 2026. The bill aims to support technological innovation and the growing power needs of artificial intelligence infrastructure while protecting existing ratepayers from cost increases, ensuring just and reasonable rates, and advancing California's climate goals. The commission may require these customers to implement distributed energy storage and backup systems and can set minimum zero-carbon energy procurement requirements. The bill does not require state reimbursement to local agencies, as any costs arise from changes to criminal law.\n",
      "['artificial-intelligence', 'california-legislation', 'electricity', 'public-utilities', 'data-centers', 'energy-policy', 'zero-carbon', 'ratepayer-protection', 'climate-goals']\n"
     ]
    }
   ],
   "source": [
    "bill = \"SB57\"\n",
    "aiBillsSummaries[period][bill] = addSummaries(period, bill)"
   ]
  },
  {
   "cell_type": "code",
   "execution_count": 355,
   "id": "33efa7eb",
   "metadata": {},
   "outputs": [
    {
     "name": "stdout",
     "output_type": "stream",
     "text": [
      "Senate Bill 243, introduced in the California Legislature's 2025–2026 session, seeks to regulate companion chatbot platforms by requiring operators to take steps to prevent chatbots from using unpredictable reward systems or encouraging excessive engagement, and to implement protocols for addressing suicidal ideation or self-harm expressed by users, including publishing these protocols online. Operators must provide regular notifications that chatbots are not human, disclose that chatbots may not be suitable for some minors, submit to third-party audits, and annually report incidents of detected suicidal ideation to the Office of Suicide Prevention, which will publish aggregate data. The bill allows individuals harmed by noncompliance to seek civil remedies and ensures these requirements are in addition to existing laws.\n",
      "['artificial-intelligence', 'california-legislation', 'chatbots', 'mental-health', 'suicide-prevention', 'technology-regulation', 'consumer-protection']\n"
     ]
    }
   ],
   "source": [
    "bill = \"SB243\"\n",
    "aiBillsSummaries[period][bill] = addSummaries(period, bill)"
   ]
  },
  {
   "cell_type": "code",
   "execution_count": 356,
   "id": "28baea81",
   "metadata": {},
   "outputs": [
    {
     "name": "stdout",
     "output_type": "stream",
     "text": [
      "Senate Bill 295, the California Preventing Algorithmic Collusion Act of 2025, aims to regulate the use of pricing algorithms by businesses in California to prevent anticompetitive practices. The bill requires companies, upon request by the Attorney General, to provide information about their pricing algorithms and mandates that specified corporate officers certify the accuracy of these reports under civil penalty. It prohibits the use or distribution of pricing algorithms that use or are trained on competitor data, and contracts violating these provisions are deemed void. Companies with $5 million or more in annual revenue must disclose to customers and workers when prices or commercial terms are set or recommended by algorithms, with noncompliance constituting an unfair trade practice. The Attorney General or district attorneys are empowered to enforce these rules with civil penalties, forfeiture of corporate rights, and other remedies.\n",
      "['artificial-intelligence', 'california', 'legislation', 'antitrust', 'business-regulation', 'pricing-algorithms', 'competition-law', 'consumer-protection']\n"
     ]
    }
   ],
   "source": [
    "bill = \"SB295\"\n",
    "aiBillsSummaries[period][bill] = addSummaries(period, bill)"
   ]
  },
  {
   "cell_type": "code",
   "execution_count": 357,
   "id": "6e0e2df1",
   "metadata": {},
   "outputs": [
    {
     "name": "stdout",
     "output_type": "stream",
     "text": [
      "Senate Bill 354, the Insurance Consumer Privacy Protection Act of 2025, introduced by Senator Limón, establishes comprehensive new privacy standards for how insurance licensees and their third-party service providers in California collect, process, retain, and share consumers' personal information. The bill builds on the California Consumer Privacy Act (CCPA) and the California Privacy Rights Act (CPRA), aiming to bring insurance privacy laws up to date with modern data practices. It requires clear privacy notices, consumer consent for non-insurance uses of data, limits on sensitive information use, rights for consumers to access, correct, or delete their data, and prohibits retaliation for exercising privacy rights. The bill also mandates data minimization, record retention policies, robust oversight of third-party providers, and breach notification requirements. Enforcement powers are given to the Insurance Commissioner, including hearings, penalties up to $1 million, and potential license suspension. The bill preempts inconsistent state laws, creates new misdemeanor penalties for fraudulent data access, and contains strong confidentiality provisions for regulatory investigations.\n",
      "['artificial-intelligence', 'california', 'insurance', 'privacy', 'consumer-rights', 'data-protection', 'legislation', 'senate-bill-354', 'limón', 'personal-information', 'third-party-service-providers']\n"
     ]
    }
   ],
   "source": [
    "bill = \"SB354\"\n",
    "aiBillsSummaries[period][bill] = addSummaries(period, bill)"
   ]
  },
  {
   "cell_type": "code",
   "execution_count": 358,
   "id": "82973435",
   "metadata": {},
   "outputs": [
    {
     "name": "stdout",
     "output_type": "stream",
     "text": [
      "Senate Bill 366, introduced by Senator Smallwood-Cuevas in the 2025–2026 California legislative session, directs the Department of General Services to contract with the UCLA Labor Center to study how artificial intelligence affects worker well-being, job quality, job types, different populations, and state revenues. The Department must submit a report of the study’s findings to the Legislature by June 1, 2027, after which the bill's provisions will be repealed.\n",
      "['artificial-intelligence', 'california-legislation', 'labor', 'worker-well-being', 'ucla', 'government-study', 'job-quality', 'state-revenue']\n"
     ]
    }
   ],
   "source": [
    "bill = \"SB366\"\n",
    "aiBillsSummaries[period][bill] = addSummaries(period, bill)"
   ]
  },
  {
   "cell_type": "code",
   "execution_count": 359,
   "id": "defabbe8",
   "metadata": {},
   "outputs": [
    {
     "name": "stdout",
     "output_type": "stream",
     "text": [
      "Senate Bill 420, introduced by Senator Padilla in California's 2025-2026 legislative session, aims to regulate the development and deployment of high-risk automated decision systems (AI systems) that significantly impact individuals in areas like employment, education, housing, health care, and essential services. The bill requires developers and deployers of such systems to conduct impact assessments to identify and mitigate risks of algorithmic discrimination, provide transparency about system use and data, and offer individuals the right to appeal AI-driven decisions to a human reviewer. State agencies must keep certain AI documentation confidential, and the Attorney General or Civil Rights Department is empowered to enforce compliance through civil actions and penalties. The bill excludes small entities and federally regulated systems, prohibits state contracts with violators, and seeks to protect privacy, fairness, and accountability in AI usage without disclosing trade secrets.\n",
      "['artificial-intelligence', 'california', 'legislation', 'privacy', 'algorithmic-discrimination', 'automated-decision-systems', 'consumer-protection', 'civil-rights', 'ai-regulation', 'public-policy']\n"
     ]
    }
   ],
   "source": [
    "bill = \"SB420\"\n",
    "aiBillsSummaries[period][bill] = addSummaries(period, bill)"
   ]
  },
  {
   "cell_type": "code",
   "execution_count": 360,
   "id": "43bef05b",
   "metadata": {},
   "outputs": [
    {
     "name": "stdout",
     "output_type": "stream",
     "text": [
      "California Senate Bill 468, introduced by Senator Becker for the 2025–2026 session, would require businesses that deploy high-risk artificial intelligence (AI) systems processing personal information to implement comprehensive information security programs with detailed administrative, technical, and physical safeguards. The bill defines key terms, aligns safeguards with existing state and federal privacy laws, and mandates regular risk assessments, employee training, access controls, encryption, and oversight of third-party service providers. Violations would be considered deceptive trade practices under California's Unfair Competition Law, and the California Privacy Protection Agency would have authority to adopt related regulations. The bill aims to further the goals of the California Privacy Rights Act of 2020 by enhancing protections for consumers' personal information in the context of high-risk AI.\n",
      "['artificial-intelligence', 'california', 'privacy', 'personal-information', 'data-security', 'legislation', 'ccpa', 'cpra', 'unfair-competition-law']\n"
     ]
    }
   ],
   "source": [
    "bill = \"SB468\"\n",
    "aiBillsSummaries[period][bill] = addSummaries(period, bill)"
   ]
  },
  {
   "cell_type": "code",
   "execution_count": 361,
   "id": "f09bad73",
   "metadata": {},
   "outputs": [
    {
     "name": "stdout",
     "output_type": "stream",
     "text": [
      "Senate Bill 503, introduced in the California Legislature's 2025–2026 session, requires developers and users of patient care decision support tools in health care settings to identify when such tools use input factors related to protected characteristics, make efforts to mitigate discrimination risks, and test these tools for biased impacts at least every three years. The bill applies to health facilities, clinics, physician offices, and group practices, and defines key terms such as 'biased impact,' 'developer,' 'deployer,' and 'protected characteristic.' The bill also mandates clear AI disclaimers in patient communications unless reviewed by a human provider, aiming to address and reduce algorithmic bias in health care decision-making.\n",
      "['artificial-intelligence', 'health-care', 'legislation', 'california', 'algorithmic-bias', 'patient-care', 'discrimination', 'regulation']\n"
     ]
    }
   ],
   "source": [
    "bill = \"SB503\"\n",
    "aiBillsSummaries[period][bill] = addSummaries(period, bill)"
   ]
  },
  {
   "cell_type": "code",
   "execution_count": 362,
   "id": "f6227b80",
   "metadata": {},
   "outputs": [
    {
     "name": "stdout",
     "output_type": "stream",
     "text": [
      "Senate Bill 524, introduced by Senator Arreguín in the California Legislature's 2025–2026 session, would require all law enforcement agencies in California to adopt policies mandating that any official report generated using artificial intelligence (AI)—whether fully or partially—must include a disclosure statement on each page and specify the AI program used. The bill also requires agencies to retain all drafts of AI-generated reports, maintain audit trails tracking who created or edited reports and what media was used, and defines key terms. If the bill imposes state-mandated costs, local agencies and school districts would be eligible for reimbursement.\n",
      "['artificial-intelligence', 'law-enforcement', 'california', 'senate-bill-524', 'reporting', 'audit-trail', 'public-policy', 'transparency', 'state-mandate']\n"
     ]
    }
   ],
   "source": [
    "bill = \"SB524\"\n",
    "aiBillsSummaries[period][bill] = addSummaries(period, bill)"
   ]
  },
  {
   "cell_type": "code",
   "execution_count": 363,
   "id": "09a5e5e1",
   "metadata": {},
   "outputs": [
    {
     "name": "stdout",
     "output_type": "stream",
     "text": [
      "Senate Bill 579, introduced by Senator Padilla, requires the California Secretary of Government Operations to appoint a mental health and artificial intelligence working group by July 1, 2026. This group will evaluate the role, benefits, risks, and ethical considerations of artificial intelligence in mental health settings, gather input from diverse stakeholders, and hold at least three public meetings. The working group must submit a report with findings, best practices, and training frameworks for mental health professionals to the Legislature by July 1, 2028, and a follow-up report on implementation by January 1, 2030. The bill's provisions are set to be repealed on July 1, 2031.\n",
      "['artificial-intelligence', 'california-legislation', 'mental-health', 'working-group', 'public-policy', 'healthcare', 'ethics', 'technology', 'government']\n"
     ]
    }
   ],
   "source": [
    "bill = \"SB579\"\n",
    "aiBillsSummaries[period][bill] = addSummaries(period, bill)"
   ]
  },
  {
   "cell_type": "code",
   "execution_count": 364,
   "id": "078b4ded",
   "metadata": {},
   "outputs": [
    {
     "name": "stdout",
     "output_type": "stream",
     "text": [
      "Senate Bill 711 (SB 711), as amended in the California Senate on March 26, 2025, updates the state's tax laws to conform to the federal Internal Revenue Code as of January 1, 2025, for taxable years beginning on or after that date. The bill makes numerous changes to the California Revenue and Taxation Code, including updating references to federal law, repealing obsolete provisions, and specifying which federal tax provisions California will or will not adopt. It modifies or rejects certain federal changes from recent tax acts, clarifies the treatment of tax credits, deductions, net operating losses, Roth IRAs, capital assets, and various other tax matters for both individuals and corporations. The bill also immediately repeals prior provisions related to school nutrition reimbursement for guardians, shifting its focus entirely to tax law conformity, and declares itself an urgency statute to take effect immediately to provide tax relief and reduce administrative burdens.\n",
      "['artificial-intelligence', 'california', 'tax-law', 'federal-conformity', 'revenue-and-taxation', 'legislation', 'tax-credits', 'income-tax', 'corporate-tax', 'net-operating-loss', 'urgency-statute']\n"
     ]
    }
   ],
   "source": [
    "bill = \"SB711\"\n",
    "aiBillsSummaries[period][bill] = addSummaries(period, bill)"
   ]
  },
  {
   "cell_type": "code",
   "execution_count": 365,
   "id": "3cad2fe3",
   "metadata": {},
   "outputs": [
    {
     "name": "stdout",
     "output_type": "stream",
     "text": [
      "Senate Bill 813, introduced by Senator McNerney in the 2025–2026 California legislative session, establishes a process for the Attorney General to designate private entities as Multistakeholder Regulatory Organizations (MROs) responsible for certifying the safety and risk mitigation of artificial intelligence (AI) models and applications. These MROs must meet specific requirements, including presenting detailed plans for managing high-impact risks like cybersecurity and AI autonomy, and are tasked with certifying, decertifying, and annually reporting on AI systems' safety and compliance. The bill provides an affirmative defense against civil liability for personal injury or property damage if the AI system was MRO-certified at the time of the incident, aiming to foster responsible AI development, public-private cooperation, and innovation while ensuring robust oversight and transparency.\n",
      "['artificial-intelligence', 'california-legislation', 'ai-regulation', 'public-private-partnerships', 'technology-policy', 'risk-mitigation', 'legal-liability']\n"
     ]
    }
   ],
   "source": [
    "bill = \"SB813\"\n",
    "aiBillsSummaries[period][bill] = addSummaries(period, bill)"
   ]
  },
  {
   "cell_type": "code",
   "execution_count": 366,
   "id": "3a49f561",
   "metadata": {},
   "outputs": [
    {
     "name": "stdout",
     "output_type": "stream",
     "text": [
      "Senate Bill 833, introduced by Senator McNerney in the California Legislature's 2025–2026 session, requires state agencies operating critical infrastructure to establish real-time human oversight for any deployed artificial intelligence (AI) systems, including reviewing and approving AI-proposed actions before execution, except where such oversight would destabilize essential automated systems. The Department of Technology must provide specialized training in AI safety and risk management to oversight personnel, and agencies must conduct annual assessments of their AI and automated decision systems, evaluating compliance, safety, and potential risks, with findings submitted to the Department. The bill aims to enhance cybersecurity and safety in critical state infrastructure by ensuring human control and accountability over AI operations.\n",
      "['artificial-intelligence', 'california-legislation', 'critical-infrastructure', 'human-oversight', 'cybersecurity', 'government', 'risk-management', 'senate-bill-833']\n"
     ]
    }
   ],
   "source": [
    "bill = \"SB833\"\n",
    "aiBillsSummaries[period][bill] = addSummaries(period, bill)"
   ]
  },
  {
   "cell_type": "markdown",
   "id": "0ec1a813",
   "metadata": {},
   "source": [
    "<h1 style=\"font-weight:bold; color:orangered; border-bottom: 2px solid orangered\">3. Save Bill Summaries</h1>"
   ]
  },
  {
   "cell_type": "code",
   "execution_count": 367,
   "id": "06034f3b",
   "metadata": {},
   "outputs": [],
   "source": [
    "# Export the summaries to a JSON file in the data/legiscan/json directory\n",
    "with open(os.path.join(prjDirs[\"pathDataLegis\"], \"json\", \"aiBillsSummaries.json\"), 'w') as f:\n",
    "    json.dump(aiBillsSummaries, f, indent=4)\n",
    "del f"
   ]
  },
  {
   "cell_type": "markdown",
   "id": "c6e3b3c4",
   "metadata": {},
   "source": [
    "<div style = \"background-color:indigo\"><center>\n",
    "<h1 style=\"font-weight:bold; color:goldenrod; border-top: 2px solid goldenrod; border-bottom: 2px solid goldenrod; padding-top: 5px; padding-bottom: 10px\">End of Script</h1>\n",
    "</center></div>"
   ]
  },
  {
   "cell_type": "markdown",
   "id": "a0dd3627",
   "metadata": {},
   "source": []
  }
 ],
 "metadata": {
  "kernelspec": {
   "display_name": "drkPy",
   "language": "python",
   "name": "python3"
  },
  "language_info": {
   "codemirror_mode": {
    "name": "ipython",
    "version": 3
   },
   "file_extension": ".py",
   "mimetype": "text/x-python",
   "name": "python",
   "nbconvert_exporter": "python",
   "pygments_lexer": "ipython3",
   "version": "3.11.11"
  }
 },
 "nbformat": 4,
 "nbformat_minor": 5
}
