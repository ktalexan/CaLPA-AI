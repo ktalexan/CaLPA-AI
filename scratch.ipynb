{
 "cells": [
  {
   "cell_type": "markdown",
   "id": "eab3bc86",
   "metadata": {},
   "source": [
    "# CaLPA Scratch Folder"
   ]
  },
  {
   "cell_type": "markdown",
   "id": "57e5ba04",
   "metadata": {},
   "source": [
    "This is a scratch notebook used to test the code and functionality of the AI California Legislative Policy Analysis (CALPA) system. It is not intended for production use and may contain incomplete or experimental code. The purpose of this notebook is to facilitate the development and testing of the CALPA system, including its data processing, analysis, and visualization components. The notebook may include code snippets, comments, and notes related to the development process. Please refer to the official documentation and user guides for the CALPA system for more information on its usage and features."
   ]
  },
  {
   "cell_type": "code",
   "execution_count": null,
   "id": "f176218c",
   "metadata": {},
   "outputs": [],
   "source": [
    "#%reset"
   ]
  },
  {
   "cell_type": "markdown",
   "id": "d36f40d4",
   "metadata": {},
   "source": [
    "## Initialization"
   ]
  },
  {
   "cell_type": "code",
   "execution_count": 2,
   "id": "54fee68e",
   "metadata": {},
   "outputs": [],
   "source": [
    "# Import required libraries\n",
    "import os\n",
    "import time\n",
    "from datetime import date\n",
    "from datetime import datetime\n",
    "import json\n",
    "import mimetypes\n",
    "import glob\n",
    "import base64\n",
    "import zipfile\n",
    "import io\n",
    "import dotenv\n",
    "import requests\n",
    "import pandas as pd\n",
    "import feedparser\n",
    "import webbrowser\n",
    "from mrkdwn_analysis import MarkdownAnalyzer\n",
    "\n",
    "# Import the calpa library\n",
    "from calpa import calpa"
   ]
  },
  {
   "cell_type": "code",
   "execution_count": 3,
   "id": "4b3d7fc8",
   "metadata": {},
   "outputs": [
    {
     "name": "stdout",
     "output_type": "stream",
     "text": [
      "~~~~~~~~~~~~~~~~~~~~~~~~~~~~~~~~~~~~~~~~~~~~~~~~~~~~~~~~~~~~~~~~~~~~~~~~~~~~~~~~~~\n",
      " AI Legislative Policy Analysis (CaLPA-AI)\n",
      " California Legislative Policy Analysis for Artificial Intelligence Related Bills\n",
      " Part 1 - Preliminary Operations\n",
      " Version 1.0 (MIT License), Dr. Kostas Alexandridis, GISP\n",
      " GitHub Repository: https://github.com/ktalexan/CaLPA\n",
      " Last Updated: Apr 28, 2025\n",
      "~~~~~~~~~~~~~~~~~~~~~~~~~~~~~~~~~~~~~~~~~~~~~~~~~~~~~~~~~~~~~~~~~~~~~~~~~~~~~~~~~~\n",
      "\n",
      "Dates: 2010-12-02 through 2025-04-28\n",
      "Periods: 2009-2010, 2011-2012, 2013-2014, 2015-2016, 2017-2018, 2019-2020, 2021-2022, 2023-2024, 2025-2026\n",
      "Directory Global Settings:\n",
      "\n",
      "General:\n",
      "- Project (pathPrj): c:\\Users\\ktale\\OneDrive\\Documents\\GitHub\\CaLPA\n",
      "- Admin (pathAdmin): c:\\Users\\ktale\\OneDrive\\Documents\\GitHub\\CaLPA\\admin\n",
      "- Metadata (pathMetadata): c:\\Users\\ktale\\OneDrive\\Documents\\GitHub\\CaLPA\\metadata\n",
      "- Analysis (pathAnalysis): c:\\Users\\ktale\\OneDrive\\Documents\\GitHub\\CaLPA\\analysis\n",
      "- Obsidian Vault (pathObsidian): C:\\Users\\ktale\\Knowledge Management\\Policy and Governance\\Legislation\n",
      "Scripts:\n",
      "- Python Calpa Module (pathScriptsCalpa): c:\\Users\\ktale\\OneDrive\\Documents\\GitHub\\CaLPA\\calpa\n",
      "- Markdown Scripts (pathScriptsMd): c:\\Users\\ktale\\OneDrive\\Documents\\GitHub\\CaLPA\\markdown\n",
      "- RIS Scripts (pathScriptsRis): c:\\Users\\ktale\\OneDrive\\Documents\\GitHub\\CaLPA\\ris\n",
      "Data:\n",
      "- Main Data (pathData): c:\\Users\\ktale\\OneDrive\\Documents\\GitHub\\CaLPA\\data\n",
      "- Documents (pathDataDocs): c:\\Users\\ktale\\OneDrive\\Documents\\GitHub\\CaLPA\\data\\docs\n",
      "- LegiScan (pathDataLegis): c:\\Users\\ktale\\OneDrive\\Documents\\GitHub\\CaLPA\\data\\legis\n",
      "- LookUp (pathDataLookup): c:\\Users\\ktale\\OneDrive\\Documents\\GitHub\\CaLPA\\data\\lookup\n",
      "- Markdown (pathDataMd): c:\\Users\\ktale\\OneDrive\\Documents\\GitHub\\CaLPA\\data\\md\n",
      "- RIS (pathDataBbl): c:\\Users\\ktale\\OneDrive\\Documents\\GitHub\\CaLPA\\data\\bbl\n",
      "Graphics:\n",
      "- Main Graphics (pathGraphics): c:\\Users\\ktale\\OneDrive\\Documents\\GitHub\\CaLPA\\graphics\n",
      "- Figures (pathGraphicsFigs): c:\\Users\\ktale\\OneDrive\\Documents\\GitHub\\CaLPA\\graphics\\figs\n",
      "- Presentations (pathGraphicsVisual): c:\\Users\\ktale\\OneDrive\\Documents\\GitHub\\CaLPA\\graphics\\visual\n"
     ]
    }
   ],
   "source": [
    "# Load environment variables from .env file\n",
    "dotenv.load_dotenv(os.path.join(os.getcwd(), '.env'))\n",
    "\n",
    "# Create project metadata for the AI project\n",
    "prjMetadata = calpa.projectMetadata(1)\n",
    "\n",
    "# Create the project directories dictionary\n",
    "prjDirs = calpa.projectDirectories(os.getcwd())\n",
    "\n",
    "# Instantiate the LegiScan and Calpa classes\n",
    "legiscan = calpa.LegiScan()\n"
   ]
  },
  {
   "cell_type": "code",
   "execution_count": 4,
   "id": "cb03295c",
   "metadata": {},
   "outputs": [
    {
     "name": "stdout",
     "output_type": "stream",
     "text": [
      "Codebook Lookup Variables:\n",
      "['lookupBillCode', 'lookupBillTextType', 'lookupBillType', 'lookupBodyType', 'lookupEventType', 'lookupMimeType', 'lookupPartyType', 'lookupProgressType', 'lookupReasonType', 'lookupRoleType', 'lookupSastType', 'lookupSponsorType', 'lookupStateType', 'lookupStatusType', 'lookupSupplementType', 'lookupVoteType']\n",
      "\n",
      "Codebook Dictionary Variables:\n",
      "['dictGetAmendment', 'dictGetBill', 'dictGetBillText', 'dictGetPerson', 'dictGetRollCall', 'dictGetSessionList', 'dictGetSupplement']\n",
      "\n"
     ]
    }
   ],
   "source": [
    "# Codebook lookup variables\n",
    "codebookLookupVars = [var for var in dir(calpa.codebook) if var.startswith('lookup')]\n",
    "codebookDictVars = [var for var in dir(calpa.codebook) if var.startswith('dict')]\n",
    "print(f\"Codebook Lookup Variables:\\n{codebookLookupVars}\\n\")\n",
    "print(f\"Codebook Dictionary Variables:\\n{codebookDictVars}\\n\")"
   ]
  },
  {
   "cell_type": "code",
   "execution_count": 5,
   "id": "e8d02a07",
   "metadata": {},
   "outputs": [],
   "source": [
    "# Obtain the stored sessions list from JSON dictionary on disk (data/lookup directory)\n",
    "sessionListStored = legiscan.getStoredData(dataType = \"session\")\n",
    "\n",
    "# Obtain the stored session People list from JSON dictionary on disk (data/lookup directory)\n",
    "sessionPeopleStored = legiscan.getStoredData(dataType = \"people\")\n",
    "\n",
    "# Obtain the stored dataset list from JSON dictionary on disk (data/lookup directory)\n",
    "datasetListStored = legiscan.getStoredData(dataType = \"dataset\")\n",
    "\n",
    "# Get the stored raw master list from JSON dictionary on disk (data/lookup directory)\n",
    "masterListRawStored = legiscan.getStoredData(dataType = \"master\", raw = True)\n",
    "# Get the stored master list from JSON dictionary on disk (data/lookup directory)\n",
    "masterListStored = legiscan.getStoredData(dataType = \"master\", raw = False)\n",
    "\n",
    "# Get the AI monitoring list from disk (data/lookup directory)\n",
    "aiBillListStored = legiscan.getStoredData(dataType = \"bills\", project = \"AI\")\n",
    "\n",
    "# Get the AI full list of bills from dism (data/legis/json directory)\n",
    "aiBills = legiscan.getStoredData(dataType = \"data\", project = \"AI\")\n",
    "\n",
    "# Get the AI bill summries list from disk (data/lookup directory)\n",
    "aiBillsSummariesStored = legiscan.getStoredData(dataType = \"summaries\", project = \"AI\")"
   ]
  },
  {
   "cell_type": "markdown",
   "id": "03c2279f",
   "metadata": {},
   "source": [
    "## End of Initialization"
   ]
  },
  {
   "cell_type": "code",
   "execution_count": null,
   "id": "6d0291e3",
   "metadata": {},
   "outputs": [],
   "source": [
    "# open test[\"main\"] in a web browser\n",
    "webbrowser.open(test[\"status\"])"
   ]
  },
  {
   "cell_type": "code",
   "execution_count": null,
   "id": "457d1436",
   "metadata": {},
   "outputs": [],
   "source": [
    "webbrowser.open(aiBills[\"2013-2014\"][\"AB1465\"][\"url\"], new=2, autoraise=True)"
   ]
  },
  {
   "cell_type": "code",
   "execution_count": null,
   "id": "3a0b68ef",
   "metadata": {},
   "outputs": [],
   "source": [
    "webbrowser.open(aiBills[\"2013-2014\"][\"AB1465\"][\"state_link\"], new=2, autoraise=True)"
   ]
  },
  {
   "cell_type": "code",
   "execution_count": null,
   "id": "cb65ce76",
   "metadata": {},
   "outputs": [],
   "source": [
    "\n",
    "analyzer = MarkdownAnalyzer(samplePath)\n",
    "\n",
    "headers = analyzer.identify_headers()\n",
    "paragraphs = analyzer.identify_paragraphs()\n",
    "blockquotes = analyzer.identify_blockquotes()\n",
    "links = analyzer.identify_links()\n",
    "codeBlocks = analyzer.identify_code_blocks()"
   ]
  },
  {
   "cell_type": "code",
   "execution_count": null,
   "id": "1879efa1",
   "metadata": {},
   "outputs": [],
   "source": [
    "analysis = analyzer.analyse()\n",
    "\n",
    "print(analysis)"
   ]
  },
  {
   "cell_type": "code",
   "execution_count": null,
   "id": "1333511a",
   "metadata": {},
   "outputs": [],
   "source": [
    "headers"
   ]
  },
  {
   "cell_type": "code",
   "execution_count": null,
   "id": "4667d7a4",
   "metadata": {},
   "outputs": [],
   "source": [
    "paragraphs"
   ]
  },
  {
   "cell_type": "code",
   "execution_count": null,
   "id": "dbd793cd",
   "metadata": {},
   "outputs": [],
   "source": [
    "links"
   ]
  },
  {
   "cell_type": "code",
   "execution_count": null,
   "id": "e5157eb1",
   "metadata": {},
   "outputs": [],
   "source": [
    "import io\n",
    "import pypandoc\n",
    "import panflute\n",
    "\n",
    "def action(elem, doc):\n",
    "    if isinstance(elem, panflute.Image):\n",
    "        doc.images.append(elem)\n",
    "    elif isinstance(elem, panflute.Link):\n",
    "        doc.links.append(elem)\n",
    "\n",
    "if __name__ == '__main__':\n",
    "    data = pypandoc.convert_file('example.md', 'json')\n",
    "    doc = panflute.load(io.StringIO(data))\n",
    "    doc.images = []\n",
    "    doc.links = []\n",
    "    doc = panflute.run_filter(action, prepare=prepare, doc=doc)\n",
    "\n",
    "    print(\"\\nList of image URLs:\")\n",
    "    for image in doc.images:\n",
    "        print(image.url)"
   ]
  },
  {
   "cell_type": "code",
   "execution_count": 51,
   "id": "5b1e3d03",
   "metadata": {},
   "outputs": [
    {
     "name": "stdout",
     "output_type": "stream",
     "text": [
      "3 bills added\n"
     ]
    },
    {
     "data": {
      "text/plain": [
       "{'SB836': {'relevance': 100,\n",
       "  'state': 'CA',\n",
       "  'bill_number': 'SB836',\n",
       "  'bill_id': 577638,\n",
       "  'change_hash': '3638ac09cd094bfa00ceb018d027ba1a',\n",
       "  'url': 'https://legiscan.com/CA/bill/SB836/2013',\n",
       "  'text_url': 'https://legiscan.com/CA/text/SB836/2013',\n",
       "  'research_url': 'https://legiscan.com/CA/research/SB836/2013',\n",
       "  'last_action_date': '2014-06-24',\n",
       "  'last_action': 'Set, first hearing. Hearing canceled at the request of author.',\n",
       "  'title': 'Brain research: Cal-BRAIN program.'},\n",
       " 'SB860': {'relevance': 93,\n",
       "  'state': 'CA',\n",
       "  'bill_number': 'SB860',\n",
       "  'bill_id': 581712,\n",
       "  'change_hash': 'e38cd0ab53209fc7aaf182ffc8ba1f5b',\n",
       "  'url': 'https://legiscan.com/CA/bill/SB860/2013',\n",
       "  'text_url': 'https://legiscan.com/CA/text/SB860/2013',\n",
       "  'research_url': 'https://legiscan.com/CA/research/SB860/2013',\n",
       "  'last_action_date': '2014-06-20',\n",
       "  'last_action': 'Chaptered by Secretary of State. Chapter 34, Statutes of 2014.',\n",
       "  'title': 'Education finance: education omnibus trailer bill.'},\n",
       " 'AB1465': {'relevance': 87,\n",
       "  'state': 'CA',\n",
       "  'bill_number': 'AB1465',\n",
       "  'bill_id': 581806,\n",
       "  'change_hash': '20bb8b3a704cdb43730e1ecee46b680d',\n",
       "  'url': 'https://legiscan.com/CA/bill/AB1465/2013',\n",
       "  'text_url': 'https://legiscan.com/CA/text/AB1465/2013',\n",
       "  'research_url': 'https://legiscan.com/CA/research/AB1465/2013',\n",
       "  'last_action_date': '2014-06-26',\n",
       "  'last_action': 'Ordered to inactive file at the request of Senator Corbett.',\n",
       "  'title': 'Education finance: education omnibus trailer bill.'}}"
      ]
     },
     "execution_count": 51,
     "metadata": {},
     "output_type": "execute_result"
    }
   ],
   "source": [
    "legiscan.aiSearchQuery(sessionId = 993)"
   ]
  },
  {
   "cell_type": "code",
   "execution_count": 57,
   "id": "355526db",
   "metadata": {},
   "outputs": [
    {
     "name": "stdout",
     "output_type": "stream",
     "text": [
      "Test string 1\n",
      "Test string 2\n"
     ]
    }
   ],
   "source": [
    "print(\"Test string 1\")\n",
    "print(\"Test string 2\")"
   ]
  },
  {
   "cell_type": "code",
   "execution_count": 61,
   "id": "82e96e51",
   "metadata": {},
   "outputs": [
    {
     "name": "stdout",
     "output_type": "stream",
     "text": [
      "Test string 1| Test string 2; "
     ]
    }
   ],
   "source": [
    "print(\"Test string 1\", end=\"| \")\n",
    "print(\"Test string 2\", end=\"; \", flush=True)"
   ]
  },
  {
   "cell_type": "code",
   "execution_count": null,
   "id": "0c8da23f",
   "metadata": {},
   "outputs": [
    {
     "name": "stdout",
     "output_type": "stream",
     "text": [
      "red, green, blue, "
     ]
    }
   ],
   "source": [
    "colors = [\"red\", \"green\", \"blue\"]\n",
    "for c in colors:\n",
    "    print(c, end=\", \")"
   ]
  },
  {
   "cell_type": "code",
   "execution_count": 167,
   "id": "0c8bc433",
   "metadata": {},
   "outputs": [],
   "source": [
    "def head(label, type = \"general\", t=0):\n",
    "\n",
    "    # Convert each word except the first word to title case, and join them with nothing in between\n",
    "    words = label.split()\n",
    "    regionLabel = words[0].lower()+\"\".join(word.title() for word in words[1:])\n",
    "    \n",
    "    match(type):\n",
    "        case \"general\":\n",
    "            label = label\n",
    "        case \"function\":\n",
    "            label = f\"Function: {label}\"\n",
    "            regionLabel = f\"Function: {regionLabel}\"\n",
    "        case \"class\":\n",
    "            label = f\"Class: {label}\"\n",
    "            regionLabel = f\"Class: {regionLabel}\"\n",
    "        case \"method\":\n",
    "            label = f\"Method: {label}\"\n",
    "            regionLabel = f\"Method: {regionLabel}\"\n",
    "    print(t*\"   \")\n",
    "    print(t*\"   \",f\"# region {regionLabel}\")\n",
    "    print(t*\"   \",\"#\", f\" {label} \".center(80, \"~\"))\n",
    "    print(t*\"   \",\"#\", 80 * \"~\")\n",
    "    print(t*\"   \",f\"# endregion {regionLabel}\")\n",
    "    print(t*\"   \")\n",
    "    del words, label, regionLabel"
   ]
  },
  {
   "cell_type": "code",
   "execution_count": 192,
   "id": "e1d258bb",
   "metadata": {},
   "outputs": [
    {
     "name": "stdout",
     "output_type": "stream",
     "text": [
      "      \n",
      "       # region part1:DefineVariablesAndInputData\n",
      "       # ~~~~~~~~~~~~~~~~~~~ Part 1: Define Variables and Input Data ~~~~~~~~~~~~~~~~~~~~\n",
      "       # ~~~~~~~~~~~~~~~~~~~~~~~~~~~~~~~~~~~~~~~~~~~~~~~~~~~~~~~~~~~~~~~~~~~~~~~~~~~~~~~~\n",
      "       # endregion part1:DefineVariablesAndInputData\n",
      "      \n"
     ]
    }
   ],
   "source": [
    "head(\"Part 1: Define Variables and Input Data\", type = \"general\", t=2)"
   ]
  },
  {
   "cell_type": "code",
   "execution_count": 199,
   "id": "c7009567",
   "metadata": {},
   "outputs": [
    {
     "name": "stdout",
     "output_type": "stream",
     "text": [
      "# ~~~~~~~~~ Part 3: Create the Main Markdown Content Section of the File ~~~~~~~~~\n"
     ]
    }
   ],
   "source": [
    "print(\"#\", \" Part 3: Create the Main Markdown Content Section of the File \".center(80, \"~\"))"
   ]
  },
  {
   "cell_type": "code",
   "execution_count": 210,
   "id": "c6878c1d",
   "metadata": {},
   "outputs": [
    {
     "name": "stdout",
     "output_type": "stream",
     "text": [
      "# ~~~~~~~~~~~~~~~~ Webpage (iframe) ~~~~~~~~~~~~~~~~\n"
     ]
    }
   ],
   "source": [
    "print(\"#\", \" Webpage (iframe) \".center(50, \"~\"))\n"
   ]
  },
  {
   "cell_type": "code",
   "execution_count": 8,
   "id": "09c73311",
   "metadata": {},
   "outputs": [],
   "source": [
    "myNotesPath = os.path.join(\n",
    "            prjDirs[\"pathScriptsMd\"], \"notes\", \"2013-2014\", \"AB1465.md\"\n",
    "        )"
   ]
  },
  {
   "cell_type": "code",
   "execution_count": 10,
   "id": "0018b168",
   "metadata": {},
   "outputs": [
    {
     "name": "stdout",
     "output_type": "stream",
     "text": [
      "c:\\Users\\ktale\\OneDrive\\Documents\\GitHub\\CaLPA\\markdown\\notes\\2013-2014\\AB1465.md\n",
      "c:\\Users\\ktale\\OneDrive\\Documents\\GitHub\\CaLPA\\markdown\\notes\\2013-2014\n",
      "c:\\Users\\ktale\\OneDrive\\Documents\\GitHub\\CaLPA\\markdown\\notes\n"
     ]
    }
   ],
   "source": [
    "# Get the parent directory of the myNotesPath\n",
    "myNotesDir = os.path.dirname(myNotesPath)\n",
    "# Get the parent directory of the myNotesDir\n",
    "myNotesDirParent = os.path.dirname(myNotesDir)\n",
    "print(myNotesPath)\n",
    "print(myNotesDir)\n",
    "print(myNotesDirParent)"
   ]
  },
  {
   "cell_type": "code",
   "execution_count": null,
   "id": "1ff9988f",
   "metadata": {},
   "outputs": [],
   "source": []
  }
 ],
 "metadata": {
  "kernelspec": {
   "display_name": "drkPy",
   "language": "python",
   "name": "python3"
  },
  "language_info": {
   "codemirror_mode": {
    "name": "ipython",
    "version": 3
   },
   "file_extension": ".py",
   "mimetype": "text/x-python",
   "name": "python",
   "nbconvert_exporter": "python",
   "pygments_lexer": "ipython3",
   "version": "3.11.11"
  }
 },
 "nbformat": 4,
 "nbformat_minor": 5
}
