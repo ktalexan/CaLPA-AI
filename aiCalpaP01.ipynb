{
 "cells": [
  {
   "cell_type": "markdown",
   "id": "3c47859d",
   "metadata": {},
   "source": [
    "</center></div>\n",
    "<div style = \"background-color:indigo\"><center>\n",
    "<h1 style=\"font-size: 50px; font-weight: bold; color:goldenrod; border-top: 3px solid goldenrod; padding-top: 10px\">AI California Legislative Policy Analysis (CALPA-AI)</h1>\n",
    "<div style=\"font-size: 35px; font-weight: bold; color: goldenrod\"> Part 1 - Preliminary Data Processing</div>\n",
    "<div style=\"font-size: 30px; font-weight: bold; color: goldenrod; border-bottom: 3px solid goldenrod; padding-bottom: 20px\">v.1.0 April 2025</div>\n",
    "</center></div>"
   ]
  },
  {
   "cell_type": "markdown",
   "id": "e64f18e6",
   "metadata": {},
   "source": [
    "This is the main notebook for the AI California Legislative Policy Analysis (CALPA) project. The goal of this project is to analyze California legislative bills using natural language processing (NLP) techniques. This notebook will cover the preliminary data processing steps, including data loading, cleaning, and preparation for analysis.\n",
    "The project is divided into several parts, each focusing on a specific aspect of the analysis. The first part will cover the data loading and cleaning process, while subsequent parts will focus on feature extraction, model training, and evaluation."
   ]
  },
  {
   "cell_type": "markdown",
   "id": "c53ee650",
   "metadata": {},
   "source": [
    "<h1 style=\"font-weight:bold; color:orangered; border-bottom: 2px solid orangered\">1. Preliminaries</h1>"
   ]
  },
  {
   "cell_type": "markdown",
   "id": "19f3d942",
   "metadata": {},
   "source": [
    "<h2 style=\"font-weight:bold; color:dodgerblue; border-bottom: 1px solid dodgerblue; padding-left: 25px\">1.1 Referencing Libraries and Initialization</h2>"
   ]
  },
  {
   "cell_type": "markdown",
   "id": "8208c249",
   "metadata": {},
   "source": [
    "If needed to reset the kernel, please run the following cell:"
   ]
  },
  {
   "cell_type": "code",
   "execution_count": 1,
   "id": "bc5f5ee8",
   "metadata": {},
   "outputs": [],
   "source": [
    "#%reset"
   ]
  },
  {
   "cell_type": "markdown",
   "id": "8cc81da9",
   "metadata": {},
   "source": [
    "Instantiating python libraries for the project"
   ]
  },
  {
   "cell_type": "code",
   "execution_count": 1,
   "id": "a2f0c47a",
   "metadata": {},
   "outputs": [],
   "source": [
    "# Import required libraries\n",
    "import os\n",
    "from dotenv import load_dotenv\n",
    "import time\n",
    "from datetime import date\n",
    "from datetime import datetime\n",
    "import json\n",
    "import mimetypes\n",
    "import glob\n",
    "import base64\n",
    "import zipfile\n",
    "import io\n",
    "import requests\n",
    "import pandas as pd"
   ]
  },
  {
   "cell_type": "markdown",
   "id": "09d997f5",
   "metadata": {},
   "source": [
    "Load the local python modules containing classes and functions for the project from the local directory. There are two modules:\n",
    "- `calpa`: This module contains the main classes and functions for the project.\n",
    "- `legiscan`: This module contains the classes and functions for the LegiScan API."
   ]
  },
  {
   "cell_type": "code",
   "execution_count": 2,
   "id": "ae70f788",
   "metadata": {},
   "outputs": [],
   "source": [
    "# Load the Calpa module located in the scripts/python/calpa directory\n",
    "from calpa import Calpa, LegiScan"
   ]
  },
  {
   "cell_type": "markdown",
   "id": "9dc4e7bc",
   "metadata": {},
   "source": [
    "<h2 style=\"font-weight:bold; color:dodgerblue; border-bottom: 1px solid dodgerblue; padding-left: 25px\">1.2. Project and Workspace Variables</h2>"
   ]
  },
  {
   "cell_type": "markdown",
   "id": "7615fcb8",
   "metadata": {},
   "source": [
    "<h3 style=\"font-weight:bold; color:lime; padding-left: 50px\">Load Environment Variables</h3>"
   ]
  },
  {
   "cell_type": "markdown",
   "id": "33393245",
   "metadata": {},
   "source": [
    "Define and maintain project, workspace and metadata. Below we load the environment variables from the `.env` file. The environment variables are used to configure the project and workspace settings. The `dotenv` library is used to load the environment variables from the `.env` file into the Python environment. The environment also contains the LegiScan API key, which is used to access the LegiScan API. The API key is stored in the `LEGISCAN_API_KEY` environment variable. The `dotenv` library is used to load the environment variables from the `.env` file into the Python environment."
   ]
  },
  {
   "cell_type": "code",
   "execution_count": 3,
   "id": "d59292b7",
   "metadata": {},
   "outputs": [
    {
     "data": {
      "text/plain": [
       "True"
      ]
     },
     "execution_count": 3,
     "metadata": {},
     "output_type": "execute_result"
    }
   ],
   "source": [
    "# Load environment variables from .env file\n",
    "load_dotenv()"
   ]
  },
  {
   "cell_type": "markdown",
   "id": "b8886ff1",
   "metadata": {},
   "source": [
    "<h3 style=\"font-weight:bold; color:lime; padding-left: 50px\">Main Class Instantiation</h3>"
   ]
  },
  {
   "cell_type": "markdown",
   "id": "1ee03ec6",
   "metadata": {},
   "source": [
    "Instantiate the two main classes for the project:\n",
    "- `calpa`: This class is used to access the CALPA API and retrieve legislative data.\n",
    "- `legiscan`: This class is used to access the LegiScan API and retrieve legislative data."
   ]
  },
  {
   "cell_type": "code",
   "execution_count": 4,
   "id": "091cabc8",
   "metadata": {},
   "outputs": [],
   "source": [
    "# Instantiate the LegiScan and Calpa classes\n",
    "calpa = Calpa()\n",
    "legiscan = LegiScan()"
   ]
  },
  {
   "cell_type": "markdown",
   "id": "de3d0889",
   "metadata": {},
   "source": [
    "Create project metadata for the project"
   ]
  },
  {
   "cell_type": "code",
   "execution_count": null,
   "id": "0103f779",
   "metadata": {},
   "outputs": [
    {
     "name": "stdout",
     "output_type": "stream",
     "text": [
      "Project Global Settings:\n",
      "- Name: California Legislative Policy Analysis\n",
      "- Title: AI Legislative Policy Analysis\n",
      "- Version: 1.0\n",
      "- Author: Dr. Kostas Alexandridis, GISP\n",
      "Data Dates\n",
      "- Start Date: 2010-12-02\n",
      "- End Date: 2025-04-24\n",
      "- Periods: 2009-2010, 2011-2012, 2013-2014, 2015-2016, 2017-2018, 2019-2020, 2021-2022, 2023-2024, 2025-2026\n"
     ]
    }
   ],
   "source": [
    "# Create project metadata for the AI project\n",
    "prjMetadata = calpa.projectMetadata(\"AI\", \"1\")"
   ]
  },
  {
   "cell_type": "markdown",
   "id": "2c0d5ebb",
   "metadata": {},
   "source": [
    "Create the project directories dictionary"
   ]
  },
  {
   "cell_type": "code",
   "execution_count": 6,
   "id": "83659ca7",
   "metadata": {},
   "outputs": [
    {
     "name": "stdout",
     "output_type": "stream",
     "text": [
      "Directory Global Settings:\n",
      "\n",
      "General:\n",
      "- Project (pathPrj): c:\\Users\\ktalexan\\OneDrive\\Documents\\GitHub\\CaLPA\n",
      "- Admin (pathAdmin): c:\\Users\\ktalexan\\OneDrive\\Documents\\GitHub\\CaLPA\\admin\n",
      "- Metadata (pathMetadata): c:\\Users\\ktalexan\\OneDrive\\Documents\\GitHub\\CaLPA\\metadata\n",
      "- Analysis (pathAnalysis): c:\\Users\\ktalexan\\OneDrive\\Documents\\GitHub\\CaLPA\\analysis\n",
      "Scripts:\n",
      "- Python Calpa Module (pathScriptsCalpa): c:\\Users\\ktalexan\\OneDrive\\Documents\\GitHub\\CaLPA\\calpa\n",
      "- Markdown Scripts (pathScriptsMd): c:\\Users\\ktalexan\\OneDrive\\Documents\\GitHub\\CaLPA\\markdown\n",
      "- RIS Scripts (pathScriptsRis): c:\\Users\\ktalexan\\OneDrive\\Documents\\GitHub\\CaLPA\\ris\n",
      "Data:\n",
      "- Main Data (pathData): c:\\Users\\ktalexan\\OneDrive\\Documents\\GitHub\\CaLPA\\data\n",
      "- Documents (pathDataDocs): c:\\Users\\ktalexan\\OneDrive\\Documents\\GitHub\\CaLPA\\data\\docs\n",
      "- LegiScan (pathDataLegis): c:\\Users\\ktalexan\\OneDrive\\Documents\\GitHub\\CaLPA\\data\\legis\n",
      "- LookUp (pathDataLookup): c:\\Users\\ktalexan\\OneDrive\\Documents\\GitHub\\CaLPA\\data\\lookup\n",
      "- Markdown (pathDataMd): c:\\Users\\ktalexan\\OneDrive\\Documents\\GitHub\\CaLPA\\data\\md\n",
      "- RIS (pathDataBbl): c:\\Users\\ktalexan\\OneDrive\\Documents\\GitHub\\CaLPA\\data\\bbl\n",
      "Graphics:\n",
      "- Main Graphics (pathGraphics): c:\\Users\\ktalexan\\OneDrive\\Documents\\GitHub\\CaLPA\\graphics\n",
      "- Figures (pathGraphicsFigs): c:\\Users\\ktalexan\\OneDrive\\Documents\\GitHub\\CaLPA\\graphics\\figs\n",
      "- Presentations (pathGraphicsVisual): c:\\Users\\ktalexan\\OneDrive\\Documents\\GitHub\\CaLPA\\graphics\\visual\n"
     ]
    }
   ],
   "source": [
    "# Create the project directories dictionary\n",
    "prjDirs = calpa.projectDirectories(os.getcwd())"
   ]
  },
  {
   "cell_type": "markdown",
   "id": "203a885e",
   "metadata": {},
   "source": [
    "<h3 style=\"font-weight:bold; color:lime; padding-left: 50px\">Load Lookup DataFrames</h3>"
   ]
  },
  {
   "cell_type": "markdown",
   "id": "beeac557",
   "metadata": {},
   "source": [
    "Load necessary lookup data frames for the project. These are located in the `data/lookup` project diretory.\n",
    "Specifically we will load the following lookup tables:\n",
    "\n",
    "- `codebookBill`: This table contains the mapping of bill codes to their descriptions.\n",
    "- `codebookRollCall`: This table contains the mapping of roll call codes to their descriptions.\n",
    "- `codebookBillText`: This table contains the mapping of bill text codes to their descriptions.\n",
    "- `codebookAmendment`: This table contains the mapping of amendment codes to their descriptions.\n",
    "- `codebookSupplement`: This table contains the mapping of supplement codes to their descriptions.\n",
    "- `codebookPerson`: This table contains the mapping of person codes to their descriptions.\n",
    "- `codebookSessionList`: This table contains the mapping of session codes to their descriptions."
   ]
  },
  {
   "cell_type": "code",
   "execution_count": null,
   "id": "80229887",
   "metadata": {},
   "outputs": [],
   "source": [
    "# Load the codebookBill pickle file from the data/lookup directory\n",
    "codebookBill = pd.read_pickle(os.path.join(prjDirs[\"pathDataLookup\"], \"codebookBill.pkl\"))\n",
    "\n",
    "# Load the codebookRollCall pickle file from the data/lookup directory\n",
    "codebookRollCall = pd.read_pickle(os.path.join(prjDirs[\"pathDataLookup\"], \"codebookRollCall.pkl\"))\n",
    "\n",
    "# Load the codebookBillText pickle file from the data/lookup directory\n",
    "codebookBillText = pd.read_pickle(os.path.join(prjDirs[\"pathDataLookup\"], \"codebookBillText.pkl\"))\n",
    "\n",
    "# Load the codebookAmendment pickle file from the data/lookup directory\n",
    "codebookAmendment = pd.read_pickle(os.path.join(prjDirs[\"pathDataLookup\"], \"codebookAmendment.pkl\"))\n",
    "\n",
    "# Load the codebookSupplement pickle file from the data/lookup directory\n",
    "codebookSupplement = pd.read_pickle(os.path.join(prjDirs[\"pathDataLookup\"], \"codebookSupplement.pkl\"))\n",
    "\n",
    "# Load the codebookPerson pickle file from the data/lookup directory\n",
    "codebookPerson = pd.read_pickle(os.path.join(prjDirs[\"pathDataLookup\"], \"codebookPerson.pkl\"))\n",
    "\n",
    "# Load the codebookSessionList pickle file from the data/lookup directory\n",
    "codebookSessionList = pd.read_pickle(os.path.join(prjDirs[\"pathDataLookup\"], \"codebookSessionList.pkl\"))"
   ]
  },
  {
   "cell_type": "markdown",
   "id": "3327fad8",
   "metadata": {},
   "source": [
    "<h1 style=\"font-weight:bold; color:orangered; border-bottom: 2px solid orangered\">2. Baseline LegiScan Data</h1>"
   ]
  },
  {
   "cell_type": "markdown",
   "id": "b9e23591",
   "metadata": {},
   "source": [
    "<h2 style=\"font-weight:bold; color:dodgerblue; border-bottom: 1px solid dodgerblue; padding-left: 25px\">2.1. Session List</h2>"
   ]
  },
  {
   "cell_type": "markdown",
   "id": "f1cdb9f2",
   "metadata": {},
   "source": [
    "Using the LegiScan API, we will retrieve the list of sessions for California. This will be used to get the session ID for the current session and the previous session. The session ID is needed to retrieve the bills for each session."
   ]
  },
  {
   "cell_type": "code",
   "execution_count": 9,
   "id": "6a452061",
   "metadata": {},
   "outputs": [],
   "source": [
    "# Get the list of sessions from LegiScan\n",
    "sessionList = legiscan.getSessionList()"
   ]
  },
  {
   "cell_type": "markdown",
   "id": "46714b86",
   "metadata": {},
   "source": [
    "Convert the session list to a pandas dataframe"
   ]
  },
  {
   "cell_type": "code",
   "execution_count": 10,
   "id": "29b395fb",
   "metadata": {},
   "outputs": [
    {
     "data": {
      "application/vnd.microsoft.datawrangler.viewer.v0+json": {
       "columns": [
        {
         "name": "index",
         "rawType": "object",
         "type": "string"
        },
        {
         "name": "2025-2026",
         "rawType": "object",
         "type": "unknown"
        },
        {
         "name": "2023-2024",
         "rawType": "object",
         "type": "unknown"
        },
        {
         "name": "2021-2022",
         "rawType": "object",
         "type": "unknown"
        },
        {
         "name": "2019-2020",
         "rawType": "object",
         "type": "unknown"
        },
        {
         "name": "2017-2018",
         "rawType": "object",
         "type": "unknown"
        },
        {
         "name": "2015-2016",
         "rawType": "object",
         "type": "unknown"
        },
        {
         "name": "2013-2014",
         "rawType": "object",
         "type": "unknown"
        },
        {
         "name": "2011-2012",
         "rawType": "object",
         "type": "unknown"
        },
        {
         "name": "2009-2010",
         "rawType": "object",
         "type": "unknown"
        }
       ],
       "conversionMethod": "pd.DataFrame",
       "ref": "3db2f92b-16aa-4980-9b91-5fe4fe4a2484",
       "rows": [
        [
         "session_id",
         "2172",
         "2016",
         "1791",
         "1624",
         "1400",
         "1120",
         "993",
         "82",
         "30"
        ],
        [
         "state_id",
         "5",
         "5",
         "5",
         "5",
         "5",
         "5",
         "5",
         "5",
         "5"
        ],
        [
         "state_abbr",
         "CA",
         "CA",
         "CA",
         "CA",
         "CA",
         "CA",
         "CA",
         "CA",
         "CA"
        ],
        [
         "year_start",
         "2025",
         "2023",
         "2021",
         "2019",
         "2017",
         "2015",
         "2013",
         "2011",
         "2009"
        ],
        [
         "year_end",
         "2026",
         "2024",
         "2022",
         "2020",
         "2018",
         "2016",
         "2014",
         "2012",
         "2010"
        ]
       ],
       "shape": {
        "columns": 9,
        "rows": 5
       }
      },
      "text/html": [
       "<div>\n",
       "<style scoped>\n",
       "    .dataframe tbody tr th:only-of-type {\n",
       "        vertical-align: middle;\n",
       "    }\n",
       "\n",
       "    .dataframe tbody tr th {\n",
       "        vertical-align: top;\n",
       "    }\n",
       "\n",
       "    .dataframe thead th {\n",
       "        text-align: right;\n",
       "    }\n",
       "</style>\n",
       "<table border=\"1\" class=\"dataframe\">\n",
       "  <thead>\n",
       "    <tr style=\"text-align: right;\">\n",
       "      <th></th>\n",
       "      <th>2025-2026</th>\n",
       "      <th>2023-2024</th>\n",
       "      <th>2021-2022</th>\n",
       "      <th>2019-2020</th>\n",
       "      <th>2017-2018</th>\n",
       "      <th>2015-2016</th>\n",
       "      <th>2013-2014</th>\n",
       "      <th>2011-2012</th>\n",
       "      <th>2009-2010</th>\n",
       "    </tr>\n",
       "  </thead>\n",
       "  <tbody>\n",
       "    <tr>\n",
       "      <th>session_id</th>\n",
       "      <td>2172</td>\n",
       "      <td>2016</td>\n",
       "      <td>1791</td>\n",
       "      <td>1624</td>\n",
       "      <td>1400</td>\n",
       "      <td>1120</td>\n",
       "      <td>993</td>\n",
       "      <td>82</td>\n",
       "      <td>30</td>\n",
       "    </tr>\n",
       "    <tr>\n",
       "      <th>state_id</th>\n",
       "      <td>5</td>\n",
       "      <td>5</td>\n",
       "      <td>5</td>\n",
       "      <td>5</td>\n",
       "      <td>5</td>\n",
       "      <td>5</td>\n",
       "      <td>5</td>\n",
       "      <td>5</td>\n",
       "      <td>5</td>\n",
       "    </tr>\n",
       "    <tr>\n",
       "      <th>state_abbr</th>\n",
       "      <td>CA</td>\n",
       "      <td>CA</td>\n",
       "      <td>CA</td>\n",
       "      <td>CA</td>\n",
       "      <td>CA</td>\n",
       "      <td>CA</td>\n",
       "      <td>CA</td>\n",
       "      <td>CA</td>\n",
       "      <td>CA</td>\n",
       "    </tr>\n",
       "    <tr>\n",
       "      <th>year_start</th>\n",
       "      <td>2025</td>\n",
       "      <td>2023</td>\n",
       "      <td>2021</td>\n",
       "      <td>2019</td>\n",
       "      <td>2017</td>\n",
       "      <td>2015</td>\n",
       "      <td>2013</td>\n",
       "      <td>2011</td>\n",
       "      <td>2009</td>\n",
       "    </tr>\n",
       "    <tr>\n",
       "      <th>year_end</th>\n",
       "      <td>2026</td>\n",
       "      <td>2024</td>\n",
       "      <td>2022</td>\n",
       "      <td>2020</td>\n",
       "      <td>2018</td>\n",
       "      <td>2016</td>\n",
       "      <td>2014</td>\n",
       "      <td>2012</td>\n",
       "      <td>2010</td>\n",
       "    </tr>\n",
       "  </tbody>\n",
       "</table>\n",
       "</div>"
      ],
      "text/plain": [
       "           2025-2026 2023-2024 2021-2022 2019-2020 2017-2018 2015-2016  \\\n",
       "session_id      2172      2016      1791      1624      1400      1120   \n",
       "state_id           5         5         5         5         5         5   \n",
       "state_abbr        CA        CA        CA        CA        CA        CA   \n",
       "year_start      2025      2023      2021      2019      2017      2015   \n",
       "year_end        2026      2024      2022      2020      2018      2016   \n",
       "\n",
       "           2013-2014 2011-2012 2009-2010  \n",
       "session_id       993        82        30  \n",
       "state_id           5         5         5  \n",
       "state_abbr        CA        CA        CA  \n",
       "year_start      2013      2011      2009  \n",
       "year_end        2014      2012      2010  "
      ]
     },
     "execution_count": 10,
     "metadata": {},
     "output_type": "execute_result"
    }
   ],
   "source": [
    "# Convert the sessionList to a pandas DataFrame\n",
    "sessionDf = pd.DataFrame(sessionList)\n",
    "sessionDf.head()"
   ]
  },
  {
   "cell_type": "markdown",
   "id": "cd1cb8b1",
   "metadata": {},
   "source": [
    "We need to compare the session list we obtained from the Legiscan API with the previous session list (stored in the disk under `data/lookup/sessionList.json`). Here, we open the stored session list into a new dictionary called `sessionListStored`."
   ]
  },
  {
   "cell_type": "code",
   "execution_count": 11,
   "id": "de1789a8",
   "metadata": {},
   "outputs": [],
   "source": [
    "# Obtain the stored sessions list from JSON dictionary on disk (data/lookup directory)\n",
    "sessionListStored = legiscan.getStoredData(dataType = \"session\")"
   ]
  },
  {
   "cell_type": "markdown",
   "id": "a9f37022",
   "metadata": {},
   "source": [
    "Now that we have both the session lists (the one from the legiscan api, `sessionList`, and the stored version, `sessionListStored`), we can compare them. We will check if the session list from the LegiScan API is the same as the session list stored in the disk. If they are not the same, we will first identify which sessions need updating, and will later update the stored session list with the new session list from the LegiScan API. We will also check if there are any new sessions that have been added to the LegiScan API since the last time we retrieved the session list.\n",
    "\n",
    "The function method `matchHash` from the legiscan module class, uses the hash values to compare the two lists. In this case the relevant JSON keys are `sesion_hash` for each `session_id`."
   ]
  },
  {
   "cell_type": "code",
   "execution_count": 12,
   "id": "83c52cbd",
   "metadata": {},
   "outputs": [
    {
     "name": "stdout",
     "output_type": "stream",
     "text": [
      "All sessions match\n"
     ]
    }
   ],
   "source": [
    "# Compare the sessionList and sessionListStored dictionaries for any changes\n",
    "unmatchedSessions = legiscan.matchHash(sessionList, sessionListStored, hashType = \"session\", silent = True)\n",
    "\n",
    "# if the unmatchedSessions is empty, print \"All sessions match\", and delete the unmatchedSessions variable\n",
    "if unmatchedSessions is None:\n",
    "    print(\"All sessions match\")\n",
    "    del unmatchedSessions\n",
    "else:\n",
    "    print(\"Unmatched sessions found\")\n",
    "    # Print the unmatched sessions\n",
    "    print(unmatchedSessions)"
   ]
  },
  {
   "cell_type": "markdown",
   "id": "fafdae3c",
   "metadata": {},
   "source": [
    "Export the LegiScan query records to the `data/legis/json` directory as a JSON file for future reference."
   ]
  },
  {
   "cell_type": "code",
   "execution_count": 13,
   "id": "ef0f45d0",
   "metadata": {},
   "outputs": [],
   "source": [
    "# Export the sessionList to a JSON file in the data/legiscan/json directory\n",
    "with open(os.path.join(prjDirs[\"pathDataLegis\"], \"json\", \"sessionList.json\"), \"w\", encoding=\"utf-8\") as f:\n",
    "    json.dump(sessionList, f, ensure_ascii=False, indent=4)\n",
    "del f"
   ]
  },
  {
   "cell_type": "markdown",
   "id": "fea47018",
   "metadata": {},
   "source": [
    "If needed update the stored session list with the new session list from the LegiScan API."
   ]
  },
  {
   "cell_type": "code",
   "execution_count": 14,
   "id": "a4cc057d",
   "metadata": {},
   "outputs": [],
   "source": [
    "# Update the stored sessions list with the new sessionList\n",
    "with open(os.path.join(prjDirs[\"pathDataLookup\"], \"sessionListStored.json\"), \"w\", encoding=\"utf-8\") as f:\n",
    "    json.dump(sessionList, f, ensure_ascii=False, indent=4)"
   ]
  },
  {
   "cell_type": "markdown",
   "id": "eb5d4470",
   "metadata": {},
   "source": [
    "<h2 style=\"font-weight:bold; color:dodgerblue; border-bottom: 1px solid dodgerblue; padding-left: 25px\">2.2. Session People</h2>"
   ]
  },
  {
   "cell_type": "markdown",
   "id": "470f8fa0",
   "metadata": {},
   "source": [
    "In this step, we will obtain the list of California legislature members (Senate and Assembly) for each of the legislative sessions. This will be used to get the list of members for each session. The session ID is needed to retrieve the members for each session. We will use the LegiScan API to retrieve the list of members for each session.\n",
    "\n",
    "The `legiscan.getSessionPeople` method retrieves the list of members for each session. The session ID is passed as an argument to the method. The method returns a list of members for each session. The list of members is stored in a dictionary called `sessionPeople`. The dictionary contains the session ID as the key and the list of members as the value."
   ]
  },
  {
   "cell_type": "code",
   "execution_count": 15,
   "id": "3865b9c7",
   "metadata": {},
   "outputs": [],
   "source": [
    "# Get the list of session people from LegiScan\n",
    "sessionPeople = {}\n",
    "for key, value in sessionList.items():\n",
    "    sessionId = value[\"session_id\"]\n",
    "    sessionPeople[key] = legiscan.getSessionPeople(sessionId)\n",
    "del key, value, sessionId"
   ]
  },
  {
   "cell_type": "markdown",
   "id": "e98b2cd9",
   "metadata": {},
   "source": [
    "Similarly with the legislative session list, we will compare the session people list we obtained from the LegiScan API with the previous session people list (stored in the disk under `data/lookup/sessionPeople.json`). Here, we open the stored session people list into a new dictionary called `sessionPeopleStored`."
   ]
  },
  {
   "cell_type": "code",
   "execution_count": 16,
   "id": "589fb5a4",
   "metadata": {},
   "outputs": [],
   "source": [
    "# Obtain the stored session People list from JSON dictionary on disk (data/lookup directory)\n",
    "sessionPeopleStored = legiscan.getStoredData(dataType = \"people\")"
   ]
  },
  {
   "cell_type": "markdown",
   "id": "814d8ccb",
   "metadata": {},
   "source": [
    "This time, the task is not that simple, since `sessionPeople` lists are nested for each session. The comparison of the Legislature members needs to be done in a loop for each session. In the following code segment, we perform this task in sequential steps:\n",
    "\n",
    "1. Create a dictionary named `unmatchedPeople` to hold the unmatched session people (will be nested for each session).\n",
    "2. Loop through the `sessionPeople` and `sessionPeopleStored` dictionaries to compare the session people lists for each session.\n",
    "3. For each session, compare the session people lists and store the unmatched session people in the `unmatchedSessionPeople` dictionary, based on the `person_hash` key attribute on both lists. We will use the `matchHash` method from the `legiscan` module to compare the two lists.\n",
    "4. If there are any unmatched session people, we will update the `unmatchedPeople` dictionary with the unmatched session people (for each session).\n",
    "5. Finally, we will check if there are any unmatched session people in the `unmatchedPeople` dictionary. If there are, we will update the `sessionPeopleStored` dictionary with the unmatched session people and save it to the disk. "
   ]
  },
  {
   "cell_type": "code",
   "execution_count": 17,
   "id": "d1b6dc94",
   "metadata": {},
   "outputs": [
    {
     "name": "stdout",
     "output_type": "stream",
     "text": [
      "All people match\n"
     ]
    }
   ],
   "source": [
    "# Compare the sessionPeople and sessionPeopleStored dictionaries for any changes\n",
    "# Create a dictionary to store unmatched people\n",
    "unmatchedPeople = {}\n",
    "# Iterate through each session and compare the people lists\n",
    "for key, value in sessionPeople.items():\n",
    "    unmatchedPeople[key] = {}\n",
    "    unmatched = legiscan.matchHash(sessionPeople[key][\"people\"], sessionPeopleStored[key][\"people\"], hashType = \"person\", silent = True)\n",
    "    # If there are unmatched people, store them in the unmatchedPeople dictionary\n",
    "    unmatchedPeople[key] = unmatched if unmatched is not None else None\n",
    "del key, value, unmatched\n",
    "\n",
    "# if the unmatchedPeople is empty, print \"All people match\", and delete the unmatchedPeople variable\n",
    "if all(not value for value in unmatchedPeople.values()):\n",
    "    print(\"All people match\")\n",
    "    # Delete the unmatchedPeople variable\n",
    "    del unmatchedPeople\n",
    "else:\n",
    "    print(\"Unmatched people found\")\n",
    "    # Print the unmatched sessions\n",
    "    print(unmatchedPeople)"
   ]
  },
  {
   "cell_type": "markdown",
   "id": "3a05c410",
   "metadata": {},
   "source": [
    "Export the LegiScan query data for the session people to the `data/legis/json' directory for future reference."
   ]
  },
  {
   "cell_type": "code",
   "execution_count": 18,
   "id": "891071b5",
   "metadata": {},
   "outputs": [],
   "source": [
    "# Export the sessionPeople to a JSON file in the data/legiscan/json directory\n",
    "with open(os.path.join(prjDirs[\"pathDataLegis\"], \"json\", \"sessionPeople.json\"), \"w\", encoding=\"utf-8\") as f:\n",
    "    json.dump(sessionPeople, f, ensure_ascii=False, indent=4)\n",
    "del f"
   ]
  },
  {
   "cell_type": "markdown",
   "id": "ade46b74",
   "metadata": {},
   "source": [
    "If needed update the stored session people list with the new session people list from the LegiScan API."
   ]
  },
  {
   "cell_type": "code",
   "execution_count": 19,
   "id": "d1350014",
   "metadata": {},
   "outputs": [],
   "source": [
    "# Update the stored session People list with the new sessionPeople\n",
    "with open(os.path.join(prjDirs[\"pathDataLookup\"], \"sessionPeopleStored.json\"), \"w\", encoding=\"utf-8\") as f:\n",
    "    json.dump(sessionPeople, f, ensure_ascii=False, indent=4)"
   ]
  },
  {
   "cell_type": "markdown",
   "id": "afcdcd03",
   "metadata": {},
   "source": [
    "<h2 style=\"font-weight:bold; color:dodgerblue; border-bottom: 1px solid dodgerblue; padding-left: 25px\">2.3. Dataset List</h2>"
   ]
  },
  {
   "cell_type": "markdown",
   "id": "9afdc0fa",
   "metadata": {},
   "source": [
    "In this session we will obtain the list of datasets and their attributes for each of the California Legislative Session from LegiScan. This process is needed to obtain the dataset `access_key` for each session, and consequently to use it in query dataset data in a further step.\n",
    "\n",
    "The `legiscan.getDatasetList` method retrieves the list of datasets for each session. The session ID is passed as an argument to the method. The method returns a list of datasets for each session. The list of datasets is stored in a dictionary called `datasetList`. The dictionary contains the session ID as the key and the list of datasets as the value."
   ]
  },
  {
   "cell_type": "code",
   "execution_count": 20,
   "id": "60379275",
   "metadata": {},
   "outputs": [],
   "source": [
    "# Get the list of datasets from LegiScan for each legislative session\n",
    "datasetList = legiscan.getDatasetList()"
   ]
  },
  {
   "cell_type": "markdown",
   "id": "95891ea2",
   "metadata": {},
   "source": [
    "Obtain the stored dataset list from the disk. The list will be used to compare with the LegiScan API dataset list. The stored dataset list is stored in the `data/lookup/datasetList.json` file. The dataset list contains the list of datasets for each session. The dataset ID is needed to retrieve the datasets for each session. We will use the LegiScan API to retrieve the list of datasets for each session. Here, we open the stored dataset list into a new dictionary called `datasetListStored`."
   ]
  },
  {
   "cell_type": "code",
   "execution_count": 21,
   "id": "c59f42ae",
   "metadata": {},
   "outputs": [],
   "source": [
    "# Obtain the stored dataset list from JSON dictionary on disk (data/lookup directory)\n",
    "datasetListStored = legiscan.getStoredData(dataType = \"dataset\")"
   ]
  },
  {
   "cell_type": "markdown",
   "id": "d69cc3c6",
   "metadata": {},
   "source": [
    "Now that we have both the dataset lists (the one from the legiscan api, `datasetList`, and the stored version, `datasetListStored`), we can compare them. We will check if the dataset list from the LegiScan API is the same as the dataset list stored in the disk. If they are not the same, we will first identify which datasets need updating, and will later update the stored dataset list with the new dataset list from the LegiScan API. We will also check if there are any new datasets that have been added to the LegiScan API since the last time we retrieved the session list.\n",
    "\n",
    "The function method `matchHash` from the legiscan module class, uses the hash values to compare the two lists. In this case the relevant JSON keys are `dataset_hash` for each `session_id`."
   ]
  },
  {
   "cell_type": "code",
   "execution_count": 22,
   "id": "bfc98217",
   "metadata": {},
   "outputs": [
    {
     "name": "stdout",
     "output_type": "stream",
     "text": [
      "All datasets match\n"
     ]
    }
   ],
   "source": [
    "# Compare the datasetList and datasetListStored dictionaries for any changes\n",
    "unmatchedDatasets = legiscan.matchHash(datasetList, datasetListStored, hashType = \"dataset\", silent = True)\n",
    "\n",
    "# if the unmatchedSessions is empty, print \"All sessions match\", and delete the unmatchedSessions variable\n",
    "if unmatchedDatasets is None:\n",
    "    print(\"All datasets match\")\n",
    "    del unmatchedDatasets\n",
    "else:\n",
    "    print(\"Unmatched datasets found\")\n",
    "    # Print the unmatched sessions\n",
    "    print(unmatchedDatasets)"
   ]
  },
  {
   "cell_type": "markdown",
   "id": "7e76c862",
   "metadata": {},
   "source": [
    "Export the LegiScan query records to the `data/legis/json` directory as a JSON file for future reference."
   ]
  },
  {
   "cell_type": "code",
   "execution_count": 23,
   "id": "bf32ce01",
   "metadata": {},
   "outputs": [],
   "source": [
    "# export the datasetList to a JSON file in the data/legis/json directory\n",
    "with open(os.path.join(prjDirs[\"pathDataLegis\"], \"json\", \"datasetList.json\"), \"w\", encoding=\"utf-8\") as f:\n",
    "    json.dump(datasetList, f, ensure_ascii=False, indent=4)\n",
    "del f"
   ]
  },
  {
   "cell_type": "markdown",
   "id": "b814be36",
   "metadata": {},
   "source": [
    "Update the stored dataset list with the new dataset list from the LegiScan API."
   ]
  },
  {
   "cell_type": "code",
   "execution_count": 24,
   "id": "51443b9d",
   "metadata": {},
   "outputs": [],
   "source": [
    "# Update the stored dataset list with the new datasetList\n",
    "with open(os.path.join(prjDirs[\"pathDataLookup\"], \"datasetListStored.json\"), \"w\", encoding=\"utf-8\") as f:\n",
    "    json.dump(datasetList, f, ensure_ascii=False, indent=4)"
   ]
  },
  {
   "cell_type": "markdown",
   "id": "bc085b44",
   "metadata": {},
   "source": [
    "<h2 style=\"font-weight:bold; color:dodgerblue; border-bottom: 1px solid dodgerblue; padding-left: 25px\">2.4. Master List</h2>"
   ]
  },
  {
   "cell_type": "markdown",
   "id": "68f1f61f",
   "metadata": {},
   "source": [
    "This step is to obtain the master list of datasets for each session. The master list contains the list of bills for each legislative session. The master list is used to get the list of bills for each session. The session ID is needed to retrieve the bills for each session. We will use the LegiScan API to retrieve the list of bills for each session.\n",
    "\n",
    "There are two options for this method. The first obtains the master list with bill attributes (when `raw = False`), and the second obtains the raw master list containing only the bill_ID and hash (when `raw = True`)\n",
    "\n",
    "We will use the `legiscan.getMasterList(sessionID, raw)` method and will store the results in a dictionary called `masterList` or `masterListRaw` depending on the option provided in the method invocation."
   ]
  },
  {
   "cell_type": "code",
   "execution_count": 25,
   "id": "9da1467b",
   "metadata": {},
   "outputs": [],
   "source": [
    "# Get the Raw Master List from LegiScan for each legislative session\n",
    "masterListRaw = {}\n",
    "for key, value in sessionList.items():\n",
    "    sessionId = value[\"session_id\"]\n",
    "    masterListRaw[key] = legiscan.getMasterList(sessionId, raw = True)\n",
    "del key, value, sessionId"
   ]
  },
  {
   "cell_type": "code",
   "execution_count": 26,
   "id": "626c444b",
   "metadata": {},
   "outputs": [],
   "source": [
    "# Get the Master List from LegiScan for each legislative session\n",
    "masterList = {}\n",
    "for key, value in sessionList.items():\n",
    "    sessionId = value[\"session_id\"]\n",
    "    masterList[key] = legiscan.getMasterList(sessionId, raw = False)\n",
    "del key, value, sessionId"
   ]
  },
  {
   "cell_type": "markdown",
   "id": "27cc41f9",
   "metadata": {},
   "source": [
    "Obtain the stored master lists (both the raw and full) from the disk. The lists will be used to compare each bill with the LegiScan API master list. The stored dataset list is stored in the `data/lookup/mastertList.json` or `data/lookup/masterListRaw.json` files. The master lists contain the list of bills for each session. The dataset ID is needed to retrieve the bills for each session. We will use the LegiScan API to retrieve the list of datasets for each session. Here, we open the stored dataset list into a new dictionary called `masterListStored` and `masterListRawStored`."
   ]
  },
  {
   "cell_type": "code",
   "execution_count": 27,
   "id": "7c6c7eb2",
   "metadata": {},
   "outputs": [],
   "source": [
    "# Get the stored raw master list from JSON dictionary on disk (data/lookup directory)\n",
    "masterListRawStored = legiscan.getStoredData(dataType = \"master\", raw = True)\n",
    "# Get the stored master list from JSON dictionary on disk (data/lookup directory)\n",
    "masterListStored = legiscan.getStoredData(dataType = \"master\", raw = False)"
   ]
  },
  {
   "cell_type": "markdown",
   "id": "909f137e",
   "metadata": {},
   "source": [
    "Now that we have both the master lists (the one from the legiscan api, `masterListRaw`, and the stored version, `masterListRawStored`), we can compare them. We will check if the master list from the LegiScan API is the same as the master list stored in the disk. If they are not the same, we will first identify which bills need updating, and will later update the stored master list with the new master list from the LegiScan API. We will also check if there are any new bills that have been added to the LegiScan API since the last time we retrieved the session list.\n",
    "\n",
    "The function method `matchHash` from the legiscan module class, uses the hash values to compare the two lists. In this case the relevant JSON keys are `chanbe_hash` for each `session_id`."
   ]
  },
  {
   "cell_type": "code",
   "execution_count": 28,
   "id": "2f72ef13",
   "metadata": {},
   "outputs": [
    {
     "name": "stdout",
     "output_type": "stream",
     "text": [
      "All bills match\n"
     ]
    }
   ],
   "source": [
    "# Compare the masterList and masterListStored dictionaries for any changes\n",
    "# Create a dictionary to store unmatched bills\n",
    "unmatchedMasterList = {}\n",
    "for key, value in masterListRaw.items():\n",
    "    # if key is not \"session\"\n",
    "    if key != \"session\":\n",
    "        unmatchedMasterList[key] = {}\n",
    "        unmatched = legiscan.matchHash(masterListRaw[key][\"bills\"], masterListRaw[key][\"bills\"], hashType = \"change\", silent = True)\n",
    "        # If there are unmatched bills, store them in the unmatchedMasterList dictionary\n",
    "        unmatchedMasterList[key] = unmatched if unmatched is not None else None\n",
    "del key, value, unmatched\n",
    "\n",
    "# if the unmatchedMasterList is empty, print \"All bills match\", and delete the unmatchedMasterList variable\n",
    "if all(not value for value in unmatchedMasterList.values()):\n",
    "    print(\"All bills match\")\n",
    "    # Delete the unmatchedMasterList variable\n",
    "    del unmatchedMasterList\n",
    "else:\n",
    "    print(\"Unmatched bills found\")\n",
    "    # Print the unmatched sessions\n",
    "    print(unmatchedMasterList)"
   ]
  },
  {
   "cell_type": "markdown",
   "id": "11df3310",
   "metadata": {},
   "source": [
    "Export both the LegiScan query records (raw and full master list) to the `data/legis/json` directory as a JSON file for future reference."
   ]
  },
  {
   "cell_type": "code",
   "execution_count": 29,
   "id": "bffb99d9",
   "metadata": {},
   "outputs": [],
   "source": [
    "# export the raw master list to a JSON file in the data/legis/json directory\n",
    "with open(os.path.join(prjDirs[\"pathDataLegis\"], \"json\", \"masterListRaw.json\"), \"w\", encoding=\"utf-8\") as f:\n",
    "    json.dump(masterListRaw, f, ensure_ascii=False, indent=4)\n",
    "del f"
   ]
  },
  {
   "cell_type": "code",
   "execution_count": 30,
   "id": "bf69f71f",
   "metadata": {},
   "outputs": [],
   "source": [
    "# export the master list to a JSON file in the data/legis/json directory\n",
    "with open(os.path.join(prjDirs[\"pathDataLegis\"], \"json\", \"masterList.json\"), \"w\", encoding=\"utf-8\") as f:\n",
    "    json.dump(masterList, f, ensure_ascii=False, indent=4)\n",
    "del f"
   ]
  },
  {
   "cell_type": "markdown",
   "id": "8e5c84c4",
   "metadata": {},
   "source": [
    "If needed update the stored session people list with the new session people list from the LegiScan API."
   ]
  },
  {
   "cell_type": "code",
   "execution_count": 31,
   "id": "5e06e165",
   "metadata": {},
   "outputs": [],
   "source": [
    "# Update the stored raw master list with the new masterListRaw\n",
    "with open(os.path.join(prjDirs[\"pathDataLookup\"], \"masterListRawStored.json\"), \"w\", encoding=\"utf-8\") as f:\n",
    "    json.dump(masterListRaw, f, ensure_ascii=False, indent=4)"
   ]
  },
  {
   "cell_type": "code",
   "execution_count": 32,
   "id": "80d6f796",
   "metadata": {},
   "outputs": [],
   "source": [
    "# Update the master list with the new masterList\n",
    "with open(os.path.join(prjDirs[\"pathDataLookup\"], \"masterListStored.json\"), \"w\", encoding=\"utf-8\") as f:\n",
    "    json.dump(masterList, f, ensure_ascii=False, indent=4)"
   ]
  },
  {
   "cell_type": "markdown",
   "id": "72e9acf5",
   "metadata": {},
   "source": [
    "<h1 style=\"font-weight:bold; color:orangered; border-bottom: 2px solid orangered\">3. Bill Monitoring Operations</h1>"
   ]
  },
  {
   "cell_type": "markdown",
   "id": "29c59117",
   "metadata": {},
   "source": [
    "<h2 style=\"font-weight:bold; color:dodgerblue; border-bottom: 1px solid dodgerblue; padding-left: 25px\">3.1. Stored Monitoring Lists</h2>"
   ]
  },
  {
   "cell_type": "markdown",
   "id": "80025ac1",
   "metadata": {},
   "source": [
    "Get the stored monitoring lists from the disk, for each sub-project operation."
   ]
  },
  {
   "cell_type": "code",
   "execution_count": 33,
   "id": "422b1d86",
   "metadata": {},
   "outputs": [],
   "source": [
    "# Get the AI monitoring list from disk (data/lookup directory)\n",
    "aiBillListStored = legiscan.getStoredData(dataType = \"bills\", project = \"AI\")"
   ]
  },
  {
   "cell_type": "markdown",
   "id": "b1d2fbcb",
   "metadata": {},
   "source": [
    "<h2 style=\"font-weight:bold; color:dodgerblue; border-bottom: 1px solid dodgerblue; padding-left: 25px\">3.2. Get LegiScan Bills</h2>"
   ]
  },
  {
   "cell_type": "markdown",
   "id": "1f9cc83e",
   "metadata": {},
   "source": [
    "Get the LegiScan bills for each session. The session ID is needed to retrieve the bills for each session. We will use the LegiScan API to retrieve the list of bills for each session."
   ]
  },
  {
   "cell_type": "code",
   "execution_count": 34,
   "id": "3f2ec4b9",
   "metadata": {},
   "outputs": [
    {
     "name": "stdout",
     "output_type": "stream",
     "text": [
      "Legislative session: 2013-2014\n",
      "Legislative session: 2017-2018\n",
      "Legislative session: 2019-2020\n",
      "Legislative session: 2021-2022\n",
      "Legislative session: 2023-2024\n",
      "Legislative session: 2025-2026\n",
      "Completed fetching AI bills from LegiScan\n"
     ]
    }
   ],
   "source": [
    "# Define a dictionary to store AI bills\n",
    "aiBills = {}\n",
    "# Iterate through the AI bill list and fetch the bill details from LegiScan\n",
    "for key, value in aiBillListStored.items():\n",
    "    # Set the key to the legislative session period\n",
    "    aiBills[key] = {}\n",
    "    print(f\"Legislative session: {key}\")\n",
    "    # Iterate through the bills for the legislative session\n",
    "    for bno, bid in value.items():\n",
    "        # add the legiscan query to the aiBills dictionary\n",
    "        aiBills[key][bno] = legiscan.getBill(billId = bid)\n",
    "print(\"Completed fetching AI bills from LegiScan\")"
   ]
  },
  {
   "cell_type": "markdown",
   "id": "f3e8cf59",
   "metadata": {},
   "source": [
    "Get the bill counts for each legislative session from the obtained data."
   ]
  },
  {
   "cell_type": "code",
   "execution_count": 35,
   "id": "a36f4949",
   "metadata": {},
   "outputs": [
    {
     "name": "stdout",
     "output_type": "stream",
     "text": [
      "2013-2014: 3 bills\n",
      "2017-2018: 5 bills\n",
      "2019-2020: 16 bills\n",
      "2021-2022: 15 bills\n",
      "2023-2024: 81 bills\n",
      "2025-2026: 39 bills\n",
      "    Total: 159 bills\n"
     ]
    }
   ],
   "source": [
    "i=0\n",
    "for key, value in aiBills.items():\n",
    "    print(f\"{key}: {len(value)} bills\")\n",
    "    i+=len(value)\n",
    "print(f\"    Total: {i} bills\")\n",
    "del i, key, value"
   ]
  },
  {
   "cell_type": "markdown",
   "id": "f507b73b",
   "metadata": {},
   "source": [
    "Export the LegiScan query records to the `data/legis/json` directory as a JSON file for future reference."
   ]
  },
  {
   "cell_type": "code",
   "execution_count": 36,
   "id": "6517a0bb",
   "metadata": {},
   "outputs": [],
   "source": [
    "# Export the AI bills to a JSON file in the data/legiscan/json directory\n",
    "with open(os.path.join(prjDirs[\"pathDataLegis\"], \"json\", \"aiBills.json\"), \"w\", encoding=\"utf-8\") as f:\n",
    "    json.dump(aiBills, f, ensure_ascii=False, indent=4)"
   ]
  },
  {
   "cell_type": "markdown",
   "id": "dda0210e",
   "metadata": {},
   "source": [
    "<h2 style=\"font-weight:bold; color:dodgerblue; border-bottom: 1px solid dodgerblue; padding-left: 25px\">3.3. Get Bill Text</h2>"
   ]
  },
  {
   "cell_type": "markdown",
   "id": "09f8909c",
   "metadata": {},
   "source": [
    "Get the LegiScan bill text for each session. This process involves two legiscan functions:\n",
    "\n",
    "- `legiscan.getBillText`: This function retrieves the bill text for each bill in the session. The document ID is passed as an argument to the function. The function runs the LegiScan API call, and returns the bill text JSON information for each bill (which includes the base64 encoded bill text).\n",
    "- `legiscan.summarizeBillText`: This function summarizes the bill text for each bill in the session. The bill JSON information is passed as an argument to this function. The function performs a number of tasks:\n",
    "    - Looks up the `texts` JSON object group of the bill, and finds the last bill text version (is the last one in the list, with the latest bill date), and retrieves the `doc_id` identifier of the bill text. \n",
    "    - Uses the `legiscan.getBillText` function above to retrieve the encoded (base64) bill text. It then proceeds to decode the encoded bill text, and converts it to a string.\n",
    "    - Uses an `Azure OpenAI` API call to create a TL;DR summary of the bill text, along with a list of keywords (tags) for the bill text. \n",
    "    - Finally, it constructs and returns a dictionary with the bill number, summarized bill text, the tags, and the bill text itself.\n",
    " "
   ]
  },
  {
   "cell_type": "code",
   "execution_count": 37,
   "id": "836127c8",
   "metadata": {},
   "outputs": [],
   "source": [
    "# Create a function that loops through the aiBills dictionary, gets the bill text for each bill, and then processes the text through Azure OpenAI to obtain the summary and keywords.\n",
    "def createBillTextSummary(billList):\n",
    "    \"\"\"\n",
    "    Create a dictionary of bill text objects from the bill list.\n",
    "    \"\"\"\n",
    "    # Create a dictionary to store the bill text objects\n",
    "    billTextDict = {}\n",
    "    # First, loop through the legislative sessions in the bill list\n",
    "    for key, value in billList.items():\n",
    "        # Set the key to the legislative session period\n",
    "        billTextDict[key] = {}\n",
    "        # Count the number of bills in the legislative session\n",
    "        billCount = len(value)\n",
    "        print(f\"Legislative session: {key} ({billCount} bills)\")\n",
    "        # Reset the counter for the number of bills processed\n",
    "        i = 1        \n",
    "        # Loop through the bills for the legislative session\n",
    "        for billKey, billContent in value.items():\n",
    "            maxRetries = 5\n",
    "            attempts = 0\n",
    "            success = False\n",
    "            while not success and attempts < maxRetries:\n",
    "                try:\n",
    "                    # Get the bill text from LegiScan\n",
    "                    billTextJson = legiscan.summarizeBillText(billContent)\n",
    "                    success = True\n",
    "                except Exception as e:\n",
    "                    attempts += 1\n",
    "                    print(f\"  - Error fetching bill text for {billKey}: {e}\")\n",
    "            if success:\n",
    "                # If the bill text is processed,\n",
    "                print(f\"- Bill {i}/{billCount} ({billKey})\")\n",
    "                # Add the bill text to the billTextDict dictionary\n",
    "                billTextDict[key][billKey] = billTextJson\n",
    "                # Increment the counter for the number of bills processed\n",
    "                i += 1\n",
    "            else:\n",
    "                break\n",
    "    # Return the billTextDict dictionary\n",
    "    return billTextDict"
   ]
  },
  {
   "cell_type": "markdown",
   "id": "55b48518",
   "metadata": {},
   "source": [
    "We will execute the `createBillTextDict` function above (which in turns runs the `legiscan.summarizeBillText` function) for each bill in each legislative session, and generates a new dictionary obtaining the resulting data."
   ]
  },
  {
   "cell_type": "code",
   "execution_count": 39,
   "id": "9c16c79c",
   "metadata": {},
   "outputs": [
    {
     "name": "stdout",
     "output_type": "stream",
     "text": [
      "Legislative session: 2013-2014 (3 bills)\n",
      "- Bill 1/3 (AB1465)\n",
      "- Bill 2/3 (SB836)\n",
      "- Bill 3/3 (SB860)\n",
      "Legislative session: 2017-2018 (5 bills)\n",
      "- Bill 1/5 (AB1809)\n",
      "- Bill 2/5 (AB2662)\n",
      "- Bill 3/5 (ACR215)\n",
      "- Bill 4/5 (SB843)\n",
      "- Bill 5/5 (SB1470)\n",
      "Legislative session: 2019-2020 (16 bills)\n",
      "- Bill 1/16 (AB156)\n",
      "- Bill 2/16 (AB459)\n",
      "- Bill 3/16 (AB485)\n",
      "- Bill 4/16 (AB594)\n",
      "- Bill 5/16 (AB976)\n",
      "- Bill 6/16 (AB1576)\n",
      "- Bill 7/16 (AB2269)\n",
      "- Bill 8/16 (AB3317)\n",
      "- Bill 9/16 (AB3339)\n",
      "- Bill 10/16 (ACR125)\n",
      "- Bill 11/16 (SB348)\n",
      "- Bill 12/16 (SB444)\n",
      "- Bill 13/16 (SB730)\n",
      "- Bill 14/16 (SB752)\n",
      "- Bill 15/16 (SCR13)\n",
      "- Bill 16/16 (SJR6)\n",
      "Legislative session: 2021-2022 (15 bills)\n",
      "- Bill 1/15 (AB13)\n",
      "- Bill 2/15 (AB1400)\n",
      "- Bill 3/15 (AB1545)\n",
      "- Bill 4/15 (AB1651)\n",
      "- Bill 5/15 (AB178)\n",
      "- Bill 6/15 (AB179)\n",
      "- Bill 7/15 (AB2224)\n",
      "- Bill 8/15 (AB2826)\n",
      "- Bill 9/15 (AB587)\n",
      "- Bill 10/15 (SB54)\n",
      "- Bill 11/15 (SB178)\n",
      "- Bill 12/15 (SB179)\n",
      "- Bill 13/15 (SB1018)\n",
      "- Bill 14/15 (SB1216)\n",
      "- Bill 15/15 (SR11)\n",
      "Legislative session: 2023-2024 (81 bills)\n",
      "- Bill 1/81 (AB100)\n",
      "  - Error fetching bill text for AB103: Error code: 500 - {'error': {'message': 'The server had an error while processing your request. Sorry about that!', 'type': 'server_error', 'param': None, 'code': None}}\n",
      "- Bill 2/81 (AB103)\n",
      "- Bill 3/81 (AB104)\n",
      "- Bill 4/81 (AB106)\n",
      "- Bill 5/81 (AB107)\n",
      "- Bill 6/81 (AB108)\n",
      "- Bill 7/81 (AB158)\n",
      "- Bill 8/81 (AB302)\n",
      "- Bill 9/81 (AB331)\n",
      "- Bill 10/81 (AB459)\n",
      "- Bill 11/81 (AB863)\n",
      "- Bill 12/81 (AB1008)\n",
      "- Bill 13/81 (AB1027)\n",
      "- Bill 14/81 (AB1282)\n",
      "- Bill 15/81 (AB1526)\n",
      "- Bill 16/81 (AB1791)\n",
      "- Bill 17/81 (AB1754)\n",
      "- Bill 18/81 (AB1824)\n",
      "- Bill 19/81 (AB1831)\n",
      "- Bill 20/81 (AB1873)\n",
      "- Bill 21/81 (AB2013)\n",
      "- Bill 22/81 (AB2058)\n",
      "- Bill 23/81 (AB2200)\n",
      "- Bill 24/81 (AB2355)\n",
      "- Bill 25/81 (AB2370)\n",
      "- Bill 26/81 (AB2412)\n",
      "- Bill 27/81 (AB2512)\n",
      "- Bill 28/81 (AB2602)\n",
      "- Bill 29/81 (AB2652)\n",
      "- Bill 30/81 (AB2655)\n",
      "- Bill 31/81 (AB2811)\n",
      "- Bill 32/81 (AB2839)\n",
      "- Bill 33/81 (AB2876)\n",
      "- Bill 34/81 (AB2877)\n",
      "- Bill 35/81 (AB2885)\n",
      "- Bill 36/81 (AB2905)\n",
      "- Bill 37/81 (AB2928)\n",
      "- Bill 38/81 (AB2930)\n",
      "- Bill 39/81 (AB3030)\n",
      "- Bill 40/81 (AB3050)\n",
      "- Bill 41/81 (AB3058)\n",
      "- Bill 42/81 (AB3095)\n",
      "- Bill 43/81 (AB3204)\n",
      "- Bill 44/81 (AB3211)\n",
      "- Bill 45/81 (ACR96)\n",
      "- Bill 46/81 (ACR219)\n",
      "- Bill 47/81 (ACR227)\n",
      "- Bill 48/81 (AJR6)\n",
      "- Bill 49/81 (SB100)\n",
      "- Bill 50/81 (SB103)\n",
      "- Bill 51/81 (SB104)\n",
      "- Bill 52/81 (SB106)\n",
      "- Bill 53/81 (SB107)\n",
      "- Bill 54/81 (SB108)\n",
      "- Bill 55/81 (SB158)\n",
      "- Bill 56/81 (SB294)\n",
      "- Bill 57/81 (SB313)\n",
      "- Bill 58/81 (SB398)\n",
      "- Bill 59/81 (SB721)\n",
      "- Bill 60/81 (SB892)\n",
      "- Bill 61/81 (SB893)\n",
      "- Bill 62/81 (SB896)\n",
      "- Bill 63/81 (SB933)\n",
      "- Bill 64/81 (SB942)\n",
      "- Bill 65/81 (SB970)\n",
      "- Bill 66/81 (SB1047)\n",
      "- Bill 67/81 (SB1070)\n",
      "- Bill 68/81 (SB1120)\n",
      "- Bill 69/81 (SB1154)\n",
      "- Bill 70/81 (SB1220)\n",
      "- Bill 71/81 (SB1228)\n",
      "- Bill 72/81 (SB1223)\n",
      "- Bill 73/81 (SB1229)\n",
      "- Bill 74/81 (SB1235)\n",
      "- Bill 75/81 (SB1282)\n",
      "- Bill 76/81 (SB1288)\n",
      "- Bill 77/81 (SB1381)\n",
      "- Bill 78/81 (SB1446)\n",
      "- Bill 79/81 (SCR17)\n",
      "- Bill 80/81 (SCR121)\n",
      "- Bill 81/81 (SCR162)\n",
      "Legislative session: 2025-2026 (39 bills)\n",
      "- Bill 1/39 (AB93)\n",
      "- Bill 2/39 (AB222)\n",
      "- Bill 3/39 (AB279)\n",
      "- Bill 4/39 (AB316)\n",
      "- Bill 5/39 (AB325)\n",
      "- Bill 6/39 (AB392)\n",
      "- Bill 7/39 (AB410)\n",
      "- Bill 8/39 (AB412)\n",
      "- Bill 9/39 (AB489)\n",
      "- Bill 10/39 (AB512)\n",
      "- Bill 11/39 (AB682)\n",
      "- Bill 12/39 (AB723)\n",
      "- Bill 13/39 (AB853)\n",
      "- Bill 14/39 (AB887)\n",
      "- Bill 15/39 (AB979)\n",
      "- Bill 16/39 (AB1018)\n",
      "- Bill 17/39 (AB1024)\n",
      "- Bill 18/39 (AB1064)\n",
      "- Bill 19/39 (AB1137)\n",
      "- Bill 20/39 (AB1159)\n",
      "- Bill 21/39 (AB1170)\n",
      "- Bill 22/39 (AB1242)\n",
      "- Bill 23/39 (SB7)\n",
      "- Bill 24/39 (SB11)\n",
      "- Bill 25/39 (SB16)\n",
      "- Bill 26/39 (SB53)\n",
      "- Bill 27/39 (SB57)\n",
      "- Bill 28/39 (SB243)\n",
      "- Bill 29/39 (SB295)\n",
      "- Bill 30/39 (SB354)\n",
      "- Bill 31/39 (SB366)\n",
      "- Bill 32/39 (SB420)\n",
      "- Bill 33/39 (SB468)\n",
      "- Bill 34/39 (SB503)\n",
      "- Bill 35/39 (SB524)\n",
      "- Bill 36/39 (SB579)\n",
      "- Bill 37/39 (SB711)\n",
      "- Bill 38/39 (SB813)\n",
      "- Bill 39/39 (SB833)\n"
     ]
    }
   ],
   "source": [
    "aiBillsSummaries = createBillTextSummary(aiBills)"
   ]
  },
  {
   "cell_type": "markdown",
   "id": "75b3a4b6",
   "metadata": {},
   "source": [
    "Export the LegiScan query records to the `data/legis/json` directory as a JSON file for future reference."
   ]
  },
  {
   "cell_type": "code",
   "execution_count": 40,
   "id": "aeec4817",
   "metadata": {},
   "outputs": [],
   "source": [
    "# Export the AI bills summaries to a JSON file in the data/legiscan/json directory\n",
    "with open(os.path.join(prjDirs[\"pathDataLegis\"], \"json\", \"aiBillsSummaries.json\"), \"w\", encoding=\"utf-8\") as f:\n",
    "    json.dump(aiBillsSummaries, f, ensure_ascii=False, indent=4)"
   ]
  },
  {
   "cell_type": "code",
   "execution_count": 41,
   "id": "eaf44331",
   "metadata": {},
   "outputs": [],
   "source": [
    "# Export the AI bill summaries to a JSON file in the data/lookup directory for reference\n",
    "with open(os.path.join(prjDirs[\"pathDataLookup\"], \"aiBillsSummariesStored.json\"), \"w\", encoding=\"utf-8\") as f:\n",
    "    json.dump(aiBillsSummaries, f, ensure_ascii=False, indent=4)"
   ]
  },
  {
   "cell_type": "markdown",
   "id": "37a38a70",
   "metadata": {},
   "source": [
    "<div style = \"background-color:indigo\"><center>\n",
    "<h1 style=\"font-weight:bold; color:goldenrod; border-top: 2px solid goldenrod; border-bottom: 2px solid goldenrod; padding-top: 5px; padding-bottom: 10px\">End of Script</h1>\n",
    "</center></div>"
   ]
  },
  {
   "cell_type": "markdown",
   "id": "78b2c26b",
   "metadata": {},
   "source": []
  }
 ],
 "metadata": {
  "kernelspec": {
   "display_name": "drkPy",
   "language": "python",
   "name": "python3"
  },
  "language_info": {
   "codemirror_mode": {
    "name": "ipython",
    "version": 3
   },
   "file_extension": ".py",
   "mimetype": "text/x-python",
   "name": "python",
   "nbconvert_exporter": "python",
   "pygments_lexer": "ipython3",
   "version": "3.11.11"
  }
 },
 "nbformat": 4,
 "nbformat_minor": 5
}
