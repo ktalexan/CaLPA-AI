{
 "cells": [
  {
   "cell_type": "markdown",
   "id": "e333f258",
   "metadata": {},
   "source": [
    "</center></div><div style = 'background-color:indigo'><center><h1 style='font-size: 50px; font-weight: bold; color:goldenrod; border-top: 3px solid goldenrod; padding-top: 10px'>AI Legislative Policy Analysis (CaLPA-AI)</h1><div style='font-size: 35px; font-weight: bold; color: goldenrod'> Part 2 - Markdown Documents Analysis</div><div style='font-size: 30px; font-weight: bold; color: goldenrod; border-bottom: 3px solid goldenrod; padding-bottom: 20px'>v.1.1 (MIT License), Dr. Kostas Alexandridis, GISP, April 2025</div></center></div>"
   ]
  },
  {
   "cell_type": "code",
   "execution_count": null,
   "id": "9c89813e",
   "metadata": {},
   "outputs": [],
   "source": [
    "import notebookHeadings\n",
    "from notebookHeadings import mdt\n",
    "mdt(level = 0, prjPart = 2, prjComponent = \"AI\", prjVersion = \"1.1\")"
   ]
  },
  {
   "cell_type": "markdown",
   "id": "a59e150e",
   "metadata": {},
   "source": [
    "This is the main notebook for the AI California Legislative Policy Analysis (CALPA) project. The goal of this project is to analyze California legislative bills using natural language processing (NLP) techniques. This notebook will cover the preliminary data processing steps, including data loading, cleaning, and preparation for analysis.\n",
    "The project is divided into several parts, each focusing on a specific aspect of the analysis. The first part will cover the data loading and cleaning process, while subsequent parts will focus on feature extraction, model training, and evaluation."
   ]
  },
  {
   "cell_type": "markdown",
   "id": "66469cb5",
   "metadata": {},
   "source": [
    "<h1 style=\"font-weight:bold; color:orangered; border-bottom: 2px solid orangered\">1. Preliminaries</h1>"
   ]
  },
  {
   "cell_type": "code",
   "execution_count": null,
   "id": "125e6a5a",
   "metadata": {},
   "outputs": [],
   "source": [
    "mdt(1, \"1. Preliminaries\")"
   ]
  },
  {
   "cell_type": "markdown",
   "id": "ea620f0a",
   "metadata": {},
   "source": [
    "<h2 style=\"font-weight:bold; color:dodgerblue; border-bottom: 1px solid dodgerblue; padding-left: 25px\">1.1 Referencing Libraries and Initialization</h2>"
   ]
  },
  {
   "cell_type": "code",
   "execution_count": null,
   "id": "8f883415",
   "metadata": {},
   "outputs": [],
   "source": [
    "mdt(2, \"1.1. Referencing Libraries and Initialization\")"
   ]
  },
  {
   "cell_type": "markdown",
   "id": "86bb97ac",
   "metadata": {},
   "source": [
    "If needed to reset the kernel, please run the following cell:"
   ]
  },
  {
   "cell_type": "code",
   "execution_count": null,
   "id": "c1295d19",
   "metadata": {},
   "outputs": [],
   "source": [
    "#%reset"
   ]
  },
  {
   "cell_type": "markdown",
   "id": "0417aab9",
   "metadata": {},
   "source": [
    "Instantiating python libraries for the project"
   ]
  },
  {
   "cell_type": "code",
   "execution_count": 1,
   "id": "8d382be0",
   "metadata": {},
   "outputs": [],
   "source": [
    "# Import required libraries\n",
    "import os\n",
    "from dotenv import load_dotenv\n",
    "import time\n",
    "from datetime import date\n",
    "from datetime import datetime\n",
    "import json\n",
    "import mimetypes\n",
    "import glob\n",
    "import base64\n",
    "import zipfile\n",
    "import io\n",
    "import requests\n",
    "import pandas as pd"
   ]
  },
  {
   "cell_type": "markdown",
   "id": "3e3ac128",
   "metadata": {},
   "source": [
    "Load the local python modules containing classes and functions for the project from the local directory.\n",
    "- `calpa`: This module contains the main classes and functions for the project, including the `LegiScan` class for the LegScan API."
   ]
  },
  {
   "cell_type": "code",
   "execution_count": 2,
   "id": "a74c1678",
   "metadata": {},
   "outputs": [],
   "source": [
    "# Load the calpa module located in the scripts/python/calpa directory\n",
    "from calpa import calpa"
   ]
  },
  {
   "cell_type": "markdown",
   "id": "3aa1914e",
   "metadata": {},
   "source": [
    "<h2 style=\"font-weight:bold; color:dodgerblue; border-bottom: 1px solid dodgerblue; padding-left: 25px\">1.2. Project and Workspace Variables</h2>"
   ]
  },
  {
   "cell_type": "markdown",
   "id": "211b6f05",
   "metadata": {},
   "source": [
    "<h3 style=\"font-weight:bold; color:lime; padding-left: 50px\">Load Environment Variables</h3>"
   ]
  },
  {
   "cell_type": "code",
   "execution_count": null,
   "id": "67b7d166",
   "metadata": {},
   "outputs": [],
   "source": [
    "mdt(2, \"1.2., Project and Workspace Variables\")\n",
    "mdt(3, \"Load Environment Variables\")"
   ]
  },
  {
   "cell_type": "markdown",
   "id": "ca219968",
   "metadata": {},
   "source": [
    "Define and maintain project, workspace and metadata. Below we load the environment variables from the `.env` file. The environment variables are used to configure the project and workspace settings. The `dotenv` library is used to load the environment variables from the `.env` file into the Python environment. The environment also contains the LegiScan API key, which is used to access the LegiScan API. The API key is stored in the `LEGISCAN_API_KEY` environment variable. The `dotenv` library is used to load the environment variables from the `.env` file into the Python environment."
   ]
  },
  {
   "cell_type": "code",
   "execution_count": 3,
   "id": "a665cd1b",
   "metadata": {},
   "outputs": [
    {
     "data": {
      "text/plain": [
       "True"
      ]
     },
     "execution_count": 3,
     "metadata": {},
     "output_type": "execute_result"
    }
   ],
   "source": [
    "# Load environment variables from .env file\n",
    "load_dotenv()"
   ]
  },
  {
   "cell_type": "markdown",
   "id": "c79425d7",
   "metadata": {},
   "source": [
    "<h3 style=\"font-weight:bold; color:lime; padding-left: 50px\">Main Class Instantiation</h3>"
   ]
  },
  {
   "cell_type": "code",
   "execution_count": null,
   "id": "7fbc354c",
   "metadata": {},
   "outputs": [],
   "source": [
    "mdt(3, \"Main Class Instantiation\")"
   ]
  },
  {
   "cell_type": "markdown",
   "id": "d10ef345",
   "metadata": {},
   "source": [
    "Instantiate the main class for the project:\n",
    "- `legiscan`: This class is used to access the LegiScan API and retrieve legislative data."
   ]
  },
  {
   "cell_type": "code",
   "execution_count": 4,
   "id": "4f78c3a9",
   "metadata": {},
   "outputs": [],
   "source": [
    "# Instantiate the LegiScan class\n",
    "legiscan = calpa.LegiScan()"
   ]
  },
  {
   "cell_type": "markdown",
   "id": "bb9f1f51",
   "metadata": {},
   "source": [
    "Create project metadata for the project"
   ]
  },
  {
   "cell_type": "code",
   "execution_count": 5,
   "id": "c2e611ab",
   "metadata": {},
   "outputs": [
    {
     "name": "stdout",
     "output_type": "stream",
     "text": [
      "~~~~~~~~~~~~~~~~~~~~~~~~~~~~~~~~~~~~~~~~~~~~~~~~~~~~~~~~~~~~~~~~~~~~~~~~~~~~~~~~~~\n",
      " AI Legislative Policy Analysis (CaLPA-AI)\n",
      " California Legislative Policy Analysis for Artificial Intelligence Related Bills\n",
      " Part 2 - Markdown Documents Analysis\n",
      " Version 1.1 (MIT License), Dr. Kostas Alexandridis, GISP\n",
      " GitHub Repository: https://github.com/ktalexan/CaLPA\n",
      " Last Updated: Apr 29, 2025\n",
      "~~~~~~~~~~~~~~~~~~~~~~~~~~~~~~~~~~~~~~~~~~~~~~~~~~~~~~~~~~~~~~~~~~~~~~~~~~~~~~~~~~\n",
      "\n",
      "Dates: 2010-12-02 through 2025-04-29\n",
      "Periods: 2009-2010, 2011-2012, 2013-2014, 2015-2016, 2017-2018, 2019-2020, 2021-2022, 2023-2024, 2025-2026\n"
     ]
    }
   ],
   "source": [
    "# Create project metadata for the AI project\n",
    "prjMetadata = calpa.projectMetadata(prjPart=2, prjComponent=\"AI\", prjVersion=\"1.1\")"
   ]
  },
  {
   "cell_type": "markdown",
   "id": "5a65654c",
   "metadata": {},
   "source": [
    "Create the project directories dictionary"
   ]
  },
  {
   "cell_type": "code",
   "execution_count": 6,
   "id": "ecc0c623",
   "metadata": {},
   "outputs": [
    {
     "name": "stdout",
     "output_type": "stream",
     "text": [
      "Directory Global Settings:\n",
      "\n",
      "General:\n",
      "- Project (pathPrj): c:\\Users\\ktale\\OneDrive\\Documents\\GitHub\\CaLPA-AI\n",
      "- Admin (pathAdmin): c:\\Users\\ktale\\OneDrive\\Documents\\GitHub\\CaLPA-AI\\admin\n",
      "- Metadata (pathMetadata): c:\\Users\\ktale\\OneDrive\\Documents\\GitHub\\CaLPA-AI\\metadata\n",
      "- Analysis (pathAnalysis): c:\\Users\\ktale\\OneDrive\\Documents\\GitHub\\CaLPA-AI\\analysis\n",
      "- Obsidian Vault (pathObsidian): C:\\Users\\ktale\\Knowledge Management\\Policy and Governance\\Legislation\n",
      "Scripts:\n",
      "- Python Calpa Module (pathScriptsCalpa): c:\\Users\\ktale\\OneDrive\\Documents\\GitHub\\CaLPA-AI\\calpa\n",
      "- Markdown Scripts (pathScriptsMd): c:\\Users\\ktale\\OneDrive\\Documents\\GitHub\\CaLPA-AI\\markdown\n",
      "- RIS Scripts (pathScriptsRis): c:\\Users\\ktale\\OneDrive\\Documents\\GitHub\\CaLPA-AI\\ris\n",
      "Data:\n",
      "- Main Data (pathData): c:\\Users\\ktale\\OneDrive\\Documents\\GitHub\\CaLPA-AI\\data\n",
      "- Documents (pathDataDocs): c:\\Users\\ktale\\OneDrive\\Documents\\GitHub\\CaLPA-AI\\data\\docs\n",
      "- LegiScan (pathDataLegis): c:\\Users\\ktale\\OneDrive\\Documents\\GitHub\\CaLPA-AI\\data\\legis\n",
      "- LookUp (pathDataLookup): c:\\Users\\ktale\\OneDrive\\Documents\\GitHub\\CaLPA-AI\\data\\lookup\n",
      "- Markdown (pathDataMd): c:\\Users\\ktale\\OneDrive\\Documents\\GitHub\\CaLPA-AI\\data\\md\n",
      "- RIS (pathDataBbl): c:\\Users\\ktale\\OneDrive\\Documents\\GitHub\\CaLPA-AI\\data\\bbl\n",
      "Graphics:\n",
      "- Main Graphics (pathGraphics): c:\\Users\\ktale\\OneDrive\\Documents\\GitHub\\CaLPA-AI\\graphics\n",
      "- Figures (pathGraphicsFigs): c:\\Users\\ktale\\OneDrive\\Documents\\GitHub\\CaLPA-AI\\graphics\\figs\n",
      "- Presentations (pathGraphicsVisual): c:\\Users\\ktale\\OneDrive\\Documents\\GitHub\\CaLPA-AI\\graphics\\visual\n"
     ]
    }
   ],
   "source": [
    "# Create the project directories dictionary\n",
    "prjDirs = calpa.projectDirectories(os.getcwd())"
   ]
  },
  {
   "cell_type": "markdown",
   "id": "23edad0f",
   "metadata": {},
   "source": [
    "<h3 style=\"font-weight:bold; color:lime; padding-left: 50px\">Load Lookup DataFrames</h3>"
   ]
  },
  {
   "cell_type": "code",
   "execution_count": null,
   "id": "a5fc5186",
   "metadata": {},
   "outputs": [],
   "source": [
    "mdt(3, \"Load Lookup DataFrames\")"
   ]
  },
  {
   "cell_type": "markdown",
   "id": "0d41ba81",
   "metadata": {},
   "source": [
    "If needed, you can access the project lookup and dictionary variables. They are embedded in the `codebook` module of the `calpa` package. The codebook module contains the following variables:\n",
    "1. **LegiScan API Call Dictionaries**: These are codebook dictionaries that map the definitions of the LegiScan API fields for a number of API calls. The dictionaries available are (alphabetically ordered):\n",
    "   - `dictGetAmendment`: Contains all the fields returned by the LegiScan API for the `getAmendment` call.\n",
    "   - `dictGetBill`: Contains all the fields returned by the LegiScan API for the `getBill` call.\n",
    "   - `dictGetBillText`: Contains all the fields returned by the LegiScan API for the `getBillText` call.\n",
    "   - `dictGetPerson`: Contains all the fields returned by the LegiScan API for the `getPerson` call.\n",
    "   - `dictGetRollCall`: Contains all the fields returned by the LegiScan API for the `getRollCall` call.\n",
    "   - `dictGetSessionList`: Contains all the fields returned by the LegiScan API for the `getSessionList` call.\n",
    "   - `dictGetSupplement`: Contains all the fields returned by the LegiScan API for the `getSupplement` call.\n",
    "2. **Lookup Variables**: These are lists containing the names or definitions of codes used inside the LegiScan API calls (usually IDs or codes). The lookup variables available are (alphabetically ordered):\n",
    "   - `lookupBillCode`: Bill code definitions used in the LegiScan API.\n",
    "   - `lookupBillTextType`: IDs and definitions of the bill types used in the LegiScan API.\n",
    "   - `lookupBillType`: IDs and definitions of the bill types used in the LegiScan API.\n",
    "   - `lookupBodyType`: Definitions of body types used in the LegiScan API.\n",
    "   - `lookupEventType`: Definitions of event types used in the LegiScan API.\n",
    "   - `lookupMimeType`: Definitions of mime types used in the LegiScan API.\n",
    "   - `lookupPartyType`: Definitions of party types used in the LegiScan API.\n",
    "   - `lookupProgressType`: Definitions of progress types used in the LegiScan API.\n",
    "   - `lookupReasonType`: Definitions of reason types used in the LegiScan API.\n",
    "   - `lookupRoleType`: Definitions of role types used in the LegiScan API.\n",
    "   - `lookupSastType`: Definitions of SAST types used in the LegiScan API.\n",
    "   - `lookupSponsorType`: Definitions of sponsor types used in the LegiScan API.\n",
    "   - `lookupStateType`: Definitions of state types used in the LegiScan API (California only).\n",
    "   - `lookupStatusType`: Definitions of status types used in the LegiScan API.\n",
    "   - `lookupSupplementType`: Definitions of supplement types used in the LegiScan API.\n",
    "   - `lookupVoteType`: Definitions of vote types used in the LegiScan API.\n",
    "\n",
    "If you need to access the codebook variables, you can do so by running the following cell. The codebook variables are stored in the `codebook` module of the `calpa` package. Calling the variables (assuming that the `calpa` package is imported) will return the variables as a dictionary. You can access the variables by using the dictionary keys. For example, to access the `lookupBillCode` variable, you can use the following code:\n",
    "\n",
    ">```python\n",
    "># Load the calpa module located in the scripts/python/calpa directory\n",
    ">from calpa import calpa\n",
    ">\n",
    "># Getting the lookup variables from the codebook module directly\n",
    ">calpa.codebook.lookupBillCode\n",
    ">\n",
    "># Assigning the lookup variables to a stored in the session\n",
    ">lookupBillCode = calpa.codebook.lookupBillCode\n",
    ">```\n"
   ]
  },
  {
   "cell_type": "code",
   "execution_count": 7,
   "id": "a2eb952f",
   "metadata": {},
   "outputs": [
    {
     "name": "stdout",
     "output_type": "stream",
     "text": [
      "Codebook Lookup Variables:\n",
      "['lookupBillCode', 'lookupBillTextType', 'lookupBillType', 'lookupBodyType', 'lookupEventType', 'lookupMimeType', 'lookupPartyType', 'lookupProgressType', 'lookupReasonType', 'lookupRoleType', 'lookupSastType', 'lookupSponsorType', 'lookupStateType', 'lookupStatusType', 'lookupSupplementType', 'lookupVoteType']\n",
      "\n",
      "Codebook Dictionary Variables:\n",
      "['dictGetAmendment', 'dictGetBill', 'dictGetBillText', 'dictGetPerson', 'dictGetRollCall', 'dictGetSessionList', 'dictGetSupplement']\n",
      "\n"
     ]
    }
   ],
   "source": [
    "# Codebook lookup variables\n",
    "codebookLookupVars = [var for var in dir(calpa.codebook) if var.startswith('lookup')]\n",
    "codebookDictVars = [var for var in dir(calpa.codebook) if var.startswith('dict')]\n",
    "print(f\"Codebook Lookup Variables:\\n{codebookLookupVars}\\n\")\n",
    "print(f\"Codebook Dictionary Variables:\\n{codebookDictVars}\\n\")"
   ]
  },
  {
   "cell_type": "markdown",
   "id": "c617deb6",
   "metadata": {},
   "source": [
    "<h3 style=\"font-weight:bold; color:lime; padding-left: 50px\">Load Stored Data</h3>"
   ]
  },
  {
   "cell_type": "code",
   "execution_count": null,
   "id": "aa4407bf",
   "metadata": {},
   "outputs": [],
   "source": [
    "mdt(3, \"Load Stored Data\")"
   ]
  },
  {
   "cell_type": "markdown",
   "id": "655a1821",
   "metadata": {},
   "source": [
    "Load the stored data from the `data` directory. This includes the following data files:\n",
    "- `sessionListStored`: This file contains the list of legislative sessions.\n",
    "- `sessionPeopleStored`: This file contains the list of legislative session people.\n",
    "- `datasetListStored`: This file contains the list of legislative datasets.\n",
    "- `datasetListRawStored`: This file contains the list of raw legislative datasets.\n",
    "- `masterListStored`: This file contains the list of legislative master datasets.\n",
    "- `aiBillListStored`: This file contains the list of AI legislative bills.\n",
    "- `aiBills`: This file contains the the AI legislative bills data.\n",
    "- `aiBillsSummariesStored`: This file contains the list of AI legislative bill text summaries."
   ]
  },
  {
   "cell_type": "code",
   "execution_count": 8,
   "id": "d4908064",
   "metadata": {},
   "outputs": [],
   "source": [
    "# Obtain the stored sessions list from JSON dictionary on disk (data/lookup directory)\n",
    "sessionListStored = legiscan.getStoredData(dataType = \"session\")\n",
    "\n",
    "# Obtain the stored session People list from JSON dictionary on disk (data/lookup directory)\n",
    "sessionPeopleStored = legiscan.getStoredData(dataType = \"people\")\n",
    "\n",
    "# Obtain the stored dataset list from JSON dictionary on disk (data/lookup directory)\n",
    "datasetListStored = legiscan.getStoredData(dataType = \"dataset\")\n",
    "\n",
    "# Get the stored raw master list from JSON dictionary on disk (data/lookup directory)\n",
    "masterListRawStored = legiscan.getStoredData(dataType = \"master\", raw = True)\n",
    "# Get the stored master list from JSON dictionary on disk (data/lookup directory)\n",
    "masterListStored = legiscan.getStoredData(dataType = \"master\", raw = False)\n",
    "\n",
    "# Get the AI monitoring list from disk (data/lookup directory)\n",
    "aiBillListStored = legiscan.getStoredData(dataType = \"bills\", project = \"AI\")\n",
    "\n",
    "# Get the AI full list of bills from dism (data/legis/json directory)\n",
    "aiBills = legiscan.getStoredData(dataType = \"data\", project = \"AI\")\n",
    "\n",
    "# Get the AI bill summries list from disk (data/lookup directory)\n",
    "aiBillsSummariesStored = legiscan.getStoredData(dataType = \"summaries\", project = \"AI\")"
   ]
  },
  {
   "cell_type": "markdown",
   "id": "23262bcb",
   "metadata": {},
   "source": [
    "<h1 style=\"font-weight:bold; color:orangered; border-bottom: 2px solid orangered\">2. Markdown Data Processing</h1>"
   ]
  },
  {
   "cell_type": "code",
   "execution_count": null,
   "id": "8abb68e1",
   "metadata": {},
   "outputs": [],
   "source": [
    "mdt(1, \"2. Markdown Data Processing\")"
   ]
  },
  {
   "cell_type": "markdown",
   "id": "a1343ad3",
   "metadata": {},
   "source": [
    "The main markdown processing function is located in the `legiscan` class of the `calpa` module. The function is called `aiBillMarkdown()`. This function takes a legislative bill dictionary (obtained from the LegiScan API) and processes it to extract the relevant information. The function returns a markdown file containing the legislative bill information. The markdown file is stored in the `markdown/AI` directory of the project, and (optionally) mirrors the file to the relevant Obsidian vault directory. The markdown file is named using the legislative bill ID and its awareness includes the legislative bill period (it stores the file under the relevant legislative session subfolder). The markdown file has the following sections:\n",
    "1. **YAML properties**: This section contains the YAML properties of the legislative bill. The YAML properties are listed in a formal markdown format.\n",
    "2. **Markdown Information Section**: This section contains the main markdown content of the legislative bill information in the form of callout information boxes. Has the following sections:\n",
    "    - **TL;DR Summary Callout**: Contains the Azure OpenAI TL;DR Summary for the legislative bill.\n",
    "    - **Bill Metadata Callout**: Contains the detailed metadata of the legsiative bill.\n",
    "    - **Bill Citation Callout**: Formats and displays the APA 7th bibliographic citation of the bill.\n",
    "3. **AI Notes Section**: This section contains the AI notes for the legislative bill. The AI notes are obtained from the `markdown/notes` directory of the project, imported by the function, and formatted for display in the markdown file.\n",
    "4. **Embedded State Bill Webpage**: This section contains the embedded state bill webpage. The embedded state bill webpage is obtained from the bill metadata and displayed in an embedded `iframe` object inside the markdown file.\n",
    "\n",
    "In order to process the markdown files, the following process is implemented in the code below. Specifically, we loop through each legislative period in our bill dataset, and consequently trough each legislative bill in the period. For each legislative bill, we call the `aiBillMarkdown()` function to process the markdown file. The function takes the legislative bill dictionary as input and returns the markdown file as output."
   ]
  },
  {
   "cell_type": "code",
   "execution_count": 12,
   "id": "3efc478b",
   "metadata": {},
   "outputs": [
    {
     "name": "stdout",
     "output_type": "stream",
     "text": [
      "\n",
      "2013-2014 Legislative Session:\n",
      "SB836 (1/3), SB860 (2/3), AB1465 (3/3)\n",
      "\n",
      "2017-2018 Legislative Session:\n",
      "ACR215 (1/3), AB2662 (2/3), SB1470 (3/3)\n",
      "\n",
      "2019-2020 Legislative Session:\n",
      "AB594 (1/16), AB1576 (2/16), SB348 (3/16), SJR6 (4/16), AB459 (5/16), AB976 (6/16), SB444 (7/16), SB730 (8/16), AB156 (9/16), AB485 (10/16), SCR13 (11/16), ACR125 (12/16), AB3317 (13/16), SB752 (14/16), AB2269 (15/16), AB3339 (16/16)\n",
      "\n",
      "2021-2022 Legislative Session:\n",
      "SB1216 (1/11), AB587 (2/11), AB13 (3/11), AB1545 (4/11), SB54 (5/11), AB1400 (6/11), SB1018 (7/11), SR11 (8/11), AB2826 (9/11), AB2224 (10/11), AB1651 (11/11)\n",
      "\n",
      "2023-2024 Legislative Session:\n",
      "SB1288 (1/71), SB896 (2/71), AB2013 (3/71), SB1047 (4/71), AB2652 (5/71), AB3030 (6/71), AB2355 (7/71), SB893 (8/71), SB1120 (9/71), AB1831 (10/71), AB2885 (11/71), SB892 (12/71), SB1235 (13/71), SB942 (14/71), SB970 (15/71), SB721 (16/71), AB2876 (17/71), SB933 (18/71), AB331 (19/71), AB2811 (20/71), SB313 (21/71), AB3204 (22/71), AB2905 (23/71), SB1220 (24/71), AB2877 (25/71), SB398 (26/71), AB3058 (27/71), AB3211 (28/71), SB1229 (29/71), AB1282 (30/71), SB1381 (31/71), AB2930 (32/71), AB2839 (33/71), AB2370 (34/71), AB1824 (35/71), AB1791 (36/71), AB2602 (37/71), SB294 (38/71), SCR17 (39/71), AB2655 (40/71), AB302 (41/71), AB2058 (42/71), AB1027 (43/71), SB1446 (44/71), AJR6 (45/71), AB459 (46/71), ACR96 (47/71), SCR121 (48/71), AB1008 (49/71), SB1228 (50/71), AB2412 (51/71), AB3095 (52/71), AB1526 (53/71), AB1873 (54/71), SCR162 (55/71), ACR227 (56/71), AB3050 (57/71), AB2200 (58/71), AB2512 (59/71), AB863 (60/71), SB1070 (61/71), SB1223 (62/71), SB1154 (63/71), ACR219 (64/71), AB108 (65/71), SB108 (66/71), AB2928 (67/71), AB158 (68/71), SB158 (69/71), AB100 (70/71), AB103 (71/71)\n",
      "\n",
      "2025-2026 Legislative Session:\n",
      "SB813 (1/46), SB420 (2/46), SB579 (3/46), AB512 (4/46), AB412 (5/46), SB11 (6/46), SB524 (7/46), AB1064 (8/46), SB833 (9/46), AB316 (10/46), AB489 (11/46), SB53 (12/46), SB366 (13/46), SB468 (14/46), AB410 (15/46), AB979 (16/46), AB1405 (17/46), AB853 (18/46), AB1137 (19/46), SB503 (20/46), SB243 (21/46), AB1159 (22/46), SB7 (23/46), SB238 (24/46), AB222 (25/46), SB384 (26/46), AB93 (27/46), AB682 (28/46), SB771 (29/46), AB325 (30/46), AB1018 (31/46), SB57 (32/46), AB723 (33/46), AB279 (34/46), AB1242 (35/46), SJR2 (36/46), AB392 (37/46), SB259 (38/46), SB295 (39/46), AB1170 (40/46), SB52 (41/46), AB1024 (42/46), AB887 (43/46), SB638 (44/46), SB857 (45/46), SB354 (46/46)\n",
      "\n",
      "Completed processing the bill list (Total: 150 bills)\n"
     ]
    }
   ],
   "source": [
    "# Process the markdown files for each legislative session and bill\n",
    "# Set the total bill count to 0\n",
    "j = 0\n",
    "for myPeriod, myBillList in aiBills.items():\n",
    "    # Loop through each period\n",
    "    print(f\"\\n{myPeriod} Legislative Session:\")\n",
    "    # Set the bill count to 1\n",
    "    i = 1\n",
    "    # Get the number of bills in the period\n",
    "    l = len(myBillList)\n",
    "    for billId, bill in myBillList.items():\n",
    "        # for each bill in the period, generate the markdown file\n",
    "        legiscan.createBillMarkdown(\n",
    "            billPeriod = myPeriod,\n",
    "            billId = billId,\n",
    "            prjPart = \"AI\",\n",
    "            billsDict = aiBills,\n",
    "            billsSummariesDict = aiBillsSummariesStored,\n",
    "            obsidianSync = True\n",
    "        )\n",
    "        if i < l:\n",
    "            # If not the last bill, add a comma and space\n",
    "            print(f\"{billId} ({i}/{l})\", end=\", \")\n",
    "        else:\n",
    "            # If the last bill, add a period\n",
    "            print(f\"{billId} ({i}/{l})\")\n",
    "        i += 1\n",
    "    j += i - 1\n",
    "# Print the total number of bills in the period\n",
    "print(f\"\\nCompleted processing the bill list (Total: {j} bills)\")\n",
    "del j, i, l, myPeriod, myBillList, billId, bill"
   ]
  },
  {
   "cell_type": "markdown",
   "id": "caa110de",
   "metadata": {},
   "source": [
    "<div style = 'background-color:indigo'><center><h1 style='font-weight:bold; color:goldenrod; border-top: 2px solid goldenrod; border-bottom: 2px solid goldenrod; padding-top: 5px; padding-bottom: 10px'>End of Script</h1></center></div>"
   ]
  },
  {
   "cell_type": "code",
   "execution_count": null,
   "id": "f5cb2c18",
   "metadata": {},
   "outputs": [],
   "source": [
    "mdt(5)"
   ]
  }
 ],
 "metadata": {
  "kernelspec": {
   "display_name": "drkPy",
   "language": "python",
   "name": "python3"
  },
  "language_info": {
   "codemirror_mode": {
    "name": "ipython",
    "version": 3
   },
   "file_extension": ".py",
   "mimetype": "text/x-python",
   "name": "python",
   "nbconvert_exporter": "python",
   "pygments_lexer": "ipython3",
   "version": "3.11.11"
  }
 },
 "nbformat": 4,
 "nbformat_minor": 5
}
