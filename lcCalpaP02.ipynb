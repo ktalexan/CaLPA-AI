{
 "cells": [
  {
   "cell_type": "markdown",
   "id": "0966ce26",
   "metadata": {},
   "source": [
    "</center></div><div style = 'background-color:indigo'><center><h1 style='font-size: 50px; font-weight: bold; color:goldenrod; border-top: 3px solid goldenrod; padding-top: 10px'>OCEA Legislative Policy Analysis (CaLPA-LC)</h1><div style='font-size: 35px; font-weight: bold; color: goldenrod'> Part 2 - Markdown Documents Analysis</div><div style='font-size: 30px; font-weight: bold; color: goldenrod; border-bottom: 3px solid goldenrod; padding-bottom: 20px'>v.1.1 (MIT License), Dr. Kostas Alexandridis, GISP, April 2025</div></center></div>"
   ]
  },
  {
   "cell_type": "code",
   "execution_count": null,
   "id": "33bf5279",
   "metadata": {},
   "outputs": [],
   "source": [
    "import notebookHeadings\n",
    "from notebookHeadings import mdt\n",
    "mdt(level = 0, prjPart = 2, prjComponent = \"LC\", prjVersion = \"1.1\")"
   ]
  },
  {
   "cell_type": "markdown",
   "id": "a59e150e",
   "metadata": {},
   "source": [
    "This is the main notebook for the AI California Legislative Policy Analysis (CALPA) project. The goal of this project is to analyze California legislative bills using natural language processing (NLP) techniques. This notebook will cover the preliminary data processing steps, including data loading, cleaning, and preparation for analysis.\n",
    "The project is divided into several parts, each focusing on a specific aspect of the analysis. The first part will cover the data loading and cleaning process, while subsequent parts will focus on feature extraction, model training, and evaluation."
   ]
  },
  {
   "cell_type": "markdown",
   "id": "66469cb5",
   "metadata": {},
   "source": [
    "<h1 style=\"font-weight:bold; color:orangered; border-bottom: 2px solid orangered\">1. Preliminaries</h1>"
   ]
  },
  {
   "cell_type": "markdown",
   "id": "ea620f0a",
   "metadata": {},
   "source": [
    "<h2 style=\"font-weight:bold; color:dodgerblue; border-bottom: 1px solid dodgerblue; padding-left: 25px\">1.1 Referencing Libraries and Initialization</h2>"
   ]
  },
  {
   "cell_type": "code",
   "execution_count": null,
   "id": "379a9760",
   "metadata": {},
   "outputs": [],
   "source": [
    "mdt(1, \"1. Preliminaries\")\n",
    "mdt(2, \"1.1. Referencing Libraries and Initialization\")"
   ]
  },
  {
   "cell_type": "markdown",
   "id": "86bb97ac",
   "metadata": {},
   "source": [
    "If needed to reset the kernel, please run the following cell:"
   ]
  },
  {
   "cell_type": "code",
   "execution_count": null,
   "id": "c1295d19",
   "metadata": {},
   "outputs": [],
   "source": [
    "#%reset"
   ]
  },
  {
   "cell_type": "markdown",
   "id": "0417aab9",
   "metadata": {},
   "source": [
    "Instantiating python libraries for the project"
   ]
  },
  {
   "cell_type": "code",
   "execution_count": 3,
   "id": "8d382be0",
   "metadata": {},
   "outputs": [],
   "source": [
    "# Import required libraries\n",
    "import os\n",
    "from dotenv import load_dotenv\n",
    "import time\n",
    "from datetime import date\n",
    "from datetime import datetime\n",
    "import json\n",
    "import mimetypes\n",
    "import glob\n",
    "import base64\n",
    "import zipfile\n",
    "import io\n",
    "import requests\n",
    "import pandas as pd"
   ]
  },
  {
   "cell_type": "markdown",
   "id": "3e3ac128",
   "metadata": {},
   "source": [
    "Load the local python modules containing classes and functions for the project from the local directory.\n",
    "- `calpa`: This module contains the main classes and functions for the project, including the `LegiScan` class for the LegScan API."
   ]
  },
  {
   "cell_type": "code",
   "execution_count": 4,
   "id": "a74c1678",
   "metadata": {},
   "outputs": [],
   "source": [
    "# Load the calpa module located in the scripts/python/calpa directory\n",
    "from calpa import calpa"
   ]
  },
  {
   "cell_type": "markdown",
   "id": "3aa1914e",
   "metadata": {},
   "source": [
    "<h2 style=\"font-weight:bold; color:dodgerblue; border-bottom: 1px solid dodgerblue; padding-left: 25px\">1.2. Project and Workspace Variables</h2>"
   ]
  },
  {
   "cell_type": "markdown",
   "id": "211b6f05",
   "metadata": {},
   "source": [
    "<h3 style=\"font-weight:bold; color:lime; padding-left: 50px\">Load Environment Variables</h3>"
   ]
  },
  {
   "cell_type": "code",
   "execution_count": null,
   "id": "2e5c9c77",
   "metadata": {},
   "outputs": [],
   "source": [
    "mdt(2, \"1.2. Project and Workspace Variables\")\n",
    "mdt(3, \"Load Environment Variables\")"
   ]
  },
  {
   "cell_type": "markdown",
   "id": "ca219968",
   "metadata": {},
   "source": [
    "Define and maintain project, workspace and metadata. Below we load the environment variables from the `.env` file. The environment variables are used to configure the project and workspace settings. The `dotenv` library is used to load the environment variables from the `.env` file into the Python environment. The environment also contains the LegiScan API key, which is used to access the LegiScan API. The API key is stored in the `LEGISCAN_API_KEY` environment variable. The `dotenv` library is used to load the environment variables from the `.env` file into the Python environment."
   ]
  },
  {
   "cell_type": "code",
   "execution_count": 5,
   "id": "a665cd1b",
   "metadata": {},
   "outputs": [
    {
     "data": {
      "text/plain": [
       "True"
      ]
     },
     "execution_count": 5,
     "metadata": {},
     "output_type": "execute_result"
    }
   ],
   "source": [
    "# Load environment variables from .env file\n",
    "load_dotenv()"
   ]
  },
  {
   "cell_type": "markdown",
   "id": "c79425d7",
   "metadata": {},
   "source": [
    "<h3 style=\"font-weight:bold; color:lime; padding-left: 50px\">Main Class Instantiation</h3>"
   ]
  },
  {
   "cell_type": "code",
   "execution_count": null,
   "id": "f06867ef",
   "metadata": {},
   "outputs": [],
   "source": [
    "mdt(3, \"Main Class Instantiation\")"
   ]
  },
  {
   "cell_type": "markdown",
   "id": "d10ef345",
   "metadata": {},
   "source": [
    "Instantiate the main class for the project:\n",
    "- `legiscan`: This class is used to access the LegiScan API and retrieve legislative data."
   ]
  },
  {
   "cell_type": "code",
   "execution_count": 6,
   "id": "4f78c3a9",
   "metadata": {},
   "outputs": [],
   "source": [
    "# Instantiate the LegiScan class\n",
    "legiscan = calpa.LegiScan()"
   ]
  },
  {
   "cell_type": "markdown",
   "id": "bb9f1f51",
   "metadata": {},
   "source": [
    "Create project metadata for the project"
   ]
  },
  {
   "cell_type": "code",
   "execution_count": 7,
   "id": "c2e611ab",
   "metadata": {},
   "outputs": [
    {
     "name": "stdout",
     "output_type": "stream",
     "text": [
      "~~~~~~~~~~~~~~~~~~~~~~~~~~~~~~~~~~~~~~~~~~~~~~~~~~~~~~~~~~~~~~~~~~~~~~~~~~~~~~~~~~\n",
      " AI Legislative Policy Analysis (CaLPA-AI)\n",
      " California Legislative Policy Analysis for Artificial Intelligence Related Bills\n",
      " Part 2 - Markdown Documents Analysis\n",
      " Version 1.1 (MIT License), Dr. Kostas Alexandridis, GISP\n",
      " GitHub Repository: https://github.com/ktalexan/CaLPA\n",
      " Last Updated: Apr 29, 2025\n",
      "~~~~~~~~~~~~~~~~~~~~~~~~~~~~~~~~~~~~~~~~~~~~~~~~~~~~~~~~~~~~~~~~~~~~~~~~~~~~~~~~~~\n",
      "\n",
      "Dates: 2010-12-02 through 2025-04-29\n",
      "Periods: 2009-2010, 2011-2012, 2013-2014, 2015-2016, 2017-2018, 2019-2020, 2021-2022, 2023-2024, 2025-2026\n"
     ]
    }
   ],
   "source": [
    "# Create project metadata for the AI project\n",
    "prjMetadata = calpa.projectMetadata(prjPart=2, prjComponent=\"AI\", prjVersion=\"1.1\")"
   ]
  },
  {
   "cell_type": "markdown",
   "id": "5a65654c",
   "metadata": {},
   "source": [
    "Create the project directories dictionary"
   ]
  },
  {
   "cell_type": "code",
   "execution_count": 8,
   "id": "ecc0c623",
   "metadata": {},
   "outputs": [
    {
     "name": "stdout",
     "output_type": "stream",
     "text": [
      "Directory Global Settings:\n",
      "\n",
      "General:\n",
      "- Project (pathPrj): c:\\Users\\ktalexan\\OneDrive\\Documents\\GitHub\\CaLPA\n",
      "- Admin (pathAdmin): c:\\Users\\ktalexan\\OneDrive\\Documents\\GitHub\\CaLPA\\admin\n",
      "- Metadata (pathMetadata): c:\\Users\\ktalexan\\OneDrive\\Documents\\GitHub\\CaLPA\\metadata\n",
      "- Analysis (pathAnalysis): c:\\Users\\ktalexan\\OneDrive\\Documents\\GitHub\\CaLPA\\analysis\n",
      "- Obsidian Vault (pathObsidian): C:\\Users\\ktalexan\\Knowledge Management\\Policy and Governance\\Legislation\n",
      "Scripts:\n",
      "- Python Calpa Module (pathScriptsCalpa): c:\\Users\\ktalexan\\OneDrive\\Documents\\GitHub\\CaLPA\\calpa\n",
      "- Markdown Scripts (pathScriptsMd): c:\\Users\\ktalexan\\OneDrive\\Documents\\GitHub\\CaLPA\\markdown\n",
      "- RIS Scripts (pathScriptsRis): c:\\Users\\ktalexan\\OneDrive\\Documents\\GitHub\\CaLPA\\ris\n",
      "Data:\n",
      "- Main Data (pathData): c:\\Users\\ktalexan\\OneDrive\\Documents\\GitHub\\CaLPA\\data\n",
      "- Documents (pathDataDocs): c:\\Users\\ktalexan\\OneDrive\\Documents\\GitHub\\CaLPA\\data\\docs\n",
      "- LegiScan (pathDataLegis): c:\\Users\\ktalexan\\OneDrive\\Documents\\GitHub\\CaLPA\\data\\legis\n",
      "- LookUp (pathDataLookup): c:\\Users\\ktalexan\\OneDrive\\Documents\\GitHub\\CaLPA\\data\\lookup\n",
      "- Markdown (pathDataMd): c:\\Users\\ktalexan\\OneDrive\\Documents\\GitHub\\CaLPA\\data\\md\n",
      "- RIS (pathDataBbl): c:\\Users\\ktalexan\\OneDrive\\Documents\\GitHub\\CaLPA\\data\\bbl\n",
      "Graphics:\n",
      "- Main Graphics (pathGraphics): c:\\Users\\ktalexan\\OneDrive\\Documents\\GitHub\\CaLPA\\graphics\n",
      "- Figures (pathGraphicsFigs): c:\\Users\\ktalexan\\OneDrive\\Documents\\GitHub\\CaLPA\\graphics\\figs\n",
      "- Presentations (pathGraphicsVisual): c:\\Users\\ktalexan\\OneDrive\\Documents\\GitHub\\CaLPA\\graphics\\visual\n"
     ]
    }
   ],
   "source": [
    "# Create the project directories dictionary\n",
    "prjDirs = calpa.projectDirectories(os.getcwd())"
   ]
  },
  {
   "cell_type": "markdown",
   "id": "23edad0f",
   "metadata": {},
   "source": [
    "<h3 style=\"font-weight:bold; color:lime; padding-left: 50px\">Load Lookup DataFrames</h3>"
   ]
  },
  {
   "cell_type": "code",
   "execution_count": null,
   "id": "04aba14e",
   "metadata": {},
   "outputs": [],
   "source": [
    "mdt(3, \"Load Lookup DataFrames\")"
   ]
  },
  {
   "cell_type": "markdown",
   "id": "0d41ba81",
   "metadata": {},
   "source": [
    "If needed, you can access the project lookup and dictionary variables. They are embedded in the `codebook` module of the `calpa` package. The codebook module contains the following variables:\n",
    "1. **LegiScan API Call Dictionaries**: These are codebook dictionaries that map the definitions of the LegiScan API fields for a number of API calls. The dictionaries available are (alphabetically ordered):\n",
    "   - `dictGetAmendment`: Contains all the fields returned by the LegiScan API for the `getAmendment` call.\n",
    "   - `dictGetBill`: Contains all the fields returned by the LegiScan API for the `getBill` call.\n",
    "   - `dictGetBillText`: Contains all the fields returned by the LegiScan API for the `getBillText` call.\n",
    "   - `dictGetPerson`: Contains all the fields returned by the LegiScan API for the `getPerson` call.\n",
    "   - `dictGetRollCall`: Contains all the fields returned by the LegiScan API for the `getRollCall` call.\n",
    "   - `dictGetSessionList`: Contains all the fields returned by the LegiScan API for the `getSessionList` call.\n",
    "   - `dictGetSupplement`: Contains all the fields returned by the LegiScan API for the `getSupplement` call.\n",
    "2. **Lookup Variables**: These are lists containing the names or definitions of codes used inside the LegiScan API calls (usually IDs or codes). The lookup variables available are (alphabetically ordered):\n",
    "   - `lookupBillCode`: Bill code definitions used in the LegiScan API.\n",
    "   - `lookupBillTextType`: IDs and definitions of the bill types used in the LegiScan API.\n",
    "   - `lookupBillType`: IDs and definitions of the bill types used in the LegiScan API.\n",
    "   - `lookupBodyType`: Definitions of body types used in the LegiScan API.\n",
    "   - `lookupEventType`: Definitions of event types used in the LegiScan API.\n",
    "   - `lookupMimeType`: Definitions of mime types used in the LegiScan API.\n",
    "   - `lookupPartyType`: Definitions of party types used in the LegiScan API.\n",
    "   - `lookupProgressType`: Definitions of progress types used in the LegiScan API.\n",
    "   - `lookupReasonType`: Definitions of reason types used in the LegiScan API.\n",
    "   - `lookupRoleType`: Definitions of role types used in the LegiScan API.\n",
    "   - `lookupSastType`: Definitions of SAST types used in the LegiScan API.\n",
    "   - `lookupSponsorType`: Definitions of sponsor types used in the LegiScan API.\n",
    "   - `lookupStateType`: Definitions of state types used in the LegiScan API (California only).\n",
    "   - `lookupStatusType`: Definitions of status types used in the LegiScan API.\n",
    "   - `lookupSupplementType`: Definitions of supplement types used in the LegiScan API.\n",
    "   - `lookupVoteType`: Definitions of vote types used in the LegiScan API.\n",
    "\n",
    "If you need to access the codebook variables, you can do so by running the following cell. The codebook variables are stored in the `codebook` module of the `calpa` package. Calling the variables (assuming that the `calpa` package is imported) will return the variables as a dictionary. You can access the variables by using the dictionary keys. For example, to access the `lookupBillCode` variable, you can use the following code:\n",
    "\n",
    ">```python\n",
    "># Load the calpa module located in the scripts/python/calpa directory\n",
    ">from calpa import calpa\n",
    ">\n",
    "># Getting the lookup variables from the codebook module directly\n",
    ">calpa.codebook.lookupBillCode\n",
    ">\n",
    "># Assigning the lookup variables to a stored in the session\n",
    ">lookupBillCode = calpa.codebook.lookupBillCode\n",
    ">```\n"
   ]
  },
  {
   "cell_type": "code",
   "execution_count": 9,
   "id": "a2eb952f",
   "metadata": {},
   "outputs": [
    {
     "name": "stdout",
     "output_type": "stream",
     "text": [
      "Codebook Lookup Variables:\n",
      "['lookupBillCode', 'lookupBillTextType', 'lookupBillType', 'lookupBodyType', 'lookupEventType', 'lookupMimeType', 'lookupPartyType', 'lookupProgressType', 'lookupReasonType', 'lookupRoleType', 'lookupSastType', 'lookupSponsorType', 'lookupStateType', 'lookupStatusType', 'lookupSupplementType', 'lookupVoteType']\n",
      "\n",
      "Codebook Dictionary Variables:\n",
      "['dictGetAmendment', 'dictGetBill', 'dictGetBillText', 'dictGetPerson', 'dictGetRollCall', 'dictGetSessionList', 'dictGetSupplement']\n",
      "\n"
     ]
    }
   ],
   "source": [
    "# Codebook lookup variables\n",
    "codebookLookupVars = [var for var in dir(calpa.codebook) if var.startswith('lookup')]\n",
    "codebookDictVars = [var for var in dir(calpa.codebook) if var.startswith('dict')]\n",
    "print(f\"Codebook Lookup Variables:\\n{codebookLookupVars}\\n\")\n",
    "print(f\"Codebook Dictionary Variables:\\n{codebookDictVars}\\n\")"
   ]
  },
  {
   "cell_type": "markdown",
   "id": "c617deb6",
   "metadata": {},
   "source": [
    "<h3 style=\"font-weight:bold; color:lime; padding-left: 50px\">Load Stored Data</h3>"
   ]
  },
  {
   "cell_type": "code",
   "execution_count": null,
   "id": "c5dc07bb",
   "metadata": {},
   "outputs": [],
   "source": [
    "mdt(3, \"Load Stored Data\")"
   ]
  },
  {
   "cell_type": "markdown",
   "id": "655a1821",
   "metadata": {},
   "source": [
    "Load the stored data from the `data` directory. This includes the following data files:\n",
    "- `sessionListStored`: This file contains the list of legislative sessions.\n",
    "- `sessionPeopleStored`: This file contains the list of legislative session people.\n",
    "- `datasetListStored`: This file contains the list of legislative datasets.\n",
    "- `datasetListRawStored`: This file contains the list of raw legislative datasets.\n",
    "- `masterListStored`: This file contains the list of legislative master datasets.\n",
    "- `aiBillListStored`: This file contains the list of AI legislative bills.\n",
    "- `aiBills`: This file contains the the AI legislative bills data.\n",
    "- `aiBillsSummariesStored`: This file contains the list of AI legislative bill text summaries."
   ]
  },
  {
   "cell_type": "code",
   "execution_count": 10,
   "id": "d4908064",
   "metadata": {},
   "outputs": [],
   "source": [
    "# Obtain the stored sessions list from JSON dictionary on disk (data/lookup directory)\n",
    "sessionListStored = legiscan.getStoredData(dataType = \"session\")\n",
    "\n",
    "# Obtain the stored session People list from JSON dictionary on disk (data/lookup directory)\n",
    "sessionPeopleStored = legiscan.getStoredData(dataType = \"people\")\n",
    "\n",
    "# Obtain the stored dataset list from JSON dictionary on disk (data/lookup directory)\n",
    "datasetListStored = legiscan.getStoredData(dataType = \"dataset\")\n",
    "\n",
    "# Get the stored raw master list from JSON dictionary on disk (data/lookup directory)\n",
    "masterListRawStored = legiscan.getStoredData(dataType = \"master\", raw = True)\n",
    "# Get the stored master list from JSON dictionary on disk (data/lookup directory)\n",
    "masterListStored = legiscan.getStoredData(dataType = \"master\", raw = False)\n",
    "\n",
    "# Get the AI monitoring list from disk (data/lookup directory)\n",
    "lcBillListStored = legiscan.getStoredData(dataType = \"bills\", project = \"LC\")\n",
    "\n",
    "# Get the AI full list of bills from dism (data/legis/json directory)\n",
    "lcBills = legiscan.getStoredData(dataType = \"data\", project = \"LC\")\n",
    "\n",
    "# Get the LC bill summaries list from disk (data/lookup directory)\n",
    "lcBillsSummariesStored = legiscan.getStoredData(dataType = \"summaries\", project = \"LC\")"
   ]
  },
  {
   "cell_type": "markdown",
   "id": "23262bcb",
   "metadata": {},
   "source": [
    "<h1 style=\"font-weight:bold; color:orangered; border-bottom: 2px solid orangered\">2. Markdown Data Processing</h1>"
   ]
  },
  {
   "cell_type": "code",
   "execution_count": null,
   "id": "6f929240",
   "metadata": {},
   "outputs": [],
   "source": [
    "mdt(2, \"2. Markdown Data Processing\")"
   ]
  },
  {
   "cell_type": "markdown",
   "id": "a1343ad3",
   "metadata": {},
   "source": [
    "The main markdown processing function is located in the `legiscan` class of the `calpa` module. The function is called `aiBillMarkdown()`. This function takes a legislative bill dictionary (obtained from the LegiScan API) and processes it to extract the relevant information. The function returns a markdown file containing the legislative bill information. The markdown file is stored in the `markdown/AI` directory of the project, and (optionally) mirrors the file to the relevant Obsidian vault directory. The markdown file is named using the legislative bill ID and its awareness includes the legislative bill period (it stores the file under the relevant legislative session subfolder). The markdown file has the following sections:\n",
    "1. **YAML properties**: This section contains the YAML properties of the legislative bill. The YAML properties are listed in a formal markdown format.\n",
    "2. **Markdown Information Section**: This section contains the main markdown content of the legislative bill information in the form of callout information boxes. Has the following sections:\n",
    "    - **TL;DR Summary Callout**: Contains the Azure OpenAI TL;DR Summary for the legislative bill.\n",
    "    - **Bill Metadata Callout**: Contains the detailed metadata of the legsiative bill.\n",
    "    - **Bill Citation Callout**: Formats and displays the APA 7th bibliographic citation of the bill.\n",
    "3. **AI Notes Section**: This section contains the AI notes for the legislative bill. The AI notes are obtained from the `markdown/notes` directory of the project, imported by the function, and formatted for display in the markdown file.\n",
    "4. **Embedded State Bill Webpage**: This section contains the embedded state bill webpage. The embedded state bill webpage is obtained from the bill metadata and displayed in an embedded `iframe` object inside the markdown file.\n",
    "\n",
    "In order to process the markdown files, the following process is implemented in the code below. Specifically, we loop through each legislative period in our bill dataset, and consequently trough each legislative bill in the period. For each legislative bill, we call the `aiBillMarkdown()` function to process the markdown file. The function takes the legislative bill dictionary as input and returns the markdown file as output."
   ]
  },
  {
   "cell_type": "code",
   "execution_count": 14,
   "id": "3efc478b",
   "metadata": {},
   "outputs": [
    {
     "name": "stdout",
     "output_type": "stream",
     "text": [
      "2025-2026 Legislative Session:\n",
      "- AB21: Common interest developments: association management and meeting procedures.\n",
      "- AB23: The Cost of Living Reduction Act of 2025.\n",
      "- AB33: Autonomous vehicles.\n",
      "- AB96: Community health workers.\n",
      "- AB231: Income and corporation taxes: credits: work opportunity credit.\n",
      "- AB283: In-Home Supportive Services Employer-Employee Relations Act.\n",
      "- AB288: Employment: labor organization.\n",
      "- AB303: Battery energy storage facilities.\n",
      "- AB331: Elections: duties of election officials: voter information guides.\n",
      "- AB339: Local public employee organizations: notice requirements.\n",
      "- AB340: Employer-employee relations: confidential communications.\n",
      "- AB346: In-home supportive services: licensed health care professional certification.\n",
      "- AB423: Alcoholism or drug abuse recovery or treatment programs and facilities: disclosures.\n",
      "- AB424: Alcohol and other drug programs: complaints.\n",
      "- AB427: Social workers: interstate compact.\n",
      "- AB478: Accessibility to emergency information and services: evacuations: pets.\n",
      "- AB495: Family Preparedness Plan Act of 2025.\n",
      "- AB522: Private employment: labor unions.\n",
      "- AB569: California Public Employees’ Pension Reform Act of 2013: exceptions: supplemental defined benefit plans.\n",
      "- AB571: California Environmental Quality Act: exemption: Gypsum Canyon Veterans Cemetery.\n",
      "- AB596: Occupational safety: face coverings.\n",
      "- AB672: Public employment: notifications and right of intervention.\n",
      "- AB711: Civil Actions: shorthand reporters.\n",
      "- AB853: California AI Transparency Act.\n",
      "- AB882: Electronic court reporting.\n",
      "- AB1054: Public employees’ retirement: deferred retirement option program.\n",
      "- AB1067: Public employees’ retirement: felony convictions.\n",
      "- AB1109: Evidentiary privileges: union agent-represented worker privilege.\n",
      "- AB1189: Court reporting: digital reporters and legal transcriptionists.\n",
      "- AB1323: County employees’ retirement: administration: Orange County.\n",
      "- AB1331: Workplace surveillance.\n",
      "- AB1355: Location privacy.\n",
      "- AB1383: Public employees’ retirement benefits.\n",
      "- ACA1: Public finance.\n",
      "- ACA2: Legislature: retirement.\n",
      "- SB7: Employment: automated decision systems.\n",
      "- SB16: Homeless Housing, Assistance, and Prevention program: housing element: unsheltered and chronic homelessness: assessment and financing plan.\n",
      "- SB21: Single-room occupancy units: demolition and replacement: housing assistance programs: eligibility for homeless individuals and families.\n",
      "- SB23: Property taxation: exemption: disabled veteran homeowners.\n",
      "- SB27: Community Assistance, Recovery, and Empowerment (CARE) Court Program.\n",
      "- SB28: Treatment court program standards.\n",
      "- SB35: Alcohol and drug programs.\n",
      "- SB36: Price gouging: state of emergency.\n",
      "- SB37: Attorneys: unlawful solicitations and advertisements.\n",
      "- SB70: Public contracts: Small Business Procurement and Contract Act.\n",
      "- SB82: Contracts: consumer goods and services: dispute resolution provisions.\n",
      "- SB83: State Department of Health Care Services: substance abuse treatment: disclosures.\n",
      "- SB237: Single-family residential property: sale: disclosures.\n",
      "- SB238: Workplace surveillance tools.\n",
      "- SB299: Local government: ordinances.\n",
      "- SB301: County Employees Retirement Law of 1937: employees.\n",
      "- SB309: In-Home Supportive Services program: provider wages.\n",
      "- SB366: Employment: artificial intelligence.\n",
      "- SB458: Initiative and referendum measures: title and summary.\n",
      "- SB481: In-home supportive services.\n",
      "- SB600: Public Employment Relations Board: powers and duties.\n",
      "- SB853: Public employees’ retirement.\n",
      "- SJR2: Classified workers’ rights.\n"
     ]
    }
   ],
   "source": [
    "# Process the markdown files for each legislative session and bill\n",
    "for key, value in lcBills.items():\n",
    "    # Loop through each period\n",
    "    print(f\"{key} Legislative Session:\")\n",
    "    for billId, bill in value.items():\n",
    "        # for each bill in the period, generate the markdown file\n",
    "        legiscan.createBillMarkdown(\n",
    "            billPeriod = key,\n",
    "            billId = billId,\n",
    "            prjPart = \"LC\",\n",
    "            billsDict = lcBills,\n",
    "            billsSummariesDict = lcBillsSummariesStored,\n",
    "            obsidianSync = True\n",
    "        )\n",
    "        # Stored markdown file in the markdown/AI directory and in the Obsidian vault directory\n",
    "        print(f\"- {billId}: {bill['title']}\")"
   ]
  },
  {
   "cell_type": "code",
   "execution_count": null,
   "id": "f5cb2c18",
   "metadata": {},
   "outputs": [],
   "source": []
  }
 ],
 "metadata": {
  "kernelspec": {
   "display_name": "drkPy",
   "language": "python",
   "name": "python3"
  },
  "language_info": {
   "codemirror_mode": {
    "name": "ipython",
    "version": 3
   },
   "file_extension": ".py",
   "mimetype": "text/x-python",
   "name": "python",
   "nbconvert_exporter": "python",
   "pygments_lexer": "ipython3",
   "version": "3.11.11"
  }
 },
 "nbformat": 4,
 "nbformat_minor": 5
}
